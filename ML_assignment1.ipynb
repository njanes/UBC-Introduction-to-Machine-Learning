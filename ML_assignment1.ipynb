{
 "cells": [
  {
   "cell_type": "markdown",
   "metadata": {},
   "source": [
    "# Introduction to Machine Learning  \n",
    "\n",
    "## Assignment 1: Machine Learning Fundamentals "
   ]
  },
  {
   "cell_type": "markdown",
   "metadata": {},
   "source": [
    "You can't learn technical subjects without hands-on practice. The assignments are an important part of the course. To submit this assignment you will need to make sure that you save your Jupyter notebook. \n",
    "\n",
    "Below are the links of 2 videos that explain:\n",
    "\n",
    "1. [How to save your Jupyter notebook](https://youtu.be/0aoLgBoAUSA) and,       \n",
    "2. [How to answer a question in a Jupyter notebook assignment](https://youtu.be/7j0WKhI3W4s)."
   ]
  },
  {
   "cell_type": "markdown",
   "metadata": {},
   "source": [
    "### Assignment Learning Goals:\n",
    "\n",
    "By the end of the module, students are expected to:\n",
    "\n",
    "- Explain motivation to study machine learning.\n",
    "- Differentiate between supervised and unsupervised learning.\n",
    "- Differentiate between classification and regression problems.\n",
    "- Explain machine learning terminology such as features, targets, training, and error.\n",
    "- Use DummyClassifier/ Dummy Regressor as a baseline for machine learning problems.\n",
    "- Explain the `.fit()` and `.predict()` paradigm and use `.score()` method of ML models.\n",
    "\n",
    "\n",
    "This assignment covers [Module 1](https://ml-learn.mds.ubc.ca/en/module1) of the online course. You should complete this module before attempting this assignment."
   ]
  },
  {
   "cell_type": "markdown",
   "metadata": {},
   "source": [
    "Any place you see `...`, you must fill in the function, variable, or data to complete the code. Substitute the `None` with your completed code and answers then proceed to run the cell!"
   ]
  },
  {
   "cell_type": "markdown",
   "metadata": {},
   "source": [
    "Note that some of the questions in this assignment will have hidden tests. This means that no feedback will be given as to the correctness of your solution. It will be left up to you to decide if your answer is sufficiently correct. These questions are worth 2 points."
   ]
  },
  {
   "cell_type": "code",
   "execution_count": 2,
   "metadata": {},
   "outputs": [],
   "source": [
    "# Import libraries needed for this lab\n",
    "from hashlib import sha1\n",
    "\n",
    "import altair as alt\n",
    "\n",
    "# import graphviz\n",
    "import matplotlib.pyplot as plt\n",
    "import numpy as np\n",
    "import pandas as pd\n",
    "import test_assignment1 as t\n",
    "from IPython.display import HTML\n",
    "from sklearn import tree\n",
    "from sklearn.dummy import DummyClassifier\n",
    "from sklearn.model_selection import cross_val_score, cross_validate, train_test_split\n",
    "from sklearn.tree import DecisionTreeClassifier"
   ]
  },
  {
   "cell_type": "markdown",
   "metadata": {},
   "source": [
    "## 1. About Machine Learning "
   ]
  },
  {
   "cell_type": "markdown",
   "metadata": {},
   "source": [
    "**Question 1.1** <br> {points: 1}  \n",
    "\n",
    "Which of the following is **NOT** a type of Machine Learning?\n",
    "\n",
    "\n",
    "To answer the question, assign the letter associated with the correct answer to a variable in the code cell below:   \n",
    " \n",
    "A) Recommender Systems\n",
    "\n",
    "B) Auto-completion \n",
    "\n",
    "C) Microwaves \n",
    "\n",
    "D) Drug Discovery \n",
    "\n",
    "*Answer in the cell below using the uppercase letter associated with your answer. Place your answer between `\"\"`, assign the correct answer to an object called `answer1_1`.*"
   ]
  },
  {
   "cell_type": "code",
   "execution_count": 3,
   "metadata": {
    "deletable": false,
    "nbgrader": {
     "cell_type": "code",
     "checksum": "b52ab8a82861469469860f1855d09d16",
     "grade": false,
     "grade_id": "cell-9900d06174d0c0bd",
     "locked": false,
     "schema_version": 3,
     "solution": true,
     "task": false
    }
   },
   "outputs": [],
   "source": [
    "answer1_1 = 'C'"
   ]
  },
  {
   "cell_type": "code",
   "execution_count": 4,
   "metadata": {
    "deletable": false,
    "editable": false,
    "nbgrader": {
     "cell_type": "code",
     "checksum": "659d601d003fdc9d62e10b5c0f97e1f6",
     "grade": true,
     "grade_id": "cell-f6b571257476a333",
     "locked": true,
     "points": 1,
     "schema_version": 3,
     "solution": false,
     "task": false
    }
   },
   "outputs": [
    {
     "data": {
      "text/plain": [
       "'Success'"
      ]
     },
     "execution_count": 4,
     "metadata": {},
     "output_type": "execute_result"
    }
   ],
   "source": [
    "t.test_1_1(answer1_1)"
   ]
  },
  {
   "cell_type": "markdown",
   "metadata": {},
   "source": [
    "**Question 1.2** <br> {points: 1}  \n",
    "\n",
    "The following are different types of machine learning examples, categorize the as either \"Supervised\" or \"Unsupervised\" in a object of the same name.\n",
    "\n",
    "\n",
    "To answer the question, assign the letter associated with the correct answer to a variable in the code cell below:   \n",
    " \n",
    "A) Filtering emails as junk or regular mail. \n",
    "\n",
    "B) Grouping companies customers together on similarity.\n",
    "\n",
    "C) Predicting a student's MCAT grade given the marks they have received on the practice exams. \n",
    "\n",
    "D) Speech recognition (inferring the words from an audio signal of a person's voice)\n",
    "\n",
    "_Assign the examples to objects called `supervised` and `unsupervised` in the code chunk below. Make sure your answer is surrounded by square brackets. If there are more than one answers to this question, separate each number with a comma in the square brackets. For example if you believe that A and B are supervised, C is unsupervised and D is neither, then your answer would look like this:_\n",
    "\n",
    "```\n",
    "supervised = [\"A\", \"B\"]\n",
    "unsupervised = [\"A\"]\n",
    "\n",
    "```"
   ]
  },
  {
   "cell_type": "code",
   "execution_count": 5,
   "metadata": {
    "deletable": false,
    "nbgrader": {
     "cell_type": "code",
     "checksum": "86e103157dfcc9b52127d8ec33e7e3dd",
     "grade": false,
     "grade_id": "cell-b3faa1e7ad6637cd",
     "locked": false,
     "schema_version": 3,
     "solution": true,
     "task": false
    }
   },
   "outputs": [],
   "source": [
    "supervised = ['A','C','D']\n",
    "unsupervised = ['B']"
   ]
  },
  {
   "cell_type": "code",
   "execution_count": 6,
   "metadata": {
    "deletable": false,
    "editable": false,
    "nbgrader": {
     "cell_type": "code",
     "checksum": "276d0677c5a7511b87f93e26a6d935d1",
     "grade": true,
     "grade_id": "cell-add0521fb6a0a00d",
     "locked": true,
     "points": 1,
     "schema_version": 3,
     "solution": false,
     "task": false
    }
   },
   "outputs": [
    {
     "data": {
      "text/plain": [
       "'Success'"
      ]
     },
     "execution_count": 6,
     "metadata": {},
     "output_type": "execute_result"
    }
   ],
   "source": [
    "t.test_1_2(supervised,unsupervised)"
   ]
  },
  {
   "cell_type": "markdown",
   "metadata": {},
   "source": [
    "**Question 1.3** <br> {points: 4}  \n",
    "\n",
    "In the next 3 situations, would the problem be considered ***regression*** or ***classification***? \n",
    "\n",
    "\n",
    "i) Based on the ingredients in a store, categorizing it as breakfast food, lunch food, dinner food.\n",
    "\n",
    "\n",
    "\n",
    "\n",
    "ii) Estimating the fiber content in different types of bread based on the ingredients.\n",
    "\n",
    "\n",
    "\n",
    "\n",
    "iii) The dataset below (with the target column being `number_comments`: \n",
    "\n",
    "|   | video_name| number_views |number_likes |number_dislikes| time_since_upload |number_comments|\n",
    "|--:|:----------|:----------------|:---------------|:-----------------|:------------------|:-----------------|\n",
    "|**0**| Cute kitten purring  |  345602  | 3743 | 89 | 5603 | 6 | \n",
    "|**1**| How to make guacamole  |  56777032  | 69327 | 3405 | 25793 | 107 | \n",
    "|**2**| Pool trick shots  |  2458602  | 23743 | 40622 | 104802 | ? | \n",
    "|**3**| Light show  |  103  | 3 | 1 | 300 | ? | \n",
    "|**4**|  Edward Snowden  |  603042  | 1502 | 62 | 315360 | ? | \n",
    "\n",
    "<br>\n",
    "\n",
    "*Save your answers as a string in an object named as `answer1_3_a`, `answer1_3_b` and  '`answer1_3_c` respectively.*   \n",
    "Example:\n",
    "\n",
    "```\n",
    "answer1_3_a = \"Regression\"\n",
    "```"
   ]
  },
  {
   "cell_type": "code",
   "execution_count": 7,
   "metadata": {
    "deletable": false,
    "nbgrader": {
     "cell_type": "code",
     "checksum": "a8bdaf3f7368e43b59f295de745af21c",
     "grade": false,
     "grade_id": "cell-069b76ec95926250",
     "locked": false,
     "schema_version": 3,
     "solution": true,
     "task": false
    }
   },
   "outputs": [],
   "source": [
    "answer1_3_a = 'Classification'\n",
    "answer1_3_b = 'Regression'\n",
    "answer1_3_c = 'Regression'"
   ]
  },
  {
   "cell_type": "code",
   "execution_count": 8,
   "metadata": {
    "deletable": false,
    "editable": false,
    "nbgrader": {
     "cell_type": "code",
     "checksum": "282c093b762762b2a04cdf3e269dc20d",
     "grade": true,
     "grade_id": "cell-0cc73fbf17f3aac8",
     "locked": true,
     "points": 2,
     "schema_version": 3,
     "solution": false,
     "task": false
    }
   },
   "outputs": [],
   "source": [
    "# check that the variable exists\n",
    "assert 'answer1_3_a' in globals(\n",
    "), \"Please make sure that your solution is named 'answer1_3_a'\"\n",
    "\n",
    "# This test has been intentionally hidden. It will be up to you to decide if your solution\n",
    "# is sufficiently good."
   ]
  },
  {
   "cell_type": "code",
   "execution_count": 9,
   "metadata": {
    "deletable": false,
    "editable": false,
    "nbgrader": {
     "cell_type": "code",
     "checksum": "68d42e16269c154de700387a77919ff0",
     "grade": true,
     "grade_id": "cell-a2dcf5b946530d15",
     "locked": true,
     "points": 1,
     "schema_version": 3,
     "solution": false,
     "task": false
    }
   },
   "outputs": [
    {
     "data": {
      "text/plain": [
       "'Success'"
      ]
     },
     "execution_count": 9,
     "metadata": {},
     "output_type": "execute_result"
    }
   ],
   "source": [
    "t.test_1_3_2(answer1_3_b)"
   ]
  },
  {
   "cell_type": "code",
   "execution_count": 10,
   "metadata": {
    "deletable": false,
    "editable": false,
    "nbgrader": {
     "cell_type": "code",
     "checksum": "4b91da33b8504e1f816ea5380ec4c2c7",
     "grade": true,
     "grade_id": "cell-ca3aeea0ffe74e73",
     "locked": true,
     "points": 1,
     "schema_version": 3,
     "solution": false,
     "task": false
    }
   },
   "outputs": [
    {
     "data": {
      "text/plain": [
       "'Success'"
      ]
     },
     "execution_count": 10,
     "metadata": {},
     "output_type": "execute_result"
    }
   ],
   "source": [
    "t.test_1_3_3(answer1_3_c)"
   ]
  },
  {
   "cell_type": "markdown",
   "metadata": {},
   "source": [
    "## 2. Terminology"
   ]
  },
  {
   "cell_type": "markdown",
   "metadata": {},
   "source": [
    "**Question 2.1** \n",
    "<br> {points: 5}\n",
    "\n",
    "For this next section, as per the lecture notes, give a synonym for each term.\n",
    "\n",
    "Example:\n",
    "\n",
    "`observations = \"examples\"`\n",
    "\n",
    "*Save your answers as a string in the respective object name aka `rows`, `columns`, `target` and  `training` respectively.* \n"
   ]
  },
  {
   "cell_type": "code",
   "execution_count": 11,
   "metadata": {
    "deletable": false,
    "nbgrader": {
     "cell_type": "code",
     "checksum": "bf32aa1e80049924e0dc4a2b725891bd",
     "grade": false,
     "grade_id": "cell-016cb5fedeb0c8cf",
     "locked": false,
     "schema_version": 3,
     "solution": true,
     "task": false
    }
   },
   "outputs": [],
   "source": [
    "rows = 'examples'\n",
    "inputs = 'features' \n",
    "outputs = 'targets'\n",
    "training = 'learning' "
   ]
  },
  {
   "cell_type": "code",
   "execution_count": 12,
   "metadata": {
    "deletable": false,
    "editable": false,
    "nbgrader": {
     "cell_type": "code",
     "checksum": "e1bd4a19ff24393ab5c453c2c90c9980",
     "grade": true,
     "grade_id": "cell-3a995a508001fa13",
     "locked": true,
     "points": 1,
     "schema_version": 3,
     "solution": false,
     "task": false
    }
   },
   "outputs": [
    {
     "data": {
      "text/plain": [
       "'Success'"
      ]
     },
     "execution_count": 12,
     "metadata": {},
     "output_type": "execute_result"
    }
   ],
   "source": [
    "t.test_2_1_1(rows)"
   ]
  },
  {
   "cell_type": "code",
   "execution_count": 13,
   "metadata": {
    "deletable": false,
    "editable": false,
    "nbgrader": {
     "cell_type": "code",
     "checksum": "d588ab10ec91f5e7143f78c6dd6c8f4d",
     "grade": true,
     "grade_id": "cell-7fe5f906a5aa7ea2",
     "locked": true,
     "points": 1,
     "schema_version": 3,
     "solution": false,
     "task": false
    }
   },
   "outputs": [
    {
     "data": {
      "text/plain": [
       "'Success'"
      ]
     },
     "execution_count": 13,
     "metadata": {},
     "output_type": "execute_result"
    }
   ],
   "source": [
    "t.test_2_1_2(inputs)"
   ]
  },
  {
   "cell_type": "code",
   "execution_count": 14,
   "metadata": {
    "deletable": false,
    "editable": false,
    "nbgrader": {
     "cell_type": "code",
     "checksum": "3fd0bb3c90a5744bf85cbcc5279f9df5",
     "grade": true,
     "grade_id": "cell-c051eaae22b62cec",
     "locked": true,
     "points": 2,
     "schema_version": 3,
     "solution": false,
     "task": false
    }
   },
   "outputs": [],
   "source": [
    "# check that the variable exists\n",
    "assert 'outputs' in globals(\n",
    "), \"Please make sure that your solution is named 'outputs'\"\n",
    "\n",
    "# This test has been intentionally hidden. It will be up to you to decide if your solution\n",
    "# is sufficiently good."
   ]
  },
  {
   "cell_type": "code",
   "execution_count": 15,
   "metadata": {
    "deletable": false,
    "editable": false,
    "nbgrader": {
     "cell_type": "code",
     "checksum": "799c92dc46b2155a573e17fdc3073de2",
     "grade": true,
     "grade_id": "cell-be5d4bdbf81c0311",
     "locked": true,
     "points": 1,
     "schema_version": 3,
     "solution": false,
     "task": false
    }
   },
   "outputs": [
    {
     "data": {
      "text/plain": [
       "'Success'"
      ]
     },
     "execution_count": 15,
     "metadata": {},
     "output_type": "execute_result"
    }
   ],
   "source": [
    "t.test_2_1_4(training)"
   ]
  },
  {
   "cell_type": "markdown",
   "metadata": {},
   "source": [
    "**Question 2.2** \n",
    "\n",
    "Below is a toy data set that we will be using to get familiar with scikit-learn. "
   ]
  },
  {
   "cell_type": "code",
   "execution_count": 16,
   "metadata": {},
   "outputs": [
    {
     "data": {
      "text/html": [
       "<div>\n",
       "<style scoped>\n",
       "    .dataframe tbody tr th:only-of-type {\n",
       "        vertical-align: middle;\n",
       "    }\n",
       "\n",
       "    .dataframe tbody tr th {\n",
       "        vertical-align: top;\n",
       "    }\n",
       "\n",
       "    .dataframe thead th {\n",
       "        text-align: right;\n",
       "    }\n",
       "</style>\n",
       "<table border=\"1\" class=\"dataframe\">\n",
       "  <thead>\n",
       "    <tr style=\"text-align: right;\">\n",
       "      <th></th>\n",
       "      <th>is_sweet</th>\n",
       "      <th>diameter</th>\n",
       "      <th>target</th>\n",
       "    </tr>\n",
       "  </thead>\n",
       "  <tbody>\n",
       "    <tr>\n",
       "      <th>0</th>\n",
       "      <td>0</td>\n",
       "      <td>3</td>\n",
       "      <td>Apple</td>\n",
       "    </tr>\n",
       "    <tr>\n",
       "      <th>1</th>\n",
       "      <td>0</td>\n",
       "      <td>3</td>\n",
       "      <td>Apple</td>\n",
       "    </tr>\n",
       "    <tr>\n",
       "      <th>2</th>\n",
       "      <td>1</td>\n",
       "      <td>1</td>\n",
       "      <td>Grape</td>\n",
       "    </tr>\n",
       "    <tr>\n",
       "      <th>3</th>\n",
       "      <td>1</td>\n",
       "      <td>1</td>\n",
       "      <td>Grape</td>\n",
       "    </tr>\n",
       "    <tr>\n",
       "      <th>4</th>\n",
       "      <td>0</td>\n",
       "      <td>3</td>\n",
       "      <td>Lemon</td>\n",
       "    </tr>\n",
       "    <tr>\n",
       "      <th>5</th>\n",
       "      <td>1</td>\n",
       "      <td>1</td>\n",
       "      <td>Grape</td>\n",
       "    </tr>\n",
       "    <tr>\n",
       "      <th>6</th>\n",
       "      <td>0</td>\n",
       "      <td>4</td>\n",
       "      <td>Apple</td>\n",
       "    </tr>\n",
       "  </tbody>\n",
       "</table>\n",
       "</div>"
      ],
      "text/plain": [
       "   is_sweet  diameter target\n",
       "0         0         3  Apple\n",
       "1         0         3  Apple\n",
       "2         1         1  Grape\n",
       "3         1         1  Grape\n",
       "4         0         3  Lemon\n",
       "5         1         1  Grape\n",
       "6         0         4  Apple"
      ]
     },
     "execution_count": 16,
     "metadata": {},
     "output_type": "execute_result"
    }
   ],
   "source": [
    "toy_data = {\n",
    "    # Features\n",
    "    'is_sweet': [0, 0, 1, 1, 0, 1, 0],\n",
    "    'diameter': [3, 3, 1, 1, 3, 1, 4],\n",
    "    # Target\n",
    "    'target': ['Apple', 'Apple', 'Grape', 'Grape', 'Lemon', 'Grape', 'Apple']\n",
    "}\n",
    "\n",
    "df = pd.DataFrame(toy_data)\n",
    "df"
   ]
  },
  {
   "cell_type": "markdown",
   "metadata": {},
   "source": [
    "**Question 2.2(a)** \n",
    "<br> {points: 1}\n",
    "\n",
    "How many features are present in the dataset? \n",
    "\n",
    "*Assign your answer to a variable of type `int` called `answer2_2_a`*"
   ]
  },
  {
   "cell_type": "code",
   "execution_count": 17,
   "metadata": {
    "deletable": false,
    "nbgrader": {
     "cell_type": "code",
     "checksum": "ba7aaf351b41bee9a68673ae49473172",
     "grade": false,
     "grade_id": "cell-93b1d48c76d17000",
     "locked": false,
     "schema_version": 3,
     "solution": true,
     "task": false
    }
   },
   "outputs": [
    {
     "data": {
      "text/plain": [
       "2"
      ]
     },
     "execution_count": 17,
     "metadata": {},
     "output_type": "execute_result"
    }
   ],
   "source": [
    "answer2_2_a = 2\n",
    "answer2_2_a"
   ]
  },
  {
   "cell_type": "code",
   "execution_count": 18,
   "metadata": {
    "deletable": false,
    "editable": false,
    "nbgrader": {
     "cell_type": "code",
     "checksum": "462fe6d420692d812491e2c65e3cf273",
     "grade": true,
     "grade_id": "cell-361b06792ae5c6c2",
     "locked": true,
     "points": 1,
     "schema_version": 3,
     "solution": false,
     "task": false
    }
   },
   "outputs": [
    {
     "data": {
      "text/plain": [
       "'Success'"
      ]
     },
     "execution_count": 18,
     "metadata": {},
     "output_type": "execute_result"
    }
   ],
   "source": [
    "t.test_2_2a(answer2_2_a)"
   ]
  },
  {
   "cell_type": "markdown",
   "metadata": {},
   "source": [
    "**Question 2.2(b)** \n",
    "<br> {points: 1}\n",
    "\n",
    "Express the names of the features as strings in a list. ex `[\"Feature1\", \"Feature2\", \"Feature3\"]`\n",
    "\n",
    "*Assign your answer to a variable called `answer2_2_b`.*\n",
    "\n"
   ]
  },
  {
   "cell_type": "code",
   "execution_count": 19,
   "metadata": {
    "deletable": false,
    "nbgrader": {
     "cell_type": "code",
     "checksum": "dead4bb288d24ea450cf50bff55d07d3",
     "grade": false,
     "grade_id": "cell-cc3615e94a2e2582",
     "locked": false,
     "schema_version": 3,
     "solution": true,
     "task": false
    }
   },
   "outputs": [
    {
     "data": {
      "text/plain": [
       "['is_sweet', 'diameter']"
      ]
     },
     "execution_count": 19,
     "metadata": {},
     "output_type": "execute_result"
    }
   ],
   "source": [
    "answer2_2_b = ['is_sweet','diameter']\n",
    "\n",
    "answer2_2_b"
   ]
  },
  {
   "cell_type": "code",
   "execution_count": 20,
   "metadata": {
    "deletable": false,
    "editable": false,
    "nbgrader": {
     "cell_type": "code",
     "checksum": "94360f4cf071f70dc41d8bb2b6929326",
     "grade": true,
     "grade_id": "cell-9586ffb932553194",
     "locked": true,
     "points": 1,
     "schema_version": 3,
     "solution": false,
     "task": false
    }
   },
   "outputs": [
    {
     "data": {
      "text/plain": [
       "'Success'"
      ]
     },
     "execution_count": 20,
     "metadata": {},
     "output_type": "execute_result"
    }
   ],
   "source": [
    "t.test_2_2b(answer2_2_b)"
   ]
  },
  {
   "cell_type": "markdown",
   "metadata": {},
   "source": [
    "**Question 2.2(c)** \n",
    "<br> {points: 1}\n",
    "\n",
    "How many different target classes (categories) are present in the dataset? *Assign your answer to a variable of type `int` called `answer2_2_c`.*"
   ]
  },
  {
   "cell_type": "code",
   "execution_count": 21,
   "metadata": {
    "deletable": false,
    "nbgrader": {
     "cell_type": "code",
     "checksum": "0e0881a10f16c5a415df1765687bfd52",
     "grade": false,
     "grade_id": "cell-5f7346031ac30130",
     "locked": false,
     "schema_version": 3,
     "solution": true,
     "task": false
    }
   },
   "outputs": [
    {
     "data": {
      "text/plain": [
       "3"
      ]
     },
     "execution_count": 21,
     "metadata": {},
     "output_type": "execute_result"
    }
   ],
   "source": [
    "answer2_2_c = 3\n",
    "answer2_2_c"
   ]
  },
  {
   "cell_type": "code",
   "execution_count": 22,
   "metadata": {
    "deletable": false,
    "editable": false,
    "nbgrader": {
     "cell_type": "code",
     "checksum": "d24ee31177ee12f85302672086002b10",
     "grade": true,
     "grade_id": "cell-741abfe2b2c5668b",
     "locked": true,
     "points": 1,
     "schema_version": 3,
     "solution": false,
     "task": false
    }
   },
   "outputs": [
    {
     "data": {
      "text/plain": [
       "'Success'"
      ]
     },
     "execution_count": 22,
     "metadata": {},
     "output_type": "execute_result"
    }
   ],
   "source": [
    "t.test_2_2c(answer2_2_c)"
   ]
  },
  {
   "cell_type": "markdown",
   "metadata": {},
   "source": [
    "# 3. More Terminology "
   ]
  },
  {
   "cell_type": "markdown",
   "metadata": {},
   "source": [
    "For the next 3 questions we will be working with data that was obtained from [The UCI Machine Learning Repository](https://archive.ics.uci.edu/ml/datasets/Fertility) that examines the fertility among males between the ages of 18-36. The data was provided by 100 volunteers who provided a sample and was analyzed according to the WHO 2010 criteria. \n",
    "We have modified this dataset so that it is easier to work with in this assignment. \n",
    "\n",
    "The columns in the dataset can be explained as follows: \n",
    "\n",
    "\n",
    "- `age`: Age at the time of analysis. 18-36 \n",
    "\n",
    "- `diseases`:  Has the respondent had any childhood diseases (ie , chicken pox, measles, mumps, polio) (No: 0, Yes: 1)(0, 1)\n",
    "\n",
    "- `accident`: Has the respondent had an accident or serious trauma? (No: 0, Yes: 1)\n",
    "\n",
    "- `surgical_inter`:  Has the respondent had any surgical intervention (No: 0, Yes: 1)\n",
    "\n",
    "- `fever`: Has the respondent had high fevers in the last year?  (Less than three months ago: -1, More than three months ago:0, No: 1)\n",
    "\n",
    "- `alcohol`: What is the respondent's frequency of alcohol consumption? (Several times a day: 0.2, Every day:  0.4, Several times a week: 0.6, Once a week: 0.8, Hardly ever or never: 1) \n",
    "\n",
    "- `smoking_level`: Smoking habit 1) never, 2) occasional 3) daily (-1, 0, 1)\n",
    "\n",
    "- `sitting_time`: Number of hours spent sitting per day (Minumum value:0, Maximum value: 1)\n",
    "\n",
    "- `diagnosis`: Output: Diagnosis normal (N), altered (O)\n",
    "\n",
    "\n",
    "The column `diagnosis` is our target. "
   ]
  },
  {
   "cell_type": "code",
   "execution_count": 23,
   "metadata": {},
   "outputs": [
    {
     "data": {
      "text/html": [
       "<div>\n",
       "<style scoped>\n",
       "    .dataframe tbody tr th:only-of-type {\n",
       "        vertical-align: middle;\n",
       "    }\n",
       "\n",
       "    .dataframe tbody tr th {\n",
       "        vertical-align: top;\n",
       "    }\n",
       "\n",
       "    .dataframe thead th {\n",
       "        text-align: right;\n",
       "    }\n",
       "</style>\n",
       "<table border=\"1\" class=\"dataframe\">\n",
       "  <thead>\n",
       "    <tr style=\"text-align: right;\">\n",
       "      <th></th>\n",
       "      <th>age</th>\n",
       "      <th>diseases</th>\n",
       "      <th>accident</th>\n",
       "      <th>surgical_inter</th>\n",
       "      <th>fever</th>\n",
       "      <th>alcohol</th>\n",
       "      <th>smoking_level</th>\n",
       "      <th>sitting_time</th>\n",
       "      <th>diagnosis</th>\n",
       "    </tr>\n",
       "  </thead>\n",
       "  <tbody>\n",
       "    <tr>\n",
       "      <th>0</th>\n",
       "      <td>25.0</td>\n",
       "      <td>0</td>\n",
       "      <td>1</td>\n",
       "      <td>1</td>\n",
       "      <td>0</td>\n",
       "      <td>0.8</td>\n",
       "      <td>0</td>\n",
       "      <td>0.88</td>\n",
       "      <td>N</td>\n",
       "    </tr>\n",
       "    <tr>\n",
       "      <th>1</th>\n",
       "      <td>34.0</td>\n",
       "      <td>1</td>\n",
       "      <td>0</td>\n",
       "      <td>1</td>\n",
       "      <td>0</td>\n",
       "      <td>0.8</td>\n",
       "      <td>1</td>\n",
       "      <td>0.31</td>\n",
       "      <td>O</td>\n",
       "    </tr>\n",
       "    <tr>\n",
       "      <th>2</th>\n",
       "      <td>18.0</td>\n",
       "      <td>1</td>\n",
       "      <td>0</td>\n",
       "      <td>0</td>\n",
       "      <td>0</td>\n",
       "      <td>1.0</td>\n",
       "      <td>-1</td>\n",
       "      <td>0.50</td>\n",
       "      <td>N</td>\n",
       "    </tr>\n",
       "    <tr>\n",
       "      <th>3</th>\n",
       "      <td>27.0</td>\n",
       "      <td>0</td>\n",
       "      <td>1</td>\n",
       "      <td>1</td>\n",
       "      <td>0</td>\n",
       "      <td>1.0</td>\n",
       "      <td>-1</td>\n",
       "      <td>0.38</td>\n",
       "      <td>N</td>\n",
       "    </tr>\n",
       "    <tr>\n",
       "      <th>4</th>\n",
       "      <td>24.0</td>\n",
       "      <td>1</td>\n",
       "      <td>1</td>\n",
       "      <td>0</td>\n",
       "      <td>0</td>\n",
       "      <td>0.8</td>\n",
       "      <td>-1</td>\n",
       "      <td>0.50</td>\n",
       "      <td>O</td>\n",
       "    </tr>\n",
       "  </tbody>\n",
       "</table>\n",
       "</div>"
      ],
      "text/plain": [
       "    age  diseases  accident  surgical_inter  fever  alcohol  smoking_level  \\\n",
       "0  25.0         0         1               1      0      0.8              0   \n",
       "1  34.0         1         0               1      0      0.8              1   \n",
       "2  18.0         1         0               0      0      1.0             -1   \n",
       "3  27.0         0         1               1      0      1.0             -1   \n",
       "4  24.0         1         1               0      0      0.8             -1   \n",
       "\n",
       "   sitting_time diagnosis  \n",
       "0          0.88         N  \n",
       "1          0.31         O  \n",
       "2          0.50         N  \n",
       "3          0.38         N  \n",
       "4          0.50         O  "
      ]
     },
     "execution_count": 23,
     "metadata": {},
     "output_type": "execute_result"
    }
   ],
   "source": [
    "fertility_df = pd.read_csv('data/fertility_diagnosis.csv')\n",
    "fertility_df.head()"
   ]
  },
  {
   "cell_type": "markdown",
   "metadata": {
    "tags": []
   },
   "source": [
    "**Question 3.1** \n",
    "<br> {points: 1}\n",
    "\n",
    "How many features are there? \n",
    "\n",
    "*Assign the correct answer to an object of type `int` called `feature_num`.*\n"
   ]
  },
  {
   "cell_type": "code",
   "execution_count": 24,
   "metadata": {
    "deletable": false,
    "nbgrader": {
     "cell_type": "code",
     "checksum": "db03d8e5d0ec09377af804b8da6a8f6f",
     "grade": false,
     "grade_id": "cell-8298e78e019acbaf",
     "locked": false,
     "schema_version": 3,
     "solution": true,
     "task": false
    }
   },
   "outputs": [],
   "source": [
    "feature_num = 8"
   ]
  },
  {
   "cell_type": "code",
   "execution_count": 25,
   "metadata": {
    "deletable": false,
    "editable": false,
    "nbgrader": {
     "cell_type": "code",
     "checksum": "83ef6ed14a38d715970e4c626f8f0714",
     "grade": true,
     "grade_id": "cell-196048fd0dc0f574",
     "locked": true,
     "points": 1,
     "schema_version": 3,
     "solution": false,
     "task": false
    }
   },
   "outputs": [
    {
     "data": {
      "text/plain": [
       "'Success'"
      ]
     },
     "execution_count": 25,
     "metadata": {},
     "output_type": "execute_result"
    }
   ],
   "source": [
    "t.test_3_1(feature_num)"
   ]
  },
  {
   "cell_type": "markdown",
   "metadata": {},
   "source": [
    "**Question 3.2** \n",
    "<br> {points: 2}\n",
    "\n",
    "What type of problem is this ***Regression*** or ***Classification***?\n",
    "\n",
    "*Answer in the cell below with your answer. Place your answer between `\"\"`, assign the correct answer to an object called `problem`.*\n"
   ]
  },
  {
   "cell_type": "code",
   "execution_count": 26,
   "metadata": {
    "deletable": false,
    "nbgrader": {
     "cell_type": "code",
     "checksum": "3f7dbdfcebfd2affa9c81ddae2855878",
     "grade": false,
     "grade_id": "cell-ab02d8045dbe04fe",
     "locked": false,
     "schema_version": 3,
     "solution": true,
     "task": false
    }
   },
   "outputs": [],
   "source": [
    "problem = 'Classification'"
   ]
  },
  {
   "cell_type": "code",
   "execution_count": 27,
   "metadata": {
    "deletable": false,
    "editable": false,
    "nbgrader": {
     "cell_type": "code",
     "checksum": "0704d1a1d038cb13042298d117768caf",
     "grade": true,
     "grade_id": "cell-6e5044a5e2caa4a2",
     "locked": true,
     "points": 2,
     "schema_version": 3,
     "solution": false,
     "task": false
    }
   },
   "outputs": [],
   "source": [
    "# check that the variable exists\n",
    "assert 'problem' in globals(\n",
    "), \"Please make sure that your solution is named 'problem'\"\n",
    "\n",
    "# This test has been intentionally hidden. It will be up to you to decide if your solution\n",
    "# is sufficiently good.\n"
   ]
  },
  {
   "cell_type": "markdown",
   "metadata": {},
   "source": [
    "**Question 3.3** \n",
    "<br> {points: 1}\n",
    "\n",
    "Create your $X$ and $y$ dataframes based on the answers to the questions above.\n",
    "\n",
    "*Save each in the respective object names `X` and `y`* "
   ]
  },
  {
   "cell_type": "code",
   "execution_count": 38,
   "metadata": {
    "deletable": false,
    "nbgrader": {
     "cell_type": "code",
     "checksum": "13c185aa8ebbce1c43cf3e6d2bf96326",
     "grade": false,
     "grade_id": "cell-cb9f83b7d9fb121c",
     "locked": false,
     "schema_version": 3,
     "solution": true,
     "task": false
    }
   },
   "outputs": [
    {
     "data": {
      "text/html": [
       "<div>\n",
       "<style scoped>\n",
       "    .dataframe tbody tr th:only-of-type {\n",
       "        vertical-align: middle;\n",
       "    }\n",
       "\n",
       "    .dataframe tbody tr th {\n",
       "        vertical-align: top;\n",
       "    }\n",
       "\n",
       "    .dataframe thead th {\n",
       "        text-align: right;\n",
       "    }\n",
       "</style>\n",
       "<table border=\"1\" class=\"dataframe\">\n",
       "  <thead>\n",
       "    <tr style=\"text-align: right;\">\n",
       "      <th></th>\n",
       "      <th>diagnosis</th>\n",
       "    </tr>\n",
       "  </thead>\n",
       "  <tbody>\n",
       "    <tr>\n",
       "      <th>0</th>\n",
       "      <td>N</td>\n",
       "    </tr>\n",
       "    <tr>\n",
       "      <th>1</th>\n",
       "      <td>O</td>\n",
       "    </tr>\n",
       "    <tr>\n",
       "      <th>2</th>\n",
       "      <td>N</td>\n",
       "    </tr>\n",
       "    <tr>\n",
       "      <th>3</th>\n",
       "      <td>N</td>\n",
       "    </tr>\n",
       "    <tr>\n",
       "      <th>4</th>\n",
       "      <td>O</td>\n",
       "    </tr>\n",
       "    <tr>\n",
       "      <th>...</th>\n",
       "      <td>...</td>\n",
       "    </tr>\n",
       "    <tr>\n",
       "      <th>95</th>\n",
       "      <td>N</td>\n",
       "    </tr>\n",
       "    <tr>\n",
       "      <th>96</th>\n",
       "      <td>N</td>\n",
       "    </tr>\n",
       "    <tr>\n",
       "      <th>97</th>\n",
       "      <td>N</td>\n",
       "    </tr>\n",
       "    <tr>\n",
       "      <th>98</th>\n",
       "      <td>N</td>\n",
       "    </tr>\n",
       "    <tr>\n",
       "      <th>99</th>\n",
       "      <td>N</td>\n",
       "    </tr>\n",
       "  </tbody>\n",
       "</table>\n",
       "<p>100 rows × 1 columns</p>\n",
       "</div>"
      ],
      "text/plain": [
       "   diagnosis\n",
       "0          N\n",
       "1          O\n",
       "2          N\n",
       "3          N\n",
       "4          O\n",
       "..       ...\n",
       "95         N\n",
       "96         N\n",
       "97         N\n",
       "98         N\n",
       "99         N\n",
       "\n",
       "[100 rows x 1 columns]"
      ]
     },
     "execution_count": 38,
     "metadata": {},
     "output_type": "execute_result"
    }
   ],
   "source": [
    "X = fertility_df.iloc[:,0:8]\n",
    "y = fertility_df.iloc[:,8]\n",
    "\n",
    "pd.DataFrame(X)\n",
    "pd.DataFrame(y)"
   ]
  },
  {
   "cell_type": "code",
   "execution_count": 36,
   "metadata": {
    "deletable": false,
    "editable": false,
    "nbgrader": {
     "cell_type": "code",
     "checksum": "6210ff5092503377051e8f3e3540cf6c",
     "grade": true,
     "grade_id": "cell-bef644d0adf46d07",
     "locked": true,
     "points": 1,
     "schema_version": 3,
     "solution": false,
     "task": false
    }
   },
   "outputs": [
    {
     "data": {
      "text/plain": [
       "'Success'"
      ]
     },
     "execution_count": 36,
     "metadata": {},
     "output_type": "execute_result"
    }
   ],
   "source": [
    "t.test_3_3(X,y)"
   ]
  },
  {
   "cell_type": "markdown",
   "metadata": {},
   "source": [
    "# 4. Dummy Classifier"
   ]
  },
  {
   "cell_type": "markdown",
   "metadata": {},
   "source": [
    "For this question we are going to explore the accuracy of different dummy classifiers. "
   ]
  },
  {
   "cell_type": "markdown",
   "metadata": {},
   "source": [
    "**Question 4.1** \n",
    "<br> {points: 0}\n",
    "\n",
    "Import the `DummyClassifier()` from the `from sklearn.dummy` library.\n"
   ]
  },
  {
   "cell_type": "code",
   "execution_count": 39,
   "metadata": {
    "deletable": false,
    "nbgrader": {
     "cell_type": "code",
     "checksum": "a755989d7ac19b8575b45c7490b24bed",
     "grade": false,
     "grade_id": "cell-469b2ffd9cbeb846",
     "locked": false,
     "schema_version": 3,
     "solution": true,
     "task": false
    }
   },
   "outputs": [],
   "source": [
    "from sklearn.dummy import DummyClassifier"
   ]
  },
  {
   "cell_type": "code",
   "execution_count": 40,
   "metadata": {
    "deletable": false,
    "editable": false,
    "nbgrader": {
     "cell_type": "code",
     "checksum": "c5fdd7d565fe548f8b9b46b38e423cca",
     "grade": true,
     "grade_id": "cell-fe4bb3ace4157bda",
     "locked": true,
     "points": 0,
     "schema_version": 3,
     "solution": false,
     "task": false
    }
   },
   "outputs": [
    {
     "data": {
      "text/plain": [
       "'Success'"
      ]
     },
     "execution_count": 40,
     "metadata": {},
     "output_type": "execute_result"
    }
   ],
   "source": [
    "t.test_4_1()"
   ]
  },
  {
   "cell_type": "markdown",
   "metadata": {},
   "source": [
    "**Question 4.2** \n",
    "<br> {points: 1}\n",
    "\n",
    "Build a Dummy Classifier with the `strategy` \"stratified\" and name it `strat_clf`.     \n",
    "Make sure to specify a second argument `random_state=1`. This just makes sure every student will produce the same model and remove and randomness. \n",
    "\n",
    "The *stratified* `strategy` argument value generates predictions by respecting the training set’s class distribution. This means that if a target category only exists 5 times out of 100 examples, the dummy classifier will only predict the category 5% of the time.  \n",
    "\n"
   ]
  },
  {
   "cell_type": "code",
   "execution_count": 41,
   "metadata": {
    "deletable": false,
    "nbgrader": {
     "cell_type": "code",
     "checksum": "f753f597185e981a332ac9e6153c2538",
     "grade": false,
     "grade_id": "cell-e21e632f5d4cd90e",
     "locked": false,
     "schema_version": 3,
     "solution": true,
     "task": false
    }
   },
   "outputs": [],
   "source": [
    "strat_clf = DummyClassifier(strategy = 'stratified', random_state = 1)"
   ]
  },
  {
   "cell_type": "code",
   "execution_count": 42,
   "metadata": {
    "deletable": false,
    "editable": false,
    "nbgrader": {
     "cell_type": "code",
     "checksum": "832e85b49692a05573ae383465965ae6",
     "grade": true,
     "grade_id": "cell-5ab0893ea3a96524",
     "locked": true,
     "points": 1,
     "schema_version": 3,
     "solution": false,
     "task": false
    }
   },
   "outputs": [
    {
     "data": {
      "text/plain": [
       "'Success'"
      ]
     },
     "execution_count": 42,
     "metadata": {},
     "output_type": "execute_result"
    }
   ],
   "source": [
    "t.test_4_2(strat_clf)"
   ]
  },
  {
   "cell_type": "markdown",
   "metadata": {},
   "source": [
    "**Question 4.3** \n",
    "<br> {points: 1}\n",
    "\n",
    "Train `strat_clf` on the `X` and `y` objects we made in question 4.2.\n",
    "\n",
    "Predict on `y`  and save this in an object named `strat_predicted`. "
   ]
  },
  {
   "cell_type": "code",
   "execution_count": 49,
   "metadata": {
    "deletable": false,
    "nbgrader": {
     "cell_type": "code",
     "checksum": "3fbc9423ca422098f096e44d6ffaca69",
     "grade": false,
     "grade_id": "cell-8b44c4e5194d84e5",
     "locked": false,
     "schema_version": 3,
     "solution": true,
     "task": false
    }
   },
   "outputs": [],
   "source": [
    "strat_predicted = strat_clf.fit(X,y).predict(y)"
   ]
  },
  {
   "cell_type": "code",
   "execution_count": 50,
   "metadata": {
    "deletable": false,
    "editable": false,
    "nbgrader": {
     "cell_type": "code",
     "checksum": "906581d5d1c8aca5fdccd644cea58e68",
     "grade": true,
     "grade_id": "cell-4dffe172aa3ec860",
     "locked": true,
     "points": 1,
     "schema_version": 3,
     "solution": false,
     "task": false
    }
   },
   "outputs": [
    {
     "data": {
      "text/plain": [
       "'Success'"
      ]
     },
     "execution_count": 50,
     "metadata": {},
     "output_type": "execute_result"
    }
   ],
   "source": [
    "t.test_4_3(strat_clf,strat_predicted)"
   ]
  },
  {
   "cell_type": "markdown",
   "metadata": {},
   "source": [
    "**Question 4.4** \n",
    "<br> {points: 2}\n",
    "\n",
    "What is the accuracy of this model? \n",
    "\n",
    "Save the result to 2 decimal places in an object named `strat_accuracy`. "
   ]
  },
  {
   "cell_type": "code",
   "execution_count": 52,
   "metadata": {
    "deletable": false,
    "nbgrader": {
     "cell_type": "code",
     "checksum": "96039cf0cf78fe9ab2be192198d986de",
     "grade": false,
     "grade_id": "cell-6252f8228ff4565b",
     "locked": false,
     "schema_version": 3,
     "solution": true,
     "task": false
    }
   },
   "outputs": [
    {
     "data": {
      "text/plain": [
       "0.77"
      ]
     },
     "execution_count": 52,
     "metadata": {},
     "output_type": "execute_result"
    }
   ],
   "source": [
    "strat_accuracy = strat_clf.score(X,y) \n",
    "strat_accuracy"
   ]
  },
  {
   "cell_type": "code",
   "execution_count": null,
   "metadata": {
    "deletable": false,
    "editable": false,
    "nbgrader": {
     "cell_type": "code",
     "checksum": "fe684c2b94e54f8b3cfb5a35089be039",
     "grade": true,
     "grade_id": "cell-f09ea530f19e6f31",
     "locked": true,
     "points": 2,
     "schema_version": 3,
     "solution": false,
     "task": false
    }
   },
   "outputs": [],
   "source": [
    "# check that the variable exists\n",
    "assert 'strat_accuracy' in globals(\n",
    "), \"Please make sure that your solution is named 'strat_accuracy'\"\n",
    "\n",
    "# This test has been intentionally hidden. It will be up to you to decide if your solution\n",
    "# is sufficiently good."
   ]
  },
  {
   "cell_type": "markdown",
   "metadata": {},
   "source": [
    "**Question 4.5** \n",
    "<br> {points: 1}\n",
    "\n",
    "We can train different models and compare which ones are the most accurate using a `for` loop. \n",
    "\n",
    "For this question make a `for` loop that loops over the values \"stratified\", \"most_frequent\" and \"uniform\", builds a model, trains and scores each model and save the accuracy to 2 decimal places in a new list called `accuracies`.\n",
    "\n",
    "\n",
    "Make sure to specify a second argument `random_state=1` for the models. "
   ]
  },
  {
   "cell_type": "code",
   "execution_count": 78,
   "metadata": {
    "deletable": false,
    "nbgrader": {
     "cell_type": "code",
     "checksum": "6dffe43318481ba12411a893cd457c39",
     "grade": false,
     "grade_id": "cell-bc8eb0f911c1fe33",
     "locked": false,
     "schema_version": 3,
     "solution": true,
     "task": false
    }
   },
   "outputs": [
    {
     "data": {
      "text/plain": [
       "{0.45, 0.77, 0.88}"
      ]
     },
     "execution_count": 78,
     "metadata": {},
     "output_type": "execute_result"
    }
   ],
   "source": [
    "strategies = [\"stratified\", \"most_frequent\", \"uniform\"]\n",
    "accuracies = []\n",
    "\n",
    "for i in strategies:\n",
    "    strat = DummyClassifier(strategy = i, random_state = 1)\n",
    "    predicted = strat.fit(X,y).predict(y)\n",
    "    accuracy = strat.score(X,y) \n",
    "    accuracies.append(accuracy)\n",
    "\n",
    "set(accuracies)"
   ]
  },
  {
   "cell_type": "code",
   "execution_count": 79,
   "metadata": {
    "deletable": false,
    "editable": false,
    "nbgrader": {
     "cell_type": "code",
     "checksum": "cc4dcef9b42da9ad36e04e27275a23e6",
     "grade": true,
     "grade_id": "cell-662cf483fa41c124",
     "locked": true,
     "points": 1,
     "schema_version": 3,
     "solution": false,
     "task": false
    }
   },
   "outputs": [
    {
     "data": {
      "text/plain": [
       "'Success'"
      ]
     },
     "execution_count": 79,
     "metadata": {},
     "output_type": "execute_result"
    }
   ],
   "source": [
    "t.test_4_5(accuracies)"
   ]
  },
  {
   "cell_type": "markdown",
   "metadata": {},
   "source": [
    "**Question 4.6** \n",
    "<br> {points: 1}\n",
    "\n",
    "Create a new dataframe name `accuracies_df` made from the lists `strategies` and `accuracies`. \n",
    "It should look like this:\n",
    "\n",
    "|    | strategy      |   accuracy |\n",
    "|---:|:--------------|-----------:|\n",
    "|  0 | stratified    |       #    |\n",
    "|  1 | most_frequent |       #    |\n",
    "|  2 | uniform       |       #    |\n"
   ]
  },
  {
   "cell_type": "code",
   "execution_count": 86,
   "metadata": {
    "deletable": false,
    "nbgrader": {
     "cell_type": "code",
     "checksum": "1a8fea1db7526a054360a5b9bdc56593",
     "grade": false,
     "grade_id": "cell-52082c4f7ff809a0",
     "locked": false,
     "schema_version": 3,
     "solution": true,
     "task": false
    }
   },
   "outputs": [
    {
     "data": {
      "text/html": [
       "<div>\n",
       "<style scoped>\n",
       "    .dataframe tbody tr th:only-of-type {\n",
       "        vertical-align: middle;\n",
       "    }\n",
       "\n",
       "    .dataframe tbody tr th {\n",
       "        vertical-align: top;\n",
       "    }\n",
       "\n",
       "    .dataframe thead th {\n",
       "        text-align: right;\n",
       "    }\n",
       "</style>\n",
       "<table border=\"1\" class=\"dataframe\">\n",
       "  <thead>\n",
       "    <tr style=\"text-align: right;\">\n",
       "      <th></th>\n",
       "      <th>strategy</th>\n",
       "      <th>accuracy</th>\n",
       "    </tr>\n",
       "  </thead>\n",
       "  <tbody>\n",
       "    <tr>\n",
       "      <th>0</th>\n",
       "      <td>stratified</td>\n",
       "      <td>0.77</td>\n",
       "    </tr>\n",
       "    <tr>\n",
       "      <th>1</th>\n",
       "      <td>most_frequent</td>\n",
       "      <td>0.88</td>\n",
       "    </tr>\n",
       "    <tr>\n",
       "      <th>2</th>\n",
       "      <td>uniform</td>\n",
       "      <td>0.45</td>\n",
       "    </tr>\n",
       "  </tbody>\n",
       "</table>\n",
       "</div>"
      ],
      "text/plain": [
       "        strategy  accuracy\n",
       "0     stratified      0.77\n",
       "1  most_frequent      0.88\n",
       "2        uniform      0.45"
      ]
     },
     "execution_count": 86,
     "metadata": {},
     "output_type": "execute_result"
    }
   ],
   "source": [
    "accuracies_df = pd.DataFrame({'strategy':strategies, 'accuracy':accuracies})\n",
    "accuracies_df"
   ]
  },
  {
   "cell_type": "code",
   "execution_count": 87,
   "metadata": {
    "deletable": false,
    "editable": false,
    "nbgrader": {
     "cell_type": "code",
     "checksum": "fecd99349bc45cce42b91d1a4b19d000",
     "grade": true,
     "grade_id": "cell-40050884834982f6",
     "locked": true,
     "points": 1,
     "schema_version": 3,
     "solution": false,
     "task": false
    }
   },
   "outputs": [
    {
     "data": {
      "text/plain": [
       "'Success'"
      ]
     },
     "execution_count": 87,
     "metadata": {},
     "output_type": "execute_result"
    }
   ],
   "source": [
    "t.test_4_6(accuracies_df)"
   ]
  },
  {
   "cell_type": "markdown",
   "metadata": {},
   "source": [
    "**Question 4.7** \n",
    "<br> {points: 1}\n",
    "\n",
    "Using Altair, make a bar plot (`mark_bar()`) that displays the `strategy` on the x-axis and the `accuracy` on the y-axis. Don't forget to give it a title and to sort it in ascending order. Make sure it has the dimensions `width=500, height=300`. \n",
    "Name the plot `Dummy_plot`."
   ]
  },
  {
   "cell_type": "code",
   "execution_count": 99,
   "metadata": {
    "deletable": false,
    "nbgrader": {
     "cell_type": "code",
     "checksum": "8a1a4dd157fd5a4108222a328fa74ef4",
     "grade": false,
     "grade_id": "cell-e5946eeeed14caf7",
     "locked": false,
     "schema_version": 3,
     "solution": true,
     "task": false
    }
   },
   "outputs": [
    {
     "data": {
      "text/html": [
       "\n",
       "<div id=\"altair-viz-d3a9414ff7dc49238cb881e362f88b66\"></div>\n",
       "<script type=\"text/javascript\">\n",
       "  (function(spec, embedOpt){\n",
       "    let outputDiv = document.currentScript.previousElementSibling;\n",
       "    if (outputDiv.id !== \"altair-viz-d3a9414ff7dc49238cb881e362f88b66\") {\n",
       "      outputDiv = document.getElementById(\"altair-viz-d3a9414ff7dc49238cb881e362f88b66\");\n",
       "    }\n",
       "    const paths = {\n",
       "      \"vega\": \"https://cdn.jsdelivr.net/npm//vega@5?noext\",\n",
       "      \"vega-lib\": \"https://cdn.jsdelivr.net/npm//vega-lib?noext\",\n",
       "      \"vega-lite\": \"https://cdn.jsdelivr.net/npm//vega-lite@4.8.1?noext\",\n",
       "      \"vega-embed\": \"https://cdn.jsdelivr.net/npm//vega-embed@6?noext\",\n",
       "    };\n",
       "\n",
       "    function loadScript(lib) {\n",
       "      return new Promise(function(resolve, reject) {\n",
       "        var s = document.createElement('script');\n",
       "        s.src = paths[lib];\n",
       "        s.async = true;\n",
       "        s.onload = () => resolve(paths[lib]);\n",
       "        s.onerror = () => reject(`Error loading script: ${paths[lib]}`);\n",
       "        document.getElementsByTagName(\"head\")[0].appendChild(s);\n",
       "      });\n",
       "    }\n",
       "\n",
       "    function showError(err) {\n",
       "      outputDiv.innerHTML = `<div class=\"error\" style=\"color:red;\">${err}</div>`;\n",
       "      throw err;\n",
       "    }\n",
       "\n",
       "    function displayChart(vegaEmbed) {\n",
       "      vegaEmbed(outputDiv, spec, embedOpt)\n",
       "        .catch(err => showError(`Javascript Error: ${err.message}<br>This usually means there's a typo in your chart specification. See the javascript console for the full traceback.`));\n",
       "    }\n",
       "\n",
       "    if(typeof define === \"function\" && define.amd) {\n",
       "      requirejs.config({paths});\n",
       "      require([\"vega-embed\"], displayChart, err => showError(`Error loading script: ${err.message}`));\n",
       "    } else if (typeof vegaEmbed === \"function\") {\n",
       "      displayChart(vegaEmbed);\n",
       "    } else {\n",
       "      loadScript(\"vega\")\n",
       "        .then(() => loadScript(\"vega-lite\"))\n",
       "        .then(() => loadScript(\"vega-embed\"))\n",
       "        .catch(showError)\n",
       "        .then(() => displayChart(vegaEmbed));\n",
       "    }\n",
       "  })({\"config\": {\"view\": {\"continuousWidth\": 400, \"continuousHeight\": 300}}, \"data\": {\"name\": \"data-0e932cbd1f01c50c94016cd7b390eb3b\"}, \"mark\": \"bar\", \"encoding\": {\"x\": {\"type\": \"nominal\", \"field\": \"strategy\", \"title\": \"Strategy\"}, \"y\": {\"type\": \"quantitative\", \"field\": \"accuracy\"}}, \"height\": 300, \"width\": 500, \"$schema\": \"https://vega.github.io/schema/vega-lite/v4.8.1.json\", \"datasets\": {\"data-0e932cbd1f01c50c94016cd7b390eb3b\": [{\"strategy\": \"stratified\", \"accuracy\": 0.77}, {\"strategy\": \"most_frequent\", \"accuracy\": 0.88}, {\"strategy\": \"uniform\", \"accuracy\": 0.45}]}}, {\"mode\": \"vega-lite\"});\n",
       "</script>"
      ],
      "text/plain": [
       "alt.Chart(...)"
      ]
     },
     "execution_count": 99,
     "metadata": {},
     "output_type": "execute_result"
    }
   ],
   "source": [
    "source = accuracies_df\n",
    "Dummy_plot = alt.Chart(source).mark_bar().encode(\n",
    "    alt.X(\"strategy\", title=\"Strategy\"),\n",
    "    alt.Y(\"accuracy\")).properties(width=500, height=300)\n",
    "Dummy_plot"
   ]
  },
  {
   "cell_type": "code",
   "execution_count": 100,
   "metadata": {
    "deletable": false,
    "editable": false,
    "nbgrader": {
     "cell_type": "code",
     "checksum": "56e01ec4a8190164fb200bbdec9f017c",
     "grade": true,
     "grade_id": "cell-877dd5d29416fea2",
     "locked": true,
     "points": 1,
     "schema_version": 3,
     "solution": false,
     "task": false
    }
   },
   "outputs": [
    {
     "data": {
      "text/plain": [
       "'Success'"
      ]
     },
     "execution_count": 100,
     "metadata": {},
     "output_type": "execute_result"
    }
   ],
   "source": [
    "t.test_4_7(Dummy_plot)"
   ]
  },
  {
   "cell_type": "markdown",
   "metadata": {},
   "source": [
    "**Question 4.8** \n",
    "<br> {points: 1}\n",
    "\n",
    "Which strategy had the best results? \n",
    "\n",
    "\n",
    "To answer the question, assign the letter associated with the correct answer to a variable in the code cell below:   \n",
    " \n",
    "A) `stratified`\n",
    "\n",
    "B) `most_frequent` \n",
    "\n",
    "C) `uniform`\n",
    "\n",
    "*Answer in the cell below using the uppercase letter associated with your answer. Place your answer between `\"\"`, assign the correct answer to an object called `answer4_8`.*"
   ]
  },
  {
   "cell_type": "code",
   "execution_count": 101,
   "metadata": {
    "deletable": false,
    "nbgrader": {
     "cell_type": "code",
     "checksum": "20e32b84304aa49ab5fcb5c503a221b7",
     "grade": false,
     "grade_id": "cell-59a706bea7e774f4",
     "locked": false,
     "schema_version": 3,
     "solution": true,
     "task": false
    }
   },
   "outputs": [],
   "source": [
    "answer4_8 = 'B'"
   ]
  },
  {
   "cell_type": "code",
   "execution_count": 102,
   "metadata": {
    "deletable": false,
    "editable": false,
    "nbgrader": {
     "cell_type": "code",
     "checksum": "64cc7b0480c90c9425a9d1554abdea08",
     "grade": true,
     "grade_id": "cell-e2b406c00fd688a1",
     "locked": true,
     "points": 1,
     "schema_version": 3,
     "solution": false,
     "task": false
    }
   },
   "outputs": [
    {
     "data": {
      "text/plain": [
       "'Success'"
      ]
     },
     "execution_count": 102,
     "metadata": {},
     "output_type": "execute_result"
    }
   ],
   "source": [
    "t.test_4_8(answer4_8)"
   ]
  },
  {
   "cell_type": "markdown",
   "metadata": {},
   "source": [
    "# 5. Dummy Regressor "
   ]
  },
  {
   "cell_type": "markdown",
   "metadata": {},
   "source": [
    "This time instead of focusing on a classification problem we are going to focus on a regression problem using the `DummyRegressor` baseline model. \n",
    "\n",
    "For this question we are using a dataset obtained from [The UCI Machine Learning Repository](https://archive.ics.uci.edu/ml/datasets/Real+estate+valuation+data+set) that contains the market historical data of real estate valuation collected from Sindian District, New Taipei City in Taiwan.\n",
    "\n",
    "The columns in the dataset can be explained as follows: \n",
    "\n",
    "- `date`: the transaction date (for example, 2013.250=2013 March, 2013.500=2013 June, etc.)\n",
    "- `house_age`: the house age (unit: year)\n",
    "- `distance_station`: the distance to the nearest Mass Rapid Transit (MRT) station (unit: meter)\n",
    "- `num_stores`: the number of convenience stores in the living circle on foot (integer)(a ***living circle*** is a residential space with similar local characteristics, and daily behaviors)\n",
    "- `latitude`: the geographic coordinate, latitude. (unit: degree)\n",
    "- `longitude`: the geographic coordinate, longitude. (unit: degree)\n",
    "- `price`: house price per unit area (10000 New Taiwan Dollar/Ping,where Ping is a local unit of area, 1 Ping = 3.3 meter squared)\n"
   ]
  },
  {
   "cell_type": "code",
   "execution_count": 103,
   "metadata": {},
   "outputs": [
    {
     "data": {
      "text/html": [
       "<div>\n",
       "<style scoped>\n",
       "    .dataframe tbody tr th:only-of-type {\n",
       "        vertical-align: middle;\n",
       "    }\n",
       "\n",
       "    .dataframe tbody tr th {\n",
       "        vertical-align: top;\n",
       "    }\n",
       "\n",
       "    .dataframe thead th {\n",
       "        text-align: right;\n",
       "    }\n",
       "</style>\n",
       "<table border=\"1\" class=\"dataframe\">\n",
       "  <thead>\n",
       "    <tr style=\"text-align: right;\">\n",
       "      <th></th>\n",
       "      <th>house_age</th>\n",
       "      <th>distance_station</th>\n",
       "      <th>num_stores</th>\n",
       "      <th>latitude</th>\n",
       "      <th>longitude</th>\n",
       "      <th>price</th>\n",
       "    </tr>\n",
       "  </thead>\n",
       "  <tbody>\n",
       "    <tr>\n",
       "      <th>0</th>\n",
       "      <td>32.0</td>\n",
       "      <td>84.87882</td>\n",
       "      <td>10</td>\n",
       "      <td>24.98298</td>\n",
       "      <td>121.54024</td>\n",
       "      <td>37.9</td>\n",
       "    </tr>\n",
       "    <tr>\n",
       "      <th>1</th>\n",
       "      <td>19.5</td>\n",
       "      <td>306.59470</td>\n",
       "      <td>9</td>\n",
       "      <td>24.98034</td>\n",
       "      <td>121.53951</td>\n",
       "      <td>42.2</td>\n",
       "    </tr>\n",
       "    <tr>\n",
       "      <th>2</th>\n",
       "      <td>13.3</td>\n",
       "      <td>561.98450</td>\n",
       "      <td>5</td>\n",
       "      <td>24.98746</td>\n",
       "      <td>121.54391</td>\n",
       "      <td>47.3</td>\n",
       "    </tr>\n",
       "    <tr>\n",
       "      <th>3</th>\n",
       "      <td>13.3</td>\n",
       "      <td>561.98450</td>\n",
       "      <td>5</td>\n",
       "      <td>24.98746</td>\n",
       "      <td>121.54391</td>\n",
       "      <td>54.8</td>\n",
       "    </tr>\n",
       "    <tr>\n",
       "      <th>4</th>\n",
       "      <td>5.0</td>\n",
       "      <td>390.56840</td>\n",
       "      <td>5</td>\n",
       "      <td>24.97937</td>\n",
       "      <td>121.54245</td>\n",
       "      <td>43.1</td>\n",
       "    </tr>\n",
       "  </tbody>\n",
       "</table>\n",
       "</div>"
      ],
      "text/plain": [
       "   house_age  distance_station  num_stores  latitude  longitude  price\n",
       "0       32.0          84.87882          10  24.98298  121.54024   37.9\n",
       "1       19.5         306.59470           9  24.98034  121.53951   42.2\n",
       "2       13.3         561.98450           5  24.98746  121.54391   47.3\n",
       "3       13.3         561.98450           5  24.98746  121.54391   54.8\n",
       "4        5.0         390.56840           5  24.97937  121.54245   43.1"
      ]
     },
     "execution_count": 103,
     "metadata": {},
     "output_type": "execute_result"
    }
   ],
   "source": [
    "housing_df = pd.read_csv('data/real_estate.csv')\n",
    "housing_df.head()"
   ]
  },
  {
   "cell_type": "markdown",
   "metadata": {},
   "source": [
    "**Question 5.1** \n",
    "<br> {points: 1}\n",
    "\n",
    "Create your $X$ and $y$ dataframes.   \n",
    "For the `X` dataframe make sure that you are not including `price`. Since our `y` (target) is the `price` column.        \n",
    "\n",
    "*Save each in the respective object names `X` and `y`*. "
   ]
  },
  {
   "cell_type": "code",
   "execution_count": 106,
   "metadata": {
    "deletable": false,
    "nbgrader": {
     "cell_type": "code",
     "checksum": "badca98689d7579f01f60e7f7d0b441a",
     "grade": false,
     "grade_id": "cell-ed966ed73ebc1218",
     "locked": false,
     "schema_version": 3,
     "solution": true,
     "task": false
    }
   },
   "outputs": [],
   "source": [
    "X = housing_df.iloc[:,0:5]\n",
    "y = housing_df.iloc[:,5]"
   ]
  },
  {
   "cell_type": "code",
   "execution_count": 107,
   "metadata": {
    "deletable": false,
    "editable": false,
    "nbgrader": {
     "cell_type": "code",
     "checksum": "337dda35731fc8b7203ea2961226c867",
     "grade": true,
     "grade_id": "cell-11e500f7d2f30526",
     "locked": true,
     "points": 1,
     "schema_version": 3,
     "solution": false,
     "task": false
    }
   },
   "outputs": [
    {
     "data": {
      "text/plain": [
       "'Success'"
      ]
     },
     "execution_count": 107,
     "metadata": {},
     "output_type": "execute_result"
    }
   ],
   "source": [
    "t.test_5_1(X,y)"
   ]
  },
  {
   "cell_type": "markdown",
   "metadata": {},
   "source": [
    "**Question 5.2** \n",
    "<br> {points: 0}\n",
    "\n",
    "Import `DummyRegressor()` from the `from sklearn.dummy` library.\n"
   ]
  },
  {
   "cell_type": "code",
   "execution_count": 108,
   "metadata": {
    "deletable": false,
    "nbgrader": {
     "cell_type": "code",
     "checksum": "8c5bb12892e98454c21d0ca65216d9d3",
     "grade": false,
     "grade_id": "cell-2dcee6a18047fadc",
     "locked": false,
     "schema_version": 3,
     "solution": true,
     "task": false
    }
   },
   "outputs": [],
   "source": [
    "from sklearn.dummy import DummyRegressor"
   ]
  },
  {
   "cell_type": "code",
   "execution_count": 109,
   "metadata": {
    "deletable": false,
    "editable": false,
    "nbgrader": {
     "cell_type": "code",
     "checksum": "fa3ea463a22d42e6143a17ea3ae4906d",
     "grade": true,
     "grade_id": "cell-c0010bc01a380bfc",
     "locked": true,
     "points": 0,
     "schema_version": 3,
     "solution": false,
     "task": false
    }
   },
   "outputs": [
    {
     "data": {
      "text/plain": [
       "'Success'"
      ]
     },
     "execution_count": 109,
     "metadata": {},
     "output_type": "execute_result"
    }
   ],
   "source": [
    "t.test_5_2()"
   ]
  },
  {
   "cell_type": "markdown",
   "metadata": {},
   "source": [
    "**Question 5.3** \n",
    "<br> {points: 1}\n",
    "\n",
    "Build a Dummy Regressor with the `strategy` \"mean\" and name it `dummy_regr`. \n",
    "Train it on the variables `X` and `y` that we made in question 5.1. Predict on the `y` object and save the output in a object name `reg_predict`. \n",
    "Is the output what you expected? "
   ]
  },
  {
   "cell_type": "code",
   "execution_count": 112,
   "metadata": {
    "deletable": false,
    "nbgrader": {
     "cell_type": "code",
     "checksum": "40a608729887aa40ca7004e5ddff3d8e",
     "grade": false,
     "grade_id": "cell-267452394bafc485",
     "locked": false,
     "schema_version": 3,
     "solution": true,
     "task": false
    }
   },
   "outputs": [],
   "source": [
    "dummy_regr = DummyRegressor(strategy = 'mean')\n",
    "reg_predict = dummy_regr.fit(X,y).predict(y)"
   ]
  },
  {
   "cell_type": "code",
   "execution_count": 113,
   "metadata": {
    "deletable": false,
    "editable": false,
    "nbgrader": {
     "cell_type": "code",
     "checksum": "6001f7965a615729c32da04f1f9e4701",
     "grade": true,
     "grade_id": "cell-bb5aff1bc8d70ba7",
     "locked": true,
     "points": 1,
     "schema_version": 3,
     "solution": false,
     "task": false
    }
   },
   "outputs": [
    {
     "data": {
      "text/plain": [
       "'Success'"
      ]
     },
     "execution_count": 113,
     "metadata": {},
     "output_type": "execute_result"
    }
   ],
   "source": [
    "t.test_5_3(dummy_regr,reg_predict)"
   ]
  },
  {
   "cell_type": "markdown",
   "metadata": {},
   "source": [
    "**Question 5.4** \n",
    "<br> {points: 1}\n",
    "\n",
    "To calculate the accuracy of regression models we need to see how close we were to the true value. We can use `.score()` like we did for the Dummy Classifier but this measure something different. The output of `.score()` for regressors returns the coefficient of determination of the prediction $R^2$. The best possible score is 1.0 and it can be a negative (because the model can be arbitrarily worse). \n",
    "\n",
    "Since a dummy regressor always predicts the mean value and disregards the input features(`X`), we expect a `.score()` of 0.0.\n",
    "\n",
    "Try it out on our real estate valuation data below and save the result in an object named `reg_score`. "
   ]
  },
  {
   "cell_type": "code",
   "execution_count": 114,
   "metadata": {
    "deletable": false,
    "nbgrader": {
     "cell_type": "code",
     "checksum": "c96dbf8b84cd1df934ada4865cc63d91",
     "grade": false,
     "grade_id": "cell-df43ab10d4970a00",
     "locked": false,
     "schema_version": 3,
     "solution": true,
     "task": false
    }
   },
   "outputs": [
    {
     "data": {
      "text/plain": [
       "0.0"
      ]
     },
     "execution_count": 114,
     "metadata": {},
     "output_type": "execute_result"
    }
   ],
   "source": [
    "reg_score = dummy_regr.score(X,y)\n",
    "reg_score"
   ]
  },
  {
   "cell_type": "code",
   "execution_count": 115,
   "metadata": {
    "deletable": false,
    "editable": false,
    "nbgrader": {
     "cell_type": "code",
     "checksum": "01a874c802481c9646634864f5e51784",
     "grade": true,
     "grade_id": "cell-b5b2f97eb2026f60",
     "locked": true,
     "points": 1,
     "schema_version": 3,
     "solution": false,
     "task": false
    }
   },
   "outputs": [
    {
     "data": {
      "text/plain": [
       "'Success'"
      ]
     },
     "execution_count": 115,
     "metadata": {},
     "output_type": "execute_result"
    }
   ],
   "source": [
    "t.test_5_4(reg_score)"
   ]
  },
  {
   "cell_type": "markdown",
   "metadata": {},
   "source": [
    "**Question 5.5** \n",
    "<br> {points: 1}\n",
    "\n",
    "For baseline models, the features of the data are not taken into consideration when making predictions. This will change for other models that we will be learning.\n",
    "In fact, let's take a look at the feature `distance_station` which measures the distance a house is from a Mass Rapid Transit station vs the house price in the graph below:"
   ]
  },
  {
   "cell_type": "code",
   "execution_count": 116,
   "metadata": {},
   "outputs": [
    {
     "data": {
      "text/html": [
       "\n",
       "<div id=\"altair-viz-198f833ef8364f8eb9b2cbd538e56463\"></div>\n",
       "<script type=\"text/javascript\">\n",
       "  (function(spec, embedOpt){\n",
       "    let outputDiv = document.currentScript.previousElementSibling;\n",
       "    if (outputDiv.id !== \"altair-viz-198f833ef8364f8eb9b2cbd538e56463\") {\n",
       "      outputDiv = document.getElementById(\"altair-viz-198f833ef8364f8eb9b2cbd538e56463\");\n",
       "    }\n",
       "    const paths = {\n",
       "      \"vega\": \"https://cdn.jsdelivr.net/npm//vega@5?noext\",\n",
       "      \"vega-lib\": \"https://cdn.jsdelivr.net/npm//vega-lib?noext\",\n",
       "      \"vega-lite\": \"https://cdn.jsdelivr.net/npm//vega-lite@4.8.1?noext\",\n",
       "      \"vega-embed\": \"https://cdn.jsdelivr.net/npm//vega-embed@6?noext\",\n",
       "    };\n",
       "\n",
       "    function loadScript(lib) {\n",
       "      return new Promise(function(resolve, reject) {\n",
       "        var s = document.createElement('script');\n",
       "        s.src = paths[lib];\n",
       "        s.async = true;\n",
       "        s.onload = () => resolve(paths[lib]);\n",
       "        s.onerror = () => reject(`Error loading script: ${paths[lib]}`);\n",
       "        document.getElementsByTagName(\"head\")[0].appendChild(s);\n",
       "      });\n",
       "    }\n",
       "\n",
       "    function showError(err) {\n",
       "      outputDiv.innerHTML = `<div class=\"error\" style=\"color:red;\">${err}</div>`;\n",
       "      throw err;\n",
       "    }\n",
       "\n",
       "    function displayChart(vegaEmbed) {\n",
       "      vegaEmbed(outputDiv, spec, embedOpt)\n",
       "        .catch(err => showError(`Javascript Error: ${err.message}<br>This usually means there's a typo in your chart specification. See the javascript console for the full traceback.`));\n",
       "    }\n",
       "\n",
       "    if(typeof define === \"function\" && define.amd) {\n",
       "      requirejs.config({paths});\n",
       "      require([\"vega-embed\"], displayChart, err => showError(`Error loading script: ${err.message}`));\n",
       "    } else if (typeof vegaEmbed === \"function\") {\n",
       "      displayChart(vegaEmbed);\n",
       "    } else {\n",
       "      loadScript(\"vega\")\n",
       "        .then(() => loadScript(\"vega-lite\"))\n",
       "        .then(() => loadScript(\"vega-embed\"))\n",
       "        .catch(showError)\n",
       "        .then(() => displayChart(vegaEmbed));\n",
       "    }\n",
       "  })({\"config\": {\"view\": {\"continuousWidth\": 400, \"continuousHeight\": 300}}, \"data\": {\"name\": \"data-e061e8f8a591b21656b2d0d277b40a74\"}, \"mark\": {\"type\": \"circle\", \"opacity\": 0.7}, \"encoding\": {\"x\": {\"type\": \"quantitative\", \"field\": \"price\"}, \"y\": {\"type\": \"quantitative\", \"field\": \"distance_station\"}}, \"height\": 300, \"width\": 500, \"$schema\": \"https://vega.github.io/schema/vega-lite/v4.8.1.json\", \"datasets\": {\"data-e061e8f8a591b21656b2d0d277b40a74\": [{\"house_age\": 32.0, \"distance_station\": 84.87881999999999, \"num_stores\": 10, \"latitude\": 24.98298, \"longitude\": 121.54024, \"price\": 37.9}, {\"house_age\": 19.5, \"distance_station\": 306.5947, \"num_stores\": 9, \"latitude\": 24.98034, \"longitude\": 121.53951, \"price\": 42.2}, {\"house_age\": 13.3, \"distance_station\": 561.9845, \"num_stores\": 5, \"latitude\": 24.98746, \"longitude\": 121.54391, \"price\": 47.3}, {\"house_age\": 13.3, \"distance_station\": 561.9845, \"num_stores\": 5, \"latitude\": 24.98746, \"longitude\": 121.54391, \"price\": 54.8}, {\"house_age\": 5.0, \"distance_station\": 390.5684, \"num_stores\": 5, \"latitude\": 24.97937, \"longitude\": 121.54245, \"price\": 43.1}, {\"house_age\": 7.1, \"distance_station\": 2175.03, \"num_stores\": 3, \"latitude\": 24.96305, \"longitude\": 121.51254, \"price\": 32.1}, {\"house_age\": 34.5, \"distance_station\": 623.4731, \"num_stores\": 7, \"latitude\": 24.97933, \"longitude\": 121.53642, \"price\": 40.3}, {\"house_age\": 20.3, \"distance_station\": 287.6025, \"num_stores\": 6, \"latitude\": 24.98042, \"longitude\": 121.54228, \"price\": 46.7}, {\"house_age\": 31.7, \"distance_station\": 5512.0380000000005, \"num_stores\": 1, \"latitude\": 24.95095, \"longitude\": 121.48458, \"price\": 18.8}, {\"house_age\": 17.9, \"distance_station\": 1783.18, \"num_stores\": 3, \"latitude\": 24.96731, \"longitude\": 121.51486, \"price\": 22.1}, {\"house_age\": 34.8, \"distance_station\": 405.2134, \"num_stores\": 1, \"latitude\": 24.97349, \"longitude\": 121.53372, \"price\": 41.4}, {\"house_age\": 6.3, \"distance_station\": 90.45606, \"num_stores\": 9, \"latitude\": 24.97433, \"longitude\": 121.5431, \"price\": 58.1}, {\"house_age\": 13.0, \"distance_station\": 492.2313, \"num_stores\": 5, \"latitude\": 24.96515, \"longitude\": 121.53737, \"price\": 39.3}, {\"house_age\": 20.4, \"distance_station\": 2469.645, \"num_stores\": 4, \"latitude\": 24.96108, \"longitude\": 121.51046, \"price\": 23.8}, {\"house_age\": 13.2, \"distance_station\": 1164.838, \"num_stores\": 4, \"latitude\": 24.99156, \"longitude\": 121.53406, \"price\": 34.3}, {\"house_age\": 35.7, \"distance_station\": 579.2083, \"num_stores\": 2, \"latitude\": 24.9824, \"longitude\": 121.54619, \"price\": 50.5}, {\"house_age\": 0.0, \"distance_station\": 292.9978, \"num_stores\": 6, \"latitude\": 24.97744, \"longitude\": 121.54458, \"price\": 70.1}, {\"house_age\": 17.7, \"distance_station\": 350.8515, \"num_stores\": 1, \"latitude\": 24.97544, \"longitude\": 121.53119, \"price\": 37.4}, {\"house_age\": 16.9, \"distance_station\": 368.1363, \"num_stores\": 8, \"latitude\": 24.9675, \"longitude\": 121.54451, \"price\": 42.3}, {\"house_age\": 1.5, \"distance_station\": 23.38284, \"num_stores\": 7, \"latitude\": 24.96772, \"longitude\": 121.54102, \"price\": 47.7}, {\"house_age\": 4.5, \"distance_station\": 2275.877, \"num_stores\": 3, \"latitude\": 24.96314, \"longitude\": 121.51151000000002, \"price\": 29.3}, {\"house_age\": 10.5, \"distance_station\": 279.1726, \"num_stores\": 7, \"latitude\": 24.97528, \"longitude\": 121.54541, \"price\": 51.6}, {\"house_age\": 14.7, \"distance_station\": 1360.139, \"num_stores\": 1, \"latitude\": 24.95204, \"longitude\": 121.54842, \"price\": 24.6}, {\"house_age\": 10.1, \"distance_station\": 279.1726, \"num_stores\": 7, \"latitude\": 24.97528, \"longitude\": 121.54541, \"price\": 47.9}, {\"house_age\": 39.6, \"distance_station\": 480.6977, \"num_stores\": 4, \"latitude\": 24.97353, \"longitude\": 121.53885, \"price\": 38.8}, {\"house_age\": 29.3, \"distance_station\": 1487.868, \"num_stores\": 2, \"latitude\": 24.97542, \"longitude\": 121.51726, \"price\": 27.0}, {\"house_age\": 3.1, \"distance_station\": 383.8624, \"num_stores\": 5, \"latitude\": 24.98085, \"longitude\": 121.54391, \"price\": 56.2}, {\"house_age\": 10.4, \"distance_station\": 276.449, \"num_stores\": 5, \"latitude\": 24.95593, \"longitude\": 121.53913, \"price\": 33.6}, {\"house_age\": 19.2, \"distance_station\": 557.4780000000001, \"num_stores\": 4, \"latitude\": 24.97419, \"longitude\": 121.53797, \"price\": 47.0}, {\"house_age\": 7.1, \"distance_station\": 451.2438, \"num_stores\": 5, \"latitude\": 24.97563, \"longitude\": 121.54694, \"price\": 57.1}, {\"house_age\": 25.9, \"distance_station\": 4519.69, \"num_stores\": 0, \"latitude\": 24.94826, \"longitude\": 121.49587, \"price\": 22.1}, {\"house_age\": 29.6, \"distance_station\": 769.4034, \"num_stores\": 7, \"latitude\": 24.98281, \"longitude\": 121.53408, \"price\": 25.0}, {\"house_age\": 37.9, \"distance_station\": 488.5727, \"num_stores\": 1, \"latitude\": 24.97349, \"longitude\": 121.53451, \"price\": 34.2}, {\"house_age\": 16.5, \"distance_station\": 323.655, \"num_stores\": 6, \"latitude\": 24.97841, \"longitude\": 121.54281, \"price\": 49.3}, {\"house_age\": 15.4, \"distance_station\": 205.367, \"num_stores\": 7, \"latitude\": 24.98419, \"longitude\": 121.54243, \"price\": 55.1}, {\"house_age\": 13.9, \"distance_station\": 4079.418, \"num_stores\": 0, \"latitude\": 25.01459, \"longitude\": 121.51816, \"price\": 27.3}, {\"house_age\": 14.7, \"distance_station\": 1935.009, \"num_stores\": 2, \"latitude\": 24.96386, \"longitude\": 121.51458, \"price\": 22.9}, {\"house_age\": 12.0, \"distance_station\": 1360.139, \"num_stores\": 1, \"latitude\": 24.95204, \"longitude\": 121.54842, \"price\": 25.3}, {\"house_age\": 3.1, \"distance_station\": 577.9615, \"num_stores\": 6, \"latitude\": 24.97201, \"longitude\": 121.54722, \"price\": 47.7}, {\"house_age\": 16.2, \"distance_station\": 289.3248, \"num_stores\": 5, \"latitude\": 24.98203, \"longitude\": 121.54348, \"price\": 46.2}, {\"house_age\": 13.6, \"distance_station\": 4082.015, \"num_stores\": 0, \"latitude\": 24.94155, \"longitude\": 121.50381000000002, \"price\": 15.9}, {\"house_age\": 16.8, \"distance_station\": 4066.587, \"num_stores\": 0, \"latitude\": 24.942970000000003, \"longitude\": 121.50342, \"price\": 18.2}, {\"house_age\": 36.1, \"distance_station\": 519.4617, \"num_stores\": 5, \"latitude\": 24.96305, \"longitude\": 121.53758, \"price\": 34.7}, {\"house_age\": 34.4, \"distance_station\": 512.7871, \"num_stores\": 6, \"latitude\": 24.98748, \"longitude\": 121.54301, \"price\": 34.1}, {\"house_age\": 2.7, \"distance_station\": 533.4762, \"num_stores\": 4, \"latitude\": 24.97445, \"longitude\": 121.54765, \"price\": 53.9}, {\"house_age\": 36.6, \"distance_station\": 488.8193, \"num_stores\": 8, \"latitude\": 24.97015, \"longitude\": 121.54494, \"price\": 38.3}, {\"house_age\": 21.7, \"distance_station\": 463.9623, \"num_stores\": 9, \"latitude\": 24.9703, \"longitude\": 121.54458, \"price\": 42.0}, {\"house_age\": 35.9, \"distance_station\": 640.7391, \"num_stores\": 3, \"latitude\": 24.97563, \"longitude\": 121.53715, \"price\": 61.5}, {\"house_age\": 24.2, \"distance_station\": 4605.749, \"num_stores\": 0, \"latitude\": 24.94684, \"longitude\": 121.49578, \"price\": 13.4}, {\"house_age\": 29.4, \"distance_station\": 4510.359, \"num_stores\": 1, \"latitude\": 24.94925, \"longitude\": 121.49542, \"price\": 13.2}, {\"house_age\": 21.7, \"distance_station\": 512.5487, \"num_stores\": 4, \"latitude\": 24.974, \"longitude\": 121.53842, \"price\": 44.2}, {\"house_age\": 31.3, \"distance_station\": 1758.406, \"num_stores\": 1, \"latitude\": 24.95402, \"longitude\": 121.55282, \"price\": 20.7}, {\"house_age\": 32.1, \"distance_station\": 1438.579, \"num_stores\": 3, \"latitude\": 24.97419, \"longitude\": 121.5175, \"price\": 27.0}, {\"house_age\": 13.3, \"distance_station\": 492.2313, \"num_stores\": 5, \"latitude\": 24.96515, \"longitude\": 121.53737, \"price\": 38.9}, {\"house_age\": 16.1, \"distance_station\": 289.3248, \"num_stores\": 5, \"latitude\": 24.98203, \"longitude\": 121.54348, \"price\": 51.7}, {\"house_age\": 31.7, \"distance_station\": 1160.632, \"num_stores\": 0, \"latitude\": 24.94968, \"longitude\": 121.53009, \"price\": 13.7}, {\"house_age\": 33.6, \"distance_station\": 371.2495, \"num_stores\": 8, \"latitude\": 24.97254, \"longitude\": 121.54059, \"price\": 41.9}, {\"house_age\": 3.5, \"distance_station\": 56.47425, \"num_stores\": 7, \"latitude\": 24.95744, \"longitude\": 121.53711, \"price\": 53.5}, {\"house_age\": 30.3, \"distance_station\": 4510.359, \"num_stores\": 1, \"latitude\": 24.94925, \"longitude\": 121.49542, \"price\": 22.6}, {\"house_age\": 13.3, \"distance_station\": 336.0532, \"num_stores\": 5, \"latitude\": 24.95776, \"longitude\": 121.53438, \"price\": 42.4}, {\"house_age\": 11.0, \"distance_station\": 1931.207, \"num_stores\": 2, \"latitude\": 24.96365, \"longitude\": 121.51471, \"price\": 21.3}, {\"house_age\": 5.3, \"distance_station\": 259.6607, \"num_stores\": 6, \"latitude\": 24.97585, \"longitude\": 121.54516, \"price\": 63.2}, {\"house_age\": 17.2, \"distance_station\": 2175.877, \"num_stores\": 3, \"latitude\": 24.96303, \"longitude\": 121.51254, \"price\": 27.7}, {\"house_age\": 2.6, \"distance_station\": 533.4762, \"num_stores\": 4, \"latitude\": 24.97445, \"longitude\": 121.54765, \"price\": 55.0}, {\"house_age\": 17.5, \"distance_station\": 995.7554, \"num_stores\": 0, \"latitude\": 24.96305, \"longitude\": 121.54915, \"price\": 25.3}, {\"house_age\": 40.1, \"distance_station\": 123.7429, \"num_stores\": 8, \"latitude\": 24.97635, \"longitude\": 121.54328999999998, \"price\": 44.3}, {\"house_age\": 1.0, \"distance_station\": 193.5845, \"num_stores\": 6, \"latitude\": 24.96571, \"longitude\": 121.54089, \"price\": 50.7}, {\"house_age\": 8.5, \"distance_station\": 104.8101, \"num_stores\": 5, \"latitude\": 24.96674, \"longitude\": 121.54067, \"price\": 56.8}, {\"house_age\": 30.4, \"distance_station\": 464.223, \"num_stores\": 6, \"latitude\": 24.97964, \"longitude\": 121.53805, \"price\": 36.2}, {\"house_age\": 12.5, \"distance_station\": 561.9845, \"num_stores\": 5, \"latitude\": 24.98746, \"longitude\": 121.54391, \"price\": 42.0}, {\"house_age\": 6.6, \"distance_station\": 90.45606, \"num_stores\": 9, \"latitude\": 24.97433, \"longitude\": 121.5431, \"price\": 59.0}, {\"house_age\": 35.5, \"distance_station\": 640.7391, \"num_stores\": 3, \"latitude\": 24.97563, \"longitude\": 121.53715, \"price\": 40.8}, {\"house_age\": 32.5, \"distance_station\": 424.5442, \"num_stores\": 8, \"latitude\": 24.97587, \"longitude\": 121.53913, \"price\": 36.3}, {\"house_age\": 13.8, \"distance_station\": 4082.015, \"num_stores\": 0, \"latitude\": 24.94155, \"longitude\": 121.50381000000002, \"price\": 20.0}, {\"house_age\": 6.8, \"distance_station\": 379.5575, \"num_stores\": 10, \"latitude\": 24.98343, \"longitude\": 121.53762, \"price\": 54.4}, {\"house_age\": 12.3, \"distance_station\": 1360.139, \"num_stores\": 1, \"latitude\": 24.95204, \"longitude\": 121.54842, \"price\": 29.5}, {\"house_age\": 35.9, \"distance_station\": 616.4004, \"num_stores\": 3, \"latitude\": 24.97723, \"longitude\": 121.53767, \"price\": 36.8}, {\"house_age\": 20.5, \"distance_station\": 2185.128, \"num_stores\": 3, \"latitude\": 24.96322, \"longitude\": 121.51237, \"price\": 25.6}, {\"house_age\": 38.2, \"distance_station\": 552.4371, \"num_stores\": 2, \"latitude\": 24.97598, \"longitude\": 121.53381, \"price\": 29.8}, {\"house_age\": 18.0, \"distance_station\": 1414.8370000000002, \"num_stores\": 1, \"latitude\": 24.95182, \"longitude\": 121.54887, \"price\": 26.5}, {\"house_age\": 11.8, \"distance_station\": 533.4762, \"num_stores\": 4, \"latitude\": 24.97445, \"longitude\": 121.54765, \"price\": 40.3}, {\"house_age\": 30.8, \"distance_station\": 377.7956, \"num_stores\": 6, \"latitude\": 24.964270000000003, \"longitude\": 121.53964, \"price\": 36.8}, {\"house_age\": 13.2, \"distance_station\": 150.9347, \"num_stores\": 7, \"latitude\": 24.96725, \"longitude\": 121.54252, \"price\": 48.1}, {\"house_age\": 25.3, \"distance_station\": 2707.3920000000003, \"num_stores\": 3, \"latitude\": 24.96056, \"longitude\": 121.50831, \"price\": 17.7}, {\"house_age\": 15.1, \"distance_station\": 383.2805, \"num_stores\": 7, \"latitude\": 24.96735, \"longitude\": 121.54464, \"price\": 43.7}, {\"house_age\": 0.0, \"distance_station\": 338.9679, \"num_stores\": 9, \"latitude\": 24.96853, \"longitude\": 121.54413, \"price\": 50.8}, {\"house_age\": 1.8, \"distance_station\": 1455.7979999999998, \"num_stores\": 1, \"latitude\": 24.9512, \"longitude\": 121.549, \"price\": 27.0}, {\"house_age\": 16.9, \"distance_station\": 4066.587, \"num_stores\": 0, \"latitude\": 24.942970000000003, \"longitude\": 121.50342, \"price\": 18.3}, {\"house_age\": 8.9, \"distance_station\": 1406.43, \"num_stores\": 0, \"latitude\": 24.98573, \"longitude\": 121.52758, \"price\": 48.0}, {\"house_age\": 23.0, \"distance_station\": 3947.945, \"num_stores\": 0, \"latitude\": 24.94783, \"longitude\": 121.50243, \"price\": 25.3}, {\"house_age\": 0.0, \"distance_station\": 274.0144, \"num_stores\": 1, \"latitude\": 24.9748, \"longitude\": 121.53059, \"price\": 45.4}, {\"house_age\": 9.1, \"distance_station\": 1402.016, \"num_stores\": 0, \"latitude\": 24.98569, \"longitude\": 121.5276, \"price\": 43.2}, {\"house_age\": 20.6, \"distance_station\": 2469.645, \"num_stores\": 4, \"latitude\": 24.96108, \"longitude\": 121.51046, \"price\": 21.8}, {\"house_age\": 31.9, \"distance_station\": 1146.329, \"num_stores\": 0, \"latitude\": 24.9492, \"longitude\": 121.53076, \"price\": 16.1}, {\"house_age\": 40.9, \"distance_station\": 167.5989, \"num_stores\": 5, \"latitude\": 24.9663, \"longitude\": 121.54026, \"price\": 41.0}, {\"house_age\": 8.0, \"distance_station\": 104.8101, \"num_stores\": 5, \"latitude\": 24.96674, \"longitude\": 121.54067, \"price\": 51.8}, {\"house_age\": 6.4, \"distance_station\": 90.45606, \"num_stores\": 9, \"latitude\": 24.97433, \"longitude\": 121.5431, \"price\": 59.5}, {\"house_age\": 28.4, \"distance_station\": 617.4424, \"num_stores\": 3, \"latitude\": 24.97746, \"longitude\": 121.53298999999998, \"price\": 34.6}, {\"house_age\": 16.4, \"distance_station\": 289.3248, \"num_stores\": 5, \"latitude\": 24.98203, \"longitude\": 121.54348, \"price\": 51.0}, {\"house_age\": 6.4, \"distance_station\": 90.45606, \"num_stores\": 9, \"latitude\": 24.97433, \"longitude\": 121.5431, \"price\": 62.2}, {\"house_age\": 17.5, \"distance_station\": 964.7496, \"num_stores\": 4, \"latitude\": 24.98872, \"longitude\": 121.53411, \"price\": 38.2}, {\"house_age\": 12.7, \"distance_station\": 170.1289, \"num_stores\": 1, \"latitude\": 24.97371, \"longitude\": 121.52984, \"price\": 32.9}, {\"house_age\": 1.1, \"distance_station\": 193.5845, \"num_stores\": 6, \"latitude\": 24.96571, \"longitude\": 121.54089, \"price\": 54.4}, {\"house_age\": 0.0, \"distance_station\": 208.3905, \"num_stores\": 6, \"latitude\": 24.95618, \"longitude\": 121.53844, \"price\": 45.7}, {\"house_age\": 32.7, \"distance_station\": 392.4459, \"num_stores\": 6, \"latitude\": 24.96398, \"longitude\": 121.5425, \"price\": 30.5}, {\"house_age\": 0.0, \"distance_station\": 292.9978, \"num_stores\": 6, \"latitude\": 24.97744, \"longitude\": 121.54458, \"price\": 71.0}, {\"house_age\": 17.2, \"distance_station\": 189.5181, \"num_stores\": 8, \"latitude\": 24.97707, \"longitude\": 121.54308, \"price\": 47.1}, {\"house_age\": 12.2, \"distance_station\": 1360.139, \"num_stores\": 1, \"latitude\": 24.95204, \"longitude\": 121.54842, \"price\": 26.6}, {\"house_age\": 31.4, \"distance_station\": 592.5006, \"num_stores\": 2, \"latitude\": 24.9726, \"longitude\": 121.53561, \"price\": 34.1}, {\"house_age\": 4.0, \"distance_station\": 2147.376, \"num_stores\": 3, \"latitude\": 24.96299, \"longitude\": 121.51284, \"price\": 28.4}, {\"house_age\": 8.1, \"distance_station\": 104.8101, \"num_stores\": 5, \"latitude\": 24.96674, \"longitude\": 121.54067, \"price\": 51.6}, {\"house_age\": 33.3, \"distance_station\": 196.6172, \"num_stores\": 7, \"latitude\": 24.97701, \"longitude\": 121.54224, \"price\": 39.4}, {\"house_age\": 9.9, \"distance_station\": 2102.427, \"num_stores\": 3, \"latitude\": 24.96044, \"longitude\": 121.51462, \"price\": 23.1}, {\"house_age\": 14.8, \"distance_station\": 393.2606, \"num_stores\": 6, \"latitude\": 24.96172, \"longitude\": 121.53812, \"price\": 7.6}, {\"house_age\": 30.6, \"distance_station\": 143.8383, \"num_stores\": 8, \"latitude\": 24.98155, \"longitude\": 121.54142, \"price\": 53.3}, {\"house_age\": 20.6, \"distance_station\": 737.9161, \"num_stores\": 2, \"latitude\": 24.98092, \"longitude\": 121.54739, \"price\": 46.4}, {\"house_age\": 30.9, \"distance_station\": 6396.283, \"num_stores\": 1, \"latitude\": 24.94375, \"longitude\": 121.47883, \"price\": 12.2}, {\"house_age\": 13.6, \"distance_station\": 4197.349, \"num_stores\": 0, \"latitude\": 24.93885, \"longitude\": 121.50383, \"price\": 13.0}, {\"house_age\": 25.3, \"distance_station\": 1583.7220000000002, \"num_stores\": 3, \"latitude\": 24.96622, \"longitude\": 121.51709, \"price\": 30.6}, {\"house_age\": 16.6, \"distance_station\": 289.3248, \"num_stores\": 5, \"latitude\": 24.98203, \"longitude\": 121.54348, \"price\": 59.6}, {\"house_age\": 13.3, \"distance_station\": 492.2313, \"num_stores\": 5, \"latitude\": 24.96515, \"longitude\": 121.53737, \"price\": 31.3}, {\"house_age\": 13.6, \"distance_station\": 492.2313, \"num_stores\": 5, \"latitude\": 24.96515, \"longitude\": 121.53737, \"price\": 48.0}, {\"house_age\": 31.5, \"distance_station\": 414.9476, \"num_stores\": 4, \"latitude\": 24.98199, \"longitude\": 121.54464, \"price\": 32.5}, {\"house_age\": 0.0, \"distance_station\": 185.4296, \"num_stores\": 0, \"latitude\": 24.9711, \"longitude\": 121.5317, \"price\": 45.5}, {\"house_age\": 9.9, \"distance_station\": 279.1726, \"num_stores\": 7, \"latitude\": 24.97528, \"longitude\": 121.54541, \"price\": 57.4}, {\"house_age\": 1.1, \"distance_station\": 193.5845, \"num_stores\": 6, \"latitude\": 24.96571, \"longitude\": 121.54089, \"price\": 48.6}, {\"house_age\": 38.6, \"distance_station\": 804.6897, \"num_stores\": 4, \"latitude\": 24.97838, \"longitude\": 121.53477, \"price\": 62.9}, {\"house_age\": 3.8, \"distance_station\": 383.8624, \"num_stores\": 5, \"latitude\": 24.98085, \"longitude\": 121.54391, \"price\": 55.0}, {\"house_age\": 41.3, \"distance_station\": 124.9912, \"num_stores\": 6, \"latitude\": 24.96674, \"longitude\": 121.54039, \"price\": 60.7}, {\"house_age\": 38.5, \"distance_station\": 216.8329, \"num_stores\": 7, \"latitude\": 24.98086, \"longitude\": 121.54162, \"price\": 41.0}, {\"house_age\": 29.6, \"distance_station\": 535.5269999999999, \"num_stores\": 8, \"latitude\": 24.98092, \"longitude\": 121.53653, \"price\": 37.5}, {\"house_age\": 4.0, \"distance_station\": 2147.376, \"num_stores\": 3, \"latitude\": 24.96299, \"longitude\": 121.51284, \"price\": 30.7}, {\"house_age\": 26.6, \"distance_station\": 482.7581, \"num_stores\": 5, \"latitude\": 24.97433, \"longitude\": 121.53863, \"price\": 37.5}, {\"house_age\": 18.0, \"distance_station\": 373.3937, \"num_stores\": 8, \"latitude\": 24.9866, \"longitude\": 121.54082, \"price\": 39.5}, {\"house_age\": 33.4, \"distance_station\": 186.9686, \"num_stores\": 6, \"latitude\": 24.96604, \"longitude\": 121.54211, \"price\": 42.2}, {\"house_age\": 18.9, \"distance_station\": 1009.235, \"num_stores\": 0, \"latitude\": 24.96357, \"longitude\": 121.54951, \"price\": 20.8}, {\"house_age\": 11.4, \"distance_station\": 390.5684, \"num_stores\": 5, \"latitude\": 24.97937, \"longitude\": 121.54245, \"price\": 46.8}, {\"house_age\": 13.6, \"distance_station\": 319.0708, \"num_stores\": 6, \"latitude\": 24.96495, \"longitude\": 121.54277, \"price\": 47.4}, {\"house_age\": 10.0, \"distance_station\": 942.4664, \"num_stores\": 0, \"latitude\": 24.97843, \"longitude\": 121.52406, \"price\": 43.5}, {\"house_age\": 12.9, \"distance_station\": 492.2313, \"num_stores\": 5, \"latitude\": 24.96515, \"longitude\": 121.53737, \"price\": 42.5}, {\"house_age\": 16.2, \"distance_station\": 289.3248, \"num_stores\": 5, \"latitude\": 24.98203, \"longitude\": 121.54348, \"price\": 51.4}, {\"house_age\": 5.1, \"distance_station\": 1559.8270000000002, \"num_stores\": 3, \"latitude\": 24.97213, \"longitude\": 121.51627, \"price\": 28.9}, {\"house_age\": 19.8, \"distance_station\": 640.6071, \"num_stores\": 5, \"latitude\": 24.97017, \"longitude\": 121.54647, \"price\": 37.5}, {\"house_age\": 13.6, \"distance_station\": 492.2313, \"num_stores\": 5, \"latitude\": 24.96515, \"longitude\": 121.53737, \"price\": 40.1}, {\"house_age\": 11.9, \"distance_station\": 1360.139, \"num_stores\": 1, \"latitude\": 24.95204, \"longitude\": 121.54842, \"price\": 28.4}, {\"house_age\": 2.1, \"distance_station\": 451.2438, \"num_stores\": 5, \"latitude\": 24.97563, \"longitude\": 121.54694, \"price\": 45.5}, {\"house_age\": 0.0, \"distance_station\": 185.4296, \"num_stores\": 0, \"latitude\": 24.9711, \"longitude\": 121.5317, \"price\": 52.2}, {\"house_age\": 3.2, \"distance_station\": 489.8821, \"num_stores\": 8, \"latitude\": 24.97017, \"longitude\": 121.54494, \"price\": 43.2}, {\"house_age\": 16.4, \"distance_station\": 3780.59, \"num_stores\": 0, \"latitude\": 24.93293, \"longitude\": 121.51203, \"price\": 45.1}, {\"house_age\": 34.9, \"distance_station\": 179.4538, \"num_stores\": 8, \"latitude\": 24.97349, \"longitude\": 121.54245, \"price\": 39.7}, {\"house_age\": 35.8, \"distance_station\": 170.7311, \"num_stores\": 7, \"latitude\": 24.96719, \"longitude\": 121.54269, \"price\": 48.5}, {\"house_age\": 4.9, \"distance_station\": 387.7721, \"num_stores\": 9, \"latitude\": 24.98118, \"longitude\": 121.53788, \"price\": 44.7}, {\"house_age\": 12.0, \"distance_station\": 1360.139, \"num_stores\": 1, \"latitude\": 24.95204, \"longitude\": 121.54842, \"price\": 28.9}, {\"house_age\": 6.5, \"distance_station\": 376.1709, \"num_stores\": 6, \"latitude\": 24.95418, \"longitude\": 121.53713, \"price\": 40.9}, {\"house_age\": 16.9, \"distance_station\": 4066.587, \"num_stores\": 0, \"latitude\": 24.942970000000003, \"longitude\": 121.50342, \"price\": 20.7}, {\"house_age\": 13.8, \"distance_station\": 4082.015, \"num_stores\": 0, \"latitude\": 24.94155, \"longitude\": 121.50381000000002, \"price\": 15.6}, {\"house_age\": 30.7, \"distance_station\": 1264.73, \"num_stores\": 0, \"latitude\": 24.94883, \"longitude\": 121.52954, \"price\": 18.3}, {\"house_age\": 16.1, \"distance_station\": 815.9314, \"num_stores\": 4, \"latitude\": 24.97886, \"longitude\": 121.53464, \"price\": 35.6}, {\"house_age\": 11.6, \"distance_station\": 390.5684, \"num_stores\": 5, \"latitude\": 24.97937, \"longitude\": 121.54245, \"price\": 39.4}, {\"house_age\": 15.5, \"distance_station\": 815.9314, \"num_stores\": 4, \"latitude\": 24.97886, \"longitude\": 121.53464, \"price\": 37.4}, {\"house_age\": 3.5, \"distance_station\": 49.66105, \"num_stores\": 8, \"latitude\": 24.95836, \"longitude\": 121.53756, \"price\": 57.8}, {\"house_age\": 19.2, \"distance_station\": 616.4004, \"num_stores\": 3, \"latitude\": 24.97723, \"longitude\": 121.53767, \"price\": 39.6}, {\"house_age\": 16.0, \"distance_station\": 4066.587, \"num_stores\": 0, \"latitude\": 24.942970000000003, \"longitude\": 121.50342, \"price\": 11.6}, {\"house_age\": 8.5, \"distance_station\": 104.8101, \"num_stores\": 5, \"latitude\": 24.96674, \"longitude\": 121.54067, \"price\": 55.5}, {\"house_age\": 0.0, \"distance_station\": 185.4296, \"num_stores\": 0, \"latitude\": 24.9711, \"longitude\": 121.5317, \"price\": 55.2}, {\"house_age\": 13.7, \"distance_station\": 1236.564, \"num_stores\": 1, \"latitude\": 24.97694, \"longitude\": 121.55391000000002, \"price\": 30.6}, {\"house_age\": 0.0, \"distance_station\": 292.9978, \"num_stores\": 6, \"latitude\": 24.97744, \"longitude\": 121.54458, \"price\": 73.6}, {\"house_age\": 28.2, \"distance_station\": 330.0854, \"num_stores\": 8, \"latitude\": 24.97408, \"longitude\": 121.54011, \"price\": 43.4}, {\"house_age\": 27.6, \"distance_station\": 515.1122, \"num_stores\": 5, \"latitude\": 24.96299, \"longitude\": 121.5432, \"price\": 37.4}, {\"house_age\": 8.4, \"distance_station\": 1962.628, \"num_stores\": 1, \"latitude\": 24.95468, \"longitude\": 121.55481, \"price\": 23.5}, {\"house_age\": 24.0, \"distance_station\": 4527.687, \"num_stores\": 0, \"latitude\": 24.94741, \"longitude\": 121.49628, \"price\": 14.4}, {\"house_age\": 3.6, \"distance_station\": 383.8624, \"num_stores\": 5, \"latitude\": 24.98085, \"longitude\": 121.54391, \"price\": 58.8}, {\"house_age\": 6.6, \"distance_station\": 90.45606, \"num_stores\": 9, \"latitude\": 24.97433, \"longitude\": 121.5431, \"price\": 58.1}, {\"house_age\": 41.3, \"distance_station\": 401.8807, \"num_stores\": 4, \"latitude\": 24.98326, \"longitude\": 121.5446, \"price\": 35.1}, {\"house_age\": 4.3, \"distance_station\": 432.0385, \"num_stores\": 7, \"latitude\": 24.9805, \"longitude\": 121.53778, \"price\": 45.2}, {\"house_age\": 30.2, \"distance_station\": 472.1745, \"num_stores\": 3, \"latitude\": 24.97005, \"longitude\": 121.53758, \"price\": 36.5}, {\"house_age\": 13.9, \"distance_station\": 4573.779, \"num_stores\": 0, \"latitude\": 24.94867, \"longitude\": 121.49507, \"price\": 19.2}, {\"house_age\": 33.0, \"distance_station\": 181.0766, \"num_stores\": 9, \"latitude\": 24.97697, \"longitude\": 121.54262, \"price\": 42.0}, {\"house_age\": 13.1, \"distance_station\": 1144.436, \"num_stores\": 4, \"latitude\": 24.99176, \"longitude\": 121.53456, \"price\": 36.7}, {\"house_age\": 14.0, \"distance_station\": 438.8513, \"num_stores\": 1, \"latitude\": 24.97493, \"longitude\": 121.5273, \"price\": 42.6}, {\"house_age\": 26.9, \"distance_station\": 4449.27, \"num_stores\": 0, \"latitude\": 24.94898, \"longitude\": 121.49621, \"price\": 15.5}, {\"house_age\": 11.6, \"distance_station\": 201.8939, \"num_stores\": 8, \"latitude\": 24.98489, \"longitude\": 121.54121, \"price\": 55.9}, {\"house_age\": 13.5, \"distance_station\": 2147.376, \"num_stores\": 3, \"latitude\": 24.96299, \"longitude\": 121.51284, \"price\": 23.6}, {\"house_age\": 17.0, \"distance_station\": 4082.015, \"num_stores\": 0, \"latitude\": 24.94155, \"longitude\": 121.50381000000002, \"price\": 18.8}, {\"house_age\": 14.1, \"distance_station\": 2615.465, \"num_stores\": 0, \"latitude\": 24.95495, \"longitude\": 121.56174, \"price\": 21.8}, {\"house_age\": 31.4, \"distance_station\": 1447.286, \"num_stores\": 3, \"latitude\": 24.97285, \"longitude\": 121.5173, \"price\": 21.5}, {\"house_age\": 20.9, \"distance_station\": 2185.128, \"num_stores\": 3, \"latitude\": 24.96322, \"longitude\": 121.51237, \"price\": 25.7}, {\"house_age\": 8.9, \"distance_station\": 3078.176, \"num_stores\": 0, \"latitude\": 24.95464, \"longitude\": 121.56627, \"price\": 22.0}, {\"house_age\": 34.8, \"distance_station\": 190.0392, \"num_stores\": 8, \"latitude\": 24.97707, \"longitude\": 121.54312, \"price\": 44.3}, {\"house_age\": 16.3, \"distance_station\": 4066.587, \"num_stores\": 0, \"latitude\": 24.942970000000003, \"longitude\": 121.50342, \"price\": 20.5}, {\"house_age\": 35.3, \"distance_station\": 616.5735, \"num_stores\": 8, \"latitude\": 24.97945, \"longitude\": 121.53642, \"price\": 42.3}, {\"house_age\": 13.2, \"distance_station\": 750.0704, \"num_stores\": 2, \"latitude\": 24.97371, \"longitude\": 121.54951, \"price\": 37.8}, {\"house_age\": 43.8, \"distance_station\": 57.58945, \"num_stores\": 7, \"latitude\": 24.9675, \"longitude\": 121.54068999999998, \"price\": 42.7}, {\"house_age\": 9.7, \"distance_station\": 421.479, \"num_stores\": 5, \"latitude\": 24.98246, \"longitude\": 121.54477, \"price\": 49.3}, {\"house_age\": 15.2, \"distance_station\": 3771.895, \"num_stores\": 0, \"latitude\": 24.93363, \"longitude\": 121.51158, \"price\": 29.3}, {\"house_age\": 15.2, \"distance_station\": 461.1016, \"num_stores\": 5, \"latitude\": 24.95425, \"longitude\": 121.5399, \"price\": 34.6}, {\"house_age\": 22.8, \"distance_station\": 707.9067, \"num_stores\": 2, \"latitude\": 24.981, \"longitude\": 121.54713, \"price\": 36.6}, {\"house_age\": 34.4, \"distance_station\": 126.7286, \"num_stores\": 8, \"latitude\": 24.96881, \"longitude\": 121.54089, \"price\": 48.2}, {\"house_age\": 34.0, \"distance_station\": 157.6052, \"num_stores\": 7, \"latitude\": 24.96628, \"longitude\": 121.54196, \"price\": 39.1}, {\"house_age\": 18.2, \"distance_station\": 451.6419, \"num_stores\": 8, \"latitude\": 24.96945, \"longitude\": 121.5449, \"price\": 31.6}, {\"house_age\": 17.4, \"distance_station\": 995.7554, \"num_stores\": 0, \"latitude\": 24.96305, \"longitude\": 121.54915, \"price\": 25.5}, {\"house_age\": 13.1, \"distance_station\": 561.9845, \"num_stores\": 5, \"latitude\": 24.98746, \"longitude\": 121.54391, \"price\": 45.9}, {\"house_age\": 38.3, \"distance_station\": 642.6985, \"num_stores\": 3, \"latitude\": 24.97559, \"longitude\": 121.53713, \"price\": 31.5}, {\"house_age\": 15.6, \"distance_station\": 289.3248, \"num_stores\": 5, \"latitude\": 24.98203, \"longitude\": 121.54348, \"price\": 46.1}, {\"house_age\": 18.0, \"distance_station\": 1414.8370000000002, \"num_stores\": 1, \"latitude\": 24.95182, \"longitude\": 121.54887, \"price\": 26.6}, {\"house_age\": 12.8, \"distance_station\": 1449.7220000000002, \"num_stores\": 3, \"latitude\": 24.97289, \"longitude\": 121.51728, \"price\": 21.4}, {\"house_age\": 22.2, \"distance_station\": 379.5575, \"num_stores\": 10, \"latitude\": 24.98343, \"longitude\": 121.53762, \"price\": 44.0}, {\"house_age\": 38.5, \"distance_station\": 665.0636, \"num_stores\": 3, \"latitude\": 24.97503, \"longitude\": 121.53692, \"price\": 34.2}, {\"house_age\": 11.5, \"distance_station\": 1360.139, \"num_stores\": 1, \"latitude\": 24.95204, \"longitude\": 121.54842, \"price\": 26.2}, {\"house_age\": 34.8, \"distance_station\": 175.6294, \"num_stores\": 8, \"latitude\": 24.97347, \"longitude\": 121.54271, \"price\": 40.9}, {\"house_age\": 5.2, \"distance_station\": 390.5684, \"num_stores\": 5, \"latitude\": 24.97937, \"longitude\": 121.54245, \"price\": 52.2}, {\"house_age\": 0.0, \"distance_station\": 274.0144, \"num_stores\": 1, \"latitude\": 24.9748, \"longitude\": 121.53059, \"price\": 43.5}, {\"house_age\": 17.6, \"distance_station\": 1805.665, \"num_stores\": 2, \"latitude\": 24.98672, \"longitude\": 121.52091, \"price\": 31.1}, {\"house_age\": 6.2, \"distance_station\": 90.45606, \"num_stores\": 9, \"latitude\": 24.97433, \"longitude\": 121.5431, \"price\": 58.0}, {\"house_age\": 18.1, \"distance_station\": 1783.18, \"num_stores\": 3, \"latitude\": 24.96731, \"longitude\": 121.51486, \"price\": 20.9}, {\"house_age\": 19.2, \"distance_station\": 383.7129, \"num_stores\": 8, \"latitude\": 24.972, \"longitude\": 121.54477, \"price\": 48.1}, {\"house_age\": 37.8, \"distance_station\": 590.9292, \"num_stores\": 1, \"latitude\": 24.97153, \"longitude\": 121.53558999999998, \"price\": 39.7}, {\"house_age\": 28.0, \"distance_station\": 372.6242, \"num_stores\": 6, \"latitude\": 24.97838, \"longitude\": 121.54119, \"price\": 40.8}, {\"house_age\": 13.6, \"distance_station\": 492.2313, \"num_stores\": 5, \"latitude\": 24.96515, \"longitude\": 121.53737, \"price\": 43.8}, {\"house_age\": 29.3, \"distance_station\": 529.7771, \"num_stores\": 8, \"latitude\": 24.98102, \"longitude\": 121.53655, \"price\": 40.2}, {\"house_age\": 37.2, \"distance_station\": 186.5101, \"num_stores\": 9, \"latitude\": 24.97703, \"longitude\": 121.54265, \"price\": 78.3}, {\"house_age\": 9.0, \"distance_station\": 1402.016, \"num_stores\": 0, \"latitude\": 24.98569, \"longitude\": 121.5276, \"price\": 38.5}, {\"house_age\": 30.6, \"distance_station\": 431.1114, \"num_stores\": 10, \"latitude\": 24.98123, \"longitude\": 121.53743, \"price\": 48.5}, {\"house_age\": 9.1, \"distance_station\": 1402.016, \"num_stores\": 0, \"latitude\": 24.98569, \"longitude\": 121.5276, \"price\": 42.3}, {\"house_age\": 34.5, \"distance_station\": 324.9419, \"num_stores\": 6, \"latitude\": 24.97814, \"longitude\": 121.5417, \"price\": 46.0}, {\"house_age\": 1.1, \"distance_station\": 193.5845, \"num_stores\": 6, \"latitude\": 24.96571, \"longitude\": 121.54089, \"price\": 49.0}, {\"house_age\": 16.5, \"distance_station\": 4082.015, \"num_stores\": 0, \"latitude\": 24.94155, \"longitude\": 121.50381000000002, \"price\": 12.8}, {\"house_age\": 32.4, \"distance_station\": 265.0609, \"num_stores\": 8, \"latitude\": 24.98059, \"longitude\": 121.53986, \"price\": 40.2}, {\"house_age\": 11.9, \"distance_station\": 3171.329, \"num_stores\": 0, \"latitude\": 25.00115, \"longitude\": 121.51776, \"price\": 46.6}, {\"house_age\": 31.0, \"distance_station\": 1156.412, \"num_stores\": 0, \"latitude\": 24.9489, \"longitude\": 121.53095, \"price\": 19.0}, {\"house_age\": 4.0, \"distance_station\": 2147.376, \"num_stores\": 3, \"latitude\": 24.96299, \"longitude\": 121.51284, \"price\": 33.4}, {\"house_age\": 16.2, \"distance_station\": 4074.736, \"num_stores\": 0, \"latitude\": 24.94235, \"longitude\": 121.50357, \"price\": 14.7}, {\"house_age\": 27.1, \"distance_station\": 4412.765, \"num_stores\": 1, \"latitude\": 24.95032, \"longitude\": 121.49587, \"price\": 17.4}, {\"house_age\": 39.7, \"distance_station\": 333.3679, \"num_stores\": 9, \"latitude\": 24.98016, \"longitude\": 121.53932, \"price\": 32.4}, {\"house_age\": 8.0, \"distance_station\": 2216.612, \"num_stores\": 4, \"latitude\": 24.96007, \"longitude\": 121.51361, \"price\": 23.9}, {\"house_age\": 12.9, \"distance_station\": 250.631, \"num_stores\": 7, \"latitude\": 24.96606, \"longitude\": 121.54297, \"price\": 39.3}, {\"house_age\": 3.6, \"distance_station\": 373.8389, \"num_stores\": 10, \"latitude\": 24.983220000000003, \"longitude\": 121.53765, \"price\": 61.9}, {\"house_age\": 13.0, \"distance_station\": 732.8528, \"num_stores\": 0, \"latitude\": 24.97668, \"longitude\": 121.52518, \"price\": 39.0}, {\"house_age\": 12.8, \"distance_station\": 732.8528, \"num_stores\": 0, \"latitude\": 24.97668, \"longitude\": 121.52518, \"price\": 40.6}, {\"house_age\": 18.1, \"distance_station\": 837.7233, \"num_stores\": 0, \"latitude\": 24.96334, \"longitude\": 121.54767, \"price\": 29.7}, {\"house_age\": 11.0, \"distance_station\": 1712.632, \"num_stores\": 2, \"latitude\": 24.96412, \"longitude\": 121.5167, \"price\": 28.8}, {\"house_age\": 13.7, \"distance_station\": 250.631, \"num_stores\": 7, \"latitude\": 24.96606, \"longitude\": 121.54297, \"price\": 41.4}, {\"house_age\": 2.0, \"distance_station\": 2077.39, \"num_stores\": 3, \"latitude\": 24.96357, \"longitude\": 121.51328999999998, \"price\": 33.4}, {\"house_age\": 32.8, \"distance_station\": 204.1705, \"num_stores\": 8, \"latitude\": 24.98236, \"longitude\": 121.53923, \"price\": 48.2}, {\"house_age\": 4.8, \"distance_station\": 1559.8270000000002, \"num_stores\": 3, \"latitude\": 24.97213, \"longitude\": 121.51627, \"price\": 21.7}, {\"house_age\": 7.5, \"distance_station\": 639.6198, \"num_stores\": 5, \"latitude\": 24.97258, \"longitude\": 121.54814, \"price\": 40.8}, {\"house_age\": 16.4, \"distance_station\": 389.8219, \"num_stores\": 6, \"latitude\": 24.96412, \"longitude\": 121.54273, \"price\": 40.6}, {\"house_age\": 21.7, \"distance_station\": 1055.067, \"num_stores\": 0, \"latitude\": 24.96211, \"longitude\": 121.54928, \"price\": 23.1}, {\"house_age\": 19.0, \"distance_station\": 1009.235, \"num_stores\": 0, \"latitude\": 24.96357, \"longitude\": 121.54951, \"price\": 22.3}, {\"house_age\": 18.0, \"distance_station\": 6306.153, \"num_stores\": 1, \"latitude\": 24.95743, \"longitude\": 121.47516, \"price\": 15.0}, {\"house_age\": 39.2, \"distance_station\": 424.7132, \"num_stores\": 7, \"latitude\": 24.97429, \"longitude\": 121.53917, \"price\": 30.0}, {\"house_age\": 31.7, \"distance_station\": 1159.454, \"num_stores\": 0, \"latitude\": 24.9496, \"longitude\": 121.53018, \"price\": 13.8}, {\"house_age\": 5.9, \"distance_station\": 90.45606, \"num_stores\": 9, \"latitude\": 24.97433, \"longitude\": 121.5431, \"price\": 52.7}, {\"house_age\": 30.4, \"distance_station\": 1735.595, \"num_stores\": 2, \"latitude\": 24.96464, \"longitude\": 121.51623, \"price\": 25.9}, {\"house_age\": 1.1, \"distance_station\": 329.9747, \"num_stores\": 5, \"latitude\": 24.98254, \"longitude\": 121.54395, \"price\": 51.8}, {\"house_age\": 31.5, \"distance_station\": 5512.0380000000005, \"num_stores\": 1, \"latitude\": 24.95095, \"longitude\": 121.48458, \"price\": 17.4}, {\"house_age\": 14.6, \"distance_station\": 339.2289, \"num_stores\": 1, \"latitude\": 24.97519, \"longitude\": 121.53151, \"price\": 26.5}, {\"house_age\": 17.3, \"distance_station\": 444.1334, \"num_stores\": 1, \"latitude\": 24.97501, \"longitude\": 121.5273, \"price\": 43.9}, {\"house_age\": 0.0, \"distance_station\": 292.9978, \"num_stores\": 6, \"latitude\": 24.97744, \"longitude\": 121.54458, \"price\": 63.3}, {\"house_age\": 17.7, \"distance_station\": 837.7233, \"num_stores\": 0, \"latitude\": 24.96334, \"longitude\": 121.54767, \"price\": 28.8}, {\"house_age\": 17.0, \"distance_station\": 1485.0970000000002, \"num_stores\": 4, \"latitude\": 24.97073, \"longitude\": 121.517, \"price\": 30.7}, {\"house_age\": 16.2, \"distance_station\": 2288.011, \"num_stores\": 3, \"latitude\": 24.95885, \"longitude\": 121.51359, \"price\": 24.4}, {\"house_age\": 15.9, \"distance_station\": 289.3248, \"num_stores\": 5, \"latitude\": 24.98203, \"longitude\": 121.54348, \"price\": 53.0}, {\"house_age\": 3.9, \"distance_station\": 2147.376, \"num_stores\": 3, \"latitude\": 24.96299, \"longitude\": 121.51284, \"price\": 31.7}, {\"house_age\": 32.6, \"distance_station\": 493.657, \"num_stores\": 7, \"latitude\": 24.96968, \"longitude\": 121.54522, \"price\": 40.6}, {\"house_age\": 15.7, \"distance_station\": 815.9314, \"num_stores\": 4, \"latitude\": 24.97886, \"longitude\": 121.53464, \"price\": 38.1}, {\"house_age\": 17.8, \"distance_station\": 1783.18, \"num_stores\": 3, \"latitude\": 24.96731, \"longitude\": 121.51486, \"price\": 23.7}, {\"house_age\": 34.7, \"distance_station\": 482.7581, \"num_stores\": 5, \"latitude\": 24.97433, \"longitude\": 121.53863, \"price\": 41.1}, {\"house_age\": 17.2, \"distance_station\": 390.5684, \"num_stores\": 5, \"latitude\": 24.97937, \"longitude\": 121.54245, \"price\": 40.1}, {\"house_age\": 17.6, \"distance_station\": 837.7233, \"num_stores\": 0, \"latitude\": 24.96334, \"longitude\": 121.54767, \"price\": 23.0}, {\"house_age\": 10.8, \"distance_station\": 252.5822, \"num_stores\": 1, \"latitude\": 24.9746, \"longitude\": 121.53046, \"price\": 117.5}, {\"house_age\": 17.7, \"distance_station\": 451.6419, \"num_stores\": 8, \"latitude\": 24.96945, \"longitude\": 121.5449, \"price\": 26.5}, {\"house_age\": 13.0, \"distance_station\": 492.2313, \"num_stores\": 5, \"latitude\": 24.96515, \"longitude\": 121.53737, \"price\": 40.5}, {\"house_age\": 13.2, \"distance_station\": 170.1289, \"num_stores\": 1, \"latitude\": 24.97371, \"longitude\": 121.52984, \"price\": 29.3}, {\"house_age\": 27.5, \"distance_station\": 394.0173, \"num_stores\": 7, \"latitude\": 24.97305, \"longitude\": 121.53994, \"price\": 41.0}, {\"house_age\": 1.5, \"distance_station\": 23.38284, \"num_stores\": 7, \"latitude\": 24.96772, \"longitude\": 121.54102, \"price\": 49.7}, {\"house_age\": 19.1, \"distance_station\": 461.1016, \"num_stores\": 5, \"latitude\": 24.95425, \"longitude\": 121.5399, \"price\": 34.0}, {\"house_age\": 21.2, \"distance_station\": 2185.128, \"num_stores\": 3, \"latitude\": 24.96322, \"longitude\": 121.51237, \"price\": 27.7}, {\"house_age\": 0.0, \"distance_station\": 208.3905, \"num_stores\": 6, \"latitude\": 24.95618, \"longitude\": 121.53844, \"price\": 44.0}, {\"house_age\": 2.6, \"distance_station\": 1554.25, \"num_stores\": 3, \"latitude\": 24.97026, \"longitude\": 121.51642, \"price\": 31.1}, {\"house_age\": 2.3, \"distance_station\": 184.3302, \"num_stores\": 6, \"latitude\": 24.96581, \"longitude\": 121.54086, \"price\": 45.4}, {\"house_age\": 4.7, \"distance_station\": 387.7721, \"num_stores\": 9, \"latitude\": 24.98118, \"longitude\": 121.53788, \"price\": 44.8}, {\"house_age\": 2.0, \"distance_station\": 1455.7979999999998, \"num_stores\": 1, \"latitude\": 24.9512, \"longitude\": 121.549, \"price\": 25.6}, {\"house_age\": 33.5, \"distance_station\": 1978.671, \"num_stores\": 2, \"latitude\": 24.98674, \"longitude\": 121.51843999999998, \"price\": 23.5}, {\"house_age\": 15.0, \"distance_station\": 383.2805, \"num_stores\": 7, \"latitude\": 24.96735, \"longitude\": 121.54464, \"price\": 34.4}, {\"house_age\": 30.1, \"distance_station\": 718.2937, \"num_stores\": 3, \"latitude\": 24.97509, \"longitude\": 121.53643999999998, \"price\": 55.3}, {\"house_age\": 5.9, \"distance_station\": 90.45606, \"num_stores\": 9, \"latitude\": 24.97433, \"longitude\": 121.5431, \"price\": 56.3}, {\"house_age\": 19.2, \"distance_station\": 461.1016, \"num_stores\": 5, \"latitude\": 24.95425, \"longitude\": 121.5399, \"price\": 32.9}, {\"house_age\": 16.6, \"distance_station\": 323.6912, \"num_stores\": 6, \"latitude\": 24.97841, \"longitude\": 121.5428, \"price\": 51.0}, {\"house_age\": 13.9, \"distance_station\": 289.3248, \"num_stores\": 5, \"latitude\": 24.98203, \"longitude\": 121.54348, \"price\": 44.5}, {\"house_age\": 37.7, \"distance_station\": 490.3446, \"num_stores\": 0, \"latitude\": 24.97217, \"longitude\": 121.53471, \"price\": 37.0}, {\"house_age\": 3.4, \"distance_station\": 56.47425, \"num_stores\": 7, \"latitude\": 24.95744, \"longitude\": 121.53711, \"price\": 54.4}, {\"house_age\": 17.5, \"distance_station\": 395.6747, \"num_stores\": 5, \"latitude\": 24.95674, \"longitude\": 121.534, \"price\": 24.5}, {\"house_age\": 12.6, \"distance_station\": 383.2805, \"num_stores\": 7, \"latitude\": 24.96735, \"longitude\": 121.54464, \"price\": 42.5}, {\"house_age\": 26.4, \"distance_station\": 335.5273, \"num_stores\": 6, \"latitude\": 24.9796, \"longitude\": 121.5414, \"price\": 38.1}, {\"house_age\": 18.2, \"distance_station\": 2179.59, \"num_stores\": 3, \"latitude\": 24.96299, \"longitude\": 121.51252, \"price\": 21.8}, {\"house_age\": 12.5, \"distance_station\": 1144.436, \"num_stores\": 4, \"latitude\": 24.99176, \"longitude\": 121.53456, \"price\": 34.1}, {\"house_age\": 34.9, \"distance_station\": 567.0349, \"num_stores\": 4, \"latitude\": 24.97003, \"longitude\": 121.5458, \"price\": 28.5}, {\"house_age\": 16.7, \"distance_station\": 4082.015, \"num_stores\": 0, \"latitude\": 24.94155, \"longitude\": 121.50381000000002, \"price\": 16.7}, {\"house_age\": 33.2, \"distance_station\": 121.7262, \"num_stores\": 10, \"latitude\": 24.98178, \"longitude\": 121.54059, \"price\": 46.1}, {\"house_age\": 2.5, \"distance_station\": 156.2442, \"num_stores\": 4, \"latitude\": 24.96696, \"longitude\": 121.53992, \"price\": 36.9}, {\"house_age\": 38.0, \"distance_station\": 461.7848, \"num_stores\": 0, \"latitude\": 24.97229, \"longitude\": 121.53445, \"price\": 35.7}, {\"house_age\": 16.5, \"distance_station\": 2288.011, \"num_stores\": 3, \"latitude\": 24.95885, \"longitude\": 121.51359, \"price\": 23.2}, {\"house_age\": 38.3, \"distance_station\": 439.7105, \"num_stores\": 0, \"latitude\": 24.97161, \"longitude\": 121.53423, \"price\": 38.4}, {\"house_age\": 20.0, \"distance_station\": 1626.083, \"num_stores\": 3, \"latitude\": 24.96622, \"longitude\": 121.51668, \"price\": 29.4}, {\"house_age\": 16.2, \"distance_station\": 289.3248, \"num_stores\": 5, \"latitude\": 24.98203, \"longitude\": 121.54348, \"price\": 55.0}, {\"house_age\": 14.4, \"distance_station\": 169.9803, \"num_stores\": 1, \"latitude\": 24.97369, \"longitude\": 121.52979, \"price\": 50.2}, {\"house_age\": 10.3, \"distance_station\": 3079.89, \"num_stores\": 0, \"latitude\": 24.9546, \"longitude\": 121.56627, \"price\": 24.7}, {\"house_age\": 16.4, \"distance_station\": 289.3248, \"num_stores\": 5, \"latitude\": 24.98203, \"longitude\": 121.54348, \"price\": 53.0}, {\"house_age\": 30.3, \"distance_station\": 1264.73, \"num_stores\": 0, \"latitude\": 24.94883, \"longitude\": 121.52954, \"price\": 19.1}, {\"house_age\": 16.4, \"distance_station\": 1643.499, \"num_stores\": 2, \"latitude\": 24.95394, \"longitude\": 121.55174, \"price\": 24.7}, {\"house_age\": 21.3, \"distance_station\": 537.7971, \"num_stores\": 4, \"latitude\": 24.97425, \"longitude\": 121.53813999999998, \"price\": 42.2}, {\"house_age\": 35.4, \"distance_station\": 318.5292, \"num_stores\": 9, \"latitude\": 24.97071, \"longitude\": 121.54068999999998, \"price\": 78.0}, {\"house_age\": 8.3, \"distance_station\": 104.8101, \"num_stores\": 5, \"latitude\": 24.96674, \"longitude\": 121.54067, \"price\": 42.8}, {\"house_age\": 3.7, \"distance_station\": 577.9615, \"num_stores\": 6, \"latitude\": 24.97201, \"longitude\": 121.54722, \"price\": 41.6}, {\"house_age\": 15.6, \"distance_station\": 1756.411, \"num_stores\": 2, \"latitude\": 24.9832, \"longitude\": 121.51812, \"price\": 27.3}, {\"house_age\": 13.3, \"distance_station\": 250.631, \"num_stores\": 7, \"latitude\": 24.96606, \"longitude\": 121.54297, \"price\": 42.0}, {\"house_age\": 15.6, \"distance_station\": 752.7669, \"num_stores\": 2, \"latitude\": 24.97795, \"longitude\": 121.53451, \"price\": 37.5}, {\"house_age\": 7.1, \"distance_station\": 379.5575, \"num_stores\": 10, \"latitude\": 24.98343, \"longitude\": 121.53762, \"price\": 49.8}, {\"house_age\": 34.6, \"distance_station\": 272.6783, \"num_stores\": 5, \"latitude\": 24.95562, \"longitude\": 121.53872, \"price\": 26.9}, {\"house_age\": 13.5, \"distance_station\": 4197.349, \"num_stores\": 0, \"latitude\": 24.93885, \"longitude\": 121.50383, \"price\": 18.6}, {\"house_age\": 16.9, \"distance_station\": 964.7496, \"num_stores\": 4, \"latitude\": 24.98872, \"longitude\": 121.53411, \"price\": 37.7}, {\"house_age\": 12.9, \"distance_station\": 187.4823, \"num_stores\": 1, \"latitude\": 24.97388, \"longitude\": 121.52981, \"price\": 33.1}, {\"house_age\": 28.6, \"distance_station\": 197.1338, \"num_stores\": 6, \"latitude\": 24.97631, \"longitude\": 121.54436, \"price\": 42.5}, {\"house_age\": 12.4, \"distance_station\": 1712.632, \"num_stores\": 2, \"latitude\": 24.96412, \"longitude\": 121.5167, \"price\": 31.3}, {\"house_age\": 36.6, \"distance_station\": 488.8193, \"num_stores\": 8, \"latitude\": 24.97015, \"longitude\": 121.54494, \"price\": 38.1}, {\"house_age\": 4.1, \"distance_station\": 56.47425, \"num_stores\": 7, \"latitude\": 24.95744, \"longitude\": 121.53711, \"price\": 62.1}, {\"house_age\": 3.5, \"distance_station\": 757.3377, \"num_stores\": 3, \"latitude\": 24.97538, \"longitude\": 121.54971, \"price\": 36.7}, {\"house_age\": 15.9, \"distance_station\": 1497.713, \"num_stores\": 3, \"latitude\": 24.97003, \"longitude\": 121.51696, \"price\": 23.6}, {\"house_age\": 13.6, \"distance_station\": 4197.349, \"num_stores\": 0, \"latitude\": 24.93885, \"longitude\": 121.50383, \"price\": 19.2}, {\"house_age\": 32.0, \"distance_station\": 1156.777, \"num_stores\": 0, \"latitude\": 24.94935, \"longitude\": 121.53046, \"price\": 12.8}, {\"house_age\": 25.6, \"distance_station\": 4519.69, \"num_stores\": 0, \"latitude\": 24.94826, \"longitude\": 121.49587, \"price\": 15.6}, {\"house_age\": 39.8, \"distance_station\": 617.7134, \"num_stores\": 2, \"latitude\": 24.97577, \"longitude\": 121.53475, \"price\": 39.6}, {\"house_age\": 7.8, \"distance_station\": 104.8101, \"num_stores\": 5, \"latitude\": 24.96674, \"longitude\": 121.54067, \"price\": 38.4}, {\"house_age\": 30.0, \"distance_station\": 1013.341, \"num_stores\": 5, \"latitude\": 24.99006, \"longitude\": 121.5346, \"price\": 22.8}, {\"house_age\": 27.3, \"distance_station\": 337.6016, \"num_stores\": 6, \"latitude\": 24.96431, \"longitude\": 121.54063, \"price\": 36.5}, {\"house_age\": 5.1, \"distance_station\": 1867.233, \"num_stores\": 2, \"latitude\": 24.984070000000003, \"longitude\": 121.51748, \"price\": 35.6}, {\"house_age\": 31.3, \"distance_station\": 600.8604, \"num_stores\": 5, \"latitude\": 24.96871, \"longitude\": 121.54651, \"price\": 30.9}, {\"house_age\": 31.5, \"distance_station\": 258.186, \"num_stores\": 9, \"latitude\": 24.96867, \"longitude\": 121.54331, \"price\": 36.3}, {\"house_age\": 1.7, \"distance_station\": 329.9747, \"num_stores\": 5, \"latitude\": 24.98254, \"longitude\": 121.54395, \"price\": 50.4}, {\"house_age\": 33.6, \"distance_station\": 270.8895, \"num_stores\": 0, \"latitude\": 24.97281, \"longitude\": 121.53265, \"price\": 42.9}, {\"house_age\": 13.0, \"distance_station\": 750.0704, \"num_stores\": 2, \"latitude\": 24.97371, \"longitude\": 121.54951, \"price\": 37.0}, {\"house_age\": 5.7, \"distance_station\": 90.45606, \"num_stores\": 9, \"latitude\": 24.97433, \"longitude\": 121.5431, \"price\": 53.5}, {\"house_age\": 33.5, \"distance_station\": 563.2854, \"num_stores\": 8, \"latitude\": 24.98223, \"longitude\": 121.53597, \"price\": 46.6}, {\"house_age\": 34.6, \"distance_station\": 3085.17, \"num_stores\": 0, \"latitude\": 24.998, \"longitude\": 121.5155, \"price\": 41.2}, {\"house_age\": 0.0, \"distance_station\": 185.4296, \"num_stores\": 0, \"latitude\": 24.9711, \"longitude\": 121.5317, \"price\": 37.9}, {\"house_age\": 13.2, \"distance_station\": 1712.632, \"num_stores\": 2, \"latitude\": 24.96412, \"longitude\": 121.5167, \"price\": 30.8}, {\"house_age\": 17.4, \"distance_station\": 6488.021, \"num_stores\": 1, \"latitude\": 24.95719, \"longitude\": 121.47353, \"price\": 11.2}, {\"house_age\": 4.6, \"distance_station\": 259.6607, \"num_stores\": 6, \"latitude\": 24.97585, \"longitude\": 121.54516, \"price\": 53.7}, {\"house_age\": 7.8, \"distance_station\": 104.8101, \"num_stores\": 5, \"latitude\": 24.96674, \"longitude\": 121.54067, \"price\": 47.0}, {\"house_age\": 13.2, \"distance_station\": 492.2313, \"num_stores\": 5, \"latitude\": 24.96515, \"longitude\": 121.53737, \"price\": 42.3}, {\"house_age\": 4.0, \"distance_station\": 2180.245, \"num_stores\": 3, \"latitude\": 24.96324, \"longitude\": 121.51241, \"price\": 28.6}, {\"house_age\": 18.4, \"distance_station\": 2674.961, \"num_stores\": 3, \"latitude\": 24.96143, \"longitude\": 121.50827, \"price\": 25.7}, {\"house_age\": 4.1, \"distance_station\": 2147.376, \"num_stores\": 3, \"latitude\": 24.96299, \"longitude\": 121.51284, \"price\": 31.3}, {\"house_age\": 12.2, \"distance_station\": 1360.139, \"num_stores\": 1, \"latitude\": 24.95204, \"longitude\": 121.54842, \"price\": 30.1}, {\"house_age\": 3.8, \"distance_station\": 383.8624, \"num_stores\": 5, \"latitude\": 24.98085, \"longitude\": 121.54391, \"price\": 60.7}, {\"house_age\": 10.3, \"distance_station\": 211.4473, \"num_stores\": 1, \"latitude\": 24.97417, \"longitude\": 121.52998999999998, \"price\": 45.3}, {\"house_age\": 0.0, \"distance_station\": 338.9679, \"num_stores\": 9, \"latitude\": 24.96853, \"longitude\": 121.54413, \"price\": 44.9}, {\"house_age\": 1.1, \"distance_station\": 193.5845, \"num_stores\": 6, \"latitude\": 24.96571, \"longitude\": 121.54089, \"price\": 45.1}, {\"house_age\": 5.6, \"distance_station\": 2408.993, \"num_stores\": 0, \"latitude\": 24.95505, \"longitude\": 121.55964, \"price\": 24.7}, {\"house_age\": 32.9, \"distance_station\": 87.30221999999999, \"num_stores\": 10, \"latitude\": 24.983, \"longitude\": 121.54022, \"price\": 47.1}, {\"house_age\": 41.4, \"distance_station\": 281.205, \"num_stores\": 8, \"latitude\": 24.97345, \"longitude\": 121.54093, \"price\": 63.3}, {\"house_age\": 17.1, \"distance_station\": 967.4, \"num_stores\": 4, \"latitude\": 24.98872, \"longitude\": 121.53408, \"price\": 40.0}, {\"house_age\": 32.3, \"distance_station\": 109.9455, \"num_stores\": 10, \"latitude\": 24.981820000000003, \"longitude\": 121.54086, \"price\": 48.0}, {\"house_age\": 35.3, \"distance_station\": 614.1394, \"num_stores\": 7, \"latitude\": 24.97913, \"longitude\": 121.53666, \"price\": 33.1}, {\"house_age\": 17.3, \"distance_station\": 2261.432, \"num_stores\": 4, \"latitude\": 24.96182, \"longitude\": 121.51222, \"price\": 29.5}, {\"house_age\": 14.2, \"distance_station\": 1801.544, \"num_stores\": 1, \"latitude\": 24.95153, \"longitude\": 121.55254, \"price\": 24.8}, {\"house_age\": 15.0, \"distance_station\": 1828.319, \"num_stores\": 2, \"latitude\": 24.96464, \"longitude\": 121.51531, \"price\": 20.9}, {\"house_age\": 18.2, \"distance_station\": 350.8515, \"num_stores\": 1, \"latitude\": 24.97544, \"longitude\": 121.53119, \"price\": 43.1}, {\"house_age\": 20.2, \"distance_station\": 2185.128, \"num_stores\": 3, \"latitude\": 24.96322, \"longitude\": 121.51237, \"price\": 22.8}, {\"house_age\": 15.9, \"distance_station\": 289.3248, \"num_stores\": 5, \"latitude\": 24.98203, \"longitude\": 121.54348, \"price\": 42.1}, {\"house_age\": 4.1, \"distance_station\": 312.8963, \"num_stores\": 5, \"latitude\": 24.95591, \"longitude\": 121.53956, \"price\": 51.7}, {\"house_age\": 33.9, \"distance_station\": 157.6052, \"num_stores\": 7, \"latitude\": 24.96628, \"longitude\": 121.54196, \"price\": 41.5}, {\"house_age\": 0.0, \"distance_station\": 274.0144, \"num_stores\": 1, \"latitude\": 24.9748, \"longitude\": 121.53059, \"price\": 52.2}, {\"house_age\": 5.4, \"distance_station\": 390.5684, \"num_stores\": 5, \"latitude\": 24.97937, \"longitude\": 121.54245, \"price\": 49.5}, {\"house_age\": 21.7, \"distance_station\": 1157.988, \"num_stores\": 0, \"latitude\": 24.96165, \"longitude\": 121.55011, \"price\": 23.8}, {\"house_age\": 14.7, \"distance_station\": 1717.193, \"num_stores\": 2, \"latitude\": 24.96447, \"longitude\": 121.51649, \"price\": 30.5}, {\"house_age\": 3.9, \"distance_station\": 49.66105, \"num_stores\": 8, \"latitude\": 24.95836, \"longitude\": 121.53756, \"price\": 56.8}, {\"house_age\": 37.3, \"distance_station\": 587.8877, \"num_stores\": 8, \"latitude\": 24.97077, \"longitude\": 121.54634, \"price\": 37.4}, {\"house_age\": 0.0, \"distance_station\": 292.9978, \"num_stores\": 6, \"latitude\": 24.97744, \"longitude\": 121.54458, \"price\": 69.7}, {\"house_age\": 14.1, \"distance_station\": 289.3248, \"num_stores\": 5, \"latitude\": 24.98203, \"longitude\": 121.54348, \"price\": 53.3}, {\"house_age\": 8.0, \"distance_station\": 132.5469, \"num_stores\": 9, \"latitude\": 24.98298, \"longitude\": 121.53981, \"price\": 47.3}, {\"house_age\": 16.3, \"distance_station\": 3529.5640000000003, \"num_stores\": 0, \"latitude\": 24.93207, \"longitude\": 121.51597, \"price\": 29.3}, {\"house_age\": 29.1, \"distance_station\": 506.1144, \"num_stores\": 4, \"latitude\": 24.97845, \"longitude\": 121.53889, \"price\": 40.3}, {\"house_age\": 16.1, \"distance_station\": 4066.587, \"num_stores\": 0, \"latitude\": 24.942970000000003, \"longitude\": 121.50342, \"price\": 12.9}, {\"house_age\": 18.3, \"distance_station\": 82.88643, \"num_stores\": 10, \"latitude\": 24.983, \"longitude\": 121.54026, \"price\": 46.6}, {\"house_age\": 0.0, \"distance_station\": 185.4296, \"num_stores\": 0, \"latitude\": 24.9711, \"longitude\": 121.5317, \"price\": 55.3}, {\"house_age\": 16.2, \"distance_station\": 2103.555, \"num_stores\": 3, \"latitude\": 24.960420000000003, \"longitude\": 121.51462, \"price\": 25.6}, {\"house_age\": 10.4, \"distance_station\": 2251.938, \"num_stores\": 4, \"latitude\": 24.959570000000003, \"longitude\": 121.51353, \"price\": 27.3}, {\"house_age\": 40.9, \"distance_station\": 122.3619, \"num_stores\": 8, \"latitude\": 24.96756, \"longitude\": 121.5423, \"price\": 67.7}, {\"house_age\": 32.8, \"distance_station\": 377.8302, \"num_stores\": 9, \"latitude\": 24.97151, \"longitude\": 121.5435, \"price\": 38.6}, {\"house_age\": 6.2, \"distance_station\": 1939.749, \"num_stores\": 1, \"latitude\": 24.95155, \"longitude\": 121.55387, \"price\": 31.3}, {\"house_age\": 42.7, \"distance_station\": 443.802, \"num_stores\": 6, \"latitude\": 24.97927, \"longitude\": 121.53874, \"price\": 35.3}, {\"house_age\": 16.9, \"distance_station\": 967.4, \"num_stores\": 4, \"latitude\": 24.98872, \"longitude\": 121.53408, \"price\": 40.3}, {\"house_age\": 32.6, \"distance_station\": 4136.271, \"num_stores\": 1, \"latitude\": 24.95544, \"longitude\": 121.4963, \"price\": 24.7}, {\"house_age\": 21.2, \"distance_station\": 512.5487, \"num_stores\": 4, \"latitude\": 24.974, \"longitude\": 121.53842, \"price\": 42.5}, {\"house_age\": 37.1, \"distance_station\": 918.6357, \"num_stores\": 1, \"latitude\": 24.97198, \"longitude\": 121.55063, \"price\": 31.9}, {\"house_age\": 13.1, \"distance_station\": 1164.838, \"num_stores\": 4, \"latitude\": 24.99156, \"longitude\": 121.53406, \"price\": 32.2}, {\"house_age\": 14.7, \"distance_station\": 1717.193, \"num_stores\": 2, \"latitude\": 24.96447, \"longitude\": 121.51649, \"price\": 23.0}, {\"house_age\": 12.7, \"distance_station\": 170.1289, \"num_stores\": 1, \"latitude\": 24.97371, \"longitude\": 121.52984, \"price\": 37.3}, {\"house_age\": 26.8, \"distance_station\": 482.7581, \"num_stores\": 5, \"latitude\": 24.97433, \"longitude\": 121.53863, \"price\": 35.5}, {\"house_age\": 7.6, \"distance_station\": 2175.03, \"num_stores\": 3, \"latitude\": 24.96305, \"longitude\": 121.51254, \"price\": 27.7}, {\"house_age\": 12.7, \"distance_station\": 187.4823, \"num_stores\": 1, \"latitude\": 24.97388, \"longitude\": 121.52981, \"price\": 28.5}, {\"house_age\": 30.9, \"distance_station\": 161.942, \"num_stores\": 9, \"latitude\": 24.98353, \"longitude\": 121.53966, \"price\": 39.7}, {\"house_age\": 16.4, \"distance_station\": 289.3248, \"num_stores\": 5, \"latitude\": 24.98203, \"longitude\": 121.54348, \"price\": 41.2}, {\"house_age\": 23.0, \"distance_station\": 130.9945, \"num_stores\": 6, \"latitude\": 24.95663, \"longitude\": 121.53765, \"price\": 37.2}, {\"house_age\": 1.9, \"distance_station\": 372.1386, \"num_stores\": 7, \"latitude\": 24.97293, \"longitude\": 121.54026, \"price\": 40.5}, {\"house_age\": 5.2, \"distance_station\": 2408.993, \"num_stores\": 0, \"latitude\": 24.95505, \"longitude\": 121.55964, \"price\": 22.3}, {\"house_age\": 18.5, \"distance_station\": 2175.744, \"num_stores\": 3, \"latitude\": 24.9633, \"longitude\": 121.51243, \"price\": 28.1}, {\"house_age\": 13.7, \"distance_station\": 4082.015, \"num_stores\": 0, \"latitude\": 24.94155, \"longitude\": 121.50381000000002, \"price\": 15.4}, {\"house_age\": 5.6, \"distance_station\": 90.45606, \"num_stores\": 9, \"latitude\": 24.97433, \"longitude\": 121.5431, \"price\": 50.0}, {\"house_age\": 18.8, \"distance_station\": 390.9696, \"num_stores\": 7, \"latitude\": 24.97923, \"longitude\": 121.53986, \"price\": 40.6}, {\"house_age\": 8.1, \"distance_station\": 104.8101, \"num_stores\": 5, \"latitude\": 24.96674, \"longitude\": 121.54067, \"price\": 52.5}, {\"house_age\": 6.5, \"distance_station\": 90.45606, \"num_stores\": 9, \"latitude\": 24.97433, \"longitude\": 121.5431, \"price\": 63.9}]}}, {\"mode\": \"vega-lite\"});\n",
       "</script>"
      ],
      "text/plain": [
       "alt.Chart(...)"
      ]
     },
     "execution_count": 116,
     "metadata": {},
     "output_type": "execute_result"
    }
   ],
   "source": [
    "housing_plot = alt.Chart(housing_df, width=500, height=300).mark_circle(\n",
    "    opacity=0.7).encode(\n",
    "    alt.X('price:Q'),\n",
    "    alt.Y('distance_station:Q'))\n",
    "housing_plot"
   ]
  },
  {
   "cell_type": "markdown",
   "metadata": {},
   "source": [
    "Looking at the graph, do you think that the feature `distance_station` will help in the prediction of housing prices if we were to use models that are not baseline? \n",
    "\n",
    "A) Yes, since there seems to be a positive relationship between `price` and `distance_station`. \n",
    "\n",
    "B) Yes, since there seems to be a negative relationship between `price` and `distance_station`. \n",
    "\n",
    "C) No, since there doesn't seem to be a relationship between the feature and the target. \n",
    "\n",
    "D) No, since there seems to be a negative relationship between the feature `distance_station` and the target `price`\n",
    "\n",
    "*Answer in the cell below using the uppercase letter associated with your answer. Place your answer between `\"\"`, assign the correct answer to an object called `answer5_5`.*\n"
   ]
  },
  {
   "cell_type": "code",
   "execution_count": 117,
   "metadata": {
    "deletable": false,
    "nbgrader": {
     "cell_type": "code",
     "checksum": "948d3a7b4fca9dc91540a6b2d7b3c5ce",
     "grade": false,
     "grade_id": "cell-6ceb24e39843684e",
     "locked": false,
     "schema_version": 3,
     "solution": true,
     "task": false
    }
   },
   "outputs": [],
   "source": [
    "answer5_5 = 'B'"
   ]
  },
  {
   "cell_type": "code",
   "execution_count": 118,
   "metadata": {
    "deletable": false,
    "editable": false,
    "nbgrader": {
     "cell_type": "code",
     "checksum": "96bc0182146b1877fb7c69e83fea18ba",
     "grade": true,
     "grade_id": "cell-72fcb753a28473cc",
     "locked": true,
     "points": 1,
     "schema_version": 3,
     "solution": false,
     "task": false
    }
   },
   "outputs": [
    {
     "data": {
      "text/plain": [
       "'Success'"
      ]
     },
     "execution_count": 118,
     "metadata": {},
     "output_type": "execute_result"
    }
   ],
   "source": [
    "t.test_5_5(answer5_5)"
   ]
  },
  {
   "cell_type": "markdown",
   "metadata": {},
   "source": [
    "## Before Submitting \n",
    "\n",
    "Before submitting your assignment please do the following:\n",
    "\n",
    "- Read through your solutions\n",
    "- **Restart your kernel and clear output and rerun your cells from top to bottom** \n",
    "- Makes sure that none of your code is broken \n",
    "- Verify that the tests from the questions you answered have obtained the output \"Success\"\n",
    "\n",
    "This is a simple way to make sure that you are submitting all the variables needed to mark the assignment. This method should help avoid losing marks due to changes in your environment.  "
   ]
  },
  {
   "cell_type": "markdown",
   "metadata": {},
   "source": [
    "## Attributions\n",
    "- Fertitily Diagnosis Dataset: - [The UCI Machine Learning Repository](https://archive.ics.uci.edu/ml/datasets/Fertility)\n",
    "\n",
    "*David Gil, Jose Luis Girela, Joaquin De Juan, M. Jose Gomez-Torres, and\n",
    "Magnus Johnsson. Predicting seminal quality with artificial intelligence\n",
    "methods. Expert Systems with Applications, 39(16):12564 â€“ 12573, 2012*\n",
    "\n",
    "- Real Estate Dataset - [The UCI Machine Learning Repository](https://archive.ics.uci.edu/ml/datasets/Real+estate+valuation+data+set)\n",
    "\n",
    "*Yeh, I. C., & Hsu, T. K. (2018). Building real estate valuation models with comparative approach through case-based reasoning. Applied Soft Computing, 65, 260-271.*\n",
    "\n",
    "\n",
    "- MDS DSCI 571 - Supervised Learning I - [MDS's GitHub website](https://github.com/UBC-MDS/DSCI_571_sup-learn-1) \n"
   ]
  }
 ],
 "metadata": {
  "kernelspec": {
   "display_name": "Python 3",
   "language": "python",
   "name": "python3"
  },
  "language_info": {
   "codemirror_mode": {
    "name": "ipython",
    "version": 3
   },
   "file_extension": ".py",
   "mimetype": "text/x-python",
   "name": "python",
   "nbconvert_exporter": "python",
   "pygments_lexer": "ipython3",
   "version": "3.8.5"
  }
 },
 "nbformat": 4,
 "nbformat_minor": 4
}
