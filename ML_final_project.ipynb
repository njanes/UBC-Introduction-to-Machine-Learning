{
 "cells": [
  {
   "cell_type": "markdown",
   "metadata": {},
   "source": [
    "# A Supervised Machine Learning Model for Classification of Canadian Cheeses"
   ]
  },
  {
   "cell_type": "markdown",
   "metadata": {},
   "source": [
    "# Introduction\n",
    "\n",
    "## Objective\n",
    "\n",
    "The goal of this project is to develop a supervised machine learning model to predict whether a cheese is lower-fat or higher-fat, given data on the cheese's milk type and moisture content. As the objective is to predict a binary categorical variable, this is a problem of classification rather than regression. \n",
    "\n",
    "The expected outcome is that the model can accurately classify cheeses as lower-fat or higher-fat based on the two aforementioned variables, which would be of value to cheese producers, distributors, and retailers in labeling cheeses correctly. This would allow for more efficient development of marketing strategies and better catering to consumer preferences and dietary needs."
   ]
  },
  {
   "cell_type": "markdown",
   "metadata": {},
   "source": [
    "# Exploratory Data Analysis\n",
    "\n",
    "## Reading and Splitting Data\n",
    "To begin, I import the required libraries, then I read the data from a .csv file and print the first 5 rows of the data frame."
   ]
  },
  {
   "cell_type": "code",
   "execution_count": 1,
   "metadata": {},
   "outputs": [],
   "source": [
    "# import necesesary libraries\n",
    "import pandas as pd\n",
    "import altair as alt\n",
    "from sklearn.model_selection import train_test_split, cross_validate, GridSearchCV, RandomizedSearchCV\n",
    "from sklearn.dummy import DummyClassifier\n",
    "from sklearn.pipeline import make_pipeline\n",
    "from sklearn.impute import SimpleImputer\n",
    "from sklearn.ensemble import RandomForestClassifier\n",
    "from sklearn.neighbors import KNeighborsClassifier\n",
    "from sklearn.linear_model import Ridge, LogisticRegression\n",
    "from sklearn.compose import make_column_transformer\n",
    "from sklearn.svm import SVC\n",
    "from sklearn.metrics import plot_confusion_matrix, classification_report, f1_score\n",
    "from sklearn.preprocessing import OneHotEncoder, StandardScaler"
   ]
  },
  {
   "cell_type": "code",
   "execution_count": 2,
   "metadata": {},
   "outputs": [
    {
     "data": {
      "text/html": [
       "<div>\n",
       "<style scoped>\n",
       "    .dataframe tbody tr th:only-of-type {\n",
       "        vertical-align: middle;\n",
       "    }\n",
       "\n",
       "    .dataframe tbody tr th {\n",
       "        vertical-align: top;\n",
       "    }\n",
       "\n",
       "    .dataframe thead th {\n",
       "        text-align: right;\n",
       "    }\n",
       "</style>\n",
       "<table border=\"1\" class=\"dataframe\">\n",
       "  <thead>\n",
       "    <tr style=\"text-align: right;\">\n",
       "      <th></th>\n",
       "      <th>CheeseId</th>\n",
       "      <th>ManufacturerProvCode</th>\n",
       "      <th>ManufacturingTypeEn</th>\n",
       "      <th>MoisturePercent</th>\n",
       "      <th>FlavourEn</th>\n",
       "      <th>CharacteristicsEn</th>\n",
       "      <th>Organic</th>\n",
       "      <th>CategoryTypeEn</th>\n",
       "      <th>MilkTypeEn</th>\n",
       "      <th>MilkTreatmentTypeEn</th>\n",
       "      <th>RindTypeEn</th>\n",
       "      <th>CheeseName</th>\n",
       "      <th>FatLevel</th>\n",
       "    </tr>\n",
       "  </thead>\n",
       "  <tbody>\n",
       "    <tr>\n",
       "      <th>0</th>\n",
       "      <td>228</td>\n",
       "      <td>NB</td>\n",
       "      <td>Farmstead</td>\n",
       "      <td>47.0</td>\n",
       "      <td>Sharp, lactic</td>\n",
       "      <td>Uncooked</td>\n",
       "      <td>0</td>\n",
       "      <td>Firm Cheese</td>\n",
       "      <td>Ewe</td>\n",
       "      <td>Raw Milk</td>\n",
       "      <td>Washed Rind</td>\n",
       "      <td>Sieur de Duplessis (Le)</td>\n",
       "      <td>lower fat</td>\n",
       "    </tr>\n",
       "    <tr>\n",
       "      <th>1</th>\n",
       "      <td>242</td>\n",
       "      <td>NB</td>\n",
       "      <td>Farmstead</td>\n",
       "      <td>47.9</td>\n",
       "      <td>Sharp, lactic, lightly caramelized</td>\n",
       "      <td>Uncooked</td>\n",
       "      <td>0</td>\n",
       "      <td>Semi-soft Cheese</td>\n",
       "      <td>Cow</td>\n",
       "      <td>Raw Milk</td>\n",
       "      <td>Washed Rind</td>\n",
       "      <td>Tomme Le Champ Doré</td>\n",
       "      <td>lower fat</td>\n",
       "    </tr>\n",
       "    <tr>\n",
       "      <th>2</th>\n",
       "      <td>301</td>\n",
       "      <td>ON</td>\n",
       "      <td>Industrial</td>\n",
       "      <td>54.0</td>\n",
       "      <td>Mild, tangy, and fruity</td>\n",
       "      <td>Pressed and cooked cheese, pasta filata, inter...</td>\n",
       "      <td>0</td>\n",
       "      <td>Firm Cheese</td>\n",
       "      <td>Cow</td>\n",
       "      <td>Pasteurized</td>\n",
       "      <td>NaN</td>\n",
       "      <td>Provolone Sette Fette (Tre-Stelle)</td>\n",
       "      <td>lower fat</td>\n",
       "    </tr>\n",
       "    <tr>\n",
       "      <th>3</th>\n",
       "      <td>303</td>\n",
       "      <td>NB</td>\n",
       "      <td>Farmstead</td>\n",
       "      <td>47.0</td>\n",
       "      <td>Sharp with fruity notes and a hint of wild honey</td>\n",
       "      <td>NaN</td>\n",
       "      <td>0</td>\n",
       "      <td>Veined Cheeses</td>\n",
       "      <td>Cow</td>\n",
       "      <td>Raw Milk</td>\n",
       "      <td>NaN</td>\n",
       "      <td>Geai Bleu (Le)</td>\n",
       "      <td>lower fat</td>\n",
       "    </tr>\n",
       "    <tr>\n",
       "      <th>4</th>\n",
       "      <td>319</td>\n",
       "      <td>NB</td>\n",
       "      <td>Farmstead</td>\n",
       "      <td>49.4</td>\n",
       "      <td>Softer taste</td>\n",
       "      <td>NaN</td>\n",
       "      <td>1</td>\n",
       "      <td>Semi-soft Cheese</td>\n",
       "      <td>Cow</td>\n",
       "      <td>Raw Milk</td>\n",
       "      <td>Washed Rind</td>\n",
       "      <td>Gamin (Le)</td>\n",
       "      <td>lower fat</td>\n",
       "    </tr>\n",
       "  </tbody>\n",
       "</table>\n",
       "</div>"
      ],
      "text/plain": [
       "   CheeseId ManufacturerProvCode ManufacturingTypeEn  MoisturePercent  \\\n",
       "0       228                   NB           Farmstead             47.0   \n",
       "1       242                   NB           Farmstead             47.9   \n",
       "2       301                   ON          Industrial             54.0   \n",
       "3       303                   NB           Farmstead             47.0   \n",
       "4       319                   NB           Farmstead             49.4   \n",
       "\n",
       "                                          FlavourEn  \\\n",
       "0                                     Sharp, lactic   \n",
       "1                Sharp, lactic, lightly caramelized   \n",
       "2                           Mild, tangy, and fruity   \n",
       "3  Sharp with fruity notes and a hint of wild honey   \n",
       "4                                      Softer taste   \n",
       "\n",
       "                                   CharacteristicsEn  Organic  \\\n",
       "0                                           Uncooked        0   \n",
       "1                                           Uncooked        0   \n",
       "2  Pressed and cooked cheese, pasta filata, inter...        0   \n",
       "3                                                NaN        0   \n",
       "4                                                NaN        1   \n",
       "\n",
       "     CategoryTypeEn MilkTypeEn MilkTreatmentTypeEn   RindTypeEn  \\\n",
       "0       Firm Cheese        Ewe            Raw Milk  Washed Rind   \n",
       "1  Semi-soft Cheese        Cow            Raw Milk  Washed Rind   \n",
       "2       Firm Cheese        Cow         Pasteurized          NaN   \n",
       "3    Veined Cheeses        Cow            Raw Milk          NaN   \n",
       "4  Semi-soft Cheese        Cow            Raw Milk  Washed Rind   \n",
       "\n",
       "                           CheeseName   FatLevel  \n",
       "0             Sieur de Duplessis (Le)  lower fat  \n",
       "1                 Tomme Le Champ Doré  lower fat  \n",
       "2  Provolone Sette Fette (Tre-Stelle)  lower fat  \n",
       "3                      Geai Bleu (Le)  lower fat  \n",
       "4                          Gamin (Le)  lower fat  "
      ]
     },
     "execution_count": 2,
     "metadata": {},
     "output_type": "execute_result"
    }
   ],
   "source": [
    "# read in data\n",
    "cheese = pd.read_csv(\"data/cheese_data.csv\")\n",
    "\n",
    "# view columns and their data types\n",
    "cheese.head()"
   ]
  },
  {
   "cell_type": "markdown",
   "metadata": {},
   "source": [
    "Table 1: The first 5 rows of the imported dataset"
   ]
  },
  {
   "cell_type": "markdown",
   "metadata": {},
   "source": [
    "\\\n",
    "Then, I filter the dataframe to include only the columns of interest, then print the first 5 rows again."
   ]
  },
  {
   "cell_type": "code",
   "execution_count": 3,
   "metadata": {},
   "outputs": [
    {
     "data": {
      "text/html": [
       "<div>\n",
       "<style scoped>\n",
       "    .dataframe tbody tr th:only-of-type {\n",
       "        vertical-align: middle;\n",
       "    }\n",
       "\n",
       "    .dataframe tbody tr th {\n",
       "        vertical-align: top;\n",
       "    }\n",
       "\n",
       "    .dataframe thead th {\n",
       "        text-align: right;\n",
       "    }\n",
       "</style>\n",
       "<table border=\"1\" class=\"dataframe\">\n",
       "  <thead>\n",
       "    <tr style=\"text-align: right;\">\n",
       "      <th></th>\n",
       "      <th>MoisturePercent</th>\n",
       "      <th>MilkTypeEn</th>\n",
       "      <th>FatLevel</th>\n",
       "    </tr>\n",
       "  </thead>\n",
       "  <tbody>\n",
       "    <tr>\n",
       "      <th>0</th>\n",
       "      <td>47.0</td>\n",
       "      <td>Ewe</td>\n",
       "      <td>lower fat</td>\n",
       "    </tr>\n",
       "    <tr>\n",
       "      <th>1</th>\n",
       "      <td>47.9</td>\n",
       "      <td>Cow</td>\n",
       "      <td>lower fat</td>\n",
       "    </tr>\n",
       "    <tr>\n",
       "      <th>2</th>\n",
       "      <td>54.0</td>\n",
       "      <td>Cow</td>\n",
       "      <td>lower fat</td>\n",
       "    </tr>\n",
       "    <tr>\n",
       "      <th>3</th>\n",
       "      <td>47.0</td>\n",
       "      <td>Cow</td>\n",
       "      <td>lower fat</td>\n",
       "    </tr>\n",
       "    <tr>\n",
       "      <th>4</th>\n",
       "      <td>49.4</td>\n",
       "      <td>Cow</td>\n",
       "      <td>lower fat</td>\n",
       "    </tr>\n",
       "  </tbody>\n",
       "</table>\n",
       "</div>"
      ],
      "text/plain": [
       "   MoisturePercent MilkTypeEn   FatLevel\n",
       "0             47.0        Ewe  lower fat\n",
       "1             47.9        Cow  lower fat\n",
       "2             54.0        Cow  lower fat\n",
       "3             47.0        Cow  lower fat\n",
       "4             49.4        Cow  lower fat"
      ]
     },
     "execution_count": 3,
     "metadata": {},
     "output_type": "execute_result"
    }
   ],
   "source": [
    "# filter feature and target columns\n",
    "cheese = cheese.loc[:, [\"MoisturePercent\", \"MilkTypeEn\", \"FatLevel\"]]\n",
    "cheese.head()"
   ]
  },
  {
   "cell_type": "markdown",
   "metadata": {},
   "source": [
    "Table 2: The first 5 rows of the dataset, filtered for columns of interest"
   ]
  },
  {
   "cell_type": "markdown",
   "metadata": {},
   "source": [
    "\\\n",
    "I split the data frame into a train and test set, using an 80/20 train to test split. "
   ]
  },
  {
   "cell_type": "code",
   "execution_count": 4,
   "metadata": {},
   "outputs": [],
   "source": [
    "cheese_train, cheese_test = train_test_split(cheese, train_size=0.80)"
   ]
  },
  {
   "cell_type": "markdown",
   "metadata": {},
   "source": [
    "\\\n",
    "Next, I would like to know the data types of each column in the training data frame."
   ]
  },
  {
   "cell_type": "code",
   "execution_count": 5,
   "metadata": {
    "tags": []
   },
   "outputs": [
    {
     "name": "stdout",
     "output_type": "stream",
     "text": [
      "<class 'pandas.core.frame.DataFrame'>\n",
      "Int64Index: 833 entries, 81 to 515\n",
      "Data columns (total 3 columns):\n",
      " #   Column           Non-Null Count  Dtype  \n",
      "---  ------           --------------  -----  \n",
      " 0   MoisturePercent  821 non-null    float64\n",
      " 1   MilkTypeEn       832 non-null    object \n",
      " 2   FatLevel         833 non-null    object \n",
      "dtypes: float64(1), object(2)\n",
      "memory usage: 26.0+ KB\n"
     ]
    }
   ],
   "source": [
    "# return dtypes of train data frame\n",
    "cheese_train.info()"
   ]
  },
  {
   "cell_type": "markdown",
   "metadata": {},
   "source": [
    "\\\n",
    "I would like to know more about the values in the **MoisturePercent** column, and the categories in the **MilkTypeEn** and **FatLevel** columns in the training data frame. \\\n",
    "To do this, I print summary statistics for **MoisturePercent**, and categories and their respective counts for **MilkTypeEn** and **FatLevel**.\n",
    "\n"
   ]
  },
  {
   "cell_type": "code",
   "execution_count": 6,
   "metadata": {},
   "outputs": [
    {
     "data": {
      "text/html": [
       "<div>\n",
       "<style scoped>\n",
       "    .dataframe tbody tr th:only-of-type {\n",
       "        vertical-align: middle;\n",
       "    }\n",
       "\n",
       "    .dataframe tbody tr th {\n",
       "        vertical-align: top;\n",
       "    }\n",
       "\n",
       "    .dataframe thead th {\n",
       "        text-align: right;\n",
       "    }\n",
       "</style>\n",
       "<table border=\"1\" class=\"dataframe\">\n",
       "  <thead>\n",
       "    <tr style=\"text-align: right;\">\n",
       "      <th></th>\n",
       "      <th>MoisturePercent</th>\n",
       "    </tr>\n",
       "  </thead>\n",
       "  <tbody>\n",
       "    <tr>\n",
       "      <th>count</th>\n",
       "      <td>821.000000</td>\n",
       "    </tr>\n",
       "    <tr>\n",
       "      <th>mean</th>\n",
       "      <td>47.030207</td>\n",
       "    </tr>\n",
       "    <tr>\n",
       "      <th>std</th>\n",
       "      <td>9.568548</td>\n",
       "    </tr>\n",
       "    <tr>\n",
       "      <th>min</th>\n",
       "      <td>12.000000</td>\n",
       "    </tr>\n",
       "    <tr>\n",
       "      <th>25%</th>\n",
       "      <td>40.000000</td>\n",
       "    </tr>\n",
       "    <tr>\n",
       "      <th>50%</th>\n",
       "      <td>46.000000</td>\n",
       "    </tr>\n",
       "    <tr>\n",
       "      <th>75%</th>\n",
       "      <td>52.000000</td>\n",
       "    </tr>\n",
       "    <tr>\n",
       "      <th>max</th>\n",
       "      <td>92.000000</td>\n",
       "    </tr>\n",
       "  </tbody>\n",
       "</table>\n",
       "</div>"
      ],
      "text/plain": [
       "       MoisturePercent\n",
       "count       821.000000\n",
       "mean         47.030207\n",
       "std           9.568548\n",
       "min          12.000000\n",
       "25%          40.000000\n",
       "50%          46.000000\n",
       "75%          52.000000\n",
       "max          92.000000"
      ]
     },
     "execution_count": 6,
     "metadata": {},
     "output_type": "execute_result"
    }
   ],
   "source": [
    "# print summary statistics\n",
    "cheese_train.describe()"
   ]
  },
  {
   "cell_type": "markdown",
   "metadata": {},
   "source": [
    "Table 3: Summary statistics of the MoisturePercent column"
   ]
  },
  {
   "cell_type": "code",
   "execution_count": 7,
   "metadata": {},
   "outputs": [
    {
     "name": "stdout",
     "output_type": "stream",
     "text": [
      "Milk Type\n",
      " Cow             593\n",
      "Goat            175\n",
      "Ewe              48\n",
      "Cow and Goat      8\n",
      "Ewe and Cow       4\n",
      "Buffalo Cow       2\n",
      "Ewe and Goat      2\n",
      "Name: MilkTypeEn, dtype: int64 \n",
      "\n",
      "Fat Level\n",
      " lower fat     548\n",
      "higher fat    285\n",
      "Name: FatLevel, dtype: int64\n"
     ]
    }
   ],
   "source": [
    "# print categories and counts\n",
    "print(\n",
    "    \"Milk Type\\n\",\n",
    "    cheese_train[\"MilkTypeEn\"].value_counts(),\n",
    "    \"\\n\\nFat Level\\n\",\n",
    "    cheese_train[\"FatLevel\"].value_counts(),\n",
    ")"
   ]
  },
  {
   "cell_type": "markdown",
   "metadata": {},
   "source": [
    "\\\n",
    "Next, I check if there are any rows in the data with missing (i.e., NaN) values"
   ]
  },
  {
   "cell_type": "code",
   "execution_count": 8,
   "metadata": {},
   "outputs": [
    {
     "data": {
      "text/plain": [
       "MoisturePercent    12\n",
       "MilkTypeEn          1\n",
       "FatLevel            0\n",
       "dtype: int64"
      ]
     },
     "execution_count": 8,
     "metadata": {},
     "output_type": "execute_result"
    }
   ],
   "source": [
    "# return count of missing data by column\n",
    "cheese_train.isna().sum()"
   ]
  },
  {
   "cell_type": "code",
   "execution_count": 9,
   "metadata": {},
   "outputs": [
    {
     "data": {
      "text/html": [
       "<div>\n",
       "<style scoped>\n",
       "    .dataframe tbody tr th:only-of-type {\n",
       "        vertical-align: middle;\n",
       "    }\n",
       "\n",
       "    .dataframe tbody tr th {\n",
       "        vertical-align: top;\n",
       "    }\n",
       "\n",
       "    .dataframe thead th {\n",
       "        text-align: right;\n",
       "    }\n",
       "</style>\n",
       "<table border=\"1\" class=\"dataframe\">\n",
       "  <thead>\n",
       "    <tr style=\"text-align: right;\">\n",
       "      <th></th>\n",
       "      <th>MoisturePercent</th>\n",
       "      <th>MilkTypeEn</th>\n",
       "      <th>FatLevel</th>\n",
       "    </tr>\n",
       "  </thead>\n",
       "  <tbody>\n",
       "    <tr>\n",
       "      <th>703</th>\n",
       "      <td>NaN</td>\n",
       "      <td>Cow</td>\n",
       "      <td>lower fat</td>\n",
       "    </tr>\n",
       "    <tr>\n",
       "      <th>141</th>\n",
       "      <td>NaN</td>\n",
       "      <td>Cow</td>\n",
       "      <td>lower fat</td>\n",
       "    </tr>\n",
       "    <tr>\n",
       "      <th>61</th>\n",
       "      <td>NaN</td>\n",
       "      <td>Cow</td>\n",
       "      <td>higher fat</td>\n",
       "    </tr>\n",
       "    <tr>\n",
       "      <th>1029</th>\n",
       "      <td>42.0</td>\n",
       "      <td>NaN</td>\n",
       "      <td>higher fat</td>\n",
       "    </tr>\n",
       "    <tr>\n",
       "      <th>902</th>\n",
       "      <td>NaN</td>\n",
       "      <td>Ewe</td>\n",
       "      <td>lower fat</td>\n",
       "    </tr>\n",
       "    <tr>\n",
       "      <th>142</th>\n",
       "      <td>NaN</td>\n",
       "      <td>Cow</td>\n",
       "      <td>lower fat</td>\n",
       "    </tr>\n",
       "    <tr>\n",
       "      <th>496</th>\n",
       "      <td>NaN</td>\n",
       "      <td>Cow</td>\n",
       "      <td>lower fat</td>\n",
       "    </tr>\n",
       "    <tr>\n",
       "      <th>468</th>\n",
       "      <td>NaN</td>\n",
       "      <td>Cow</td>\n",
       "      <td>lower fat</td>\n",
       "    </tr>\n",
       "    <tr>\n",
       "      <th>34</th>\n",
       "      <td>NaN</td>\n",
       "      <td>Ewe</td>\n",
       "      <td>lower fat</td>\n",
       "    </tr>\n",
       "    <tr>\n",
       "      <th>88</th>\n",
       "      <td>NaN</td>\n",
       "      <td>Cow</td>\n",
       "      <td>lower fat</td>\n",
       "    </tr>\n",
       "    <tr>\n",
       "      <th>85</th>\n",
       "      <td>NaN</td>\n",
       "      <td>Ewe</td>\n",
       "      <td>lower fat</td>\n",
       "    </tr>\n",
       "    <tr>\n",
       "      <th>118</th>\n",
       "      <td>NaN</td>\n",
       "      <td>Cow</td>\n",
       "      <td>lower fat</td>\n",
       "    </tr>\n",
       "    <tr>\n",
       "      <th>605</th>\n",
       "      <td>NaN</td>\n",
       "      <td>Cow</td>\n",
       "      <td>lower fat</td>\n",
       "    </tr>\n",
       "  </tbody>\n",
       "</table>\n",
       "</div>"
      ],
      "text/plain": [
       "      MoisturePercent MilkTypeEn    FatLevel\n",
       "703               NaN        Cow   lower fat\n",
       "141               NaN        Cow   lower fat\n",
       "61                NaN        Cow  higher fat\n",
       "1029             42.0        NaN  higher fat\n",
       "902               NaN        Ewe   lower fat\n",
       "142               NaN        Cow   lower fat\n",
       "496               NaN        Cow   lower fat\n",
       "468               NaN        Cow   lower fat\n",
       "34                NaN        Ewe   lower fat\n",
       "88                NaN        Cow   lower fat\n",
       "85                NaN        Ewe   lower fat\n",
       "118               NaN        Cow   lower fat\n",
       "605               NaN        Cow   lower fat"
      ]
     },
     "execution_count": 9,
     "metadata": {},
     "output_type": "execute_result"
    }
   ],
   "source": [
    "# return rows with missing data in any column (rows that will be removed)\n",
    "cheese_train[cheese_train.isna().any(axis=1)]"
   ]
  },
  {
   "cell_type": "markdown",
   "metadata": {},
   "source": [
    "Table 4: Rows of the dataset with NaN values"
   ]
  },
  {
   "cell_type": "markdown",
   "metadata": {},
   "source": [
    "## Data Visualization\n",
    "### Milk Type Proportions\n",
    "I create a bar plot to visualize the proportion of cheeses by milk type"
   ]
  },
  {
   "cell_type": "code",
   "execution_count": 10,
   "metadata": {},
   "outputs": [
    {
     "data": {
      "text/html": [
       "\n",
       "<div id=\"altair-viz-eb39d697864947f59b5b2ea23c8eb76e\"></div>\n",
       "<script type=\"text/javascript\">\n",
       "  (function(spec, embedOpt){\n",
       "    let outputDiv = document.currentScript.previousElementSibling;\n",
       "    if (outputDiv.id !== \"altair-viz-eb39d697864947f59b5b2ea23c8eb76e\") {\n",
       "      outputDiv = document.getElementById(\"altair-viz-eb39d697864947f59b5b2ea23c8eb76e\");\n",
       "    }\n",
       "    const paths = {\n",
       "      \"vega\": \"https://cdn.jsdelivr.net/npm//vega@5?noext\",\n",
       "      \"vega-lib\": \"https://cdn.jsdelivr.net/npm//vega-lib?noext\",\n",
       "      \"vega-lite\": \"https://cdn.jsdelivr.net/npm//vega-lite@4.8.1?noext\",\n",
       "      \"vega-embed\": \"https://cdn.jsdelivr.net/npm//vega-embed@6?noext\",\n",
       "    };\n",
       "\n",
       "    function loadScript(lib) {\n",
       "      return new Promise(function(resolve, reject) {\n",
       "        var s = document.createElement('script');\n",
       "        s.src = paths[lib];\n",
       "        s.async = true;\n",
       "        s.onload = () => resolve(paths[lib]);\n",
       "        s.onerror = () => reject(`Error loading script: ${paths[lib]}`);\n",
       "        document.getElementsByTagName(\"head\")[0].appendChild(s);\n",
       "      });\n",
       "    }\n",
       "\n",
       "    function showError(err) {\n",
       "      outputDiv.innerHTML = `<div class=\"error\" style=\"color:red;\">${err}</div>`;\n",
       "      throw err;\n",
       "    }\n",
       "\n",
       "    function displayChart(vegaEmbed) {\n",
       "      vegaEmbed(outputDiv, spec, embedOpt)\n",
       "        .catch(err => showError(`Javascript Error: ${err.message}<br>This usually means there's a typo in your chart specification. See the javascript console for the full traceback.`));\n",
       "    }\n",
       "\n",
       "    if(typeof define === \"function\" && define.amd) {\n",
       "      requirejs.config({paths});\n",
       "      require([\"vega-embed\"], displayChart, err => showError(`Error loading script: ${err.message}`));\n",
       "    } else if (typeof vegaEmbed === \"function\") {\n",
       "      displayChart(vegaEmbed);\n",
       "    } else {\n",
       "      loadScript(\"vega\")\n",
       "        .then(() => loadScript(\"vega-lite\"))\n",
       "        .then(() => loadScript(\"vega-embed\"))\n",
       "        .catch(showError)\n",
       "        .then(() => displayChart(vegaEmbed));\n",
       "    }\n",
       "  })({\"config\": {\"view\": {\"continuousWidth\": 400, \"continuousHeight\": 300}}, \"data\": {\"name\": \"data-5d4a0117c7bfc001360a575265aab1a7\"}, \"mark\": {\"type\": \"bar\", \"color\": \"#4fa7bd\"}, \"encoding\": {\"x\": {\"type\": \"nominal\", \"axis\": {\"labelAngle\": -45}, \"field\": \"MilkTypeEn\", \"sort\": \"-y\", \"title\": \"Milk Type\"}, \"y\": {\"type\": \"quantitative\", \"aggregate\": \"count\", \"title\": \"Quantity\"}}, \"height\": 300, \"title\": \"Cheese Count by Milk Type\", \"transform\": [{\"filter\": \"isValid(datum.MilkTypeEn)\"}], \"width\": 600, \"$schema\": \"https://vega.github.io/schema/vega-lite/v4.8.1.json\", \"datasets\": {\"data-5d4a0117c7bfc001360a575265aab1a7\": [{\"MoisturePercent\": 46.0, \"MilkTypeEn\": \"Cow\", \"FatLevel\": \"higher fat\"}, {\"MoisturePercent\": 43.0, \"MilkTypeEn\": \"Goat\", \"FatLevel\": \"higher fat\"}, {\"MoisturePercent\": 60.0, \"MilkTypeEn\": \"Goat\", \"FatLevel\": \"lower fat\"}, {\"MoisturePercent\": 43.0, \"MilkTypeEn\": \"Goat\", \"FatLevel\": \"lower fat\"}, {\"MoisturePercent\": 56.0, \"MilkTypeEn\": \"Cow\", \"FatLevel\": \"lower fat\"}, {\"MoisturePercent\": 42.0, \"MilkTypeEn\": \"Cow\", \"FatLevel\": \"lower fat\"}, {\"MoisturePercent\": 80.0, \"MilkTypeEn\": \"Cow\", \"FatLevel\": \"lower fat\"}, {\"MoisturePercent\": 50.0, \"MilkTypeEn\": \"Cow\", \"FatLevel\": \"lower fat\"}, {\"MoisturePercent\": 55.0, \"MilkTypeEn\": \"Ewe\", \"FatLevel\": \"lower fat\"}, {\"MoisturePercent\": 70.0, \"MilkTypeEn\": \"Goat\", \"FatLevel\": \"lower fat\"}, {\"MoisturePercent\": 31.0, \"MilkTypeEn\": \"Cow\", \"FatLevel\": \"higher fat\"}, {\"MoisturePercent\": 37.0, \"MilkTypeEn\": \"Cow\", \"FatLevel\": \"higher fat\"}, {\"MoisturePercent\": 55.0, \"MilkTypeEn\": \"Cow\", \"FatLevel\": \"lower fat\"}, {\"MoisturePercent\": 50.0, \"MilkTypeEn\": \"Cow\", \"FatLevel\": \"higher fat\"}, {\"MoisturePercent\": 45.0, \"MilkTypeEn\": \"Cow\", \"FatLevel\": \"higher fat\"}, {\"MoisturePercent\": 47.9, \"MilkTypeEn\": \"Cow\", \"FatLevel\": \"lower fat\"}, {\"MoisturePercent\": 30.0, \"MilkTypeEn\": \"Cow\", \"FatLevel\": \"higher fat\"}, {\"MoisturePercent\": 35.0, \"MilkTypeEn\": \"Cow\", \"FatLevel\": \"higher fat\"}, {\"MoisturePercent\": 40.0, \"MilkTypeEn\": \"Cow\", \"FatLevel\": \"lower fat\"}, {\"MoisturePercent\": 31.5, \"MilkTypeEn\": \"Cow\", \"FatLevel\": \"higher fat\"}, {\"MoisturePercent\": 62.0, \"MilkTypeEn\": \"Goat\", \"FatLevel\": \"lower fat\"}, {\"MoisturePercent\": 60.0, \"MilkTypeEn\": \"Goat\", \"FatLevel\": \"lower fat\"}, {\"MoisturePercent\": 46.0, \"MilkTypeEn\": \"Cow\", \"FatLevel\": \"lower fat\"}, {\"MoisturePercent\": 47.0, \"MilkTypeEn\": \"Ewe\", \"FatLevel\": \"lower fat\"}, {\"MoisturePercent\": 41.0, \"MilkTypeEn\": \"Cow\", \"FatLevel\": \"higher fat\"}, {\"MoisturePercent\": 46.0, \"MilkTypeEn\": \"Cow\", \"FatLevel\": \"lower fat\"}, {\"MoisturePercent\": 45.0, \"MilkTypeEn\": \"Cow\", \"FatLevel\": \"lower fat\"}, {\"MoisturePercent\": 39.0, \"MilkTypeEn\": \"Cow\", \"FatLevel\": \"higher fat\"}, {\"MoisturePercent\": 54.0, \"MilkTypeEn\": \"Cow\", \"FatLevel\": \"lower fat\"}, {\"MoisturePercent\": 39.0, \"MilkTypeEn\": \"Cow\", \"FatLevel\": \"higher fat\"}, {\"MoisturePercent\": 35.0, \"MilkTypeEn\": \"Cow\", \"FatLevel\": \"higher fat\"}, {\"MoisturePercent\": 39.0, \"MilkTypeEn\": \"Cow\", \"FatLevel\": \"higher fat\"}, {\"MoisturePercent\": 41.0, \"MilkTypeEn\": \"Cow\", \"FatLevel\": \"higher fat\"}, {\"MoisturePercent\": 42.0, \"MilkTypeEn\": \"Cow\", \"FatLevel\": \"lower fat\"}, {\"MoisturePercent\": 60.0, \"MilkTypeEn\": \"Goat\", \"FatLevel\": \"lower fat\"}, {\"MoisturePercent\": 46.0, \"MilkTypeEn\": \"Cow\", \"FatLevel\": \"lower fat\"}, {\"MoisturePercent\": 55.0, \"MilkTypeEn\": \"Cow\", \"FatLevel\": \"lower fat\"}, {\"MoisturePercent\": 39.0, \"MilkTypeEn\": \"Cow\", \"FatLevel\": \"higher fat\"}, {\"MoisturePercent\": 42.0, \"MilkTypeEn\": \"Cow\", \"FatLevel\": \"lower fat\"}, {\"MoisturePercent\": 41.0, \"MilkTypeEn\": \"Ewe\", \"FatLevel\": \"higher fat\"}, {\"MoisturePercent\": 63.0, \"MilkTypeEn\": \"Goat\", \"FatLevel\": \"lower fat\"}, {\"MoisturePercent\": 35.0, \"MilkTypeEn\": \"Goat\", \"FatLevel\": \"lower fat\"}, {\"MoisturePercent\": 50.0, \"MilkTypeEn\": \"Cow\", \"FatLevel\": \"lower fat\"}, {\"MoisturePercent\": 50.0, \"MilkTypeEn\": \"Goat\", \"FatLevel\": \"lower fat\"}, {\"MoisturePercent\": 55.0, \"MilkTypeEn\": \"Cow\", \"FatLevel\": \"lower fat\"}, {\"MoisturePercent\": 68.0, \"MilkTypeEn\": \"Ewe\", \"FatLevel\": \"higher fat\"}, {\"MoisturePercent\": 46.0, \"MilkTypeEn\": \"Cow\", \"FatLevel\": \"lower fat\"}, {\"MoisturePercent\": 39.0, \"MilkTypeEn\": \"Cow\", \"FatLevel\": \"higher fat\"}, {\"MoisturePercent\": 47.0, \"MilkTypeEn\": \"Ewe\", \"FatLevel\": \"lower fat\"}, {\"MoisturePercent\": 52.0, \"MilkTypeEn\": \"Cow\", \"FatLevel\": \"lower fat\"}, {\"MoisturePercent\": 47.0, \"MilkTypeEn\": \"Cow\", \"FatLevel\": \"lower fat\"}, {\"MoisturePercent\": 42.0, \"MilkTypeEn\": \"Ewe\", \"FatLevel\": \"higher fat\"}, {\"MoisturePercent\": 37.0, \"MilkTypeEn\": \"Cow\", \"FatLevel\": \"higher fat\"}, {\"MoisturePercent\": 55.0, \"MilkTypeEn\": \"Cow\", \"FatLevel\": \"lower fat\"}, {\"MoisturePercent\": 50.0, \"MilkTypeEn\": \"Cow\", \"FatLevel\": \"lower fat\"}, {\"MoisturePercent\": 50.0, \"MilkTypeEn\": \"Cow\", \"FatLevel\": \"lower fat\"}, {\"MoisturePercent\": 39.0, \"MilkTypeEn\": \"Cow\", \"FatLevel\": \"higher fat\"}, {\"MoisturePercent\": 39.0, \"MilkTypeEn\": \"Ewe\", \"FatLevel\": \"higher fat\"}, {\"MoisturePercent\": 55.0, \"MilkTypeEn\": \"Goat\", \"FatLevel\": \"lower fat\"}, {\"MoisturePercent\": 39.0, \"MilkTypeEn\": \"Cow\", \"FatLevel\": \"higher fat\"}, {\"MoisturePercent\": 69.0, \"MilkTypeEn\": \"Goat\", \"FatLevel\": \"lower fat\"}, {\"MoisturePercent\": 48.0, \"MilkTypeEn\": \"Goat\", \"FatLevel\": \"lower fat\"}, {\"MoisturePercent\": 40.0, \"MilkTypeEn\": \"Cow\", \"FatLevel\": \"lower fat\"}, {\"MoisturePercent\": 40.0, \"MilkTypeEn\": \"Cow\", \"FatLevel\": \"lower fat\"}, {\"MoisturePercent\": 48.0, \"MilkTypeEn\": \"Cow\", \"FatLevel\": \"higher fat\"}, {\"MoisturePercent\": 40.0, \"MilkTypeEn\": \"Cow\", \"FatLevel\": \"lower fat\"}, {\"MoisturePercent\": 57.0, \"MilkTypeEn\": \"Cow\", \"FatLevel\": \"lower fat\"}, {\"MoisturePercent\": 42.0, \"MilkTypeEn\": \"Cow\", \"FatLevel\": \"higher fat\"}, {\"MoisturePercent\": 50.0, \"MilkTypeEn\": \"Cow\", \"FatLevel\": \"lower fat\"}, {\"MoisturePercent\": 43.0, \"MilkTypeEn\": \"Cow\", \"FatLevel\": \"lower fat\"}, {\"MoisturePercent\": 54.0, \"MilkTypeEn\": \"Cow\", \"FatLevel\": \"lower fat\"}, {\"MoisturePercent\": 48.0, \"MilkTypeEn\": \"Ewe\", \"FatLevel\": \"lower fat\"}, {\"MoisturePercent\": 45.0, \"MilkTypeEn\": \"Cow\", \"FatLevel\": \"higher fat\"}, {\"MoisturePercent\": 39.0, \"MilkTypeEn\": \"Goat\", \"FatLevel\": \"higher fat\"}, {\"MoisturePercent\": 60.0, \"MilkTypeEn\": \"Cow\", \"FatLevel\": \"lower fat\"}, {\"MoisturePercent\": 45.0, \"MilkTypeEn\": \"Goat\", \"FatLevel\": \"lower fat\"}, {\"MoisturePercent\": 40.0, \"MilkTypeEn\": \"Cow\", \"FatLevel\": \"higher fat\"}, {\"MoisturePercent\": 54.0, \"MilkTypeEn\": \"Cow\", \"FatLevel\": \"lower fat\"}, {\"MoisturePercent\": 44.0, \"MilkTypeEn\": \"Cow\", \"FatLevel\": \"lower fat\"}, {\"MoisturePercent\": 50.0, \"MilkTypeEn\": \"Cow\", \"FatLevel\": \"lower fat\"}, {\"MoisturePercent\": 42.0, \"MilkTypeEn\": \"Cow\", \"FatLevel\": \"lower fat\"}, {\"MoisturePercent\": 40.0, \"MilkTypeEn\": \"Cow\", \"FatLevel\": \"higher fat\"}, {\"MoisturePercent\": 39.0, \"MilkTypeEn\": \"Cow\", \"FatLevel\": \"higher fat\"}, {\"MoisturePercent\": 43.0, \"MilkTypeEn\": \"Cow\", \"FatLevel\": \"lower fat\"}, {\"MoisturePercent\": 38.0, \"MilkTypeEn\": \"Cow\", \"FatLevel\": \"higher fat\"}, {\"MoisturePercent\": 50.0, \"MilkTypeEn\": \"Cow\", \"FatLevel\": \"lower fat\"}, {\"MoisturePercent\": 40.0, \"MilkTypeEn\": \"Cow\", \"FatLevel\": \"lower fat\"}, {\"MoisturePercent\": 58.0, \"MilkTypeEn\": \"Ewe\", \"FatLevel\": \"lower fat\"}, {\"MoisturePercent\": 50.0, \"MilkTypeEn\": \"Cow\", \"FatLevel\": \"lower fat\"}, {\"MoisturePercent\": 56.0, \"MilkTypeEn\": \"Goat\", \"FatLevel\": \"lower fat\"}, {\"MoisturePercent\": 52.0, \"MilkTypeEn\": \"Cow\", \"FatLevel\": \"higher fat\"}, {\"MoisturePercent\": 45.0, \"MilkTypeEn\": \"Cow\", \"FatLevel\": \"higher fat\"}, {\"MoisturePercent\": 48.0, \"MilkTypeEn\": \"Cow\", \"FatLevel\": \"lower fat\"}, {\"MoisturePercent\": 45.0, \"MilkTypeEn\": \"Goat\", \"FatLevel\": \"lower fat\"}, {\"MoisturePercent\": 27.0, \"MilkTypeEn\": \"Cow\", \"FatLevel\": \"higher fat\"}, {\"MoisturePercent\": 50.0, \"MilkTypeEn\": \"Cow\", \"FatLevel\": \"lower fat\"}, {\"MoisturePercent\": 45.0, \"MilkTypeEn\": \"Cow\", \"FatLevel\": \"lower fat\"}, {\"MoisturePercent\": 88.0, \"MilkTypeEn\": \"Cow\", \"FatLevel\": \"lower fat\"}, {\"MoisturePercent\": 55.0, \"MilkTypeEn\": \"Goat\", \"FatLevel\": \"lower fat\"}, {\"MoisturePercent\": 44.0, \"MilkTypeEn\": \"Cow\", \"FatLevel\": \"lower fat\"}, {\"MoisturePercent\": 50.0, \"MilkTypeEn\": \"Goat\", \"FatLevel\": \"lower fat\"}, {\"MoisturePercent\": 50.0, \"MilkTypeEn\": \"Cow\", \"FatLevel\": \"higher fat\"}, {\"MoisturePercent\": 80.0, \"MilkTypeEn\": \"Cow\", \"FatLevel\": \"lower fat\"}, {\"MoisturePercent\": 45.0, \"MilkTypeEn\": \"Goat\", \"FatLevel\": \"lower fat\"}, {\"MoisturePercent\": 40.0, \"MilkTypeEn\": \"Cow\", \"FatLevel\": \"lower fat\"}, {\"MoisturePercent\": 45.0, \"MilkTypeEn\": \"Cow\", \"FatLevel\": \"higher fat\"}, {\"MoisturePercent\": 44.0, \"MilkTypeEn\": \"Cow\", \"FatLevel\": \"lower fat\"}, {\"MoisturePercent\": 40.3, \"MilkTypeEn\": \"Cow\", \"FatLevel\": \"lower fat\"}, {\"MoisturePercent\": 37.0, \"MilkTypeEn\": \"Cow\", \"FatLevel\": \"higher fat\"}, {\"MoisturePercent\": 69.0, \"MilkTypeEn\": \"Goat\", \"FatLevel\": \"lower fat\"}, {\"MoisturePercent\": 48.0, \"MilkTypeEn\": \"Cow\", \"FatLevel\": \"lower fat\"}, {\"MoisturePercent\": null, \"MilkTypeEn\": \"Cow\", \"FatLevel\": \"lower fat\"}, {\"MoisturePercent\": 56.0, \"MilkTypeEn\": \"Goat\", \"FatLevel\": \"lower fat\"}, {\"MoisturePercent\": 46.0, \"MilkTypeEn\": \"Cow\", \"FatLevel\": \"lower fat\"}, {\"MoisturePercent\": 49.4, \"MilkTypeEn\": \"Cow\", \"FatLevel\": \"lower fat\"}, {\"MoisturePercent\": 70.0, \"MilkTypeEn\": \"Ewe\", \"FatLevel\": \"lower fat\"}, {\"MoisturePercent\": 48.0, \"MilkTypeEn\": \"Cow\", \"FatLevel\": \"lower fat\"}, {\"MoisturePercent\": 45.0, \"MilkTypeEn\": \"Cow\", \"FatLevel\": \"higher fat\"}, {\"MoisturePercent\": 48.0, \"MilkTypeEn\": \"Cow\", \"FatLevel\": \"higher fat\"}, {\"MoisturePercent\": 52.0, \"MilkTypeEn\": \"Cow\", \"FatLevel\": \"lower fat\"}, {\"MoisturePercent\": 45.0, \"MilkTypeEn\": \"Cow\", \"FatLevel\": \"lower fat\"}, {\"MoisturePercent\": null, \"MilkTypeEn\": \"Cow\", \"FatLevel\": \"lower fat\"}, {\"MoisturePercent\": 52.0, \"MilkTypeEn\": \"Cow\", \"FatLevel\": \"lower fat\"}, {\"MoisturePercent\": 44.0, \"MilkTypeEn\": \"Cow\", \"FatLevel\": \"lower fat\"}, {\"MoisturePercent\": 41.0, \"MilkTypeEn\": \"Cow\", \"FatLevel\": \"higher fat\"}, {\"MoisturePercent\": 40.0, \"MilkTypeEn\": \"Goat\", \"FatLevel\": \"lower fat\"}, {\"MoisturePercent\": 55.0, \"MilkTypeEn\": \"Cow\", \"FatLevel\": \"lower fat\"}, {\"MoisturePercent\": 40.0, \"MilkTypeEn\": \"Cow\", \"FatLevel\": \"lower fat\"}, {\"MoisturePercent\": 40.3, \"MilkTypeEn\": \"Cow\", \"FatLevel\": \"lower fat\"}, {\"MoisturePercent\": 47.0, \"MilkTypeEn\": \"Cow\", \"FatLevel\": \"higher fat\"}, {\"MoisturePercent\": 41.0, \"MilkTypeEn\": \"Cow\", \"FatLevel\": \"higher fat\"}, {\"MoisturePercent\": 51.7, \"MilkTypeEn\": \"Cow\", \"FatLevel\": \"lower fat\"}, {\"MoisturePercent\": 65.0, \"MilkTypeEn\": \"Cow\", \"FatLevel\": \"lower fat\"}, {\"MoisturePercent\": 52.0, \"MilkTypeEn\": \"Cow\", \"FatLevel\": \"lower fat\"}, {\"MoisturePercent\": 55.0, \"MilkTypeEn\": \"Goat\", \"FatLevel\": \"lower fat\"}, {\"MoisturePercent\": 45.0, \"MilkTypeEn\": \"Cow\", \"FatLevel\": \"higher fat\"}, {\"MoisturePercent\": 55.0, \"MilkTypeEn\": \"Cow\", \"FatLevel\": \"lower fat\"}, {\"MoisturePercent\": 40.0, \"MilkTypeEn\": \"Cow\", \"FatLevel\": \"lower fat\"}, {\"MoisturePercent\": 50.0, \"MilkTypeEn\": \"Cow\", \"FatLevel\": \"lower fat\"}, {\"MoisturePercent\": 45.0, \"MilkTypeEn\": \"Cow\", \"FatLevel\": \"higher fat\"}, {\"MoisturePercent\": 42.0, \"MilkTypeEn\": \"Cow\", \"FatLevel\": \"lower fat\"}, {\"MoisturePercent\": 43.0, \"MilkTypeEn\": \"Cow\", \"FatLevel\": \"higher fat\"}, {\"MoisturePercent\": 36.0, \"MilkTypeEn\": \"Ewe and Goat\", \"FatLevel\": \"higher fat\"}, {\"MoisturePercent\": 50.0, \"MilkTypeEn\": \"Goat\", \"FatLevel\": \"lower fat\"}, {\"MoisturePercent\": null, \"MilkTypeEn\": \"Cow\", \"FatLevel\": \"higher fat\"}, {\"MoisturePercent\": 45.0, \"MilkTypeEn\": \"Cow\", \"FatLevel\": \"lower fat\"}, {\"MoisturePercent\": 23.0, \"MilkTypeEn\": \"Ewe\", \"FatLevel\": \"higher fat\"}, {\"MoisturePercent\": 50.0, \"MilkTypeEn\": \"Goat\", \"FatLevel\": \"lower fat\"}, {\"MoisturePercent\": 60.0, \"MilkTypeEn\": \"Goat\", \"FatLevel\": \"lower fat\"}, {\"MoisturePercent\": 50.0, \"MilkTypeEn\": \"Cow\", \"FatLevel\": \"higher fat\"}, {\"MoisturePercent\": 41.0, \"MilkTypeEn\": \"Cow\", \"FatLevel\": \"higher fat\"}, {\"MoisturePercent\": 54.0, \"MilkTypeEn\": \"Goat\", \"FatLevel\": \"lower fat\"}, {\"MoisturePercent\": 45.0, \"MilkTypeEn\": \"Cow\", \"FatLevel\": \"higher fat\"}, {\"MoisturePercent\": 41.0, \"MilkTypeEn\": \"Cow\", \"FatLevel\": \"higher fat\"}, {\"MoisturePercent\": 46.0, \"MilkTypeEn\": \"Goat\", \"FatLevel\": \"higher fat\"}, {\"MoisturePercent\": 36.0, \"MilkTypeEn\": \"Cow\", \"FatLevel\": \"higher fat\"}, {\"MoisturePercent\": 60.0, \"MilkTypeEn\": \"Cow\", \"FatLevel\": \"lower fat\"}, {\"MoisturePercent\": 65.0, \"MilkTypeEn\": \"Goat\", \"FatLevel\": \"lower fat\"}, {\"MoisturePercent\": 52.0, \"MilkTypeEn\": \"Cow\", \"FatLevel\": \"lower fat\"}, {\"MoisturePercent\": 42.0, \"MilkTypeEn\": \"Cow\", \"FatLevel\": \"lower fat\"}, {\"MoisturePercent\": 52.0, \"MilkTypeEn\": \"Cow\", \"FatLevel\": \"lower fat\"}, {\"MoisturePercent\": 56.0, \"MilkTypeEn\": \"Goat\", \"FatLevel\": \"lower fat\"}, {\"MoisturePercent\": 40.0, \"MilkTypeEn\": \"Ewe\", \"FatLevel\": \"higher fat\"}, {\"MoisturePercent\": 42.0, \"MilkTypeEn\": null, \"FatLevel\": \"higher fat\"}, {\"MoisturePercent\": 43.0, \"MilkTypeEn\": \"Cow\", \"FatLevel\": \"higher fat\"}, {\"MoisturePercent\": 45.0, \"MilkTypeEn\": \"Ewe and Cow\", \"FatLevel\": \"lower fat\"}, {\"MoisturePercent\": 39.0, \"MilkTypeEn\": \"Cow\", \"FatLevel\": \"higher fat\"}, {\"MoisturePercent\": 51.0, \"MilkTypeEn\": \"Goat\", \"FatLevel\": \"lower fat\"}, {\"MoisturePercent\": 52.0, \"MilkTypeEn\": \"Goat\", \"FatLevel\": \"lower fat\"}, {\"MoisturePercent\": 47.0, \"MilkTypeEn\": \"Cow\", \"FatLevel\": \"lower fat\"}, {\"MoisturePercent\": 43.0, \"MilkTypeEn\": \"Cow\", \"FatLevel\": \"higher fat\"}, {\"MoisturePercent\": 50.0, \"MilkTypeEn\": \"Cow\", \"FatLevel\": \"lower fat\"}, {\"MoisturePercent\": 40.0, \"MilkTypeEn\": \"Ewe\", \"FatLevel\": \"lower fat\"}, {\"MoisturePercent\": 42.0, \"MilkTypeEn\": \"Cow\", \"FatLevel\": \"lower fat\"}, {\"MoisturePercent\": 50.0, \"MilkTypeEn\": \"Cow\", \"FatLevel\": \"lower fat\"}, {\"MoisturePercent\": 57.0, \"MilkTypeEn\": \"Cow\", \"FatLevel\": \"lower fat\"}, {\"MoisturePercent\": 39.0, \"MilkTypeEn\": \"Cow\", \"FatLevel\": \"higher fat\"}, {\"MoisturePercent\": 52.0, \"MilkTypeEn\": \"Cow\", \"FatLevel\": \"lower fat\"}, {\"MoisturePercent\": 33.0, \"MilkTypeEn\": \"Goat\", \"FatLevel\": \"higher fat\"}, {\"MoisturePercent\": 50.0, \"MilkTypeEn\": \"Cow\", \"FatLevel\": \"higher fat\"}, {\"MoisturePercent\": 42.0, \"MilkTypeEn\": \"Goat\", \"FatLevel\": \"lower fat\"}, {\"MoisturePercent\": 60.0, \"MilkTypeEn\": \"Goat\", \"FatLevel\": \"lower fat\"}, {\"MoisturePercent\": 44.0, \"MilkTypeEn\": \"Cow\", \"FatLevel\": \"higher fat\"}, {\"MoisturePercent\": 37.0, \"MilkTypeEn\": \"Cow\", \"FatLevel\": \"higher fat\"}, {\"MoisturePercent\": 39.0, \"MilkTypeEn\": \"Cow\", \"FatLevel\": \"higher fat\"}, {\"MoisturePercent\": 39.0, \"MilkTypeEn\": \"Cow\", \"FatLevel\": \"higher fat\"}, {\"MoisturePercent\": 54.0, \"MilkTypeEn\": \"Cow\", \"FatLevel\": \"lower fat\"}, {\"MoisturePercent\": 50.0, \"MilkTypeEn\": \"Goat\", \"FatLevel\": \"lower fat\"}, {\"MoisturePercent\": 42.0, \"MilkTypeEn\": \"Cow\", \"FatLevel\": \"higher fat\"}, {\"MoisturePercent\": 39.0, \"MilkTypeEn\": \"Cow\", \"FatLevel\": \"higher fat\"}, {\"MoisturePercent\": null, \"MilkTypeEn\": \"Ewe\", \"FatLevel\": \"lower fat\"}, {\"MoisturePercent\": 35.0, \"MilkTypeEn\": \"Ewe\", \"FatLevel\": \"higher fat\"}, {\"MoisturePercent\": 39.0, \"MilkTypeEn\": \"Goat\", \"FatLevel\": \"higher fat\"}, {\"MoisturePercent\": 39.0, \"MilkTypeEn\": \"Cow\", \"FatLevel\": \"lower fat\"}, {\"MoisturePercent\": 45.0, \"MilkTypeEn\": \"Cow\", \"FatLevel\": \"lower fat\"}, {\"MoisturePercent\": 39.0, \"MilkTypeEn\": \"Cow\", \"FatLevel\": \"higher fat\"}, {\"MoisturePercent\": 55.0, \"MilkTypeEn\": \"Cow\", \"FatLevel\": \"lower fat\"}, {\"MoisturePercent\": 20.0, \"MilkTypeEn\": \"Cow\", \"FatLevel\": \"lower fat\"}, {\"MoisturePercent\": 39.0, \"MilkTypeEn\": \"Cow\", \"FatLevel\": \"higher fat\"}, {\"MoisturePercent\": 50.0, \"MilkTypeEn\": \"Goat\", \"FatLevel\": \"lower fat\"}, {\"MoisturePercent\": 40.0, \"MilkTypeEn\": \"Cow\", \"FatLevel\": \"lower fat\"}, {\"MoisturePercent\": 34.0, \"MilkTypeEn\": \"Cow\", \"FatLevel\": \"higher fat\"}, {\"MoisturePercent\": 42.0, \"MilkTypeEn\": \"Cow\", \"FatLevel\": \"lower fat\"}, {\"MoisturePercent\": 45.0, \"MilkTypeEn\": \"Cow\", \"FatLevel\": \"lower fat\"}, {\"MoisturePercent\": 43.0, \"MilkTypeEn\": \"Cow\", \"FatLevel\": \"lower fat\"}, {\"MoisturePercent\": 68.0, \"MilkTypeEn\": \"Goat\", \"FatLevel\": \"lower fat\"}, {\"MoisturePercent\": 41.0, \"MilkTypeEn\": \"Cow\", \"FatLevel\": \"higher fat\"}, {\"MoisturePercent\": 56.0, \"MilkTypeEn\": \"Ewe\", \"FatLevel\": \"lower fat\"}, {\"MoisturePercent\": null, \"MilkTypeEn\": \"Cow\", \"FatLevel\": \"lower fat\"}, {\"MoisturePercent\": 39.0, \"MilkTypeEn\": \"Cow\", \"FatLevel\": \"higher fat\"}, {\"MoisturePercent\": 40.0, \"MilkTypeEn\": \"Cow\", \"FatLevel\": \"higher fat\"}, {\"MoisturePercent\": 52.0, \"MilkTypeEn\": \"Goat\", \"FatLevel\": \"lower fat\"}, {\"MoisturePercent\": 46.0, \"MilkTypeEn\": \"Cow\", \"FatLevel\": \"lower fat\"}, {\"MoisturePercent\": 48.0, \"MilkTypeEn\": \"Cow\", \"FatLevel\": \"lower fat\"}, {\"MoisturePercent\": 44.0, \"MilkTypeEn\": \"Cow\", \"FatLevel\": \"lower fat\"}, {\"MoisturePercent\": 48.0, \"MilkTypeEn\": \"Cow\", \"FatLevel\": \"lower fat\"}, {\"MoisturePercent\": 50.0, \"MilkTypeEn\": \"Cow\", \"FatLevel\": \"lower fat\"}, {\"MoisturePercent\": 45.0, \"MilkTypeEn\": \"Cow\", \"FatLevel\": \"lower fat\"}, {\"MoisturePercent\": 68.0, \"MilkTypeEn\": \"Cow\", \"FatLevel\": \"lower fat\"}, {\"MoisturePercent\": 68.0, \"MilkTypeEn\": \"Cow\", \"FatLevel\": \"lower fat\"}, {\"MoisturePercent\": 48.0, \"MilkTypeEn\": \"Ewe\", \"FatLevel\": \"lower fat\"}, {\"MoisturePercent\": 50.0, \"MilkTypeEn\": \"Cow\", \"FatLevel\": \"higher fat\"}, {\"MoisturePercent\": 58.0, \"MilkTypeEn\": \"Goat\", \"FatLevel\": \"lower fat\"}, {\"MoisturePercent\": 38.0, \"MilkTypeEn\": \"Cow\", \"FatLevel\": \"higher fat\"}, {\"MoisturePercent\": 41.0, \"MilkTypeEn\": \"Goat\", \"FatLevel\": \"lower fat\"}, {\"MoisturePercent\": 52.0, \"MilkTypeEn\": \"Cow\", \"FatLevel\": \"lower fat\"}, {\"MoisturePercent\": 31.0, \"MilkTypeEn\": \"Cow\", \"FatLevel\": \"higher fat\"}, {\"MoisturePercent\": 44.0, \"MilkTypeEn\": \"Cow\", \"FatLevel\": \"higher fat\"}, {\"MoisturePercent\": 43.0, \"MilkTypeEn\": \"Cow\", \"FatLevel\": \"lower fat\"}, {\"MoisturePercent\": 40.0, \"MilkTypeEn\": \"Goat\", \"FatLevel\": \"lower fat\"}, {\"MoisturePercent\": 52.0, \"MilkTypeEn\": \"Cow\", \"FatLevel\": \"lower fat\"}, {\"MoisturePercent\": 50.0, \"MilkTypeEn\": \"Goat\", \"FatLevel\": \"lower fat\"}, {\"MoisturePercent\": 52.0, \"MilkTypeEn\": \"Cow\", \"FatLevel\": \"lower fat\"}, {\"MoisturePercent\": 32.0, \"MilkTypeEn\": \"Cow\", \"FatLevel\": \"lower fat\"}, {\"MoisturePercent\": 46.0, \"MilkTypeEn\": \"Cow\", \"FatLevel\": \"lower fat\"}, {\"MoisturePercent\": 48.0, \"MilkTypeEn\": \"Cow\", \"FatLevel\": \"higher fat\"}, {\"MoisturePercent\": 39.0, \"MilkTypeEn\": \"Cow\", \"FatLevel\": \"higher fat\"}, {\"MoisturePercent\": 42.0, \"MilkTypeEn\": \"Cow\", \"FatLevel\": \"lower fat\"}, {\"MoisturePercent\": 65.0, \"MilkTypeEn\": \"Cow\", \"FatLevel\": \"lower fat\"}, {\"MoisturePercent\": 45.0, \"MilkTypeEn\": \"Goat\", \"FatLevel\": \"lower fat\"}, {\"MoisturePercent\": 39.0, \"MilkTypeEn\": \"Cow\", \"FatLevel\": \"higher fat\"}, {\"MoisturePercent\": 39.0, \"MilkTypeEn\": \"Cow\", \"FatLevel\": \"higher fat\"}, {\"MoisturePercent\": 39.0, \"MilkTypeEn\": \"Cow\", \"FatLevel\": \"higher fat\"}, {\"MoisturePercent\": 80.0, \"MilkTypeEn\": \"Buffalo Cow\", \"FatLevel\": \"lower fat\"}, {\"MoisturePercent\": 45.0, \"MilkTypeEn\": \"Cow\", \"FatLevel\": \"lower fat\"}, {\"MoisturePercent\": 74.0, \"MilkTypeEn\": \"Cow\", \"FatLevel\": \"lower fat\"}, {\"MoisturePercent\": 50.0, \"MilkTypeEn\": \"Goat\", \"FatLevel\": \"lower fat\"}, {\"MoisturePercent\": 63.0, \"MilkTypeEn\": \"Goat\", \"FatLevel\": \"lower fat\"}, {\"MoisturePercent\": 65.0, \"MilkTypeEn\": \"Goat\", \"FatLevel\": \"lower fat\"}, {\"MoisturePercent\": 60.0, \"MilkTypeEn\": \"Cow\", \"FatLevel\": \"lower fat\"}, {\"MoisturePercent\": 42.0, \"MilkTypeEn\": \"Cow\", \"FatLevel\": \"lower fat\"}, {\"MoisturePercent\": 56.0, \"MilkTypeEn\": \"Cow\", \"FatLevel\": \"lower fat\"}, {\"MoisturePercent\": 43.0, \"MilkTypeEn\": \"Cow\", \"FatLevel\": \"lower fat\"}, {\"MoisturePercent\": 50.0, \"MilkTypeEn\": \"Goat\", \"FatLevel\": \"lower fat\"}, {\"MoisturePercent\": 76.0, \"MilkTypeEn\": \"Cow\", \"FatLevel\": \"lower fat\"}, {\"MoisturePercent\": 72.0, \"MilkTypeEn\": \"Cow\", \"FatLevel\": \"lower fat\"}, {\"MoisturePercent\": 56.0, \"MilkTypeEn\": \"Cow\", \"FatLevel\": \"lower fat\"}, {\"MoisturePercent\": 55.0, \"MilkTypeEn\": \"Goat\", \"FatLevel\": \"lower fat\"}, {\"MoisturePercent\": 39.0, \"MilkTypeEn\": \"Cow\", \"FatLevel\": \"higher fat\"}, {\"MoisturePercent\": 56.0, \"MilkTypeEn\": \"Goat\", \"FatLevel\": \"lower fat\"}, {\"MoisturePercent\": null, \"MilkTypeEn\": \"Cow\", \"FatLevel\": \"lower fat\"}, {\"MoisturePercent\": 44.0, \"MilkTypeEn\": \"Cow\", \"FatLevel\": \"lower fat\"}, {\"MoisturePercent\": 38.0, \"MilkTypeEn\": \"Cow\", \"FatLevel\": \"lower fat\"}, {\"MoisturePercent\": 34.0, \"MilkTypeEn\": \"Cow\", \"FatLevel\": \"higher fat\"}, {\"MoisturePercent\": 39.0, \"MilkTypeEn\": \"Cow\", \"FatLevel\": \"higher fat\"}, {\"MoisturePercent\": 43.0, \"MilkTypeEn\": \"Cow\", \"FatLevel\": \"lower fat\"}, {\"MoisturePercent\": 52.0, \"MilkTypeEn\": \"Cow\", \"FatLevel\": \"lower fat\"}, {\"MoisturePercent\": 50.0, \"MilkTypeEn\": \"Cow\", \"FatLevel\": \"higher fat\"}, {\"MoisturePercent\": 60.0, \"MilkTypeEn\": \"Cow\", \"FatLevel\": \"lower fat\"}, {\"MoisturePercent\": 43.0, \"MilkTypeEn\": \"Cow\", \"FatLevel\": \"lower fat\"}, {\"MoisturePercent\": 48.0, \"MilkTypeEn\": \"Goat\", \"FatLevel\": \"lower fat\"}, {\"MoisturePercent\": 27.0, \"MilkTypeEn\": \"Cow\", \"FatLevel\": \"lower fat\"}, {\"MoisturePercent\": 47.0, \"MilkTypeEn\": \"Cow\", \"FatLevel\": \"lower fat\"}, {\"MoisturePercent\": 42.0, \"MilkTypeEn\": \"Goat\", \"FatLevel\": \"lower fat\"}, {\"MoisturePercent\": 42.0, \"MilkTypeEn\": \"Cow\", \"FatLevel\": \"lower fat\"}, {\"MoisturePercent\": 50.0, \"MilkTypeEn\": \"Cow\", \"FatLevel\": \"lower fat\"}, {\"MoisturePercent\": 43.0, \"MilkTypeEn\": \"Cow\", \"FatLevel\": \"lower fat\"}, {\"MoisturePercent\": 42.0, \"MilkTypeEn\": \"Cow\", \"FatLevel\": \"lower fat\"}, {\"MoisturePercent\": 42.0, \"MilkTypeEn\": \"Cow\", \"FatLevel\": \"lower fat\"}, {\"MoisturePercent\": null, \"MilkTypeEn\": \"Cow\", \"FatLevel\": \"lower fat\"}, {\"MoisturePercent\": 41.0, \"MilkTypeEn\": \"Cow\", \"FatLevel\": \"higher fat\"}, {\"MoisturePercent\": 50.0, \"MilkTypeEn\": \"Cow\", \"FatLevel\": \"higher fat\"}, {\"MoisturePercent\": 43.0, \"MilkTypeEn\": \"Ewe\", \"FatLevel\": \"higher fat\"}, {\"MoisturePercent\": 55.0, \"MilkTypeEn\": \"Goat\", \"FatLevel\": \"lower fat\"}, {\"MoisturePercent\": 54.0, \"MilkTypeEn\": \"Goat\", \"FatLevel\": \"lower fat\"}, {\"MoisturePercent\": 57.0, \"MilkTypeEn\": \"Goat\", \"FatLevel\": \"lower fat\"}, {\"MoisturePercent\": 39.0, \"MilkTypeEn\": \"Cow\", \"FatLevel\": \"higher fat\"}, {\"MoisturePercent\": 56.0, \"MilkTypeEn\": \"Cow\", \"FatLevel\": \"lower fat\"}, {\"MoisturePercent\": 33.0, \"MilkTypeEn\": \"Cow\", \"FatLevel\": \"higher fat\"}, {\"MoisturePercent\": 37.0, \"MilkTypeEn\": \"Goat\", \"FatLevel\": \"higher fat\"}, {\"MoisturePercent\": 50.0, \"MilkTypeEn\": \"Cow\", \"FatLevel\": \"lower fat\"}, {\"MoisturePercent\": 44.0, \"MilkTypeEn\": \"Cow\", \"FatLevel\": \"lower fat\"}, {\"MoisturePercent\": 50.0, \"MilkTypeEn\": \"Cow\", \"FatLevel\": \"lower fat\"}, {\"MoisturePercent\": 39.0, \"MilkTypeEn\": \"Cow\", \"FatLevel\": \"higher fat\"}, {\"MoisturePercent\": 40.0, \"MilkTypeEn\": \"Cow\", \"FatLevel\": \"lower fat\"}, {\"MoisturePercent\": 56.0, \"MilkTypeEn\": \"Cow\", \"FatLevel\": \"lower fat\"}, {\"MoisturePercent\": 50.0, \"MilkTypeEn\": \"Cow\", \"FatLevel\": \"higher fat\"}, {\"MoisturePercent\": 60.0, \"MilkTypeEn\": \"Cow\", \"FatLevel\": \"lower fat\"}, {\"MoisturePercent\": 48.0, \"MilkTypeEn\": \"Cow\", \"FatLevel\": \"lower fat\"}, {\"MoisturePercent\": 41.0, \"MilkTypeEn\": \"Cow\", \"FatLevel\": \"higher fat\"}, {\"MoisturePercent\": 43.0, \"MilkTypeEn\": \"Cow\", \"FatLevel\": \"higher fat\"}, {\"MoisturePercent\": 50.0, \"MilkTypeEn\": \"Goat\", \"FatLevel\": \"lower fat\"}, {\"MoisturePercent\": 35.0, \"MilkTypeEn\": \"Cow\", \"FatLevel\": \"higher fat\"}, {\"MoisturePercent\": 39.0, \"MilkTypeEn\": \"Cow\", \"FatLevel\": \"higher fat\"}, {\"MoisturePercent\": 38.0, \"MilkTypeEn\": \"Cow\", \"FatLevel\": \"higher fat\"}, {\"MoisturePercent\": 50.0, \"MilkTypeEn\": \"Cow\", \"FatLevel\": \"lower fat\"}, {\"MoisturePercent\": 55.0, \"MilkTypeEn\": \"Cow\", \"FatLevel\": \"lower fat\"}, {\"MoisturePercent\": 68.0, \"MilkTypeEn\": \"Cow\", \"FatLevel\": \"lower fat\"}, {\"MoisturePercent\": 49.0, \"MilkTypeEn\": \"Cow\", \"FatLevel\": \"lower fat\"}, {\"MoisturePercent\": 46.0, \"MilkTypeEn\": \"Cow\", \"FatLevel\": \"lower fat\"}, {\"MoisturePercent\": 55.0, \"MilkTypeEn\": \"Goat\", \"FatLevel\": \"lower fat\"}, {\"MoisturePercent\": 50.0, \"MilkTypeEn\": \"Cow\", \"FatLevel\": \"lower fat\"}, {\"MoisturePercent\": 12.0, \"MilkTypeEn\": \"Goat\", \"FatLevel\": \"higher fat\"}, {\"MoisturePercent\": 39.0, \"MilkTypeEn\": \"Cow\", \"FatLevel\": \"higher fat\"}, {\"MoisturePercent\": 37.0, \"MilkTypeEn\": \"Cow\", \"FatLevel\": \"higher fat\"}, {\"MoisturePercent\": 52.0, \"MilkTypeEn\": \"Cow\", \"FatLevel\": \"higher fat\"}, {\"MoisturePercent\": 34.0, \"MilkTypeEn\": \"Ewe\", \"FatLevel\": \"higher fat\"}, {\"MoisturePercent\": 45.0, \"MilkTypeEn\": \"Cow\", \"FatLevel\": \"higher fat\"}, {\"MoisturePercent\": 47.0, \"MilkTypeEn\": \"Cow\", \"FatLevel\": \"lower fat\"}, {\"MoisturePercent\": 58.0, \"MilkTypeEn\": \"Goat\", \"FatLevel\": \"lower fat\"}, {\"MoisturePercent\": 50.0, \"MilkTypeEn\": \"Cow\", \"FatLevel\": \"lower fat\"}, {\"MoisturePercent\": 39.0, \"MilkTypeEn\": \"Cow\", \"FatLevel\": \"higher fat\"}, {\"MoisturePercent\": 45.0, \"MilkTypeEn\": \"Cow\", \"FatLevel\": \"lower fat\"}, {\"MoisturePercent\": 41.0, \"MilkTypeEn\": \"Cow\", \"FatLevel\": \"higher fat\"}, {\"MoisturePercent\": 44.0, \"MilkTypeEn\": \"Cow\", \"FatLevel\": \"lower fat\"}, {\"MoisturePercent\": 45.0, \"MilkTypeEn\": \"Cow\", \"FatLevel\": \"lower fat\"}, {\"MoisturePercent\": 39.0, \"MilkTypeEn\": \"Cow\", \"FatLevel\": \"higher fat\"}, {\"MoisturePercent\": 55.0, \"MilkTypeEn\": \"Cow and Goat\", \"FatLevel\": \"lower fat\"}, {\"MoisturePercent\": 36.0, \"MilkTypeEn\": \"Cow\", \"FatLevel\": \"higher fat\"}, {\"MoisturePercent\": 35.0, \"MilkTypeEn\": \"Goat\", \"FatLevel\": \"lower fat\"}, {\"MoisturePercent\": 35.0, \"MilkTypeEn\": \"Cow\", \"FatLevel\": \"lower fat\"}, {\"MoisturePercent\": 50.0, \"MilkTypeEn\": \"Goat\", \"FatLevel\": \"lower fat\"}, {\"MoisturePercent\": 50.0, \"MilkTypeEn\": \"Cow\", \"FatLevel\": \"lower fat\"}, {\"MoisturePercent\": 26.0, \"MilkTypeEn\": \"Cow\", \"FatLevel\": \"higher fat\"}, {\"MoisturePercent\": 52.0, \"MilkTypeEn\": \"Cow\", \"FatLevel\": \"lower fat\"}, {\"MoisturePercent\": 40.0, \"MilkTypeEn\": \"Cow\", \"FatLevel\": \"higher fat\"}, {\"MoisturePercent\": 55.0, \"MilkTypeEn\": \"Cow\", \"FatLevel\": \"lower fat\"}, {\"MoisturePercent\": 50.0, \"MilkTypeEn\": \"Cow\", \"FatLevel\": \"lower fat\"}, {\"MoisturePercent\": 38.0, \"MilkTypeEn\": \"Goat\", \"FatLevel\": \"higher fat\"}, {\"MoisturePercent\": 45.0, \"MilkTypeEn\": \"Cow\", \"FatLevel\": \"higher fat\"}, {\"MoisturePercent\": 35.0, \"MilkTypeEn\": \"Cow\", \"FatLevel\": \"higher fat\"}, {\"MoisturePercent\": 60.0, \"MilkTypeEn\": \"Goat\", \"FatLevel\": \"lower fat\"}, {\"MoisturePercent\": 48.0, \"MilkTypeEn\": \"Cow\", \"FatLevel\": \"lower fat\"}, {\"MoisturePercent\": 43.0, \"MilkTypeEn\": \"Cow\", \"FatLevel\": \"higher fat\"}, {\"MoisturePercent\": 61.0, \"MilkTypeEn\": \"Ewe\", \"FatLevel\": \"lower fat\"}, {\"MoisturePercent\": 50.0, \"MilkTypeEn\": \"Cow\", \"FatLevel\": \"higher fat\"}, {\"MoisturePercent\": 40.0, \"MilkTypeEn\": \"Goat\", \"FatLevel\": \"lower fat\"}, {\"MoisturePercent\": 39.0, \"MilkTypeEn\": \"Cow\", \"FatLevel\": \"higher fat\"}, {\"MoisturePercent\": 58.0, \"MilkTypeEn\": \"Goat\", \"FatLevel\": \"lower fat\"}, {\"MoisturePercent\": 52.0, \"MilkTypeEn\": \"Cow\", \"FatLevel\": \"lower fat\"}, {\"MoisturePercent\": 42.0, \"MilkTypeEn\": \"Cow\", \"FatLevel\": \"lower fat\"}, {\"MoisturePercent\": 43.0, \"MilkTypeEn\": \"Goat\", \"FatLevel\": \"lower fat\"}, {\"MoisturePercent\": 40.0, \"MilkTypeEn\": \"Cow\", \"FatLevel\": \"lower fat\"}, {\"MoisturePercent\": 48.0, \"MilkTypeEn\": \"Cow\", \"FatLevel\": \"lower fat\"}, {\"MoisturePercent\": 55.0, \"MilkTypeEn\": \"Goat\", \"FatLevel\": \"lower fat\"}, {\"MoisturePercent\": 50.0, \"MilkTypeEn\": \"Cow\", \"FatLevel\": \"lower fat\"}, {\"MoisturePercent\": 46.0, \"MilkTypeEn\": \"Goat\", \"FatLevel\": \"lower fat\"}, {\"MoisturePercent\": 50.0, \"MilkTypeEn\": \"Goat\", \"FatLevel\": \"lower fat\"}, {\"MoisturePercent\": 42.0, \"MilkTypeEn\": \"Cow\", \"FatLevel\": \"lower fat\"}, {\"MoisturePercent\": 50.0, \"MilkTypeEn\": \"Goat\", \"FatLevel\": \"lower fat\"}, {\"MoisturePercent\": 48.0, \"MilkTypeEn\": \"Cow\", \"FatLevel\": \"lower fat\"}, {\"MoisturePercent\": 50.0, \"MilkTypeEn\": \"Cow\", \"FatLevel\": \"lower fat\"}, {\"MoisturePercent\": 47.0, \"MilkTypeEn\": \"Cow\", \"FatLevel\": \"lower fat\"}, {\"MoisturePercent\": 55.0, \"MilkTypeEn\": \"Goat\", \"FatLevel\": \"lower fat\"}, {\"MoisturePercent\": 60.0, \"MilkTypeEn\": \"Cow and Goat\", \"FatLevel\": \"lower fat\"}, {\"MoisturePercent\": 39.0, \"MilkTypeEn\": \"Cow\", \"FatLevel\": \"higher fat\"}, {\"MoisturePercent\": 43.0, \"MilkTypeEn\": \"Goat\", \"FatLevel\": \"lower fat\"}, {\"MoisturePercent\": 57.0, \"MilkTypeEn\": \"Cow\", \"FatLevel\": \"lower fat\"}, {\"MoisturePercent\": 44.0, \"MilkTypeEn\": \"Cow\", \"FatLevel\": \"lower fat\"}, {\"MoisturePercent\": 50.0, \"MilkTypeEn\": \"Goat\", \"FatLevel\": \"lower fat\"}, {\"MoisturePercent\": 60.0, \"MilkTypeEn\": \"Goat\", \"FatLevel\": \"lower fat\"}, {\"MoisturePercent\": 47.0, \"MilkTypeEn\": \"Cow\", \"FatLevel\": \"lower fat\"}, {\"MoisturePercent\": 43.0, \"MilkTypeEn\": \"Ewe\", \"FatLevel\": \"higher fat\"}, {\"MoisturePercent\": 54.0, \"MilkTypeEn\": \"Cow\", \"FatLevel\": \"lower fat\"}, {\"MoisturePercent\": 50.0, \"MilkTypeEn\": \"Cow\", \"FatLevel\": \"higher fat\"}, {\"MoisturePercent\": 45.0, \"MilkTypeEn\": \"Goat\", \"FatLevel\": \"lower fat\"}, {\"MoisturePercent\": 50.0, \"MilkTypeEn\": \"Cow\", \"FatLevel\": \"higher fat\"}, {\"MoisturePercent\": 50.0, \"MilkTypeEn\": \"Cow and Goat\", \"FatLevel\": \"lower fat\"}, {\"MoisturePercent\": 55.0, \"MilkTypeEn\": \"Ewe\", \"FatLevel\": \"lower fat\"}, {\"MoisturePercent\": 50.0, \"MilkTypeEn\": \"Cow\", \"FatLevel\": \"lower fat\"}, {\"MoisturePercent\": 50.0, \"MilkTypeEn\": \"Goat\", \"FatLevel\": \"lower fat\"}, {\"MoisturePercent\": 46.0, \"MilkTypeEn\": \"Cow\", \"FatLevel\": \"lower fat\"}, {\"MoisturePercent\": 48.0, \"MilkTypeEn\": \"Cow\", \"FatLevel\": \"lower fat\"}, {\"MoisturePercent\": 48.0, \"MilkTypeEn\": \"Cow\", \"FatLevel\": \"lower fat\"}, {\"MoisturePercent\": 51.0, \"MilkTypeEn\": \"Cow\", \"FatLevel\": \"lower fat\"}, {\"MoisturePercent\": 42.0, \"MilkTypeEn\": \"Cow\", \"FatLevel\": \"higher fat\"}, {\"MoisturePercent\": 36.0, \"MilkTypeEn\": \"Cow\", \"FatLevel\": \"higher fat\"}, {\"MoisturePercent\": 62.0, \"MilkTypeEn\": \"Cow\", \"FatLevel\": \"lower fat\"}, {\"MoisturePercent\": 80.0, \"MilkTypeEn\": \"Ewe\", \"FatLevel\": \"lower fat\"}, {\"MoisturePercent\": 52.0, \"MilkTypeEn\": \"Cow\", \"FatLevel\": \"lower fat\"}, {\"MoisturePercent\": 45.0, \"MilkTypeEn\": \"Cow\", \"FatLevel\": \"higher fat\"}, {\"MoisturePercent\": 59.0, \"MilkTypeEn\": \"Goat\", \"FatLevel\": \"lower fat\"}, {\"MoisturePercent\": 42.0, \"MilkTypeEn\": \"Goat\", \"FatLevel\": \"lower fat\"}, {\"MoisturePercent\": 50.0, \"MilkTypeEn\": \"Goat\", \"FatLevel\": \"lower fat\"}, {\"MoisturePercent\": 48.0, \"MilkTypeEn\": \"Cow\", \"FatLevel\": \"lower fat\"}, {\"MoisturePercent\": 41.0, \"MilkTypeEn\": \"Goat\", \"FatLevel\": \"lower fat\"}, {\"MoisturePercent\": 46.0, \"MilkTypeEn\": \"Cow\", \"FatLevel\": \"lower fat\"}, {\"MoisturePercent\": 50.0, \"MilkTypeEn\": \"Cow\", \"FatLevel\": \"higher fat\"}, {\"MoisturePercent\": 43.0, \"MilkTypeEn\": \"Goat\", \"FatLevel\": \"lower fat\"}, {\"MoisturePercent\": 45.0, \"MilkTypeEn\": \"Cow\", \"FatLevel\": \"lower fat\"}, {\"MoisturePercent\": 42.0, \"MilkTypeEn\": \"Cow\", \"FatLevel\": \"lower fat\"}, {\"MoisturePercent\": 45.0, \"MilkTypeEn\": \"Cow\", \"FatLevel\": \"lower fat\"}, {\"MoisturePercent\": 50.0, \"MilkTypeEn\": \"Cow\", \"FatLevel\": \"higher fat\"}, {\"MoisturePercent\": 64.0, \"MilkTypeEn\": \"Ewe\", \"FatLevel\": \"lower fat\"}, {\"MoisturePercent\": 40.0, \"MilkTypeEn\": \"Ewe\", \"FatLevel\": \"lower fat\"}, {\"MoisturePercent\": 38.0, \"MilkTypeEn\": \"Cow\", \"FatLevel\": \"higher fat\"}, {\"MoisturePercent\": 57.0, \"MilkTypeEn\": \"Goat\", \"FatLevel\": \"lower fat\"}, {\"MoisturePercent\": 45.0, \"MilkTypeEn\": \"Cow\", \"FatLevel\": \"higher fat\"}, {\"MoisturePercent\": 50.0, \"MilkTypeEn\": \"Cow\", \"FatLevel\": \"lower fat\"}, {\"MoisturePercent\": 35.0, \"MilkTypeEn\": \"Cow\", \"FatLevel\": \"higher fat\"}, {\"MoisturePercent\": 45.0, \"MilkTypeEn\": \"Cow\", \"FatLevel\": \"higher fat\"}, {\"MoisturePercent\": 42.8, \"MilkTypeEn\": \"Cow\", \"FatLevel\": \"lower fat\"}, {\"MoisturePercent\": 45.0, \"MilkTypeEn\": \"Cow\", \"FatLevel\": \"higher fat\"}, {\"MoisturePercent\": 40.0, \"MilkTypeEn\": \"Cow\", \"FatLevel\": \"lower fat\"}, {\"MoisturePercent\": 40.0, \"MilkTypeEn\": \"Goat\", \"FatLevel\": \"lower fat\"}, {\"MoisturePercent\": 55.0, \"MilkTypeEn\": \"Cow\", \"FatLevel\": \"lower fat\"}, {\"MoisturePercent\": 45.0, \"MilkTypeEn\": \"Cow\", \"FatLevel\": \"lower fat\"}, {\"MoisturePercent\": 41.0, \"MilkTypeEn\": \"Goat\", \"FatLevel\": \"higher fat\"}, {\"MoisturePercent\": 21.0, \"MilkTypeEn\": \"Ewe\", \"FatLevel\": \"higher fat\"}, {\"MoisturePercent\": 48.0, \"MilkTypeEn\": \"Cow\", \"FatLevel\": \"lower fat\"}, {\"MoisturePercent\": 50.0, \"MilkTypeEn\": \"Cow\", \"FatLevel\": \"lower fat\"}, {\"MoisturePercent\": 50.0, \"MilkTypeEn\": \"Cow\", \"FatLevel\": \"lower fat\"}, {\"MoisturePercent\": 50.0, \"MilkTypeEn\": \"Cow\", \"FatLevel\": \"lower fat\"}, {\"MoisturePercent\": 55.0, \"MilkTypeEn\": \"Cow\", \"FatLevel\": \"lower fat\"}, {\"MoisturePercent\": 58.0, \"MilkTypeEn\": \"Ewe\", \"FatLevel\": \"lower fat\"}, {\"MoisturePercent\": 39.0, \"MilkTypeEn\": \"Cow\", \"FatLevel\": \"higher fat\"}, {\"MoisturePercent\": 43.0, \"MilkTypeEn\": \"Goat\", \"FatLevel\": \"lower fat\"}, {\"MoisturePercent\": 50.0, \"MilkTypeEn\": \"Goat\", \"FatLevel\": \"lower fat\"}, {\"MoisturePercent\": 38.0, \"MilkTypeEn\": \"Cow\", \"FatLevel\": \"higher fat\"}, {\"MoisturePercent\": 57.0, \"MilkTypeEn\": \"Goat\", \"FatLevel\": \"higher fat\"}, {\"MoisturePercent\": 34.0, \"MilkTypeEn\": \"Cow\", \"FatLevel\": \"higher fat\"}, {\"MoisturePercent\": 41.0, \"MilkTypeEn\": \"Cow\", \"FatLevel\": \"higher fat\"}, {\"MoisturePercent\": 50.0, \"MilkTypeEn\": \"Goat\", \"FatLevel\": \"lower fat\"}, {\"MoisturePercent\": 39.0, \"MilkTypeEn\": \"Cow\", \"FatLevel\": \"higher fat\"}, {\"MoisturePercent\": 39.0, \"MilkTypeEn\": \"Cow\", \"FatLevel\": \"higher fat\"}, {\"MoisturePercent\": 54.0, \"MilkTypeEn\": \"Cow\", \"FatLevel\": \"lower fat\"}, {\"MoisturePercent\": 39.0, \"MilkTypeEn\": \"Cow\", \"FatLevel\": \"higher fat\"}, {\"MoisturePercent\": 46.0, \"MilkTypeEn\": \"Cow\", \"FatLevel\": \"lower fat\"}, {\"MoisturePercent\": 40.0, \"MilkTypeEn\": \"Cow\", \"FatLevel\": \"lower fat\"}, {\"MoisturePercent\": null, \"MilkTypeEn\": \"Ewe\", \"FatLevel\": \"lower fat\"}, {\"MoisturePercent\": 52.0, \"MilkTypeEn\": \"Goat\", \"FatLevel\": \"lower fat\"}, {\"MoisturePercent\": 52.0, \"MilkTypeEn\": \"Cow\", \"FatLevel\": \"lower fat\"}, {\"MoisturePercent\": 54.0, \"MilkTypeEn\": \"Cow\", \"FatLevel\": \"lower fat\"}, {\"MoisturePercent\": 46.0, \"MilkTypeEn\": \"Cow\", \"FatLevel\": \"lower fat\"}, {\"MoisturePercent\": 38.0, \"MilkTypeEn\": \"Cow\", \"FatLevel\": \"higher fat\"}, {\"MoisturePercent\": 92.0, \"MilkTypeEn\": \"Cow\", \"FatLevel\": \"lower fat\"}, {\"MoisturePercent\": 46.0, \"MilkTypeEn\": \"Cow\", \"FatLevel\": \"lower fat\"}, {\"MoisturePercent\": 52.0, \"MilkTypeEn\": \"Cow\", \"FatLevel\": \"lower fat\"}, {\"MoisturePercent\": 40.0, \"MilkTypeEn\": \"Goat\", \"FatLevel\": \"higher fat\"}, {\"MoisturePercent\": 43.0, \"MilkTypeEn\": \"Goat\", \"FatLevel\": \"lower fat\"}, {\"MoisturePercent\": 45.0, \"MilkTypeEn\": \"Cow\", \"FatLevel\": \"higher fat\"}, {\"MoisturePercent\": 39.0, \"MilkTypeEn\": \"Cow\", \"FatLevel\": \"higher fat\"}, {\"MoisturePercent\": 35.0, \"MilkTypeEn\": \"Goat\", \"FatLevel\": \"higher fat\"}, {\"MoisturePercent\": 50.0, \"MilkTypeEn\": \"Goat\", \"FatLevel\": \"lower fat\"}, {\"MoisturePercent\": 50.0, \"MilkTypeEn\": \"Cow\", \"FatLevel\": \"lower fat\"}, {\"MoisturePercent\": 56.0, \"MilkTypeEn\": \"Goat\", \"FatLevel\": \"lower fat\"}, {\"MoisturePercent\": 57.0, \"MilkTypeEn\": \"Cow\", \"FatLevel\": \"lower fat\"}, {\"MoisturePercent\": 56.0, \"MilkTypeEn\": \"Goat\", \"FatLevel\": \"lower fat\"}, {\"MoisturePercent\": 64.0, \"MilkTypeEn\": \"Buffalo Cow\", \"FatLevel\": \"lower fat\"}, {\"MoisturePercent\": 54.0, \"MilkTypeEn\": \"Cow\", \"FatLevel\": \"lower fat\"}, {\"MoisturePercent\": 40.0, \"MilkTypeEn\": \"Cow\", \"FatLevel\": \"lower fat\"}, {\"MoisturePercent\": 54.0, \"MilkTypeEn\": \"Ewe\", \"FatLevel\": \"lower fat\"}, {\"MoisturePercent\": 38.0, \"MilkTypeEn\": \"Cow\", \"FatLevel\": \"higher fat\"}, {\"MoisturePercent\": 60.0, \"MilkTypeEn\": \"Ewe and Goat\", \"FatLevel\": \"lower fat\"}, {\"MoisturePercent\": 50.0, \"MilkTypeEn\": \"Goat\", \"FatLevel\": \"lower fat\"}, {\"MoisturePercent\": 41.0, \"MilkTypeEn\": \"Cow\", \"FatLevel\": \"higher fat\"}, {\"MoisturePercent\": 20.0, \"MilkTypeEn\": \"Cow\", \"FatLevel\": \"higher fat\"}, {\"MoisturePercent\": 52.0, \"MilkTypeEn\": \"Goat\", \"FatLevel\": \"lower fat\"}, {\"MoisturePercent\": 39.0, \"MilkTypeEn\": \"Cow\", \"FatLevel\": \"higher fat\"}, {\"MoisturePercent\": 65.0, \"MilkTypeEn\": \"Goat\", \"FatLevel\": \"lower fat\"}, {\"MoisturePercent\": null, \"MilkTypeEn\": \"Cow\", \"FatLevel\": \"lower fat\"}, {\"MoisturePercent\": 42.0, \"MilkTypeEn\": \"Goat\", \"FatLevel\": \"lower fat\"}, {\"MoisturePercent\": 46.0, \"MilkTypeEn\": \"Cow\", \"FatLevel\": \"lower fat\"}, {\"MoisturePercent\": 41.0, \"MilkTypeEn\": \"Cow\", \"FatLevel\": \"higher fat\"}, {\"MoisturePercent\": 35.0, \"MilkTypeEn\": \"Cow\", \"FatLevel\": \"higher fat\"}, {\"MoisturePercent\": 50.0, \"MilkTypeEn\": \"Goat\", \"FatLevel\": \"lower fat\"}, {\"MoisturePercent\": 48.0, \"MilkTypeEn\": \"Goat\", \"FatLevel\": \"lower fat\"}, {\"MoisturePercent\": 48.0, \"MilkTypeEn\": \"Ewe\", \"FatLevel\": \"higher fat\"}, {\"MoisturePercent\": 36.0, \"MilkTypeEn\": \"Cow\", \"FatLevel\": \"higher fat\"}, {\"MoisturePercent\": 40.0, \"MilkTypeEn\": \"Cow\", \"FatLevel\": \"higher fat\"}, {\"MoisturePercent\": 63.0, \"MilkTypeEn\": \"Goat\", \"FatLevel\": \"lower fat\"}, {\"MoisturePercent\": 24.0, \"MilkTypeEn\": \"Cow\", \"FatLevel\": \"higher fat\"}, {\"MoisturePercent\": 55.0, \"MilkTypeEn\": \"Goat\", \"FatLevel\": \"higher fat\"}, {\"MoisturePercent\": 70.0, \"MilkTypeEn\": \"Goat\", \"FatLevel\": \"lower fat\"}, {\"MoisturePercent\": 65.0, \"MilkTypeEn\": \"Cow\", \"FatLevel\": \"lower fat\"}, {\"MoisturePercent\": 55.0, \"MilkTypeEn\": \"Cow\", \"FatLevel\": \"lower fat\"}, {\"MoisturePercent\": 50.0, \"MilkTypeEn\": \"Cow\", \"FatLevel\": \"higher fat\"}, {\"MoisturePercent\": 55.0, \"MilkTypeEn\": \"Goat\", \"FatLevel\": \"lower fat\"}, {\"MoisturePercent\": 42.6, \"MilkTypeEn\": \"Goat\", \"FatLevel\": \"lower fat\"}, {\"MoisturePercent\": 52.0, \"MilkTypeEn\": \"Cow\", \"FatLevel\": \"lower fat\"}, {\"MoisturePercent\": 50.0, \"MilkTypeEn\": \"Cow\", \"FatLevel\": \"lower fat\"}, {\"MoisturePercent\": 50.0, \"MilkTypeEn\": \"Cow\", \"FatLevel\": \"lower fat\"}, {\"MoisturePercent\": 29.0, \"MilkTypeEn\": \"Cow\", \"FatLevel\": \"higher fat\"}, {\"MoisturePercent\": 50.0, \"MilkTypeEn\": \"Cow\", \"FatLevel\": \"lower fat\"}, {\"MoisturePercent\": 50.0, \"MilkTypeEn\": \"Cow and Goat\", \"FatLevel\": \"lower fat\"}, {\"MoisturePercent\": 48.0, \"MilkTypeEn\": \"Cow\", \"FatLevel\": \"lower fat\"}, {\"MoisturePercent\": 50.0, \"MilkTypeEn\": \"Ewe\", \"FatLevel\": \"lower fat\"}, {\"MoisturePercent\": 80.0, \"MilkTypeEn\": \"Cow\", \"FatLevel\": \"lower fat\"}, {\"MoisturePercent\": 74.0, \"MilkTypeEn\": \"Goat\", \"FatLevel\": \"lower fat\"}, {\"MoisturePercent\": 45.0, \"MilkTypeEn\": \"Ewe\", \"FatLevel\": \"higher fat\"}, {\"MoisturePercent\": 52.0, \"MilkTypeEn\": \"Cow\", \"FatLevel\": \"lower fat\"}, {\"MoisturePercent\": 50.0, \"MilkTypeEn\": \"Cow\", \"FatLevel\": \"higher fat\"}, {\"MoisturePercent\": 50.0, \"MilkTypeEn\": \"Cow\", \"FatLevel\": \"lower fat\"}, {\"MoisturePercent\": 39.0, \"MilkTypeEn\": \"Cow\", \"FatLevel\": \"higher fat\"}, {\"MoisturePercent\": 44.0, \"MilkTypeEn\": \"Cow\", \"FatLevel\": \"lower fat\"}, {\"MoisturePercent\": 39.0, \"MilkTypeEn\": \"Cow\", \"FatLevel\": \"higher fat\"}, {\"MoisturePercent\": 43.0, \"MilkTypeEn\": \"Goat\", \"FatLevel\": \"lower fat\"}, {\"MoisturePercent\": 47.0, \"MilkTypeEn\": \"Cow\", \"FatLevel\": \"lower fat\"}, {\"MoisturePercent\": 49.0, \"MilkTypeEn\": \"Cow\", \"FatLevel\": \"lower fat\"}, {\"MoisturePercent\": 50.0, \"MilkTypeEn\": \"Cow\", \"FatLevel\": \"lower fat\"}, {\"MoisturePercent\": 42.0, \"MilkTypeEn\": \"Cow\", \"FatLevel\": \"lower fat\"}, {\"MoisturePercent\": 50.0, \"MilkTypeEn\": \"Cow\", \"FatLevel\": \"higher fat\"}, {\"MoisturePercent\": 41.0, \"MilkTypeEn\": \"Cow\", \"FatLevel\": \"higher fat\"}, {\"MoisturePercent\": 50.0, \"MilkTypeEn\": \"Cow\", \"FatLevel\": \"lower fat\"}, {\"MoisturePercent\": 39.0, \"MilkTypeEn\": \"Cow\", \"FatLevel\": \"higher fat\"}, {\"MoisturePercent\": 39.0, \"MilkTypeEn\": \"Cow\", \"FatLevel\": \"higher fat\"}, {\"MoisturePercent\": 50.0, \"MilkTypeEn\": \"Cow\", \"FatLevel\": \"higher fat\"}, {\"MoisturePercent\": 60.0, \"MilkTypeEn\": \"Goat\", \"FatLevel\": \"lower fat\"}, {\"MoisturePercent\": 50.0, \"MilkTypeEn\": \"Cow\", \"FatLevel\": \"higher fat\"}, {\"MoisturePercent\": 46.0, \"MilkTypeEn\": \"Cow\", \"FatLevel\": \"lower fat\"}, {\"MoisturePercent\": 32.0, \"MilkTypeEn\": \"Cow\", \"FatLevel\": \"lower fat\"}, {\"MoisturePercent\": 40.0, \"MilkTypeEn\": \"Goat\", \"FatLevel\": \"higher fat\"}, {\"MoisturePercent\": 55.0, \"MilkTypeEn\": \"Cow\", \"FatLevel\": \"lower fat\"}, {\"MoisturePercent\": 39.0, \"MilkTypeEn\": \"Ewe\", \"FatLevel\": \"lower fat\"}, {\"MoisturePercent\": 47.0, \"MilkTypeEn\": \"Cow\", \"FatLevel\": \"lower fat\"}, {\"MoisturePercent\": 48.0, \"MilkTypeEn\": \"Cow\", \"FatLevel\": \"lower fat\"}, {\"MoisturePercent\": 55.0, \"MilkTypeEn\": \"Goat\", \"FatLevel\": \"lower fat\"}, {\"MoisturePercent\": 42.0, \"MilkTypeEn\": \"Cow and Goat\", \"FatLevel\": \"higher fat\"}, {\"MoisturePercent\": 55.0, \"MilkTypeEn\": \"Cow\", \"FatLevel\": \"lower fat\"}, {\"MoisturePercent\": 48.0, \"MilkTypeEn\": \"Cow\", \"FatLevel\": \"lower fat\"}, {\"MoisturePercent\": 40.0, \"MilkTypeEn\": \"Cow\", \"FatLevel\": \"lower fat\"}, {\"MoisturePercent\": 55.0, \"MilkTypeEn\": \"Cow\", \"FatLevel\": \"lower fat\"}, {\"MoisturePercent\": 50.0, \"MilkTypeEn\": \"Cow\", \"FatLevel\": \"higher fat\"}, {\"MoisturePercent\": 50.0, \"MilkTypeEn\": \"Cow\", \"FatLevel\": \"lower fat\"}, {\"MoisturePercent\": 38.0, \"MilkTypeEn\": \"Cow\", \"FatLevel\": \"lower fat\"}, {\"MoisturePercent\": 50.0, \"MilkTypeEn\": \"Goat\", \"FatLevel\": \"lower fat\"}, {\"MoisturePercent\": 55.0, \"MilkTypeEn\": \"Cow\", \"FatLevel\": \"lower fat\"}, {\"MoisturePercent\": 42.0, \"MilkTypeEn\": \"Goat\", \"FatLevel\": \"lower fat\"}, {\"MoisturePercent\": 48.0, \"MilkTypeEn\": \"Cow\", \"FatLevel\": \"lower fat\"}, {\"MoisturePercent\": 48.0, \"MilkTypeEn\": \"Cow\", \"FatLevel\": \"higher fat\"}, {\"MoisturePercent\": 45.0, \"MilkTypeEn\": \"Cow\", \"FatLevel\": \"lower fat\"}, {\"MoisturePercent\": 45.0, \"MilkTypeEn\": \"Ewe and Cow\", \"FatLevel\": \"higher fat\"}, {\"MoisturePercent\": 40.0, \"MilkTypeEn\": \"Cow\", \"FatLevel\": \"lower fat\"}, {\"MoisturePercent\": 43.0, \"MilkTypeEn\": \"Cow\", \"FatLevel\": \"lower fat\"}, {\"MoisturePercent\": 42.0, \"MilkTypeEn\": \"Cow\", \"FatLevel\": \"higher fat\"}, {\"MoisturePercent\": 39.0, \"MilkTypeEn\": \"Cow\", \"FatLevel\": \"higher fat\"}, {\"MoisturePercent\": 56.0, \"MilkTypeEn\": \"Cow and Goat\", \"FatLevel\": \"lower fat\"}, {\"MoisturePercent\": 37.0, \"MilkTypeEn\": \"Goat\", \"FatLevel\": \"higher fat\"}, {\"MoisturePercent\": 40.0, \"MilkTypeEn\": \"Cow\", \"FatLevel\": \"higher fat\"}, {\"MoisturePercent\": 50.0, \"MilkTypeEn\": \"Cow\", \"FatLevel\": \"higher fat\"}, {\"MoisturePercent\": 40.0, \"MilkTypeEn\": \"Cow\", \"FatLevel\": \"lower fat\"}, {\"MoisturePercent\": 22.0, \"MilkTypeEn\": \"Cow\", \"FatLevel\": \"higher fat\"}, {\"MoisturePercent\": 53.0, \"MilkTypeEn\": \"Cow\", \"FatLevel\": \"lower fat\"}, {\"MoisturePercent\": 55.0, \"MilkTypeEn\": \"Cow\", \"FatLevel\": \"lower fat\"}, {\"MoisturePercent\": 37.0, \"MilkTypeEn\": \"Cow\", \"FatLevel\": \"higher fat\"}, {\"MoisturePercent\": 48.0, \"MilkTypeEn\": \"Goat\", \"FatLevel\": \"lower fat\"}, {\"MoisturePercent\": 35.0, \"MilkTypeEn\": \"Goat\", \"FatLevel\": \"lower fat\"}, {\"MoisturePercent\": 45.0, \"MilkTypeEn\": \"Cow\", \"FatLevel\": \"lower fat\"}, {\"MoisturePercent\": 34.0, \"MilkTypeEn\": \"Cow\", \"FatLevel\": \"lower fat\"}, {\"MoisturePercent\": 43.0, \"MilkTypeEn\": \"Ewe\", \"FatLevel\": \"lower fat\"}, {\"MoisturePercent\": 55.0, \"MilkTypeEn\": \"Ewe\", \"FatLevel\": \"lower fat\"}, {\"MoisturePercent\": 54.0, \"MilkTypeEn\": \"Cow\", \"FatLevel\": \"lower fat\"}, {\"MoisturePercent\": null, \"MilkTypeEn\": \"Ewe\", \"FatLevel\": \"lower fat\"}, {\"MoisturePercent\": 36.0, \"MilkTypeEn\": \"Cow\", \"FatLevel\": \"higher fat\"}, {\"MoisturePercent\": 50.0, \"MilkTypeEn\": \"Cow\", \"FatLevel\": \"lower fat\"}, {\"MoisturePercent\": 42.0, \"MilkTypeEn\": \"Goat\", \"FatLevel\": \"lower fat\"}, {\"MoisturePercent\": 54.0, \"MilkTypeEn\": \"Cow\", \"FatLevel\": \"lower fat\"}, {\"MoisturePercent\": 55.0, \"MilkTypeEn\": \"Goat\", \"FatLevel\": \"lower fat\"}, {\"MoisturePercent\": 56.0, \"MilkTypeEn\": \"Cow\", \"FatLevel\": \"lower fat\"}, {\"MoisturePercent\": 55.0, \"MilkTypeEn\": \"Goat\", \"FatLevel\": \"higher fat\"}, {\"MoisturePercent\": 41.0, \"MilkTypeEn\": \"Cow\", \"FatLevel\": \"higher fat\"}, {\"MoisturePercent\": 41.0, \"MilkTypeEn\": \"Goat\", \"FatLevel\": \"higher fat\"}, {\"MoisturePercent\": 47.0, \"MilkTypeEn\": \"Cow\", \"FatLevel\": \"lower fat\"}, {\"MoisturePercent\": 61.0, \"MilkTypeEn\": \"Cow\", \"FatLevel\": \"lower fat\"}, {\"MoisturePercent\": 35.0, \"MilkTypeEn\": \"Cow\", \"FatLevel\": \"higher fat\"}, {\"MoisturePercent\": 41.0, \"MilkTypeEn\": \"Cow\", \"FatLevel\": \"higher fat\"}, {\"MoisturePercent\": 37.0, \"MilkTypeEn\": \"Goat\", \"FatLevel\": \"higher fat\"}, {\"MoisturePercent\": 45.0, \"MilkTypeEn\": \"Cow\", \"FatLevel\": \"lower fat\"}, {\"MoisturePercent\": 54.0, \"MilkTypeEn\": \"Cow\", \"FatLevel\": \"lower fat\"}, {\"MoisturePercent\": 57.0, \"MilkTypeEn\": \"Cow\", \"FatLevel\": \"lower fat\"}, {\"MoisturePercent\": 72.0, \"MilkTypeEn\": \"Ewe\", \"FatLevel\": \"lower fat\"}, {\"MoisturePercent\": 39.0, \"MilkTypeEn\": \"Cow\", \"FatLevel\": \"higher fat\"}, {\"MoisturePercent\": 39.0, \"MilkTypeEn\": \"Cow\", \"FatLevel\": \"higher fat\"}, {\"MoisturePercent\": 42.0, \"MilkTypeEn\": \"Cow\", \"FatLevel\": \"higher fat\"}, {\"MoisturePercent\": 50.0, \"MilkTypeEn\": \"Cow\", \"FatLevel\": \"higher fat\"}, {\"MoisturePercent\": 55.0, \"MilkTypeEn\": \"Cow\", \"FatLevel\": \"lower fat\"}, {\"MoisturePercent\": 45.0, \"MilkTypeEn\": \"Cow\", \"FatLevel\": \"lower fat\"}, {\"MoisturePercent\": 45.0, \"MilkTypeEn\": \"Cow\", \"FatLevel\": \"higher fat\"}, {\"MoisturePercent\": 48.0, \"MilkTypeEn\": \"Cow\", \"FatLevel\": \"lower fat\"}, {\"MoisturePercent\": 42.0, \"MilkTypeEn\": \"Cow\", \"FatLevel\": \"lower fat\"}, {\"MoisturePercent\": 50.0, \"MilkTypeEn\": \"Cow\", \"FatLevel\": \"higher fat\"}, {\"MoisturePercent\": 37.0, \"MilkTypeEn\": \"Goat\", \"FatLevel\": \"higher fat\"}, {\"MoisturePercent\": 65.0, \"MilkTypeEn\": \"Cow\", \"FatLevel\": \"lower fat\"}, {\"MoisturePercent\": 54.0, \"MilkTypeEn\": \"Cow\", \"FatLevel\": \"higher fat\"}, {\"MoisturePercent\": 41.0, \"MilkTypeEn\": \"Cow\", \"FatLevel\": \"higher fat\"}, {\"MoisturePercent\": 40.0, \"MilkTypeEn\": \"Cow\", \"FatLevel\": \"lower fat\"}, {\"MoisturePercent\": 39.0, \"MilkTypeEn\": \"Cow\", \"FatLevel\": \"higher fat\"}, {\"MoisturePercent\": 42.0, \"MilkTypeEn\": \"Cow\", \"FatLevel\": \"lower fat\"}, {\"MoisturePercent\": 48.0, \"MilkTypeEn\": \"Cow\", \"FatLevel\": \"lower fat\"}, {\"MoisturePercent\": 39.0, \"MilkTypeEn\": \"Ewe\", \"FatLevel\": \"higher fat\"}, {\"MoisturePercent\": 52.0, \"MilkTypeEn\": \"Cow\", \"FatLevel\": \"lower fat\"}, {\"MoisturePercent\": 42.0, \"MilkTypeEn\": \"Cow\", \"FatLevel\": \"lower fat\"}, {\"MoisturePercent\": 40.0, \"MilkTypeEn\": \"Goat\", \"FatLevel\": \"higher fat\"}, {\"MoisturePercent\": 42.0, \"MilkTypeEn\": \"Cow\", \"FatLevel\": \"higher fat\"}, {\"MoisturePercent\": 42.0, \"MilkTypeEn\": \"Cow\", \"FatLevel\": \"lower fat\"}, {\"MoisturePercent\": 44.0, \"MilkTypeEn\": \"Cow\", \"FatLevel\": \"higher fat\"}, {\"MoisturePercent\": 62.0, \"MilkTypeEn\": \"Goat\", \"FatLevel\": \"lower fat\"}, {\"MoisturePercent\": 48.0, \"MilkTypeEn\": \"Cow\", \"FatLevel\": \"lower fat\"}, {\"MoisturePercent\": 33.0, \"MilkTypeEn\": \"Cow\", \"FatLevel\": \"higher fat\"}, {\"MoisturePercent\": 39.0, \"MilkTypeEn\": \"Cow\", \"FatLevel\": \"higher fat\"}, {\"MoisturePercent\": 39.0, \"MilkTypeEn\": \"Cow\", \"FatLevel\": \"higher fat\"}, {\"MoisturePercent\": 55.0, \"MilkTypeEn\": \"Cow\", \"FatLevel\": \"lower fat\"}, {\"MoisturePercent\": 45.0, \"MilkTypeEn\": \"Cow\", \"FatLevel\": \"higher fat\"}, {\"MoisturePercent\": null, \"MilkTypeEn\": \"Cow\", \"FatLevel\": \"lower fat\"}, {\"MoisturePercent\": 40.0, \"MilkTypeEn\": \"Cow\", \"FatLevel\": \"lower fat\"}, {\"MoisturePercent\": 48.0, \"MilkTypeEn\": \"Cow\", \"FatLevel\": \"higher fat\"}, {\"MoisturePercent\": 38.0, \"MilkTypeEn\": \"Cow\", \"FatLevel\": \"higher fat\"}, {\"MoisturePercent\": 32.0, \"MilkTypeEn\": \"Cow\", \"FatLevel\": \"lower fat\"}, {\"MoisturePercent\": 52.0, \"MilkTypeEn\": \"Cow\", \"FatLevel\": \"higher fat\"}, {\"MoisturePercent\": 45.0, \"MilkTypeEn\": \"Cow\", \"FatLevel\": \"higher fat\"}, {\"MoisturePercent\": 34.0, \"MilkTypeEn\": \"Goat\", \"FatLevel\": \"higher fat\"}, {\"MoisturePercent\": 48.0, \"MilkTypeEn\": \"Cow\", \"FatLevel\": \"higher fat\"}, {\"MoisturePercent\": 42.0, \"MilkTypeEn\": \"Cow\", \"FatLevel\": \"lower fat\"}, {\"MoisturePercent\": 60.0, \"MilkTypeEn\": \"Cow\", \"FatLevel\": \"lower fat\"}, {\"MoisturePercent\": 39.0, \"MilkTypeEn\": \"Cow\", \"FatLevel\": \"higher fat\"}, {\"MoisturePercent\": 41.0, \"MilkTypeEn\": \"Goat\", \"FatLevel\": \"lower fat\"}, {\"MoisturePercent\": 49.0, \"MilkTypeEn\": \"Cow\", \"FatLevel\": \"lower fat\"}, {\"MoisturePercent\": 58.0, \"MilkTypeEn\": \"Cow\", \"FatLevel\": \"lower fat\"}, {\"MoisturePercent\": 56.0, \"MilkTypeEn\": \"Cow\", \"FatLevel\": \"lower fat\"}, {\"MoisturePercent\": 46.0, \"MilkTypeEn\": \"Cow\", \"FatLevel\": \"lower fat\"}, {\"MoisturePercent\": 50.0, \"MilkTypeEn\": \"Ewe\", \"FatLevel\": \"lower fat\"}, {\"MoisturePercent\": 35.0, \"MilkTypeEn\": \"Cow\", \"FatLevel\": \"higher fat\"}, {\"MoisturePercent\": 43.0, \"MilkTypeEn\": \"Goat\", \"FatLevel\": \"lower fat\"}, {\"MoisturePercent\": 46.0, \"MilkTypeEn\": \"Cow\", \"FatLevel\": \"lower fat\"}, {\"MoisturePercent\": 45.0, \"MilkTypeEn\": \"Cow\", \"FatLevel\": \"higher fat\"}, {\"MoisturePercent\": 60.0, \"MilkTypeEn\": \"Goat\", \"FatLevel\": \"lower fat\"}, {\"MoisturePercent\": 50.0, \"MilkTypeEn\": \"Goat\", \"FatLevel\": \"lower fat\"}, {\"MoisturePercent\": 47.0, \"MilkTypeEn\": \"Cow\", \"FatLevel\": \"higher fat\"}, {\"MoisturePercent\": 52.0, \"MilkTypeEn\": \"Cow\", \"FatLevel\": \"higher fat\"}, {\"MoisturePercent\": 50.0, \"MilkTypeEn\": \"Goat\", \"FatLevel\": \"lower fat\"}, {\"MoisturePercent\": 65.0, \"MilkTypeEn\": \"Ewe\", \"FatLevel\": \"higher fat\"}, {\"MoisturePercent\": 50.0, \"MilkTypeEn\": \"Goat\", \"FatLevel\": \"lower fat\"}, {\"MoisturePercent\": 68.0, \"MilkTypeEn\": \"Goat\", \"FatLevel\": \"lower fat\"}, {\"MoisturePercent\": 50.0, \"MilkTypeEn\": \"Cow\", \"FatLevel\": \"lower fat\"}, {\"MoisturePercent\": 50.0, \"MilkTypeEn\": \"Cow\", \"FatLevel\": \"lower fat\"}, {\"MoisturePercent\": 39.0, \"MilkTypeEn\": \"Cow\", \"FatLevel\": \"higher fat\"}, {\"MoisturePercent\": 48.0, \"MilkTypeEn\": \"Cow\", \"FatLevel\": \"lower fat\"}, {\"MoisturePercent\": 47.0, \"MilkTypeEn\": \"Ewe\", \"FatLevel\": \"higher fat\"}, {\"MoisturePercent\": 43.0, \"MilkTypeEn\": \"Cow\", \"FatLevel\": \"higher fat\"}, {\"MoisturePercent\": 40.0, \"MilkTypeEn\": \"Cow\", \"FatLevel\": \"lower fat\"}, {\"MoisturePercent\": 56.0, \"MilkTypeEn\": \"Cow\", \"FatLevel\": \"lower fat\"}, {\"MoisturePercent\": 40.0, \"MilkTypeEn\": \"Cow\", \"FatLevel\": \"lower fat\"}, {\"MoisturePercent\": 70.0, \"MilkTypeEn\": \"Cow\", \"FatLevel\": \"lower fat\"}, {\"MoisturePercent\": 60.0, \"MilkTypeEn\": \"Cow\", \"FatLevel\": \"lower fat\"}, {\"MoisturePercent\": 40.0, \"MilkTypeEn\": \"Cow\", \"FatLevel\": \"lower fat\"}, {\"MoisturePercent\": 39.0, \"MilkTypeEn\": \"Cow\", \"FatLevel\": \"higher fat\"}, {\"MoisturePercent\": 52.0, \"MilkTypeEn\": \"Goat\", \"FatLevel\": \"lower fat\"}, {\"MoisturePercent\": 39.0, \"MilkTypeEn\": \"Cow\", \"FatLevel\": \"higher fat\"}, {\"MoisturePercent\": 34.0, \"MilkTypeEn\": \"Cow\", \"FatLevel\": \"higher fat\"}, {\"MoisturePercent\": 56.0, \"MilkTypeEn\": \"Goat\", \"FatLevel\": \"lower fat\"}, {\"MoisturePercent\": 42.0, \"MilkTypeEn\": \"Cow\", \"FatLevel\": \"lower fat\"}, {\"MoisturePercent\": 74.0, \"MilkTypeEn\": \"Cow\", \"FatLevel\": \"lower fat\"}, {\"MoisturePercent\": 50.0, \"MilkTypeEn\": \"Cow\", \"FatLevel\": \"higher fat\"}, {\"MoisturePercent\": 39.0, \"MilkTypeEn\": \"Cow\", \"FatLevel\": \"higher fat\"}, {\"MoisturePercent\": 45.0, \"MilkTypeEn\": \"Cow\", \"FatLevel\": \"higher fat\"}, {\"MoisturePercent\": 45.0, \"MilkTypeEn\": \"Cow\", \"FatLevel\": \"lower fat\"}, {\"MoisturePercent\": 35.0, \"MilkTypeEn\": \"Goat\", \"FatLevel\": \"higher fat\"}, {\"MoisturePercent\": 55.0, \"MilkTypeEn\": \"Goat\", \"FatLevel\": \"lower fat\"}, {\"MoisturePercent\": 50.0, \"MilkTypeEn\": \"Cow\", \"FatLevel\": \"lower fat\"}, {\"MoisturePercent\": 48.0, \"MilkTypeEn\": \"Goat\", \"FatLevel\": \"lower fat\"}, {\"MoisturePercent\": 45.0, \"MilkTypeEn\": \"Cow\", \"FatLevel\": \"lower fat\"}, {\"MoisturePercent\": 39.0, \"MilkTypeEn\": \"Cow\", \"FatLevel\": \"higher fat\"}, {\"MoisturePercent\": 40.3, \"MilkTypeEn\": \"Cow\", \"FatLevel\": \"lower fat\"}, {\"MoisturePercent\": 44.0, \"MilkTypeEn\": \"Cow\", \"FatLevel\": \"lower fat\"}, {\"MoisturePercent\": 35.0, \"MilkTypeEn\": \"Cow\", \"FatLevel\": \"higher fat\"}, {\"MoisturePercent\": 43.0, \"MilkTypeEn\": \"Ewe\", \"FatLevel\": \"higher fat\"}, {\"MoisturePercent\": 42.0, \"MilkTypeEn\": \"Goat\", \"FatLevel\": \"lower fat\"}, {\"MoisturePercent\": 50.0, \"MilkTypeEn\": \"Goat\", \"FatLevel\": \"lower fat\"}, {\"MoisturePercent\": 64.0, \"MilkTypeEn\": \"Cow\", \"FatLevel\": \"lower fat\"}, {\"MoisturePercent\": 39.0, \"MilkTypeEn\": \"Cow\", \"FatLevel\": \"higher fat\"}, {\"MoisturePercent\": 48.0, \"MilkTypeEn\": \"Cow\", \"FatLevel\": \"lower fat\"}, {\"MoisturePercent\": 33.0, \"MilkTypeEn\": \"Ewe\", \"FatLevel\": \"higher fat\"}, {\"MoisturePercent\": 42.0, \"MilkTypeEn\": \"Cow\", \"FatLevel\": \"higher fat\"}, {\"MoisturePercent\": 68.0, \"MilkTypeEn\": \"Goat\", \"FatLevel\": \"lower fat\"}, {\"MoisturePercent\": 40.0, \"MilkTypeEn\": \"Goat\", \"FatLevel\": \"higher fat\"}, {\"MoisturePercent\": 64.0, \"MilkTypeEn\": \"Goat\", \"FatLevel\": \"lower fat\"}, {\"MoisturePercent\": 43.0, \"MilkTypeEn\": \"Goat\", \"FatLevel\": \"lower fat\"}, {\"MoisturePercent\": 35.0, \"MilkTypeEn\": \"Cow\", \"FatLevel\": \"higher fat\"}, {\"MoisturePercent\": 26.0, \"MilkTypeEn\": \"Ewe and Cow\", \"FatLevel\": \"higher fat\"}, {\"MoisturePercent\": 37.0, \"MilkTypeEn\": \"Cow\", \"FatLevel\": \"higher fat\"}, {\"MoisturePercent\": 39.0, \"MilkTypeEn\": \"Cow\", \"FatLevel\": \"higher fat\"}, {\"MoisturePercent\": 50.0, \"MilkTypeEn\": \"Cow\", \"FatLevel\": \"lower fat\"}, {\"MoisturePercent\": 40.0, \"MilkTypeEn\": \"Cow\", \"FatLevel\": \"lower fat\"}, {\"MoisturePercent\": 52.0, \"MilkTypeEn\": \"Cow\", \"FatLevel\": \"higher fat\"}, {\"MoisturePercent\": 37.0, \"MilkTypeEn\": \"Cow\", \"FatLevel\": \"higher fat\"}, {\"MoisturePercent\": 60.0, \"MilkTypeEn\": \"Ewe\", \"FatLevel\": \"lower fat\"}, {\"MoisturePercent\": 43.0, \"MilkTypeEn\": \"Cow\", \"FatLevel\": \"lower fat\"}, {\"MoisturePercent\": 58.0, \"MilkTypeEn\": \"Cow\", \"FatLevel\": \"lower fat\"}, {\"MoisturePercent\": 50.0, \"MilkTypeEn\": \"Cow\", \"FatLevel\": \"lower fat\"}, {\"MoisturePercent\": 42.0, \"MilkTypeEn\": \"Cow\", \"FatLevel\": \"lower fat\"}, {\"MoisturePercent\": 37.0, \"MilkTypeEn\": \"Cow\", \"FatLevel\": \"higher fat\"}, {\"MoisturePercent\": 46.0, \"MilkTypeEn\": \"Goat\", \"FatLevel\": \"lower fat\"}, {\"MoisturePercent\": 34.0, \"MilkTypeEn\": \"Cow\", \"FatLevel\": \"higher fat\"}, {\"MoisturePercent\": 46.0, \"MilkTypeEn\": \"Cow\", \"FatLevel\": \"lower fat\"}, {\"MoisturePercent\": 40.0, \"MilkTypeEn\": \"Goat\", \"FatLevel\": \"higher fat\"}, {\"MoisturePercent\": 46.0, \"MilkTypeEn\": \"Cow\", \"FatLevel\": \"lower fat\"}, {\"MoisturePercent\": 50.0, \"MilkTypeEn\": \"Cow\", \"FatLevel\": \"lower fat\"}, {\"MoisturePercent\": 50.0, \"MilkTypeEn\": \"Cow\", \"FatLevel\": \"higher fat\"}, {\"MoisturePercent\": 50.0, \"MilkTypeEn\": \"Goat\", \"FatLevel\": \"lower fat\"}, {\"MoisturePercent\": 54.0, \"MilkTypeEn\": \"Cow\", \"FatLevel\": \"lower fat\"}, {\"MoisturePercent\": 48.0, \"MilkTypeEn\": \"Cow\", \"FatLevel\": \"lower fat\"}, {\"MoisturePercent\": 43.0, \"MilkTypeEn\": \"Cow\", \"FatLevel\": \"lower fat\"}, {\"MoisturePercent\": 42.0, \"MilkTypeEn\": \"Goat\", \"FatLevel\": \"lower fat\"}, {\"MoisturePercent\": 45.0, \"MilkTypeEn\": \"Goat\", \"FatLevel\": \"lower fat\"}, {\"MoisturePercent\": 42.0, \"MilkTypeEn\": \"Cow\", \"FatLevel\": \"lower fat\"}, {\"MoisturePercent\": 70.0, \"MilkTypeEn\": \"Goat\", \"FatLevel\": \"lower fat\"}, {\"MoisturePercent\": 57.0, \"MilkTypeEn\": \"Cow\", \"FatLevel\": \"lower fat\"}, {\"MoisturePercent\": 50.0, \"MilkTypeEn\": \"Cow\", \"FatLevel\": \"higher fat\"}, {\"MoisturePercent\": 52.0, \"MilkTypeEn\": \"Goat\", \"FatLevel\": \"lower fat\"}, {\"MoisturePercent\": 42.0, \"MilkTypeEn\": \"Cow\", \"FatLevel\": \"lower fat\"}, {\"MoisturePercent\": 44.0, \"MilkTypeEn\": \"Cow\", \"FatLevel\": \"higher fat\"}, {\"MoisturePercent\": 33.0, \"MilkTypeEn\": \"Goat\", \"FatLevel\": \"higher fat\"}, {\"MoisturePercent\": 50.0, \"MilkTypeEn\": \"Goat\", \"FatLevel\": \"lower fat\"}, {\"MoisturePercent\": 56.0, \"MilkTypeEn\": \"Cow\", \"FatLevel\": \"lower fat\"}, {\"MoisturePercent\": 50.0, \"MilkTypeEn\": \"Cow\", \"FatLevel\": \"lower fat\"}, {\"MoisturePercent\": 31.0, \"MilkTypeEn\": \"Cow\", \"FatLevel\": \"higher fat\"}, {\"MoisturePercent\": 40.0, \"MilkTypeEn\": \"Goat\", \"FatLevel\": \"lower fat\"}, {\"MoisturePercent\": 48.0, \"MilkTypeEn\": \"Cow\", \"FatLevel\": \"lower fat\"}, {\"MoisturePercent\": 54.0, \"MilkTypeEn\": \"Cow\", \"FatLevel\": \"lower fat\"}, {\"MoisturePercent\": 50.0, \"MilkTypeEn\": \"Cow\", \"FatLevel\": \"lower fat\"}, {\"MoisturePercent\": 36.0, \"MilkTypeEn\": \"Cow\", \"FatLevel\": \"higher fat\"}, {\"MoisturePercent\": 75.0, \"MilkTypeEn\": \"Cow\", \"FatLevel\": \"lower fat\"}, {\"MoisturePercent\": 50.0, \"MilkTypeEn\": \"Cow\", \"FatLevel\": \"lower fat\"}, {\"MoisturePercent\": 46.0, \"MilkTypeEn\": \"Ewe and Cow\", \"FatLevel\": \"higher fat\"}, {\"MoisturePercent\": 40.0, \"MilkTypeEn\": \"Cow\", \"FatLevel\": \"higher fat\"}, {\"MoisturePercent\": 17.0, \"MilkTypeEn\": \"Cow\", \"FatLevel\": \"higher fat\"}, {\"MoisturePercent\": 65.0, \"MilkTypeEn\": \"Goat\", \"FatLevel\": \"lower fat\"}, {\"MoisturePercent\": 55.0, \"MilkTypeEn\": \"Ewe\", \"FatLevel\": \"lower fat\"}, {\"MoisturePercent\": 39.0, \"MilkTypeEn\": \"Cow\", \"FatLevel\": \"higher fat\"}, {\"MoisturePercent\": 43.0, \"MilkTypeEn\": \"Cow\", \"FatLevel\": \"lower fat\"}, {\"MoisturePercent\": 40.0, \"MilkTypeEn\": \"Cow\", \"FatLevel\": \"lower fat\"}, {\"MoisturePercent\": 50.0, \"MilkTypeEn\": \"Cow\", \"FatLevel\": \"lower fat\"}, {\"MoisturePercent\": 42.0, \"MilkTypeEn\": \"Goat\", \"FatLevel\": \"lower fat\"}, {\"MoisturePercent\": 58.0, \"MilkTypeEn\": \"Goat\", \"FatLevel\": \"lower fat\"}, {\"MoisturePercent\": 52.0, \"MilkTypeEn\": \"Cow\", \"FatLevel\": \"lower fat\"}, {\"MoisturePercent\": 55.0, \"MilkTypeEn\": \"Cow\", \"FatLevel\": \"lower fat\"}, {\"MoisturePercent\": 44.0, \"MilkTypeEn\": \"Cow\", \"FatLevel\": \"lower fat\"}, {\"MoisturePercent\": 37.0, \"MilkTypeEn\": \"Cow\", \"FatLevel\": \"higher fat\"}, {\"MoisturePercent\": 86.0, \"MilkTypeEn\": \"Cow\", \"FatLevel\": \"lower fat\"}, {\"MoisturePercent\": 50.0, \"MilkTypeEn\": \"Cow and Goat\", \"FatLevel\": \"lower fat\"}, {\"MoisturePercent\": 50.0, \"MilkTypeEn\": \"Cow\", \"FatLevel\": \"higher fat\"}, {\"MoisturePercent\": 30.0, \"MilkTypeEn\": \"Cow\", \"FatLevel\": \"lower fat\"}, {\"MoisturePercent\": 70.0, \"MilkTypeEn\": \"Goat\", \"FatLevel\": \"lower fat\"}, {\"MoisturePercent\": 40.0, \"MilkTypeEn\": \"Goat\", \"FatLevel\": \"higher fat\"}, {\"MoisturePercent\": 48.0, \"MilkTypeEn\": \"Cow\", \"FatLevel\": \"lower fat\"}, {\"MoisturePercent\": 42.0, \"MilkTypeEn\": \"Cow\", \"FatLevel\": \"lower fat\"}, {\"MoisturePercent\": 48.0, \"MilkTypeEn\": \"Cow\", \"FatLevel\": \"higher fat\"}, {\"MoisturePercent\": 52.0, \"MilkTypeEn\": \"Goat\", \"FatLevel\": \"lower fat\"}, {\"MoisturePercent\": 37.0, \"MilkTypeEn\": \"Cow\", \"FatLevel\": \"higher fat\"}, {\"MoisturePercent\": 39.0, \"MilkTypeEn\": \"Cow\", \"FatLevel\": \"higher fat\"}, {\"MoisturePercent\": 48.0, \"MilkTypeEn\": \"Goat\", \"FatLevel\": \"lower fat\"}, {\"MoisturePercent\": 42.0, \"MilkTypeEn\": \"Cow\", \"FatLevel\": \"lower fat\"}, {\"MoisturePercent\": 40.0, \"MilkTypeEn\": \"Cow\", \"FatLevel\": \"lower fat\"}, {\"MoisturePercent\": 50.0, \"MilkTypeEn\": \"Goat\", \"FatLevel\": \"lower fat\"}, {\"MoisturePercent\": 50.0, \"MilkTypeEn\": \"Cow\", \"FatLevel\": \"lower fat\"}, {\"MoisturePercent\": 46.0, \"MilkTypeEn\": \"Cow\", \"FatLevel\": \"lower fat\"}, {\"MoisturePercent\": 55.0, \"MilkTypeEn\": \"Cow\", \"FatLevel\": \"lower fat\"}, {\"MoisturePercent\": 41.0, \"MilkTypeEn\": \"Cow\", \"FatLevel\": \"higher fat\"}, {\"MoisturePercent\": 41.0, \"MilkTypeEn\": \"Cow\", \"FatLevel\": \"lower fat\"}, {\"MoisturePercent\": 34.0, \"MilkTypeEn\": \"Cow\", \"FatLevel\": \"higher fat\"}, {\"MoisturePercent\": 38.0, \"MilkTypeEn\": \"Cow\", \"FatLevel\": \"higher fat\"}, {\"MoisturePercent\": 50.0, \"MilkTypeEn\": \"Cow\", \"FatLevel\": \"lower fat\"}, {\"MoisturePercent\": 44.0, \"MilkTypeEn\": \"Cow\", \"FatLevel\": \"lower fat\"}, {\"MoisturePercent\": 50.0, \"MilkTypeEn\": \"Cow\", \"FatLevel\": \"lower fat\"}, {\"MoisturePercent\": 50.0, \"MilkTypeEn\": \"Cow\", \"FatLevel\": \"lower fat\"}, {\"MoisturePercent\": 39.0, \"MilkTypeEn\": \"Cow\", \"FatLevel\": \"lower fat\"}, {\"MoisturePercent\": 50.0, \"MilkTypeEn\": \"Cow\", \"FatLevel\": \"lower fat\"}, {\"MoisturePercent\": 40.0, \"MilkTypeEn\": \"Cow\", \"FatLevel\": \"lower fat\"}, {\"MoisturePercent\": 41.0, \"MilkTypeEn\": \"Cow\", \"FatLevel\": \"higher fat\"}, {\"MoisturePercent\": 50.0, \"MilkTypeEn\": \"Goat\", \"FatLevel\": \"lower fat\"}, {\"MoisturePercent\": 39.0, \"MilkTypeEn\": \"Cow\", \"FatLevel\": \"higher fat\"}, {\"MoisturePercent\": 42.0, \"MilkTypeEn\": \"Cow\", \"FatLevel\": \"higher fat\"}, {\"MoisturePercent\": 34.0, \"MilkTypeEn\": \"Cow\", \"FatLevel\": \"lower fat\"}, {\"MoisturePercent\": 48.0, \"MilkTypeEn\": \"Goat\", \"FatLevel\": \"lower fat\"}, {\"MoisturePercent\": 29.0, \"MilkTypeEn\": \"Cow\", \"FatLevel\": \"higher fat\"}, {\"MoisturePercent\": 50.0, \"MilkTypeEn\": \"Cow\", \"FatLevel\": \"lower fat\"}, {\"MoisturePercent\": 52.0, \"MilkTypeEn\": \"Cow\", \"FatLevel\": \"lower fat\"}, {\"MoisturePercent\": 43.0, \"MilkTypeEn\": \"Cow\", \"FatLevel\": \"lower fat\"}, {\"MoisturePercent\": 55.0, \"MilkTypeEn\": \"Cow\", \"FatLevel\": \"lower fat\"}, {\"MoisturePercent\": 50.0, \"MilkTypeEn\": \"Cow\", \"FatLevel\": \"lower fat\"}, {\"MoisturePercent\": 41.0, \"MilkTypeEn\": \"Ewe\", \"FatLevel\": \"lower fat\"}, {\"MoisturePercent\": 42.0, \"MilkTypeEn\": \"Cow\", \"FatLevel\": \"lower fat\"}, {\"MoisturePercent\": 54.0, \"MilkTypeEn\": \"Cow\", \"FatLevel\": \"lower fat\"}, {\"MoisturePercent\": 34.0, \"MilkTypeEn\": \"Cow\", \"FatLevel\": \"higher fat\"}, {\"MoisturePercent\": 48.0, \"MilkTypeEn\": \"Cow and Goat\", \"FatLevel\": \"higher fat\"}, {\"MoisturePercent\": 50.0, \"MilkTypeEn\": \"Cow\", \"FatLevel\": \"lower fat\"}, {\"MoisturePercent\": 50.0, \"MilkTypeEn\": \"Cow\", \"FatLevel\": \"lower fat\"}, {\"MoisturePercent\": 40.0, \"MilkTypeEn\": \"Cow\", \"FatLevel\": \"lower fat\"}, {\"MoisturePercent\": 49.0, \"MilkTypeEn\": \"Goat\", \"FatLevel\": \"lower fat\"}, {\"MoisturePercent\": 65.0, \"MilkTypeEn\": \"Ewe\", \"FatLevel\": \"lower fat\"}, {\"MoisturePercent\": 57.0, \"MilkTypeEn\": \"Goat\", \"FatLevel\": \"lower fat\"}, {\"MoisturePercent\": 41.0, \"MilkTypeEn\": \"Ewe\", \"FatLevel\": \"higher fat\"}, {\"MoisturePercent\": 40.0, \"MilkTypeEn\": \"Cow\", \"FatLevel\": \"higher fat\"}, {\"MoisturePercent\": 40.0, \"MilkTypeEn\": \"Goat\", \"FatLevel\": \"lower fat\"}, {\"MoisturePercent\": 44.0, \"MilkTypeEn\": \"Cow\", \"FatLevel\": \"lower fat\"}, {\"MoisturePercent\": 56.0, \"MilkTypeEn\": \"Cow\", \"FatLevel\": \"lower fat\"}, {\"MoisturePercent\": 55.0, \"MilkTypeEn\": \"Goat\", \"FatLevel\": \"lower fat\"}, {\"MoisturePercent\": 43.0, \"MilkTypeEn\": \"Goat\", \"FatLevel\": \"lower fat\"}, {\"MoisturePercent\": 41.0, \"MilkTypeEn\": \"Cow\", \"FatLevel\": \"higher fat\"}, {\"MoisturePercent\": 50.0, \"MilkTypeEn\": \"Cow\", \"FatLevel\": \"lower fat\"}, {\"MoisturePercent\": 33.0, \"MilkTypeEn\": \"Cow\", \"FatLevel\": \"higher fat\"}, {\"MoisturePercent\": 50.0, \"MilkTypeEn\": \"Cow\", \"FatLevel\": \"lower fat\"}, {\"MoisturePercent\": 35.0, \"MilkTypeEn\": \"Cow\", \"FatLevel\": \"higher fat\"}, {\"MoisturePercent\": 39.0, \"MilkTypeEn\": \"Cow\", \"FatLevel\": \"higher fat\"}, {\"MoisturePercent\": null, \"MilkTypeEn\": \"Cow\", \"FatLevel\": \"lower fat\"}, {\"MoisturePercent\": 26.0, \"MilkTypeEn\": \"Cow\", \"FatLevel\": \"higher fat\"}, {\"MoisturePercent\": 72.0, \"MilkTypeEn\": \"Goat\", \"FatLevel\": \"lower fat\"}, {\"MoisturePercent\": 50.0, \"MilkTypeEn\": \"Cow\", \"FatLevel\": \"lower fat\"}, {\"MoisturePercent\": 41.0, \"MilkTypeEn\": \"Cow\", \"FatLevel\": \"higher fat\"}, {\"MoisturePercent\": 37.0, \"MilkTypeEn\": \"Cow\", \"FatLevel\": \"higher fat\"}, {\"MoisturePercent\": 67.0, \"MilkTypeEn\": \"Cow\", \"FatLevel\": \"lower fat\"}, {\"MoisturePercent\": 78.0, \"MilkTypeEn\": \"Goat\", \"FatLevel\": \"lower fat\"}, {\"MoisturePercent\": 45.0, \"MilkTypeEn\": \"Cow\", \"FatLevel\": \"lower fat\"}, {\"MoisturePercent\": 39.0, \"MilkTypeEn\": \"Cow\", \"FatLevel\": \"higher fat\"}, {\"MoisturePercent\": 43.0, \"MilkTypeEn\": \"Cow\", \"FatLevel\": \"higher fat\"}, {\"MoisturePercent\": 41.0, \"MilkTypeEn\": \"Cow\", \"FatLevel\": \"lower fat\"}, {\"MoisturePercent\": 50.0, \"MilkTypeEn\": \"Cow\", \"FatLevel\": \"lower fat\"}, {\"MoisturePercent\": 50.0, \"MilkTypeEn\": \"Cow\", \"FatLevel\": \"lower fat\"}, {\"MoisturePercent\": 76.0, \"MilkTypeEn\": \"Cow\", \"FatLevel\": \"lower fat\"}, {\"MoisturePercent\": 45.0, \"MilkTypeEn\": \"Cow\", \"FatLevel\": \"lower fat\"}, {\"MoisturePercent\": 42.0, \"MilkTypeEn\": \"Goat\", \"FatLevel\": \"lower fat\"}, {\"MoisturePercent\": 63.0, \"MilkTypeEn\": \"Goat\", \"FatLevel\": \"lower fat\"}, {\"MoisturePercent\": 39.0, \"MilkTypeEn\": \"Cow\", \"FatLevel\": \"higher fat\"}]}}, {\"mode\": \"vega-lite\"});\n",
       "</script>"
      ],
      "text/plain": [
       "alt.Chart(...)"
      ]
     },
     "execution_count": 10,
     "metadata": {},
     "output_type": "execute_result"
    }
   ],
   "source": [
    "milk_prop = (\n",
    "    alt.Chart(cheese_train)\n",
    "    .mark_bar(color=\"#4fa7bd\")\n",
    "    .encode(\n",
    "        x=alt.X(\n",
    "            \"MilkTypeEn:N\", title=\"Milk Type\", sort=\"-y\", axis=alt.Axis(labelAngle=-45)\n",
    "        ),\n",
    "        y=alt.Y(\"count():Q\", title=\"Quantity\"),\n",
    "    )\n",
    "    .properties(width=600, height=300, title=\"Cheese Count by Milk Type\")\n",
    "    .transform_filter(\"isValid(datum.MilkTypeEn)\")\n",
    ")\n",
    "milk_prop"
   ]
  },
  {
   "cell_type": "markdown",
   "metadata": {},
   "source": [
    "Figure 1: Counts of cheese by type of milk "
   ]
  },
  {
   "cell_type": "markdown",
   "metadata": {
    "tags": []
   },
   "source": [
    "### Moisture Percentage Distribution\n",
    "Then , I create a histogram to visualize the distribution of moisture percentage"
   ]
  },
  {
   "cell_type": "code",
   "execution_count": 11,
   "metadata": {
    "tags": []
   },
   "outputs": [
    {
     "data": {
      "text/html": [
       "\n",
       "<div id=\"altair-viz-004101d9dc784f6f8eac2cea5b362663\"></div>\n",
       "<script type=\"text/javascript\">\n",
       "  (function(spec, embedOpt){\n",
       "    let outputDiv = document.currentScript.previousElementSibling;\n",
       "    if (outputDiv.id !== \"altair-viz-004101d9dc784f6f8eac2cea5b362663\") {\n",
       "      outputDiv = document.getElementById(\"altair-viz-004101d9dc784f6f8eac2cea5b362663\");\n",
       "    }\n",
       "    const paths = {\n",
       "      \"vega\": \"https://cdn.jsdelivr.net/npm//vega@5?noext\",\n",
       "      \"vega-lib\": \"https://cdn.jsdelivr.net/npm//vega-lib?noext\",\n",
       "      \"vega-lite\": \"https://cdn.jsdelivr.net/npm//vega-lite@4.8.1?noext\",\n",
       "      \"vega-embed\": \"https://cdn.jsdelivr.net/npm//vega-embed@6?noext\",\n",
       "    };\n",
       "\n",
       "    function loadScript(lib) {\n",
       "      return new Promise(function(resolve, reject) {\n",
       "        var s = document.createElement('script');\n",
       "        s.src = paths[lib];\n",
       "        s.async = true;\n",
       "        s.onload = () => resolve(paths[lib]);\n",
       "        s.onerror = () => reject(`Error loading script: ${paths[lib]}`);\n",
       "        document.getElementsByTagName(\"head\")[0].appendChild(s);\n",
       "      });\n",
       "    }\n",
       "\n",
       "    function showError(err) {\n",
       "      outputDiv.innerHTML = `<div class=\"error\" style=\"color:red;\">${err}</div>`;\n",
       "      throw err;\n",
       "    }\n",
       "\n",
       "    function displayChart(vegaEmbed) {\n",
       "      vegaEmbed(outputDiv, spec, embedOpt)\n",
       "        .catch(err => showError(`Javascript Error: ${err.message}<br>This usually means there's a typo in your chart specification. See the javascript console for the full traceback.`));\n",
       "    }\n",
       "\n",
       "    if(typeof define === \"function\" && define.amd) {\n",
       "      requirejs.config({paths});\n",
       "      require([\"vega-embed\"], displayChart, err => showError(`Error loading script: ${err.message}`));\n",
       "    } else if (typeof vegaEmbed === \"function\") {\n",
       "      displayChart(vegaEmbed);\n",
       "    } else {\n",
       "      loadScript(\"vega\")\n",
       "        .then(() => loadScript(\"vega-lite\"))\n",
       "        .then(() => loadScript(\"vega-embed\"))\n",
       "        .catch(showError)\n",
       "        .then(() => displayChart(vegaEmbed));\n",
       "    }\n",
       "  })({\"config\": {\"view\": {\"continuousWidth\": 400, \"continuousHeight\": 300}}, \"data\": {\"name\": \"data-5d4a0117c7bfc001360a575265aab1a7\"}, \"mark\": {\"type\": \"bar\", \"color\": \"#739bfa\"}, \"encoding\": {\"x\": {\"type\": \"quantitative\", \"bin\": {\"maxbins\": 40}, \"field\": \"MoisturePercent\"}, \"y\": {\"type\": \"quantitative\", \"aggregate\": \"count\", \"stack\": null}}, \"height\": 300, \"title\": \"Moisture percent distribution\", \"width\": 600, \"$schema\": \"https://vega.github.io/schema/vega-lite/v4.8.1.json\", \"datasets\": {\"data-5d4a0117c7bfc001360a575265aab1a7\": [{\"MoisturePercent\": 46.0, \"MilkTypeEn\": \"Cow\", \"FatLevel\": \"higher fat\"}, {\"MoisturePercent\": 43.0, \"MilkTypeEn\": \"Goat\", \"FatLevel\": \"higher fat\"}, {\"MoisturePercent\": 60.0, \"MilkTypeEn\": \"Goat\", \"FatLevel\": \"lower fat\"}, {\"MoisturePercent\": 43.0, \"MilkTypeEn\": \"Goat\", \"FatLevel\": \"lower fat\"}, {\"MoisturePercent\": 56.0, \"MilkTypeEn\": \"Cow\", \"FatLevel\": \"lower fat\"}, {\"MoisturePercent\": 42.0, \"MilkTypeEn\": \"Cow\", \"FatLevel\": \"lower fat\"}, {\"MoisturePercent\": 80.0, \"MilkTypeEn\": \"Cow\", \"FatLevel\": \"lower fat\"}, {\"MoisturePercent\": 50.0, \"MilkTypeEn\": \"Cow\", \"FatLevel\": \"lower fat\"}, {\"MoisturePercent\": 55.0, \"MilkTypeEn\": \"Ewe\", \"FatLevel\": \"lower fat\"}, {\"MoisturePercent\": 70.0, \"MilkTypeEn\": \"Goat\", \"FatLevel\": \"lower fat\"}, {\"MoisturePercent\": 31.0, \"MilkTypeEn\": \"Cow\", \"FatLevel\": \"higher fat\"}, {\"MoisturePercent\": 37.0, \"MilkTypeEn\": \"Cow\", \"FatLevel\": \"higher fat\"}, {\"MoisturePercent\": 55.0, \"MilkTypeEn\": \"Cow\", \"FatLevel\": \"lower fat\"}, {\"MoisturePercent\": 50.0, \"MilkTypeEn\": \"Cow\", \"FatLevel\": \"higher fat\"}, {\"MoisturePercent\": 45.0, \"MilkTypeEn\": \"Cow\", \"FatLevel\": \"higher fat\"}, {\"MoisturePercent\": 47.9, \"MilkTypeEn\": \"Cow\", \"FatLevel\": \"lower fat\"}, {\"MoisturePercent\": 30.0, \"MilkTypeEn\": \"Cow\", \"FatLevel\": \"higher fat\"}, {\"MoisturePercent\": 35.0, \"MilkTypeEn\": \"Cow\", \"FatLevel\": \"higher fat\"}, {\"MoisturePercent\": 40.0, \"MilkTypeEn\": \"Cow\", \"FatLevel\": \"lower fat\"}, {\"MoisturePercent\": 31.5, \"MilkTypeEn\": \"Cow\", \"FatLevel\": \"higher fat\"}, {\"MoisturePercent\": 62.0, \"MilkTypeEn\": \"Goat\", \"FatLevel\": \"lower fat\"}, {\"MoisturePercent\": 60.0, \"MilkTypeEn\": \"Goat\", \"FatLevel\": \"lower fat\"}, {\"MoisturePercent\": 46.0, \"MilkTypeEn\": \"Cow\", \"FatLevel\": \"lower fat\"}, {\"MoisturePercent\": 47.0, \"MilkTypeEn\": \"Ewe\", \"FatLevel\": \"lower fat\"}, {\"MoisturePercent\": 41.0, \"MilkTypeEn\": \"Cow\", \"FatLevel\": \"higher fat\"}, {\"MoisturePercent\": 46.0, \"MilkTypeEn\": \"Cow\", \"FatLevel\": \"lower fat\"}, {\"MoisturePercent\": 45.0, \"MilkTypeEn\": \"Cow\", \"FatLevel\": \"lower fat\"}, {\"MoisturePercent\": 39.0, \"MilkTypeEn\": \"Cow\", \"FatLevel\": \"higher fat\"}, {\"MoisturePercent\": 54.0, \"MilkTypeEn\": \"Cow\", \"FatLevel\": \"lower fat\"}, {\"MoisturePercent\": 39.0, \"MilkTypeEn\": \"Cow\", \"FatLevel\": \"higher fat\"}, {\"MoisturePercent\": 35.0, \"MilkTypeEn\": \"Cow\", \"FatLevel\": \"higher fat\"}, {\"MoisturePercent\": 39.0, \"MilkTypeEn\": \"Cow\", \"FatLevel\": \"higher fat\"}, {\"MoisturePercent\": 41.0, \"MilkTypeEn\": \"Cow\", \"FatLevel\": \"higher fat\"}, {\"MoisturePercent\": 42.0, \"MilkTypeEn\": \"Cow\", \"FatLevel\": \"lower fat\"}, {\"MoisturePercent\": 60.0, \"MilkTypeEn\": \"Goat\", \"FatLevel\": \"lower fat\"}, {\"MoisturePercent\": 46.0, \"MilkTypeEn\": \"Cow\", \"FatLevel\": \"lower fat\"}, {\"MoisturePercent\": 55.0, \"MilkTypeEn\": \"Cow\", \"FatLevel\": \"lower fat\"}, {\"MoisturePercent\": 39.0, \"MilkTypeEn\": \"Cow\", \"FatLevel\": \"higher fat\"}, {\"MoisturePercent\": 42.0, \"MilkTypeEn\": \"Cow\", \"FatLevel\": \"lower fat\"}, {\"MoisturePercent\": 41.0, \"MilkTypeEn\": \"Ewe\", \"FatLevel\": \"higher fat\"}, {\"MoisturePercent\": 63.0, \"MilkTypeEn\": \"Goat\", \"FatLevel\": \"lower fat\"}, {\"MoisturePercent\": 35.0, \"MilkTypeEn\": \"Goat\", \"FatLevel\": \"lower fat\"}, {\"MoisturePercent\": 50.0, \"MilkTypeEn\": \"Cow\", \"FatLevel\": \"lower fat\"}, {\"MoisturePercent\": 50.0, \"MilkTypeEn\": \"Goat\", \"FatLevel\": \"lower fat\"}, {\"MoisturePercent\": 55.0, \"MilkTypeEn\": \"Cow\", \"FatLevel\": \"lower fat\"}, {\"MoisturePercent\": 68.0, \"MilkTypeEn\": \"Ewe\", \"FatLevel\": \"higher fat\"}, {\"MoisturePercent\": 46.0, \"MilkTypeEn\": \"Cow\", \"FatLevel\": \"lower fat\"}, {\"MoisturePercent\": 39.0, \"MilkTypeEn\": \"Cow\", \"FatLevel\": \"higher fat\"}, {\"MoisturePercent\": 47.0, \"MilkTypeEn\": \"Ewe\", \"FatLevel\": \"lower fat\"}, {\"MoisturePercent\": 52.0, \"MilkTypeEn\": \"Cow\", \"FatLevel\": \"lower fat\"}, {\"MoisturePercent\": 47.0, \"MilkTypeEn\": \"Cow\", \"FatLevel\": \"lower fat\"}, {\"MoisturePercent\": 42.0, \"MilkTypeEn\": \"Ewe\", \"FatLevel\": \"higher fat\"}, {\"MoisturePercent\": 37.0, \"MilkTypeEn\": \"Cow\", \"FatLevel\": \"higher fat\"}, {\"MoisturePercent\": 55.0, \"MilkTypeEn\": \"Cow\", \"FatLevel\": \"lower fat\"}, {\"MoisturePercent\": 50.0, \"MilkTypeEn\": \"Cow\", \"FatLevel\": \"lower fat\"}, {\"MoisturePercent\": 50.0, \"MilkTypeEn\": \"Cow\", \"FatLevel\": \"lower fat\"}, {\"MoisturePercent\": 39.0, \"MilkTypeEn\": \"Cow\", \"FatLevel\": \"higher fat\"}, {\"MoisturePercent\": 39.0, \"MilkTypeEn\": \"Ewe\", \"FatLevel\": \"higher fat\"}, {\"MoisturePercent\": 55.0, \"MilkTypeEn\": \"Goat\", \"FatLevel\": \"lower fat\"}, {\"MoisturePercent\": 39.0, \"MilkTypeEn\": \"Cow\", \"FatLevel\": \"higher fat\"}, {\"MoisturePercent\": 69.0, \"MilkTypeEn\": \"Goat\", \"FatLevel\": \"lower fat\"}, {\"MoisturePercent\": 48.0, \"MilkTypeEn\": \"Goat\", \"FatLevel\": \"lower fat\"}, {\"MoisturePercent\": 40.0, \"MilkTypeEn\": \"Cow\", \"FatLevel\": \"lower fat\"}, {\"MoisturePercent\": 40.0, \"MilkTypeEn\": \"Cow\", \"FatLevel\": \"lower fat\"}, {\"MoisturePercent\": 48.0, \"MilkTypeEn\": \"Cow\", \"FatLevel\": \"higher fat\"}, {\"MoisturePercent\": 40.0, \"MilkTypeEn\": \"Cow\", \"FatLevel\": \"lower fat\"}, {\"MoisturePercent\": 57.0, \"MilkTypeEn\": \"Cow\", \"FatLevel\": \"lower fat\"}, {\"MoisturePercent\": 42.0, \"MilkTypeEn\": \"Cow\", \"FatLevel\": \"higher fat\"}, {\"MoisturePercent\": 50.0, \"MilkTypeEn\": \"Cow\", \"FatLevel\": \"lower fat\"}, {\"MoisturePercent\": 43.0, \"MilkTypeEn\": \"Cow\", \"FatLevel\": \"lower fat\"}, {\"MoisturePercent\": 54.0, \"MilkTypeEn\": \"Cow\", \"FatLevel\": \"lower fat\"}, {\"MoisturePercent\": 48.0, \"MilkTypeEn\": \"Ewe\", \"FatLevel\": \"lower fat\"}, {\"MoisturePercent\": 45.0, \"MilkTypeEn\": \"Cow\", \"FatLevel\": \"higher fat\"}, {\"MoisturePercent\": 39.0, \"MilkTypeEn\": \"Goat\", \"FatLevel\": \"higher fat\"}, {\"MoisturePercent\": 60.0, \"MilkTypeEn\": \"Cow\", \"FatLevel\": \"lower fat\"}, {\"MoisturePercent\": 45.0, \"MilkTypeEn\": \"Goat\", \"FatLevel\": \"lower fat\"}, {\"MoisturePercent\": 40.0, \"MilkTypeEn\": \"Cow\", \"FatLevel\": \"higher fat\"}, {\"MoisturePercent\": 54.0, \"MilkTypeEn\": \"Cow\", \"FatLevel\": \"lower fat\"}, {\"MoisturePercent\": 44.0, \"MilkTypeEn\": \"Cow\", \"FatLevel\": \"lower fat\"}, {\"MoisturePercent\": 50.0, \"MilkTypeEn\": \"Cow\", \"FatLevel\": \"lower fat\"}, {\"MoisturePercent\": 42.0, \"MilkTypeEn\": \"Cow\", \"FatLevel\": \"lower fat\"}, {\"MoisturePercent\": 40.0, \"MilkTypeEn\": \"Cow\", \"FatLevel\": \"higher fat\"}, {\"MoisturePercent\": 39.0, \"MilkTypeEn\": \"Cow\", \"FatLevel\": \"higher fat\"}, {\"MoisturePercent\": 43.0, \"MilkTypeEn\": \"Cow\", \"FatLevel\": \"lower fat\"}, {\"MoisturePercent\": 38.0, \"MilkTypeEn\": \"Cow\", \"FatLevel\": \"higher fat\"}, {\"MoisturePercent\": 50.0, \"MilkTypeEn\": \"Cow\", \"FatLevel\": \"lower fat\"}, {\"MoisturePercent\": 40.0, \"MilkTypeEn\": \"Cow\", \"FatLevel\": \"lower fat\"}, {\"MoisturePercent\": 58.0, \"MilkTypeEn\": \"Ewe\", \"FatLevel\": \"lower fat\"}, {\"MoisturePercent\": 50.0, \"MilkTypeEn\": \"Cow\", \"FatLevel\": \"lower fat\"}, {\"MoisturePercent\": 56.0, \"MilkTypeEn\": \"Goat\", \"FatLevel\": \"lower fat\"}, {\"MoisturePercent\": 52.0, \"MilkTypeEn\": \"Cow\", \"FatLevel\": \"higher fat\"}, {\"MoisturePercent\": 45.0, \"MilkTypeEn\": \"Cow\", \"FatLevel\": \"higher fat\"}, {\"MoisturePercent\": 48.0, \"MilkTypeEn\": \"Cow\", \"FatLevel\": \"lower fat\"}, {\"MoisturePercent\": 45.0, \"MilkTypeEn\": \"Goat\", \"FatLevel\": \"lower fat\"}, {\"MoisturePercent\": 27.0, \"MilkTypeEn\": \"Cow\", \"FatLevel\": \"higher fat\"}, {\"MoisturePercent\": 50.0, \"MilkTypeEn\": \"Cow\", \"FatLevel\": \"lower fat\"}, {\"MoisturePercent\": 45.0, \"MilkTypeEn\": \"Cow\", \"FatLevel\": \"lower fat\"}, {\"MoisturePercent\": 88.0, \"MilkTypeEn\": \"Cow\", \"FatLevel\": \"lower fat\"}, {\"MoisturePercent\": 55.0, \"MilkTypeEn\": \"Goat\", \"FatLevel\": \"lower fat\"}, {\"MoisturePercent\": 44.0, \"MilkTypeEn\": \"Cow\", \"FatLevel\": \"lower fat\"}, {\"MoisturePercent\": 50.0, \"MilkTypeEn\": \"Goat\", \"FatLevel\": \"lower fat\"}, {\"MoisturePercent\": 50.0, \"MilkTypeEn\": \"Cow\", \"FatLevel\": \"higher fat\"}, {\"MoisturePercent\": 80.0, \"MilkTypeEn\": \"Cow\", \"FatLevel\": \"lower fat\"}, {\"MoisturePercent\": 45.0, \"MilkTypeEn\": \"Goat\", \"FatLevel\": \"lower fat\"}, {\"MoisturePercent\": 40.0, \"MilkTypeEn\": \"Cow\", \"FatLevel\": \"lower fat\"}, {\"MoisturePercent\": 45.0, \"MilkTypeEn\": \"Cow\", \"FatLevel\": \"higher fat\"}, {\"MoisturePercent\": 44.0, \"MilkTypeEn\": \"Cow\", \"FatLevel\": \"lower fat\"}, {\"MoisturePercent\": 40.3, \"MilkTypeEn\": \"Cow\", \"FatLevel\": \"lower fat\"}, {\"MoisturePercent\": 37.0, \"MilkTypeEn\": \"Cow\", \"FatLevel\": \"higher fat\"}, {\"MoisturePercent\": 69.0, \"MilkTypeEn\": \"Goat\", \"FatLevel\": \"lower fat\"}, {\"MoisturePercent\": 48.0, \"MilkTypeEn\": \"Cow\", \"FatLevel\": \"lower fat\"}, {\"MoisturePercent\": null, \"MilkTypeEn\": \"Cow\", \"FatLevel\": \"lower fat\"}, {\"MoisturePercent\": 56.0, \"MilkTypeEn\": \"Goat\", \"FatLevel\": \"lower fat\"}, {\"MoisturePercent\": 46.0, \"MilkTypeEn\": \"Cow\", \"FatLevel\": \"lower fat\"}, {\"MoisturePercent\": 49.4, \"MilkTypeEn\": \"Cow\", \"FatLevel\": \"lower fat\"}, {\"MoisturePercent\": 70.0, \"MilkTypeEn\": \"Ewe\", \"FatLevel\": \"lower fat\"}, {\"MoisturePercent\": 48.0, \"MilkTypeEn\": \"Cow\", \"FatLevel\": \"lower fat\"}, {\"MoisturePercent\": 45.0, \"MilkTypeEn\": \"Cow\", \"FatLevel\": \"higher fat\"}, {\"MoisturePercent\": 48.0, \"MilkTypeEn\": \"Cow\", \"FatLevel\": \"higher fat\"}, {\"MoisturePercent\": 52.0, \"MilkTypeEn\": \"Cow\", \"FatLevel\": \"lower fat\"}, {\"MoisturePercent\": 45.0, \"MilkTypeEn\": \"Cow\", \"FatLevel\": \"lower fat\"}, {\"MoisturePercent\": null, \"MilkTypeEn\": \"Cow\", \"FatLevel\": \"lower fat\"}, {\"MoisturePercent\": 52.0, \"MilkTypeEn\": \"Cow\", \"FatLevel\": \"lower fat\"}, {\"MoisturePercent\": 44.0, \"MilkTypeEn\": \"Cow\", \"FatLevel\": \"lower fat\"}, {\"MoisturePercent\": 41.0, \"MilkTypeEn\": \"Cow\", \"FatLevel\": \"higher fat\"}, {\"MoisturePercent\": 40.0, \"MilkTypeEn\": \"Goat\", \"FatLevel\": \"lower fat\"}, {\"MoisturePercent\": 55.0, \"MilkTypeEn\": \"Cow\", \"FatLevel\": \"lower fat\"}, {\"MoisturePercent\": 40.0, \"MilkTypeEn\": \"Cow\", \"FatLevel\": \"lower fat\"}, {\"MoisturePercent\": 40.3, \"MilkTypeEn\": \"Cow\", \"FatLevel\": \"lower fat\"}, {\"MoisturePercent\": 47.0, \"MilkTypeEn\": \"Cow\", \"FatLevel\": \"higher fat\"}, {\"MoisturePercent\": 41.0, \"MilkTypeEn\": \"Cow\", \"FatLevel\": \"higher fat\"}, {\"MoisturePercent\": 51.7, \"MilkTypeEn\": \"Cow\", \"FatLevel\": \"lower fat\"}, {\"MoisturePercent\": 65.0, \"MilkTypeEn\": \"Cow\", \"FatLevel\": \"lower fat\"}, {\"MoisturePercent\": 52.0, \"MilkTypeEn\": \"Cow\", \"FatLevel\": \"lower fat\"}, {\"MoisturePercent\": 55.0, \"MilkTypeEn\": \"Goat\", \"FatLevel\": \"lower fat\"}, {\"MoisturePercent\": 45.0, \"MilkTypeEn\": \"Cow\", \"FatLevel\": \"higher fat\"}, {\"MoisturePercent\": 55.0, \"MilkTypeEn\": \"Cow\", \"FatLevel\": \"lower fat\"}, {\"MoisturePercent\": 40.0, \"MilkTypeEn\": \"Cow\", \"FatLevel\": \"lower fat\"}, {\"MoisturePercent\": 50.0, \"MilkTypeEn\": \"Cow\", \"FatLevel\": \"lower fat\"}, {\"MoisturePercent\": 45.0, \"MilkTypeEn\": \"Cow\", \"FatLevel\": \"higher fat\"}, {\"MoisturePercent\": 42.0, \"MilkTypeEn\": \"Cow\", \"FatLevel\": \"lower fat\"}, {\"MoisturePercent\": 43.0, \"MilkTypeEn\": \"Cow\", \"FatLevel\": \"higher fat\"}, {\"MoisturePercent\": 36.0, \"MilkTypeEn\": \"Ewe and Goat\", \"FatLevel\": \"higher fat\"}, {\"MoisturePercent\": 50.0, \"MilkTypeEn\": \"Goat\", \"FatLevel\": \"lower fat\"}, {\"MoisturePercent\": null, \"MilkTypeEn\": \"Cow\", \"FatLevel\": \"higher fat\"}, {\"MoisturePercent\": 45.0, \"MilkTypeEn\": \"Cow\", \"FatLevel\": \"lower fat\"}, {\"MoisturePercent\": 23.0, \"MilkTypeEn\": \"Ewe\", \"FatLevel\": \"higher fat\"}, {\"MoisturePercent\": 50.0, \"MilkTypeEn\": \"Goat\", \"FatLevel\": \"lower fat\"}, {\"MoisturePercent\": 60.0, \"MilkTypeEn\": \"Goat\", \"FatLevel\": \"lower fat\"}, {\"MoisturePercent\": 50.0, \"MilkTypeEn\": \"Cow\", \"FatLevel\": \"higher fat\"}, {\"MoisturePercent\": 41.0, \"MilkTypeEn\": \"Cow\", \"FatLevel\": \"higher fat\"}, {\"MoisturePercent\": 54.0, \"MilkTypeEn\": \"Goat\", \"FatLevel\": \"lower fat\"}, {\"MoisturePercent\": 45.0, \"MilkTypeEn\": \"Cow\", \"FatLevel\": \"higher fat\"}, {\"MoisturePercent\": 41.0, \"MilkTypeEn\": \"Cow\", \"FatLevel\": \"higher fat\"}, {\"MoisturePercent\": 46.0, \"MilkTypeEn\": \"Goat\", \"FatLevel\": \"higher fat\"}, {\"MoisturePercent\": 36.0, \"MilkTypeEn\": \"Cow\", \"FatLevel\": \"higher fat\"}, {\"MoisturePercent\": 60.0, \"MilkTypeEn\": \"Cow\", \"FatLevel\": \"lower fat\"}, {\"MoisturePercent\": 65.0, \"MilkTypeEn\": \"Goat\", \"FatLevel\": \"lower fat\"}, {\"MoisturePercent\": 52.0, \"MilkTypeEn\": \"Cow\", \"FatLevel\": \"lower fat\"}, {\"MoisturePercent\": 42.0, \"MilkTypeEn\": \"Cow\", \"FatLevel\": \"lower fat\"}, {\"MoisturePercent\": 52.0, \"MilkTypeEn\": \"Cow\", \"FatLevel\": \"lower fat\"}, {\"MoisturePercent\": 56.0, \"MilkTypeEn\": \"Goat\", \"FatLevel\": \"lower fat\"}, {\"MoisturePercent\": 40.0, \"MilkTypeEn\": \"Ewe\", \"FatLevel\": \"higher fat\"}, {\"MoisturePercent\": 42.0, \"MilkTypeEn\": null, \"FatLevel\": \"higher fat\"}, {\"MoisturePercent\": 43.0, \"MilkTypeEn\": \"Cow\", \"FatLevel\": \"higher fat\"}, {\"MoisturePercent\": 45.0, \"MilkTypeEn\": \"Ewe and Cow\", \"FatLevel\": \"lower fat\"}, {\"MoisturePercent\": 39.0, \"MilkTypeEn\": \"Cow\", \"FatLevel\": \"higher fat\"}, {\"MoisturePercent\": 51.0, \"MilkTypeEn\": \"Goat\", \"FatLevel\": \"lower fat\"}, {\"MoisturePercent\": 52.0, \"MilkTypeEn\": \"Goat\", \"FatLevel\": \"lower fat\"}, {\"MoisturePercent\": 47.0, \"MilkTypeEn\": \"Cow\", \"FatLevel\": \"lower fat\"}, {\"MoisturePercent\": 43.0, \"MilkTypeEn\": \"Cow\", \"FatLevel\": \"higher fat\"}, {\"MoisturePercent\": 50.0, \"MilkTypeEn\": \"Cow\", \"FatLevel\": \"lower fat\"}, {\"MoisturePercent\": 40.0, \"MilkTypeEn\": \"Ewe\", \"FatLevel\": \"lower fat\"}, {\"MoisturePercent\": 42.0, \"MilkTypeEn\": \"Cow\", \"FatLevel\": \"lower fat\"}, {\"MoisturePercent\": 50.0, \"MilkTypeEn\": \"Cow\", \"FatLevel\": \"lower fat\"}, {\"MoisturePercent\": 57.0, \"MilkTypeEn\": \"Cow\", \"FatLevel\": \"lower fat\"}, {\"MoisturePercent\": 39.0, \"MilkTypeEn\": \"Cow\", \"FatLevel\": \"higher fat\"}, {\"MoisturePercent\": 52.0, \"MilkTypeEn\": \"Cow\", \"FatLevel\": \"lower fat\"}, {\"MoisturePercent\": 33.0, \"MilkTypeEn\": \"Goat\", \"FatLevel\": \"higher fat\"}, {\"MoisturePercent\": 50.0, \"MilkTypeEn\": \"Cow\", \"FatLevel\": \"higher fat\"}, {\"MoisturePercent\": 42.0, \"MilkTypeEn\": \"Goat\", \"FatLevel\": \"lower fat\"}, {\"MoisturePercent\": 60.0, \"MilkTypeEn\": \"Goat\", \"FatLevel\": \"lower fat\"}, {\"MoisturePercent\": 44.0, \"MilkTypeEn\": \"Cow\", \"FatLevel\": \"higher fat\"}, {\"MoisturePercent\": 37.0, \"MilkTypeEn\": \"Cow\", \"FatLevel\": \"higher fat\"}, {\"MoisturePercent\": 39.0, \"MilkTypeEn\": \"Cow\", \"FatLevel\": \"higher fat\"}, {\"MoisturePercent\": 39.0, \"MilkTypeEn\": \"Cow\", \"FatLevel\": \"higher fat\"}, {\"MoisturePercent\": 54.0, \"MilkTypeEn\": \"Cow\", \"FatLevel\": \"lower fat\"}, {\"MoisturePercent\": 50.0, \"MilkTypeEn\": \"Goat\", \"FatLevel\": \"lower fat\"}, {\"MoisturePercent\": 42.0, \"MilkTypeEn\": \"Cow\", \"FatLevel\": \"higher fat\"}, {\"MoisturePercent\": 39.0, \"MilkTypeEn\": \"Cow\", \"FatLevel\": \"higher fat\"}, {\"MoisturePercent\": null, \"MilkTypeEn\": \"Ewe\", \"FatLevel\": \"lower fat\"}, {\"MoisturePercent\": 35.0, \"MilkTypeEn\": \"Ewe\", \"FatLevel\": \"higher fat\"}, {\"MoisturePercent\": 39.0, \"MilkTypeEn\": \"Goat\", \"FatLevel\": \"higher fat\"}, {\"MoisturePercent\": 39.0, \"MilkTypeEn\": \"Cow\", \"FatLevel\": \"lower fat\"}, {\"MoisturePercent\": 45.0, \"MilkTypeEn\": \"Cow\", \"FatLevel\": \"lower fat\"}, {\"MoisturePercent\": 39.0, \"MilkTypeEn\": \"Cow\", \"FatLevel\": \"higher fat\"}, {\"MoisturePercent\": 55.0, \"MilkTypeEn\": \"Cow\", \"FatLevel\": \"lower fat\"}, {\"MoisturePercent\": 20.0, \"MilkTypeEn\": \"Cow\", \"FatLevel\": \"lower fat\"}, {\"MoisturePercent\": 39.0, \"MilkTypeEn\": \"Cow\", \"FatLevel\": \"higher fat\"}, {\"MoisturePercent\": 50.0, \"MilkTypeEn\": \"Goat\", \"FatLevel\": \"lower fat\"}, {\"MoisturePercent\": 40.0, \"MilkTypeEn\": \"Cow\", \"FatLevel\": \"lower fat\"}, {\"MoisturePercent\": 34.0, \"MilkTypeEn\": \"Cow\", \"FatLevel\": \"higher fat\"}, {\"MoisturePercent\": 42.0, \"MilkTypeEn\": \"Cow\", \"FatLevel\": \"lower fat\"}, {\"MoisturePercent\": 45.0, \"MilkTypeEn\": \"Cow\", \"FatLevel\": \"lower fat\"}, {\"MoisturePercent\": 43.0, \"MilkTypeEn\": \"Cow\", \"FatLevel\": \"lower fat\"}, {\"MoisturePercent\": 68.0, \"MilkTypeEn\": \"Goat\", \"FatLevel\": \"lower fat\"}, {\"MoisturePercent\": 41.0, \"MilkTypeEn\": \"Cow\", \"FatLevel\": \"higher fat\"}, {\"MoisturePercent\": 56.0, \"MilkTypeEn\": \"Ewe\", \"FatLevel\": \"lower fat\"}, {\"MoisturePercent\": null, \"MilkTypeEn\": \"Cow\", \"FatLevel\": \"lower fat\"}, {\"MoisturePercent\": 39.0, \"MilkTypeEn\": \"Cow\", \"FatLevel\": \"higher fat\"}, {\"MoisturePercent\": 40.0, \"MilkTypeEn\": \"Cow\", \"FatLevel\": \"higher fat\"}, {\"MoisturePercent\": 52.0, \"MilkTypeEn\": \"Goat\", \"FatLevel\": \"lower fat\"}, {\"MoisturePercent\": 46.0, \"MilkTypeEn\": \"Cow\", \"FatLevel\": \"lower fat\"}, {\"MoisturePercent\": 48.0, \"MilkTypeEn\": \"Cow\", \"FatLevel\": \"lower fat\"}, {\"MoisturePercent\": 44.0, \"MilkTypeEn\": \"Cow\", \"FatLevel\": \"lower fat\"}, {\"MoisturePercent\": 48.0, \"MilkTypeEn\": \"Cow\", \"FatLevel\": \"lower fat\"}, {\"MoisturePercent\": 50.0, \"MilkTypeEn\": \"Cow\", \"FatLevel\": \"lower fat\"}, {\"MoisturePercent\": 45.0, \"MilkTypeEn\": \"Cow\", \"FatLevel\": \"lower fat\"}, {\"MoisturePercent\": 68.0, \"MilkTypeEn\": \"Cow\", \"FatLevel\": \"lower fat\"}, {\"MoisturePercent\": 68.0, \"MilkTypeEn\": \"Cow\", \"FatLevel\": \"lower fat\"}, {\"MoisturePercent\": 48.0, \"MilkTypeEn\": \"Ewe\", \"FatLevel\": \"lower fat\"}, {\"MoisturePercent\": 50.0, \"MilkTypeEn\": \"Cow\", \"FatLevel\": \"higher fat\"}, {\"MoisturePercent\": 58.0, \"MilkTypeEn\": \"Goat\", \"FatLevel\": \"lower fat\"}, {\"MoisturePercent\": 38.0, \"MilkTypeEn\": \"Cow\", \"FatLevel\": \"higher fat\"}, {\"MoisturePercent\": 41.0, \"MilkTypeEn\": \"Goat\", \"FatLevel\": \"lower fat\"}, {\"MoisturePercent\": 52.0, \"MilkTypeEn\": \"Cow\", \"FatLevel\": \"lower fat\"}, {\"MoisturePercent\": 31.0, \"MilkTypeEn\": \"Cow\", \"FatLevel\": \"higher fat\"}, {\"MoisturePercent\": 44.0, \"MilkTypeEn\": \"Cow\", \"FatLevel\": \"higher fat\"}, {\"MoisturePercent\": 43.0, \"MilkTypeEn\": \"Cow\", \"FatLevel\": \"lower fat\"}, {\"MoisturePercent\": 40.0, \"MilkTypeEn\": \"Goat\", \"FatLevel\": \"lower fat\"}, {\"MoisturePercent\": 52.0, \"MilkTypeEn\": \"Cow\", \"FatLevel\": \"lower fat\"}, {\"MoisturePercent\": 50.0, \"MilkTypeEn\": \"Goat\", \"FatLevel\": \"lower fat\"}, {\"MoisturePercent\": 52.0, \"MilkTypeEn\": \"Cow\", \"FatLevel\": \"lower fat\"}, {\"MoisturePercent\": 32.0, \"MilkTypeEn\": \"Cow\", \"FatLevel\": \"lower fat\"}, {\"MoisturePercent\": 46.0, \"MilkTypeEn\": \"Cow\", \"FatLevel\": \"lower fat\"}, {\"MoisturePercent\": 48.0, \"MilkTypeEn\": \"Cow\", \"FatLevel\": \"higher fat\"}, {\"MoisturePercent\": 39.0, \"MilkTypeEn\": \"Cow\", \"FatLevel\": \"higher fat\"}, {\"MoisturePercent\": 42.0, \"MilkTypeEn\": \"Cow\", \"FatLevel\": \"lower fat\"}, {\"MoisturePercent\": 65.0, \"MilkTypeEn\": \"Cow\", \"FatLevel\": \"lower fat\"}, {\"MoisturePercent\": 45.0, \"MilkTypeEn\": \"Goat\", \"FatLevel\": \"lower fat\"}, {\"MoisturePercent\": 39.0, \"MilkTypeEn\": \"Cow\", \"FatLevel\": \"higher fat\"}, {\"MoisturePercent\": 39.0, \"MilkTypeEn\": \"Cow\", \"FatLevel\": \"higher fat\"}, {\"MoisturePercent\": 39.0, \"MilkTypeEn\": \"Cow\", \"FatLevel\": \"higher fat\"}, {\"MoisturePercent\": 80.0, \"MilkTypeEn\": \"Buffalo Cow\", \"FatLevel\": \"lower fat\"}, {\"MoisturePercent\": 45.0, \"MilkTypeEn\": \"Cow\", \"FatLevel\": \"lower fat\"}, {\"MoisturePercent\": 74.0, \"MilkTypeEn\": \"Cow\", \"FatLevel\": \"lower fat\"}, {\"MoisturePercent\": 50.0, \"MilkTypeEn\": \"Goat\", \"FatLevel\": \"lower fat\"}, {\"MoisturePercent\": 63.0, \"MilkTypeEn\": \"Goat\", \"FatLevel\": \"lower fat\"}, {\"MoisturePercent\": 65.0, \"MilkTypeEn\": \"Goat\", \"FatLevel\": \"lower fat\"}, {\"MoisturePercent\": 60.0, \"MilkTypeEn\": \"Cow\", \"FatLevel\": \"lower fat\"}, {\"MoisturePercent\": 42.0, \"MilkTypeEn\": \"Cow\", \"FatLevel\": \"lower fat\"}, {\"MoisturePercent\": 56.0, \"MilkTypeEn\": \"Cow\", \"FatLevel\": \"lower fat\"}, {\"MoisturePercent\": 43.0, \"MilkTypeEn\": \"Cow\", \"FatLevel\": \"lower fat\"}, {\"MoisturePercent\": 50.0, \"MilkTypeEn\": \"Goat\", \"FatLevel\": \"lower fat\"}, {\"MoisturePercent\": 76.0, \"MilkTypeEn\": \"Cow\", \"FatLevel\": \"lower fat\"}, {\"MoisturePercent\": 72.0, \"MilkTypeEn\": \"Cow\", \"FatLevel\": \"lower fat\"}, {\"MoisturePercent\": 56.0, \"MilkTypeEn\": \"Cow\", \"FatLevel\": \"lower fat\"}, {\"MoisturePercent\": 55.0, \"MilkTypeEn\": \"Goat\", \"FatLevel\": \"lower fat\"}, {\"MoisturePercent\": 39.0, \"MilkTypeEn\": \"Cow\", \"FatLevel\": \"higher fat\"}, {\"MoisturePercent\": 56.0, \"MilkTypeEn\": \"Goat\", \"FatLevel\": \"lower fat\"}, {\"MoisturePercent\": null, \"MilkTypeEn\": \"Cow\", \"FatLevel\": \"lower fat\"}, {\"MoisturePercent\": 44.0, \"MilkTypeEn\": \"Cow\", \"FatLevel\": \"lower fat\"}, {\"MoisturePercent\": 38.0, \"MilkTypeEn\": \"Cow\", \"FatLevel\": \"lower fat\"}, {\"MoisturePercent\": 34.0, \"MilkTypeEn\": \"Cow\", \"FatLevel\": \"higher fat\"}, {\"MoisturePercent\": 39.0, \"MilkTypeEn\": \"Cow\", \"FatLevel\": \"higher fat\"}, {\"MoisturePercent\": 43.0, \"MilkTypeEn\": \"Cow\", \"FatLevel\": \"lower fat\"}, {\"MoisturePercent\": 52.0, \"MilkTypeEn\": \"Cow\", \"FatLevel\": \"lower fat\"}, {\"MoisturePercent\": 50.0, \"MilkTypeEn\": \"Cow\", \"FatLevel\": \"higher fat\"}, {\"MoisturePercent\": 60.0, \"MilkTypeEn\": \"Cow\", \"FatLevel\": \"lower fat\"}, {\"MoisturePercent\": 43.0, \"MilkTypeEn\": \"Cow\", \"FatLevel\": \"lower fat\"}, {\"MoisturePercent\": 48.0, \"MilkTypeEn\": \"Goat\", \"FatLevel\": \"lower fat\"}, {\"MoisturePercent\": 27.0, \"MilkTypeEn\": \"Cow\", \"FatLevel\": \"lower fat\"}, {\"MoisturePercent\": 47.0, \"MilkTypeEn\": \"Cow\", \"FatLevel\": \"lower fat\"}, {\"MoisturePercent\": 42.0, \"MilkTypeEn\": \"Goat\", \"FatLevel\": \"lower fat\"}, {\"MoisturePercent\": 42.0, \"MilkTypeEn\": \"Cow\", \"FatLevel\": \"lower fat\"}, {\"MoisturePercent\": 50.0, \"MilkTypeEn\": \"Cow\", \"FatLevel\": \"lower fat\"}, {\"MoisturePercent\": 43.0, \"MilkTypeEn\": \"Cow\", \"FatLevel\": \"lower fat\"}, {\"MoisturePercent\": 42.0, \"MilkTypeEn\": \"Cow\", \"FatLevel\": \"lower fat\"}, {\"MoisturePercent\": 42.0, \"MilkTypeEn\": \"Cow\", \"FatLevel\": \"lower fat\"}, {\"MoisturePercent\": null, \"MilkTypeEn\": \"Cow\", \"FatLevel\": \"lower fat\"}, {\"MoisturePercent\": 41.0, \"MilkTypeEn\": \"Cow\", \"FatLevel\": \"higher fat\"}, {\"MoisturePercent\": 50.0, \"MilkTypeEn\": \"Cow\", \"FatLevel\": \"higher fat\"}, {\"MoisturePercent\": 43.0, \"MilkTypeEn\": \"Ewe\", \"FatLevel\": \"higher fat\"}, {\"MoisturePercent\": 55.0, \"MilkTypeEn\": \"Goat\", \"FatLevel\": \"lower fat\"}, {\"MoisturePercent\": 54.0, \"MilkTypeEn\": \"Goat\", \"FatLevel\": \"lower fat\"}, {\"MoisturePercent\": 57.0, \"MilkTypeEn\": \"Goat\", \"FatLevel\": \"lower fat\"}, {\"MoisturePercent\": 39.0, \"MilkTypeEn\": \"Cow\", \"FatLevel\": \"higher fat\"}, {\"MoisturePercent\": 56.0, \"MilkTypeEn\": \"Cow\", \"FatLevel\": \"lower fat\"}, {\"MoisturePercent\": 33.0, \"MilkTypeEn\": \"Cow\", \"FatLevel\": \"higher fat\"}, {\"MoisturePercent\": 37.0, \"MilkTypeEn\": \"Goat\", \"FatLevel\": \"higher fat\"}, {\"MoisturePercent\": 50.0, \"MilkTypeEn\": \"Cow\", \"FatLevel\": \"lower fat\"}, {\"MoisturePercent\": 44.0, \"MilkTypeEn\": \"Cow\", \"FatLevel\": \"lower fat\"}, {\"MoisturePercent\": 50.0, \"MilkTypeEn\": \"Cow\", \"FatLevel\": \"lower fat\"}, {\"MoisturePercent\": 39.0, \"MilkTypeEn\": \"Cow\", \"FatLevel\": \"higher fat\"}, {\"MoisturePercent\": 40.0, \"MilkTypeEn\": \"Cow\", \"FatLevel\": \"lower fat\"}, {\"MoisturePercent\": 56.0, \"MilkTypeEn\": \"Cow\", \"FatLevel\": \"lower fat\"}, {\"MoisturePercent\": 50.0, \"MilkTypeEn\": \"Cow\", \"FatLevel\": \"higher fat\"}, {\"MoisturePercent\": 60.0, \"MilkTypeEn\": \"Cow\", \"FatLevel\": \"lower fat\"}, {\"MoisturePercent\": 48.0, \"MilkTypeEn\": \"Cow\", \"FatLevel\": \"lower fat\"}, {\"MoisturePercent\": 41.0, \"MilkTypeEn\": \"Cow\", \"FatLevel\": \"higher fat\"}, {\"MoisturePercent\": 43.0, \"MilkTypeEn\": \"Cow\", \"FatLevel\": \"higher fat\"}, {\"MoisturePercent\": 50.0, \"MilkTypeEn\": \"Goat\", \"FatLevel\": \"lower fat\"}, {\"MoisturePercent\": 35.0, \"MilkTypeEn\": \"Cow\", \"FatLevel\": \"higher fat\"}, {\"MoisturePercent\": 39.0, \"MilkTypeEn\": \"Cow\", \"FatLevel\": \"higher fat\"}, {\"MoisturePercent\": 38.0, \"MilkTypeEn\": \"Cow\", \"FatLevel\": \"higher fat\"}, {\"MoisturePercent\": 50.0, \"MilkTypeEn\": \"Cow\", \"FatLevel\": \"lower fat\"}, {\"MoisturePercent\": 55.0, \"MilkTypeEn\": \"Cow\", \"FatLevel\": \"lower fat\"}, {\"MoisturePercent\": 68.0, \"MilkTypeEn\": \"Cow\", \"FatLevel\": \"lower fat\"}, {\"MoisturePercent\": 49.0, \"MilkTypeEn\": \"Cow\", \"FatLevel\": \"lower fat\"}, {\"MoisturePercent\": 46.0, \"MilkTypeEn\": \"Cow\", \"FatLevel\": \"lower fat\"}, {\"MoisturePercent\": 55.0, \"MilkTypeEn\": \"Goat\", \"FatLevel\": \"lower fat\"}, {\"MoisturePercent\": 50.0, \"MilkTypeEn\": \"Cow\", \"FatLevel\": \"lower fat\"}, {\"MoisturePercent\": 12.0, \"MilkTypeEn\": \"Goat\", \"FatLevel\": \"higher fat\"}, {\"MoisturePercent\": 39.0, \"MilkTypeEn\": \"Cow\", \"FatLevel\": \"higher fat\"}, {\"MoisturePercent\": 37.0, \"MilkTypeEn\": \"Cow\", \"FatLevel\": \"higher fat\"}, {\"MoisturePercent\": 52.0, \"MilkTypeEn\": \"Cow\", \"FatLevel\": \"higher fat\"}, {\"MoisturePercent\": 34.0, \"MilkTypeEn\": \"Ewe\", \"FatLevel\": \"higher fat\"}, {\"MoisturePercent\": 45.0, \"MilkTypeEn\": \"Cow\", \"FatLevel\": \"higher fat\"}, {\"MoisturePercent\": 47.0, \"MilkTypeEn\": \"Cow\", \"FatLevel\": \"lower fat\"}, {\"MoisturePercent\": 58.0, \"MilkTypeEn\": \"Goat\", \"FatLevel\": \"lower fat\"}, {\"MoisturePercent\": 50.0, \"MilkTypeEn\": \"Cow\", \"FatLevel\": \"lower fat\"}, {\"MoisturePercent\": 39.0, \"MilkTypeEn\": \"Cow\", \"FatLevel\": \"higher fat\"}, {\"MoisturePercent\": 45.0, \"MilkTypeEn\": \"Cow\", \"FatLevel\": \"lower fat\"}, {\"MoisturePercent\": 41.0, \"MilkTypeEn\": \"Cow\", \"FatLevel\": \"higher fat\"}, {\"MoisturePercent\": 44.0, \"MilkTypeEn\": \"Cow\", \"FatLevel\": \"lower fat\"}, {\"MoisturePercent\": 45.0, \"MilkTypeEn\": \"Cow\", \"FatLevel\": \"lower fat\"}, {\"MoisturePercent\": 39.0, \"MilkTypeEn\": \"Cow\", \"FatLevel\": \"higher fat\"}, {\"MoisturePercent\": 55.0, \"MilkTypeEn\": \"Cow and Goat\", \"FatLevel\": \"lower fat\"}, {\"MoisturePercent\": 36.0, \"MilkTypeEn\": \"Cow\", \"FatLevel\": \"higher fat\"}, {\"MoisturePercent\": 35.0, \"MilkTypeEn\": \"Goat\", \"FatLevel\": \"lower fat\"}, {\"MoisturePercent\": 35.0, \"MilkTypeEn\": \"Cow\", \"FatLevel\": \"lower fat\"}, {\"MoisturePercent\": 50.0, \"MilkTypeEn\": \"Goat\", \"FatLevel\": \"lower fat\"}, {\"MoisturePercent\": 50.0, \"MilkTypeEn\": \"Cow\", \"FatLevel\": \"lower fat\"}, {\"MoisturePercent\": 26.0, \"MilkTypeEn\": \"Cow\", \"FatLevel\": \"higher fat\"}, {\"MoisturePercent\": 52.0, \"MilkTypeEn\": \"Cow\", \"FatLevel\": \"lower fat\"}, {\"MoisturePercent\": 40.0, \"MilkTypeEn\": \"Cow\", \"FatLevel\": \"higher fat\"}, {\"MoisturePercent\": 55.0, \"MilkTypeEn\": \"Cow\", \"FatLevel\": \"lower fat\"}, {\"MoisturePercent\": 50.0, \"MilkTypeEn\": \"Cow\", \"FatLevel\": \"lower fat\"}, {\"MoisturePercent\": 38.0, \"MilkTypeEn\": \"Goat\", \"FatLevel\": \"higher fat\"}, {\"MoisturePercent\": 45.0, \"MilkTypeEn\": \"Cow\", \"FatLevel\": \"higher fat\"}, {\"MoisturePercent\": 35.0, \"MilkTypeEn\": \"Cow\", \"FatLevel\": \"higher fat\"}, {\"MoisturePercent\": 60.0, \"MilkTypeEn\": \"Goat\", \"FatLevel\": \"lower fat\"}, {\"MoisturePercent\": 48.0, \"MilkTypeEn\": \"Cow\", \"FatLevel\": \"lower fat\"}, {\"MoisturePercent\": 43.0, \"MilkTypeEn\": \"Cow\", \"FatLevel\": \"higher fat\"}, {\"MoisturePercent\": 61.0, \"MilkTypeEn\": \"Ewe\", \"FatLevel\": \"lower fat\"}, {\"MoisturePercent\": 50.0, \"MilkTypeEn\": \"Cow\", \"FatLevel\": \"higher fat\"}, {\"MoisturePercent\": 40.0, \"MilkTypeEn\": \"Goat\", \"FatLevel\": \"lower fat\"}, {\"MoisturePercent\": 39.0, \"MilkTypeEn\": \"Cow\", \"FatLevel\": \"higher fat\"}, {\"MoisturePercent\": 58.0, \"MilkTypeEn\": \"Goat\", \"FatLevel\": \"lower fat\"}, {\"MoisturePercent\": 52.0, \"MilkTypeEn\": \"Cow\", \"FatLevel\": \"lower fat\"}, {\"MoisturePercent\": 42.0, \"MilkTypeEn\": \"Cow\", \"FatLevel\": \"lower fat\"}, {\"MoisturePercent\": 43.0, \"MilkTypeEn\": \"Goat\", \"FatLevel\": \"lower fat\"}, {\"MoisturePercent\": 40.0, \"MilkTypeEn\": \"Cow\", \"FatLevel\": \"lower fat\"}, {\"MoisturePercent\": 48.0, \"MilkTypeEn\": \"Cow\", \"FatLevel\": \"lower fat\"}, {\"MoisturePercent\": 55.0, \"MilkTypeEn\": \"Goat\", \"FatLevel\": \"lower fat\"}, {\"MoisturePercent\": 50.0, \"MilkTypeEn\": \"Cow\", \"FatLevel\": \"lower fat\"}, {\"MoisturePercent\": 46.0, \"MilkTypeEn\": \"Goat\", \"FatLevel\": \"lower fat\"}, {\"MoisturePercent\": 50.0, \"MilkTypeEn\": \"Goat\", \"FatLevel\": \"lower fat\"}, {\"MoisturePercent\": 42.0, \"MilkTypeEn\": \"Cow\", \"FatLevel\": \"lower fat\"}, {\"MoisturePercent\": 50.0, \"MilkTypeEn\": \"Goat\", \"FatLevel\": \"lower fat\"}, {\"MoisturePercent\": 48.0, \"MilkTypeEn\": \"Cow\", \"FatLevel\": \"lower fat\"}, {\"MoisturePercent\": 50.0, \"MilkTypeEn\": \"Cow\", \"FatLevel\": \"lower fat\"}, {\"MoisturePercent\": 47.0, \"MilkTypeEn\": \"Cow\", \"FatLevel\": \"lower fat\"}, {\"MoisturePercent\": 55.0, \"MilkTypeEn\": \"Goat\", \"FatLevel\": \"lower fat\"}, {\"MoisturePercent\": 60.0, \"MilkTypeEn\": \"Cow and Goat\", \"FatLevel\": \"lower fat\"}, {\"MoisturePercent\": 39.0, \"MilkTypeEn\": \"Cow\", \"FatLevel\": \"higher fat\"}, {\"MoisturePercent\": 43.0, \"MilkTypeEn\": \"Goat\", \"FatLevel\": \"lower fat\"}, {\"MoisturePercent\": 57.0, \"MilkTypeEn\": \"Cow\", \"FatLevel\": \"lower fat\"}, {\"MoisturePercent\": 44.0, \"MilkTypeEn\": \"Cow\", \"FatLevel\": \"lower fat\"}, {\"MoisturePercent\": 50.0, \"MilkTypeEn\": \"Goat\", \"FatLevel\": \"lower fat\"}, {\"MoisturePercent\": 60.0, \"MilkTypeEn\": \"Goat\", \"FatLevel\": \"lower fat\"}, {\"MoisturePercent\": 47.0, \"MilkTypeEn\": \"Cow\", \"FatLevel\": \"lower fat\"}, {\"MoisturePercent\": 43.0, \"MilkTypeEn\": \"Ewe\", \"FatLevel\": \"higher fat\"}, {\"MoisturePercent\": 54.0, \"MilkTypeEn\": \"Cow\", \"FatLevel\": \"lower fat\"}, {\"MoisturePercent\": 50.0, \"MilkTypeEn\": \"Cow\", \"FatLevel\": \"higher fat\"}, {\"MoisturePercent\": 45.0, \"MilkTypeEn\": \"Goat\", \"FatLevel\": \"lower fat\"}, {\"MoisturePercent\": 50.0, \"MilkTypeEn\": \"Cow\", \"FatLevel\": \"higher fat\"}, {\"MoisturePercent\": 50.0, \"MilkTypeEn\": \"Cow and Goat\", \"FatLevel\": \"lower fat\"}, {\"MoisturePercent\": 55.0, \"MilkTypeEn\": \"Ewe\", \"FatLevel\": \"lower fat\"}, {\"MoisturePercent\": 50.0, \"MilkTypeEn\": \"Cow\", \"FatLevel\": \"lower fat\"}, {\"MoisturePercent\": 50.0, \"MilkTypeEn\": \"Goat\", \"FatLevel\": \"lower fat\"}, {\"MoisturePercent\": 46.0, \"MilkTypeEn\": \"Cow\", \"FatLevel\": \"lower fat\"}, {\"MoisturePercent\": 48.0, \"MilkTypeEn\": \"Cow\", \"FatLevel\": \"lower fat\"}, {\"MoisturePercent\": 48.0, \"MilkTypeEn\": \"Cow\", \"FatLevel\": \"lower fat\"}, {\"MoisturePercent\": 51.0, \"MilkTypeEn\": \"Cow\", \"FatLevel\": \"lower fat\"}, {\"MoisturePercent\": 42.0, \"MilkTypeEn\": \"Cow\", \"FatLevel\": \"higher fat\"}, {\"MoisturePercent\": 36.0, \"MilkTypeEn\": \"Cow\", \"FatLevel\": \"higher fat\"}, {\"MoisturePercent\": 62.0, \"MilkTypeEn\": \"Cow\", \"FatLevel\": \"lower fat\"}, {\"MoisturePercent\": 80.0, \"MilkTypeEn\": \"Ewe\", \"FatLevel\": \"lower fat\"}, {\"MoisturePercent\": 52.0, \"MilkTypeEn\": \"Cow\", \"FatLevel\": \"lower fat\"}, {\"MoisturePercent\": 45.0, \"MilkTypeEn\": \"Cow\", \"FatLevel\": \"higher fat\"}, {\"MoisturePercent\": 59.0, \"MilkTypeEn\": \"Goat\", \"FatLevel\": \"lower fat\"}, {\"MoisturePercent\": 42.0, \"MilkTypeEn\": \"Goat\", \"FatLevel\": \"lower fat\"}, {\"MoisturePercent\": 50.0, \"MilkTypeEn\": \"Goat\", \"FatLevel\": \"lower fat\"}, {\"MoisturePercent\": 48.0, \"MilkTypeEn\": \"Cow\", \"FatLevel\": \"lower fat\"}, {\"MoisturePercent\": 41.0, \"MilkTypeEn\": \"Goat\", \"FatLevel\": \"lower fat\"}, {\"MoisturePercent\": 46.0, \"MilkTypeEn\": \"Cow\", \"FatLevel\": \"lower fat\"}, {\"MoisturePercent\": 50.0, \"MilkTypeEn\": \"Cow\", \"FatLevel\": \"higher fat\"}, {\"MoisturePercent\": 43.0, \"MilkTypeEn\": \"Goat\", \"FatLevel\": \"lower fat\"}, {\"MoisturePercent\": 45.0, \"MilkTypeEn\": \"Cow\", \"FatLevel\": \"lower fat\"}, {\"MoisturePercent\": 42.0, \"MilkTypeEn\": \"Cow\", \"FatLevel\": \"lower fat\"}, {\"MoisturePercent\": 45.0, \"MilkTypeEn\": \"Cow\", \"FatLevel\": \"lower fat\"}, {\"MoisturePercent\": 50.0, \"MilkTypeEn\": \"Cow\", \"FatLevel\": \"higher fat\"}, {\"MoisturePercent\": 64.0, \"MilkTypeEn\": \"Ewe\", \"FatLevel\": \"lower fat\"}, {\"MoisturePercent\": 40.0, \"MilkTypeEn\": \"Ewe\", \"FatLevel\": \"lower fat\"}, {\"MoisturePercent\": 38.0, \"MilkTypeEn\": \"Cow\", \"FatLevel\": \"higher fat\"}, {\"MoisturePercent\": 57.0, \"MilkTypeEn\": \"Goat\", \"FatLevel\": \"lower fat\"}, {\"MoisturePercent\": 45.0, \"MilkTypeEn\": \"Cow\", \"FatLevel\": \"higher fat\"}, {\"MoisturePercent\": 50.0, \"MilkTypeEn\": \"Cow\", \"FatLevel\": \"lower fat\"}, {\"MoisturePercent\": 35.0, \"MilkTypeEn\": \"Cow\", \"FatLevel\": \"higher fat\"}, {\"MoisturePercent\": 45.0, \"MilkTypeEn\": \"Cow\", \"FatLevel\": \"higher fat\"}, {\"MoisturePercent\": 42.8, \"MilkTypeEn\": \"Cow\", \"FatLevel\": \"lower fat\"}, {\"MoisturePercent\": 45.0, \"MilkTypeEn\": \"Cow\", \"FatLevel\": \"higher fat\"}, {\"MoisturePercent\": 40.0, \"MilkTypeEn\": \"Cow\", \"FatLevel\": \"lower fat\"}, {\"MoisturePercent\": 40.0, \"MilkTypeEn\": \"Goat\", \"FatLevel\": \"lower fat\"}, {\"MoisturePercent\": 55.0, \"MilkTypeEn\": \"Cow\", \"FatLevel\": \"lower fat\"}, {\"MoisturePercent\": 45.0, \"MilkTypeEn\": \"Cow\", \"FatLevel\": \"lower fat\"}, {\"MoisturePercent\": 41.0, \"MilkTypeEn\": \"Goat\", \"FatLevel\": \"higher fat\"}, {\"MoisturePercent\": 21.0, \"MilkTypeEn\": \"Ewe\", \"FatLevel\": \"higher fat\"}, {\"MoisturePercent\": 48.0, \"MilkTypeEn\": \"Cow\", \"FatLevel\": \"lower fat\"}, {\"MoisturePercent\": 50.0, \"MilkTypeEn\": \"Cow\", \"FatLevel\": \"lower fat\"}, {\"MoisturePercent\": 50.0, \"MilkTypeEn\": \"Cow\", \"FatLevel\": \"lower fat\"}, {\"MoisturePercent\": 50.0, \"MilkTypeEn\": \"Cow\", \"FatLevel\": \"lower fat\"}, {\"MoisturePercent\": 55.0, \"MilkTypeEn\": \"Cow\", \"FatLevel\": \"lower fat\"}, {\"MoisturePercent\": 58.0, \"MilkTypeEn\": \"Ewe\", \"FatLevel\": \"lower fat\"}, {\"MoisturePercent\": 39.0, \"MilkTypeEn\": \"Cow\", \"FatLevel\": \"higher fat\"}, {\"MoisturePercent\": 43.0, \"MilkTypeEn\": \"Goat\", \"FatLevel\": \"lower fat\"}, {\"MoisturePercent\": 50.0, \"MilkTypeEn\": \"Goat\", \"FatLevel\": \"lower fat\"}, {\"MoisturePercent\": 38.0, \"MilkTypeEn\": \"Cow\", \"FatLevel\": \"higher fat\"}, {\"MoisturePercent\": 57.0, \"MilkTypeEn\": \"Goat\", \"FatLevel\": \"higher fat\"}, {\"MoisturePercent\": 34.0, \"MilkTypeEn\": \"Cow\", \"FatLevel\": \"higher fat\"}, {\"MoisturePercent\": 41.0, \"MilkTypeEn\": \"Cow\", \"FatLevel\": \"higher fat\"}, {\"MoisturePercent\": 50.0, \"MilkTypeEn\": \"Goat\", \"FatLevel\": \"lower fat\"}, {\"MoisturePercent\": 39.0, \"MilkTypeEn\": \"Cow\", \"FatLevel\": \"higher fat\"}, {\"MoisturePercent\": 39.0, \"MilkTypeEn\": \"Cow\", \"FatLevel\": \"higher fat\"}, {\"MoisturePercent\": 54.0, \"MilkTypeEn\": \"Cow\", \"FatLevel\": \"lower fat\"}, {\"MoisturePercent\": 39.0, \"MilkTypeEn\": \"Cow\", \"FatLevel\": \"higher fat\"}, {\"MoisturePercent\": 46.0, \"MilkTypeEn\": \"Cow\", \"FatLevel\": \"lower fat\"}, {\"MoisturePercent\": 40.0, \"MilkTypeEn\": \"Cow\", \"FatLevel\": \"lower fat\"}, {\"MoisturePercent\": null, \"MilkTypeEn\": \"Ewe\", \"FatLevel\": \"lower fat\"}, {\"MoisturePercent\": 52.0, \"MilkTypeEn\": \"Goat\", \"FatLevel\": \"lower fat\"}, {\"MoisturePercent\": 52.0, \"MilkTypeEn\": \"Cow\", \"FatLevel\": \"lower fat\"}, {\"MoisturePercent\": 54.0, \"MilkTypeEn\": \"Cow\", \"FatLevel\": \"lower fat\"}, {\"MoisturePercent\": 46.0, \"MilkTypeEn\": \"Cow\", \"FatLevel\": \"lower fat\"}, {\"MoisturePercent\": 38.0, \"MilkTypeEn\": \"Cow\", \"FatLevel\": \"higher fat\"}, {\"MoisturePercent\": 92.0, \"MilkTypeEn\": \"Cow\", \"FatLevel\": \"lower fat\"}, {\"MoisturePercent\": 46.0, \"MilkTypeEn\": \"Cow\", \"FatLevel\": \"lower fat\"}, {\"MoisturePercent\": 52.0, \"MilkTypeEn\": \"Cow\", \"FatLevel\": \"lower fat\"}, {\"MoisturePercent\": 40.0, \"MilkTypeEn\": \"Goat\", \"FatLevel\": \"higher fat\"}, {\"MoisturePercent\": 43.0, \"MilkTypeEn\": \"Goat\", \"FatLevel\": \"lower fat\"}, {\"MoisturePercent\": 45.0, \"MilkTypeEn\": \"Cow\", \"FatLevel\": \"higher fat\"}, {\"MoisturePercent\": 39.0, \"MilkTypeEn\": \"Cow\", \"FatLevel\": \"higher fat\"}, {\"MoisturePercent\": 35.0, \"MilkTypeEn\": \"Goat\", \"FatLevel\": \"higher fat\"}, {\"MoisturePercent\": 50.0, \"MilkTypeEn\": \"Goat\", \"FatLevel\": \"lower fat\"}, {\"MoisturePercent\": 50.0, \"MilkTypeEn\": \"Cow\", \"FatLevel\": \"lower fat\"}, {\"MoisturePercent\": 56.0, \"MilkTypeEn\": \"Goat\", \"FatLevel\": \"lower fat\"}, {\"MoisturePercent\": 57.0, \"MilkTypeEn\": \"Cow\", \"FatLevel\": \"lower fat\"}, {\"MoisturePercent\": 56.0, \"MilkTypeEn\": \"Goat\", \"FatLevel\": \"lower fat\"}, {\"MoisturePercent\": 64.0, \"MilkTypeEn\": \"Buffalo Cow\", \"FatLevel\": \"lower fat\"}, {\"MoisturePercent\": 54.0, \"MilkTypeEn\": \"Cow\", \"FatLevel\": \"lower fat\"}, {\"MoisturePercent\": 40.0, \"MilkTypeEn\": \"Cow\", \"FatLevel\": \"lower fat\"}, {\"MoisturePercent\": 54.0, \"MilkTypeEn\": \"Ewe\", \"FatLevel\": \"lower fat\"}, {\"MoisturePercent\": 38.0, \"MilkTypeEn\": \"Cow\", \"FatLevel\": \"higher fat\"}, {\"MoisturePercent\": 60.0, \"MilkTypeEn\": \"Ewe and Goat\", \"FatLevel\": \"lower fat\"}, {\"MoisturePercent\": 50.0, \"MilkTypeEn\": \"Goat\", \"FatLevel\": \"lower fat\"}, {\"MoisturePercent\": 41.0, \"MilkTypeEn\": \"Cow\", \"FatLevel\": \"higher fat\"}, {\"MoisturePercent\": 20.0, \"MilkTypeEn\": \"Cow\", \"FatLevel\": \"higher fat\"}, {\"MoisturePercent\": 52.0, \"MilkTypeEn\": \"Goat\", \"FatLevel\": \"lower fat\"}, {\"MoisturePercent\": 39.0, \"MilkTypeEn\": \"Cow\", \"FatLevel\": \"higher fat\"}, {\"MoisturePercent\": 65.0, \"MilkTypeEn\": \"Goat\", \"FatLevel\": \"lower fat\"}, {\"MoisturePercent\": null, \"MilkTypeEn\": \"Cow\", \"FatLevel\": \"lower fat\"}, {\"MoisturePercent\": 42.0, \"MilkTypeEn\": \"Goat\", \"FatLevel\": \"lower fat\"}, {\"MoisturePercent\": 46.0, \"MilkTypeEn\": \"Cow\", \"FatLevel\": \"lower fat\"}, {\"MoisturePercent\": 41.0, \"MilkTypeEn\": \"Cow\", \"FatLevel\": \"higher fat\"}, {\"MoisturePercent\": 35.0, \"MilkTypeEn\": \"Cow\", \"FatLevel\": \"higher fat\"}, {\"MoisturePercent\": 50.0, \"MilkTypeEn\": \"Goat\", \"FatLevel\": \"lower fat\"}, {\"MoisturePercent\": 48.0, \"MilkTypeEn\": \"Goat\", \"FatLevel\": \"lower fat\"}, {\"MoisturePercent\": 48.0, \"MilkTypeEn\": \"Ewe\", \"FatLevel\": \"higher fat\"}, {\"MoisturePercent\": 36.0, \"MilkTypeEn\": \"Cow\", \"FatLevel\": \"higher fat\"}, {\"MoisturePercent\": 40.0, \"MilkTypeEn\": \"Cow\", \"FatLevel\": \"higher fat\"}, {\"MoisturePercent\": 63.0, \"MilkTypeEn\": \"Goat\", \"FatLevel\": \"lower fat\"}, {\"MoisturePercent\": 24.0, \"MilkTypeEn\": \"Cow\", \"FatLevel\": \"higher fat\"}, {\"MoisturePercent\": 55.0, \"MilkTypeEn\": \"Goat\", \"FatLevel\": \"higher fat\"}, {\"MoisturePercent\": 70.0, \"MilkTypeEn\": \"Goat\", \"FatLevel\": \"lower fat\"}, {\"MoisturePercent\": 65.0, \"MilkTypeEn\": \"Cow\", \"FatLevel\": \"lower fat\"}, {\"MoisturePercent\": 55.0, \"MilkTypeEn\": \"Cow\", \"FatLevel\": \"lower fat\"}, {\"MoisturePercent\": 50.0, \"MilkTypeEn\": \"Cow\", \"FatLevel\": \"higher fat\"}, {\"MoisturePercent\": 55.0, \"MilkTypeEn\": \"Goat\", \"FatLevel\": \"lower fat\"}, {\"MoisturePercent\": 42.6, \"MilkTypeEn\": \"Goat\", \"FatLevel\": \"lower fat\"}, {\"MoisturePercent\": 52.0, \"MilkTypeEn\": \"Cow\", \"FatLevel\": \"lower fat\"}, {\"MoisturePercent\": 50.0, \"MilkTypeEn\": \"Cow\", \"FatLevel\": \"lower fat\"}, {\"MoisturePercent\": 50.0, \"MilkTypeEn\": \"Cow\", \"FatLevel\": \"lower fat\"}, {\"MoisturePercent\": 29.0, \"MilkTypeEn\": \"Cow\", \"FatLevel\": \"higher fat\"}, {\"MoisturePercent\": 50.0, \"MilkTypeEn\": \"Cow\", \"FatLevel\": \"lower fat\"}, {\"MoisturePercent\": 50.0, \"MilkTypeEn\": \"Cow and Goat\", \"FatLevel\": \"lower fat\"}, {\"MoisturePercent\": 48.0, \"MilkTypeEn\": \"Cow\", \"FatLevel\": \"lower fat\"}, {\"MoisturePercent\": 50.0, \"MilkTypeEn\": \"Ewe\", \"FatLevel\": \"lower fat\"}, {\"MoisturePercent\": 80.0, \"MilkTypeEn\": \"Cow\", \"FatLevel\": \"lower fat\"}, {\"MoisturePercent\": 74.0, \"MilkTypeEn\": \"Goat\", \"FatLevel\": \"lower fat\"}, {\"MoisturePercent\": 45.0, \"MilkTypeEn\": \"Ewe\", \"FatLevel\": \"higher fat\"}, {\"MoisturePercent\": 52.0, \"MilkTypeEn\": \"Cow\", \"FatLevel\": \"lower fat\"}, {\"MoisturePercent\": 50.0, \"MilkTypeEn\": \"Cow\", \"FatLevel\": \"higher fat\"}, {\"MoisturePercent\": 50.0, \"MilkTypeEn\": \"Cow\", \"FatLevel\": \"lower fat\"}, {\"MoisturePercent\": 39.0, \"MilkTypeEn\": \"Cow\", \"FatLevel\": \"higher fat\"}, {\"MoisturePercent\": 44.0, \"MilkTypeEn\": \"Cow\", \"FatLevel\": \"lower fat\"}, {\"MoisturePercent\": 39.0, \"MilkTypeEn\": \"Cow\", \"FatLevel\": \"higher fat\"}, {\"MoisturePercent\": 43.0, \"MilkTypeEn\": \"Goat\", \"FatLevel\": \"lower fat\"}, {\"MoisturePercent\": 47.0, \"MilkTypeEn\": \"Cow\", \"FatLevel\": \"lower fat\"}, {\"MoisturePercent\": 49.0, \"MilkTypeEn\": \"Cow\", \"FatLevel\": \"lower fat\"}, {\"MoisturePercent\": 50.0, \"MilkTypeEn\": \"Cow\", \"FatLevel\": \"lower fat\"}, {\"MoisturePercent\": 42.0, \"MilkTypeEn\": \"Cow\", \"FatLevel\": \"lower fat\"}, {\"MoisturePercent\": 50.0, \"MilkTypeEn\": \"Cow\", \"FatLevel\": \"higher fat\"}, {\"MoisturePercent\": 41.0, \"MilkTypeEn\": \"Cow\", \"FatLevel\": \"higher fat\"}, {\"MoisturePercent\": 50.0, \"MilkTypeEn\": \"Cow\", \"FatLevel\": \"lower fat\"}, {\"MoisturePercent\": 39.0, \"MilkTypeEn\": \"Cow\", \"FatLevel\": \"higher fat\"}, {\"MoisturePercent\": 39.0, \"MilkTypeEn\": \"Cow\", \"FatLevel\": \"higher fat\"}, {\"MoisturePercent\": 50.0, \"MilkTypeEn\": \"Cow\", \"FatLevel\": \"higher fat\"}, {\"MoisturePercent\": 60.0, \"MilkTypeEn\": \"Goat\", \"FatLevel\": \"lower fat\"}, {\"MoisturePercent\": 50.0, \"MilkTypeEn\": \"Cow\", \"FatLevel\": \"higher fat\"}, {\"MoisturePercent\": 46.0, \"MilkTypeEn\": \"Cow\", \"FatLevel\": \"lower fat\"}, {\"MoisturePercent\": 32.0, \"MilkTypeEn\": \"Cow\", \"FatLevel\": \"lower fat\"}, {\"MoisturePercent\": 40.0, \"MilkTypeEn\": \"Goat\", \"FatLevel\": \"higher fat\"}, {\"MoisturePercent\": 55.0, \"MilkTypeEn\": \"Cow\", \"FatLevel\": \"lower fat\"}, {\"MoisturePercent\": 39.0, \"MilkTypeEn\": \"Ewe\", \"FatLevel\": \"lower fat\"}, {\"MoisturePercent\": 47.0, \"MilkTypeEn\": \"Cow\", \"FatLevel\": \"lower fat\"}, {\"MoisturePercent\": 48.0, \"MilkTypeEn\": \"Cow\", \"FatLevel\": \"lower fat\"}, {\"MoisturePercent\": 55.0, \"MilkTypeEn\": \"Goat\", \"FatLevel\": \"lower fat\"}, {\"MoisturePercent\": 42.0, \"MilkTypeEn\": \"Cow and Goat\", \"FatLevel\": \"higher fat\"}, {\"MoisturePercent\": 55.0, \"MilkTypeEn\": \"Cow\", \"FatLevel\": \"lower fat\"}, {\"MoisturePercent\": 48.0, \"MilkTypeEn\": \"Cow\", \"FatLevel\": \"lower fat\"}, {\"MoisturePercent\": 40.0, \"MilkTypeEn\": \"Cow\", \"FatLevel\": \"lower fat\"}, {\"MoisturePercent\": 55.0, \"MilkTypeEn\": \"Cow\", \"FatLevel\": \"lower fat\"}, {\"MoisturePercent\": 50.0, \"MilkTypeEn\": \"Cow\", \"FatLevel\": \"higher fat\"}, {\"MoisturePercent\": 50.0, \"MilkTypeEn\": \"Cow\", \"FatLevel\": \"lower fat\"}, {\"MoisturePercent\": 38.0, \"MilkTypeEn\": \"Cow\", \"FatLevel\": \"lower fat\"}, {\"MoisturePercent\": 50.0, \"MilkTypeEn\": \"Goat\", \"FatLevel\": \"lower fat\"}, {\"MoisturePercent\": 55.0, \"MilkTypeEn\": \"Cow\", \"FatLevel\": \"lower fat\"}, {\"MoisturePercent\": 42.0, \"MilkTypeEn\": \"Goat\", \"FatLevel\": \"lower fat\"}, {\"MoisturePercent\": 48.0, \"MilkTypeEn\": \"Cow\", \"FatLevel\": \"lower fat\"}, {\"MoisturePercent\": 48.0, \"MilkTypeEn\": \"Cow\", \"FatLevel\": \"higher fat\"}, {\"MoisturePercent\": 45.0, \"MilkTypeEn\": \"Cow\", \"FatLevel\": \"lower fat\"}, {\"MoisturePercent\": 45.0, \"MilkTypeEn\": \"Ewe and Cow\", \"FatLevel\": \"higher fat\"}, {\"MoisturePercent\": 40.0, \"MilkTypeEn\": \"Cow\", \"FatLevel\": \"lower fat\"}, {\"MoisturePercent\": 43.0, \"MilkTypeEn\": \"Cow\", \"FatLevel\": \"lower fat\"}, {\"MoisturePercent\": 42.0, \"MilkTypeEn\": \"Cow\", \"FatLevel\": \"higher fat\"}, {\"MoisturePercent\": 39.0, \"MilkTypeEn\": \"Cow\", \"FatLevel\": \"higher fat\"}, {\"MoisturePercent\": 56.0, \"MilkTypeEn\": \"Cow and Goat\", \"FatLevel\": \"lower fat\"}, {\"MoisturePercent\": 37.0, \"MilkTypeEn\": \"Goat\", \"FatLevel\": \"higher fat\"}, {\"MoisturePercent\": 40.0, \"MilkTypeEn\": \"Cow\", \"FatLevel\": \"higher fat\"}, {\"MoisturePercent\": 50.0, \"MilkTypeEn\": \"Cow\", \"FatLevel\": \"higher fat\"}, {\"MoisturePercent\": 40.0, \"MilkTypeEn\": \"Cow\", \"FatLevel\": \"lower fat\"}, {\"MoisturePercent\": 22.0, \"MilkTypeEn\": \"Cow\", \"FatLevel\": \"higher fat\"}, {\"MoisturePercent\": 53.0, \"MilkTypeEn\": \"Cow\", \"FatLevel\": \"lower fat\"}, {\"MoisturePercent\": 55.0, \"MilkTypeEn\": \"Cow\", \"FatLevel\": \"lower fat\"}, {\"MoisturePercent\": 37.0, \"MilkTypeEn\": \"Cow\", \"FatLevel\": \"higher fat\"}, {\"MoisturePercent\": 48.0, \"MilkTypeEn\": \"Goat\", \"FatLevel\": \"lower fat\"}, {\"MoisturePercent\": 35.0, \"MilkTypeEn\": \"Goat\", \"FatLevel\": \"lower fat\"}, {\"MoisturePercent\": 45.0, \"MilkTypeEn\": \"Cow\", \"FatLevel\": \"lower fat\"}, {\"MoisturePercent\": 34.0, \"MilkTypeEn\": \"Cow\", \"FatLevel\": \"lower fat\"}, {\"MoisturePercent\": 43.0, \"MilkTypeEn\": \"Ewe\", \"FatLevel\": \"lower fat\"}, {\"MoisturePercent\": 55.0, \"MilkTypeEn\": \"Ewe\", \"FatLevel\": \"lower fat\"}, {\"MoisturePercent\": 54.0, \"MilkTypeEn\": \"Cow\", \"FatLevel\": \"lower fat\"}, {\"MoisturePercent\": null, \"MilkTypeEn\": \"Ewe\", \"FatLevel\": \"lower fat\"}, {\"MoisturePercent\": 36.0, \"MilkTypeEn\": \"Cow\", \"FatLevel\": \"higher fat\"}, {\"MoisturePercent\": 50.0, \"MilkTypeEn\": \"Cow\", \"FatLevel\": \"lower fat\"}, {\"MoisturePercent\": 42.0, \"MilkTypeEn\": \"Goat\", \"FatLevel\": \"lower fat\"}, {\"MoisturePercent\": 54.0, \"MilkTypeEn\": \"Cow\", \"FatLevel\": \"lower fat\"}, {\"MoisturePercent\": 55.0, \"MilkTypeEn\": \"Goat\", \"FatLevel\": \"lower fat\"}, {\"MoisturePercent\": 56.0, \"MilkTypeEn\": \"Cow\", \"FatLevel\": \"lower fat\"}, {\"MoisturePercent\": 55.0, \"MilkTypeEn\": \"Goat\", \"FatLevel\": \"higher fat\"}, {\"MoisturePercent\": 41.0, \"MilkTypeEn\": \"Cow\", \"FatLevel\": \"higher fat\"}, {\"MoisturePercent\": 41.0, \"MilkTypeEn\": \"Goat\", \"FatLevel\": \"higher fat\"}, {\"MoisturePercent\": 47.0, \"MilkTypeEn\": \"Cow\", \"FatLevel\": \"lower fat\"}, {\"MoisturePercent\": 61.0, \"MilkTypeEn\": \"Cow\", \"FatLevel\": \"lower fat\"}, {\"MoisturePercent\": 35.0, \"MilkTypeEn\": \"Cow\", \"FatLevel\": \"higher fat\"}, {\"MoisturePercent\": 41.0, \"MilkTypeEn\": \"Cow\", \"FatLevel\": \"higher fat\"}, {\"MoisturePercent\": 37.0, \"MilkTypeEn\": \"Goat\", \"FatLevel\": \"higher fat\"}, {\"MoisturePercent\": 45.0, \"MilkTypeEn\": \"Cow\", \"FatLevel\": \"lower fat\"}, {\"MoisturePercent\": 54.0, \"MilkTypeEn\": \"Cow\", \"FatLevel\": \"lower fat\"}, {\"MoisturePercent\": 57.0, \"MilkTypeEn\": \"Cow\", \"FatLevel\": \"lower fat\"}, {\"MoisturePercent\": 72.0, \"MilkTypeEn\": \"Ewe\", \"FatLevel\": \"lower fat\"}, {\"MoisturePercent\": 39.0, \"MilkTypeEn\": \"Cow\", \"FatLevel\": \"higher fat\"}, {\"MoisturePercent\": 39.0, \"MilkTypeEn\": \"Cow\", \"FatLevel\": \"higher fat\"}, {\"MoisturePercent\": 42.0, \"MilkTypeEn\": \"Cow\", \"FatLevel\": \"higher fat\"}, {\"MoisturePercent\": 50.0, \"MilkTypeEn\": \"Cow\", \"FatLevel\": \"higher fat\"}, {\"MoisturePercent\": 55.0, \"MilkTypeEn\": \"Cow\", \"FatLevel\": \"lower fat\"}, {\"MoisturePercent\": 45.0, \"MilkTypeEn\": \"Cow\", \"FatLevel\": \"lower fat\"}, {\"MoisturePercent\": 45.0, \"MilkTypeEn\": \"Cow\", \"FatLevel\": \"higher fat\"}, {\"MoisturePercent\": 48.0, \"MilkTypeEn\": \"Cow\", \"FatLevel\": \"lower fat\"}, {\"MoisturePercent\": 42.0, \"MilkTypeEn\": \"Cow\", \"FatLevel\": \"lower fat\"}, {\"MoisturePercent\": 50.0, \"MilkTypeEn\": \"Cow\", \"FatLevel\": \"higher fat\"}, {\"MoisturePercent\": 37.0, \"MilkTypeEn\": \"Goat\", \"FatLevel\": \"higher fat\"}, {\"MoisturePercent\": 65.0, \"MilkTypeEn\": \"Cow\", \"FatLevel\": \"lower fat\"}, {\"MoisturePercent\": 54.0, \"MilkTypeEn\": \"Cow\", \"FatLevel\": \"higher fat\"}, {\"MoisturePercent\": 41.0, \"MilkTypeEn\": \"Cow\", \"FatLevel\": \"higher fat\"}, {\"MoisturePercent\": 40.0, \"MilkTypeEn\": \"Cow\", \"FatLevel\": \"lower fat\"}, {\"MoisturePercent\": 39.0, \"MilkTypeEn\": \"Cow\", \"FatLevel\": \"higher fat\"}, {\"MoisturePercent\": 42.0, \"MilkTypeEn\": \"Cow\", \"FatLevel\": \"lower fat\"}, {\"MoisturePercent\": 48.0, \"MilkTypeEn\": \"Cow\", \"FatLevel\": \"lower fat\"}, {\"MoisturePercent\": 39.0, \"MilkTypeEn\": \"Ewe\", \"FatLevel\": \"higher fat\"}, {\"MoisturePercent\": 52.0, \"MilkTypeEn\": \"Cow\", \"FatLevel\": \"lower fat\"}, {\"MoisturePercent\": 42.0, \"MilkTypeEn\": \"Cow\", \"FatLevel\": \"lower fat\"}, {\"MoisturePercent\": 40.0, \"MilkTypeEn\": \"Goat\", \"FatLevel\": \"higher fat\"}, {\"MoisturePercent\": 42.0, \"MilkTypeEn\": \"Cow\", \"FatLevel\": \"higher fat\"}, {\"MoisturePercent\": 42.0, \"MilkTypeEn\": \"Cow\", \"FatLevel\": \"lower fat\"}, {\"MoisturePercent\": 44.0, \"MilkTypeEn\": \"Cow\", \"FatLevel\": \"higher fat\"}, {\"MoisturePercent\": 62.0, \"MilkTypeEn\": \"Goat\", \"FatLevel\": \"lower fat\"}, {\"MoisturePercent\": 48.0, \"MilkTypeEn\": \"Cow\", \"FatLevel\": \"lower fat\"}, {\"MoisturePercent\": 33.0, \"MilkTypeEn\": \"Cow\", \"FatLevel\": \"higher fat\"}, {\"MoisturePercent\": 39.0, \"MilkTypeEn\": \"Cow\", \"FatLevel\": \"higher fat\"}, {\"MoisturePercent\": 39.0, \"MilkTypeEn\": \"Cow\", \"FatLevel\": \"higher fat\"}, {\"MoisturePercent\": 55.0, \"MilkTypeEn\": \"Cow\", \"FatLevel\": \"lower fat\"}, {\"MoisturePercent\": 45.0, \"MilkTypeEn\": \"Cow\", \"FatLevel\": \"higher fat\"}, {\"MoisturePercent\": null, \"MilkTypeEn\": \"Cow\", \"FatLevel\": \"lower fat\"}, {\"MoisturePercent\": 40.0, \"MilkTypeEn\": \"Cow\", \"FatLevel\": \"lower fat\"}, {\"MoisturePercent\": 48.0, \"MilkTypeEn\": \"Cow\", \"FatLevel\": \"higher fat\"}, {\"MoisturePercent\": 38.0, \"MilkTypeEn\": \"Cow\", \"FatLevel\": \"higher fat\"}, {\"MoisturePercent\": 32.0, \"MilkTypeEn\": \"Cow\", \"FatLevel\": \"lower fat\"}, {\"MoisturePercent\": 52.0, \"MilkTypeEn\": \"Cow\", \"FatLevel\": \"higher fat\"}, {\"MoisturePercent\": 45.0, \"MilkTypeEn\": \"Cow\", \"FatLevel\": \"higher fat\"}, {\"MoisturePercent\": 34.0, \"MilkTypeEn\": \"Goat\", \"FatLevel\": \"higher fat\"}, {\"MoisturePercent\": 48.0, \"MilkTypeEn\": \"Cow\", \"FatLevel\": \"higher fat\"}, {\"MoisturePercent\": 42.0, \"MilkTypeEn\": \"Cow\", \"FatLevel\": \"lower fat\"}, {\"MoisturePercent\": 60.0, \"MilkTypeEn\": \"Cow\", \"FatLevel\": \"lower fat\"}, {\"MoisturePercent\": 39.0, \"MilkTypeEn\": \"Cow\", \"FatLevel\": \"higher fat\"}, {\"MoisturePercent\": 41.0, \"MilkTypeEn\": \"Goat\", \"FatLevel\": \"lower fat\"}, {\"MoisturePercent\": 49.0, \"MilkTypeEn\": \"Cow\", \"FatLevel\": \"lower fat\"}, {\"MoisturePercent\": 58.0, \"MilkTypeEn\": \"Cow\", \"FatLevel\": \"lower fat\"}, {\"MoisturePercent\": 56.0, \"MilkTypeEn\": \"Cow\", \"FatLevel\": \"lower fat\"}, {\"MoisturePercent\": 46.0, \"MilkTypeEn\": \"Cow\", \"FatLevel\": \"lower fat\"}, {\"MoisturePercent\": 50.0, \"MilkTypeEn\": \"Ewe\", \"FatLevel\": \"lower fat\"}, {\"MoisturePercent\": 35.0, \"MilkTypeEn\": \"Cow\", \"FatLevel\": \"higher fat\"}, {\"MoisturePercent\": 43.0, \"MilkTypeEn\": \"Goat\", \"FatLevel\": \"lower fat\"}, {\"MoisturePercent\": 46.0, \"MilkTypeEn\": \"Cow\", \"FatLevel\": \"lower fat\"}, {\"MoisturePercent\": 45.0, \"MilkTypeEn\": \"Cow\", \"FatLevel\": \"higher fat\"}, {\"MoisturePercent\": 60.0, \"MilkTypeEn\": \"Goat\", \"FatLevel\": \"lower fat\"}, {\"MoisturePercent\": 50.0, \"MilkTypeEn\": \"Goat\", \"FatLevel\": \"lower fat\"}, {\"MoisturePercent\": 47.0, \"MilkTypeEn\": \"Cow\", \"FatLevel\": \"higher fat\"}, {\"MoisturePercent\": 52.0, \"MilkTypeEn\": \"Cow\", \"FatLevel\": \"higher fat\"}, {\"MoisturePercent\": 50.0, \"MilkTypeEn\": \"Goat\", \"FatLevel\": \"lower fat\"}, {\"MoisturePercent\": 65.0, \"MilkTypeEn\": \"Ewe\", \"FatLevel\": \"higher fat\"}, {\"MoisturePercent\": 50.0, \"MilkTypeEn\": \"Goat\", \"FatLevel\": \"lower fat\"}, {\"MoisturePercent\": 68.0, \"MilkTypeEn\": \"Goat\", \"FatLevel\": \"lower fat\"}, {\"MoisturePercent\": 50.0, \"MilkTypeEn\": \"Cow\", \"FatLevel\": \"lower fat\"}, {\"MoisturePercent\": 50.0, \"MilkTypeEn\": \"Cow\", \"FatLevel\": \"lower fat\"}, {\"MoisturePercent\": 39.0, \"MilkTypeEn\": \"Cow\", \"FatLevel\": \"higher fat\"}, {\"MoisturePercent\": 48.0, \"MilkTypeEn\": \"Cow\", \"FatLevel\": \"lower fat\"}, {\"MoisturePercent\": 47.0, \"MilkTypeEn\": \"Ewe\", \"FatLevel\": \"higher fat\"}, {\"MoisturePercent\": 43.0, \"MilkTypeEn\": \"Cow\", \"FatLevel\": \"higher fat\"}, {\"MoisturePercent\": 40.0, \"MilkTypeEn\": \"Cow\", \"FatLevel\": \"lower fat\"}, {\"MoisturePercent\": 56.0, \"MilkTypeEn\": \"Cow\", \"FatLevel\": \"lower fat\"}, {\"MoisturePercent\": 40.0, \"MilkTypeEn\": \"Cow\", \"FatLevel\": \"lower fat\"}, {\"MoisturePercent\": 70.0, \"MilkTypeEn\": \"Cow\", \"FatLevel\": \"lower fat\"}, {\"MoisturePercent\": 60.0, \"MilkTypeEn\": \"Cow\", \"FatLevel\": \"lower fat\"}, {\"MoisturePercent\": 40.0, \"MilkTypeEn\": \"Cow\", \"FatLevel\": \"lower fat\"}, {\"MoisturePercent\": 39.0, \"MilkTypeEn\": \"Cow\", \"FatLevel\": \"higher fat\"}, {\"MoisturePercent\": 52.0, \"MilkTypeEn\": \"Goat\", \"FatLevel\": \"lower fat\"}, {\"MoisturePercent\": 39.0, \"MilkTypeEn\": \"Cow\", \"FatLevel\": \"higher fat\"}, {\"MoisturePercent\": 34.0, \"MilkTypeEn\": \"Cow\", \"FatLevel\": \"higher fat\"}, {\"MoisturePercent\": 56.0, \"MilkTypeEn\": \"Goat\", \"FatLevel\": \"lower fat\"}, {\"MoisturePercent\": 42.0, \"MilkTypeEn\": \"Cow\", \"FatLevel\": \"lower fat\"}, {\"MoisturePercent\": 74.0, \"MilkTypeEn\": \"Cow\", \"FatLevel\": \"lower fat\"}, {\"MoisturePercent\": 50.0, \"MilkTypeEn\": \"Cow\", \"FatLevel\": \"higher fat\"}, {\"MoisturePercent\": 39.0, \"MilkTypeEn\": \"Cow\", \"FatLevel\": \"higher fat\"}, {\"MoisturePercent\": 45.0, \"MilkTypeEn\": \"Cow\", \"FatLevel\": \"higher fat\"}, {\"MoisturePercent\": 45.0, \"MilkTypeEn\": \"Cow\", \"FatLevel\": \"lower fat\"}, {\"MoisturePercent\": 35.0, \"MilkTypeEn\": \"Goat\", \"FatLevel\": \"higher fat\"}, {\"MoisturePercent\": 55.0, \"MilkTypeEn\": \"Goat\", \"FatLevel\": \"lower fat\"}, {\"MoisturePercent\": 50.0, \"MilkTypeEn\": \"Cow\", \"FatLevel\": \"lower fat\"}, {\"MoisturePercent\": 48.0, \"MilkTypeEn\": \"Goat\", \"FatLevel\": \"lower fat\"}, {\"MoisturePercent\": 45.0, \"MilkTypeEn\": \"Cow\", \"FatLevel\": \"lower fat\"}, {\"MoisturePercent\": 39.0, \"MilkTypeEn\": \"Cow\", \"FatLevel\": \"higher fat\"}, {\"MoisturePercent\": 40.3, \"MilkTypeEn\": \"Cow\", \"FatLevel\": \"lower fat\"}, {\"MoisturePercent\": 44.0, \"MilkTypeEn\": \"Cow\", \"FatLevel\": \"lower fat\"}, {\"MoisturePercent\": 35.0, \"MilkTypeEn\": \"Cow\", \"FatLevel\": \"higher fat\"}, {\"MoisturePercent\": 43.0, \"MilkTypeEn\": \"Ewe\", \"FatLevel\": \"higher fat\"}, {\"MoisturePercent\": 42.0, \"MilkTypeEn\": \"Goat\", \"FatLevel\": \"lower fat\"}, {\"MoisturePercent\": 50.0, \"MilkTypeEn\": \"Goat\", \"FatLevel\": \"lower fat\"}, {\"MoisturePercent\": 64.0, \"MilkTypeEn\": \"Cow\", \"FatLevel\": \"lower fat\"}, {\"MoisturePercent\": 39.0, \"MilkTypeEn\": \"Cow\", \"FatLevel\": \"higher fat\"}, {\"MoisturePercent\": 48.0, \"MilkTypeEn\": \"Cow\", \"FatLevel\": \"lower fat\"}, {\"MoisturePercent\": 33.0, \"MilkTypeEn\": \"Ewe\", \"FatLevel\": \"higher fat\"}, {\"MoisturePercent\": 42.0, \"MilkTypeEn\": \"Cow\", \"FatLevel\": \"higher fat\"}, {\"MoisturePercent\": 68.0, \"MilkTypeEn\": \"Goat\", \"FatLevel\": \"lower fat\"}, {\"MoisturePercent\": 40.0, \"MilkTypeEn\": \"Goat\", \"FatLevel\": \"higher fat\"}, {\"MoisturePercent\": 64.0, \"MilkTypeEn\": \"Goat\", \"FatLevel\": \"lower fat\"}, {\"MoisturePercent\": 43.0, \"MilkTypeEn\": \"Goat\", \"FatLevel\": \"lower fat\"}, {\"MoisturePercent\": 35.0, \"MilkTypeEn\": \"Cow\", \"FatLevel\": \"higher fat\"}, {\"MoisturePercent\": 26.0, \"MilkTypeEn\": \"Ewe and Cow\", \"FatLevel\": \"higher fat\"}, {\"MoisturePercent\": 37.0, \"MilkTypeEn\": \"Cow\", \"FatLevel\": \"higher fat\"}, {\"MoisturePercent\": 39.0, \"MilkTypeEn\": \"Cow\", \"FatLevel\": \"higher fat\"}, {\"MoisturePercent\": 50.0, \"MilkTypeEn\": \"Cow\", \"FatLevel\": \"lower fat\"}, {\"MoisturePercent\": 40.0, \"MilkTypeEn\": \"Cow\", \"FatLevel\": \"lower fat\"}, {\"MoisturePercent\": 52.0, \"MilkTypeEn\": \"Cow\", \"FatLevel\": \"higher fat\"}, {\"MoisturePercent\": 37.0, \"MilkTypeEn\": \"Cow\", \"FatLevel\": \"higher fat\"}, {\"MoisturePercent\": 60.0, \"MilkTypeEn\": \"Ewe\", \"FatLevel\": \"lower fat\"}, {\"MoisturePercent\": 43.0, \"MilkTypeEn\": \"Cow\", \"FatLevel\": \"lower fat\"}, {\"MoisturePercent\": 58.0, \"MilkTypeEn\": \"Cow\", \"FatLevel\": \"lower fat\"}, {\"MoisturePercent\": 50.0, \"MilkTypeEn\": \"Cow\", \"FatLevel\": \"lower fat\"}, {\"MoisturePercent\": 42.0, \"MilkTypeEn\": \"Cow\", \"FatLevel\": \"lower fat\"}, {\"MoisturePercent\": 37.0, \"MilkTypeEn\": \"Cow\", \"FatLevel\": \"higher fat\"}, {\"MoisturePercent\": 46.0, \"MilkTypeEn\": \"Goat\", \"FatLevel\": \"lower fat\"}, {\"MoisturePercent\": 34.0, \"MilkTypeEn\": \"Cow\", \"FatLevel\": \"higher fat\"}, {\"MoisturePercent\": 46.0, \"MilkTypeEn\": \"Cow\", \"FatLevel\": \"lower fat\"}, {\"MoisturePercent\": 40.0, \"MilkTypeEn\": \"Goat\", \"FatLevel\": \"higher fat\"}, {\"MoisturePercent\": 46.0, \"MilkTypeEn\": \"Cow\", \"FatLevel\": \"lower fat\"}, {\"MoisturePercent\": 50.0, \"MilkTypeEn\": \"Cow\", \"FatLevel\": \"lower fat\"}, {\"MoisturePercent\": 50.0, \"MilkTypeEn\": \"Cow\", \"FatLevel\": \"higher fat\"}, {\"MoisturePercent\": 50.0, \"MilkTypeEn\": \"Goat\", \"FatLevel\": \"lower fat\"}, {\"MoisturePercent\": 54.0, \"MilkTypeEn\": \"Cow\", \"FatLevel\": \"lower fat\"}, {\"MoisturePercent\": 48.0, \"MilkTypeEn\": \"Cow\", \"FatLevel\": \"lower fat\"}, {\"MoisturePercent\": 43.0, \"MilkTypeEn\": \"Cow\", \"FatLevel\": \"lower fat\"}, {\"MoisturePercent\": 42.0, \"MilkTypeEn\": \"Goat\", \"FatLevel\": \"lower fat\"}, {\"MoisturePercent\": 45.0, \"MilkTypeEn\": \"Goat\", \"FatLevel\": \"lower fat\"}, {\"MoisturePercent\": 42.0, \"MilkTypeEn\": \"Cow\", \"FatLevel\": \"lower fat\"}, {\"MoisturePercent\": 70.0, \"MilkTypeEn\": \"Goat\", \"FatLevel\": \"lower fat\"}, {\"MoisturePercent\": 57.0, \"MilkTypeEn\": \"Cow\", \"FatLevel\": \"lower fat\"}, {\"MoisturePercent\": 50.0, \"MilkTypeEn\": \"Cow\", \"FatLevel\": \"higher fat\"}, {\"MoisturePercent\": 52.0, \"MilkTypeEn\": \"Goat\", \"FatLevel\": \"lower fat\"}, {\"MoisturePercent\": 42.0, \"MilkTypeEn\": \"Cow\", \"FatLevel\": \"lower fat\"}, {\"MoisturePercent\": 44.0, \"MilkTypeEn\": \"Cow\", \"FatLevel\": \"higher fat\"}, {\"MoisturePercent\": 33.0, \"MilkTypeEn\": \"Goat\", \"FatLevel\": \"higher fat\"}, {\"MoisturePercent\": 50.0, \"MilkTypeEn\": \"Goat\", \"FatLevel\": \"lower fat\"}, {\"MoisturePercent\": 56.0, \"MilkTypeEn\": \"Cow\", \"FatLevel\": \"lower fat\"}, {\"MoisturePercent\": 50.0, \"MilkTypeEn\": \"Cow\", \"FatLevel\": \"lower fat\"}, {\"MoisturePercent\": 31.0, \"MilkTypeEn\": \"Cow\", \"FatLevel\": \"higher fat\"}, {\"MoisturePercent\": 40.0, \"MilkTypeEn\": \"Goat\", \"FatLevel\": \"lower fat\"}, {\"MoisturePercent\": 48.0, \"MilkTypeEn\": \"Cow\", \"FatLevel\": \"lower fat\"}, {\"MoisturePercent\": 54.0, \"MilkTypeEn\": \"Cow\", \"FatLevel\": \"lower fat\"}, {\"MoisturePercent\": 50.0, \"MilkTypeEn\": \"Cow\", \"FatLevel\": \"lower fat\"}, {\"MoisturePercent\": 36.0, \"MilkTypeEn\": \"Cow\", \"FatLevel\": \"higher fat\"}, {\"MoisturePercent\": 75.0, \"MilkTypeEn\": \"Cow\", \"FatLevel\": \"lower fat\"}, {\"MoisturePercent\": 50.0, \"MilkTypeEn\": \"Cow\", \"FatLevel\": \"lower fat\"}, {\"MoisturePercent\": 46.0, \"MilkTypeEn\": \"Ewe and Cow\", \"FatLevel\": \"higher fat\"}, {\"MoisturePercent\": 40.0, \"MilkTypeEn\": \"Cow\", \"FatLevel\": \"higher fat\"}, {\"MoisturePercent\": 17.0, \"MilkTypeEn\": \"Cow\", \"FatLevel\": \"higher fat\"}, {\"MoisturePercent\": 65.0, \"MilkTypeEn\": \"Goat\", \"FatLevel\": \"lower fat\"}, {\"MoisturePercent\": 55.0, \"MilkTypeEn\": \"Ewe\", \"FatLevel\": \"lower fat\"}, {\"MoisturePercent\": 39.0, \"MilkTypeEn\": \"Cow\", \"FatLevel\": \"higher fat\"}, {\"MoisturePercent\": 43.0, \"MilkTypeEn\": \"Cow\", \"FatLevel\": \"lower fat\"}, {\"MoisturePercent\": 40.0, \"MilkTypeEn\": \"Cow\", \"FatLevel\": \"lower fat\"}, {\"MoisturePercent\": 50.0, \"MilkTypeEn\": \"Cow\", \"FatLevel\": \"lower fat\"}, {\"MoisturePercent\": 42.0, \"MilkTypeEn\": \"Goat\", \"FatLevel\": \"lower fat\"}, {\"MoisturePercent\": 58.0, \"MilkTypeEn\": \"Goat\", \"FatLevel\": \"lower fat\"}, {\"MoisturePercent\": 52.0, \"MilkTypeEn\": \"Cow\", \"FatLevel\": \"lower fat\"}, {\"MoisturePercent\": 55.0, \"MilkTypeEn\": \"Cow\", \"FatLevel\": \"lower fat\"}, {\"MoisturePercent\": 44.0, \"MilkTypeEn\": \"Cow\", \"FatLevel\": \"lower fat\"}, {\"MoisturePercent\": 37.0, \"MilkTypeEn\": \"Cow\", \"FatLevel\": \"higher fat\"}, {\"MoisturePercent\": 86.0, \"MilkTypeEn\": \"Cow\", \"FatLevel\": \"lower fat\"}, {\"MoisturePercent\": 50.0, \"MilkTypeEn\": \"Cow and Goat\", \"FatLevel\": \"lower fat\"}, {\"MoisturePercent\": 50.0, \"MilkTypeEn\": \"Cow\", \"FatLevel\": \"higher fat\"}, {\"MoisturePercent\": 30.0, \"MilkTypeEn\": \"Cow\", \"FatLevel\": \"lower fat\"}, {\"MoisturePercent\": 70.0, \"MilkTypeEn\": \"Goat\", \"FatLevel\": \"lower fat\"}, {\"MoisturePercent\": 40.0, \"MilkTypeEn\": \"Goat\", \"FatLevel\": \"higher fat\"}, {\"MoisturePercent\": 48.0, \"MilkTypeEn\": \"Cow\", \"FatLevel\": \"lower fat\"}, {\"MoisturePercent\": 42.0, \"MilkTypeEn\": \"Cow\", \"FatLevel\": \"lower fat\"}, {\"MoisturePercent\": 48.0, \"MilkTypeEn\": \"Cow\", \"FatLevel\": \"higher fat\"}, {\"MoisturePercent\": 52.0, \"MilkTypeEn\": \"Goat\", \"FatLevel\": \"lower fat\"}, {\"MoisturePercent\": 37.0, \"MilkTypeEn\": \"Cow\", \"FatLevel\": \"higher fat\"}, {\"MoisturePercent\": 39.0, \"MilkTypeEn\": \"Cow\", \"FatLevel\": \"higher fat\"}, {\"MoisturePercent\": 48.0, \"MilkTypeEn\": \"Goat\", \"FatLevel\": \"lower fat\"}, {\"MoisturePercent\": 42.0, \"MilkTypeEn\": \"Cow\", \"FatLevel\": \"lower fat\"}, {\"MoisturePercent\": 40.0, \"MilkTypeEn\": \"Cow\", \"FatLevel\": \"lower fat\"}, {\"MoisturePercent\": 50.0, \"MilkTypeEn\": \"Goat\", \"FatLevel\": \"lower fat\"}, {\"MoisturePercent\": 50.0, \"MilkTypeEn\": \"Cow\", \"FatLevel\": \"lower fat\"}, {\"MoisturePercent\": 46.0, \"MilkTypeEn\": \"Cow\", \"FatLevel\": \"lower fat\"}, {\"MoisturePercent\": 55.0, \"MilkTypeEn\": \"Cow\", \"FatLevel\": \"lower fat\"}, {\"MoisturePercent\": 41.0, \"MilkTypeEn\": \"Cow\", \"FatLevel\": \"higher fat\"}, {\"MoisturePercent\": 41.0, \"MilkTypeEn\": \"Cow\", \"FatLevel\": \"lower fat\"}, {\"MoisturePercent\": 34.0, \"MilkTypeEn\": \"Cow\", \"FatLevel\": \"higher fat\"}, {\"MoisturePercent\": 38.0, \"MilkTypeEn\": \"Cow\", \"FatLevel\": \"higher fat\"}, {\"MoisturePercent\": 50.0, \"MilkTypeEn\": \"Cow\", \"FatLevel\": \"lower fat\"}, {\"MoisturePercent\": 44.0, \"MilkTypeEn\": \"Cow\", \"FatLevel\": \"lower fat\"}, {\"MoisturePercent\": 50.0, \"MilkTypeEn\": \"Cow\", \"FatLevel\": \"lower fat\"}, {\"MoisturePercent\": 50.0, \"MilkTypeEn\": \"Cow\", \"FatLevel\": \"lower fat\"}, {\"MoisturePercent\": 39.0, \"MilkTypeEn\": \"Cow\", \"FatLevel\": \"lower fat\"}, {\"MoisturePercent\": 50.0, \"MilkTypeEn\": \"Cow\", \"FatLevel\": \"lower fat\"}, {\"MoisturePercent\": 40.0, \"MilkTypeEn\": \"Cow\", \"FatLevel\": \"lower fat\"}, {\"MoisturePercent\": 41.0, \"MilkTypeEn\": \"Cow\", \"FatLevel\": \"higher fat\"}, {\"MoisturePercent\": 50.0, \"MilkTypeEn\": \"Goat\", \"FatLevel\": \"lower fat\"}, {\"MoisturePercent\": 39.0, \"MilkTypeEn\": \"Cow\", \"FatLevel\": \"higher fat\"}, {\"MoisturePercent\": 42.0, \"MilkTypeEn\": \"Cow\", \"FatLevel\": \"higher fat\"}, {\"MoisturePercent\": 34.0, \"MilkTypeEn\": \"Cow\", \"FatLevel\": \"lower fat\"}, {\"MoisturePercent\": 48.0, \"MilkTypeEn\": \"Goat\", \"FatLevel\": \"lower fat\"}, {\"MoisturePercent\": 29.0, \"MilkTypeEn\": \"Cow\", \"FatLevel\": \"higher fat\"}, {\"MoisturePercent\": 50.0, \"MilkTypeEn\": \"Cow\", \"FatLevel\": \"lower fat\"}, {\"MoisturePercent\": 52.0, \"MilkTypeEn\": \"Cow\", \"FatLevel\": \"lower fat\"}, {\"MoisturePercent\": 43.0, \"MilkTypeEn\": \"Cow\", \"FatLevel\": \"lower fat\"}, {\"MoisturePercent\": 55.0, \"MilkTypeEn\": \"Cow\", \"FatLevel\": \"lower fat\"}, {\"MoisturePercent\": 50.0, \"MilkTypeEn\": \"Cow\", \"FatLevel\": \"lower fat\"}, {\"MoisturePercent\": 41.0, \"MilkTypeEn\": \"Ewe\", \"FatLevel\": \"lower fat\"}, {\"MoisturePercent\": 42.0, \"MilkTypeEn\": \"Cow\", \"FatLevel\": \"lower fat\"}, {\"MoisturePercent\": 54.0, \"MilkTypeEn\": \"Cow\", \"FatLevel\": \"lower fat\"}, {\"MoisturePercent\": 34.0, \"MilkTypeEn\": \"Cow\", \"FatLevel\": \"higher fat\"}, {\"MoisturePercent\": 48.0, \"MilkTypeEn\": \"Cow and Goat\", \"FatLevel\": \"higher fat\"}, {\"MoisturePercent\": 50.0, \"MilkTypeEn\": \"Cow\", \"FatLevel\": \"lower fat\"}, {\"MoisturePercent\": 50.0, \"MilkTypeEn\": \"Cow\", \"FatLevel\": \"lower fat\"}, {\"MoisturePercent\": 40.0, \"MilkTypeEn\": \"Cow\", \"FatLevel\": \"lower fat\"}, {\"MoisturePercent\": 49.0, \"MilkTypeEn\": \"Goat\", \"FatLevel\": \"lower fat\"}, {\"MoisturePercent\": 65.0, \"MilkTypeEn\": \"Ewe\", \"FatLevel\": \"lower fat\"}, {\"MoisturePercent\": 57.0, \"MilkTypeEn\": \"Goat\", \"FatLevel\": \"lower fat\"}, {\"MoisturePercent\": 41.0, \"MilkTypeEn\": \"Ewe\", \"FatLevel\": \"higher fat\"}, {\"MoisturePercent\": 40.0, \"MilkTypeEn\": \"Cow\", \"FatLevel\": \"higher fat\"}, {\"MoisturePercent\": 40.0, \"MilkTypeEn\": \"Goat\", \"FatLevel\": \"lower fat\"}, {\"MoisturePercent\": 44.0, \"MilkTypeEn\": \"Cow\", \"FatLevel\": \"lower fat\"}, {\"MoisturePercent\": 56.0, \"MilkTypeEn\": \"Cow\", \"FatLevel\": \"lower fat\"}, {\"MoisturePercent\": 55.0, \"MilkTypeEn\": \"Goat\", \"FatLevel\": \"lower fat\"}, {\"MoisturePercent\": 43.0, \"MilkTypeEn\": \"Goat\", \"FatLevel\": \"lower fat\"}, {\"MoisturePercent\": 41.0, \"MilkTypeEn\": \"Cow\", \"FatLevel\": \"higher fat\"}, {\"MoisturePercent\": 50.0, \"MilkTypeEn\": \"Cow\", \"FatLevel\": \"lower fat\"}, {\"MoisturePercent\": 33.0, \"MilkTypeEn\": \"Cow\", \"FatLevel\": \"higher fat\"}, {\"MoisturePercent\": 50.0, \"MilkTypeEn\": \"Cow\", \"FatLevel\": \"lower fat\"}, {\"MoisturePercent\": 35.0, \"MilkTypeEn\": \"Cow\", \"FatLevel\": \"higher fat\"}, {\"MoisturePercent\": 39.0, \"MilkTypeEn\": \"Cow\", \"FatLevel\": \"higher fat\"}, {\"MoisturePercent\": null, \"MilkTypeEn\": \"Cow\", \"FatLevel\": \"lower fat\"}, {\"MoisturePercent\": 26.0, \"MilkTypeEn\": \"Cow\", \"FatLevel\": \"higher fat\"}, {\"MoisturePercent\": 72.0, \"MilkTypeEn\": \"Goat\", \"FatLevel\": \"lower fat\"}, {\"MoisturePercent\": 50.0, \"MilkTypeEn\": \"Cow\", \"FatLevel\": \"lower fat\"}, {\"MoisturePercent\": 41.0, \"MilkTypeEn\": \"Cow\", \"FatLevel\": \"higher fat\"}, {\"MoisturePercent\": 37.0, \"MilkTypeEn\": \"Cow\", \"FatLevel\": \"higher fat\"}, {\"MoisturePercent\": 67.0, \"MilkTypeEn\": \"Cow\", \"FatLevel\": \"lower fat\"}, {\"MoisturePercent\": 78.0, \"MilkTypeEn\": \"Goat\", \"FatLevel\": \"lower fat\"}, {\"MoisturePercent\": 45.0, \"MilkTypeEn\": \"Cow\", \"FatLevel\": \"lower fat\"}, {\"MoisturePercent\": 39.0, \"MilkTypeEn\": \"Cow\", \"FatLevel\": \"higher fat\"}, {\"MoisturePercent\": 43.0, \"MilkTypeEn\": \"Cow\", \"FatLevel\": \"higher fat\"}, {\"MoisturePercent\": 41.0, \"MilkTypeEn\": \"Cow\", \"FatLevel\": \"lower fat\"}, {\"MoisturePercent\": 50.0, \"MilkTypeEn\": \"Cow\", \"FatLevel\": \"lower fat\"}, {\"MoisturePercent\": 50.0, \"MilkTypeEn\": \"Cow\", \"FatLevel\": \"lower fat\"}, {\"MoisturePercent\": 76.0, \"MilkTypeEn\": \"Cow\", \"FatLevel\": \"lower fat\"}, {\"MoisturePercent\": 45.0, \"MilkTypeEn\": \"Cow\", \"FatLevel\": \"lower fat\"}, {\"MoisturePercent\": 42.0, \"MilkTypeEn\": \"Goat\", \"FatLevel\": \"lower fat\"}, {\"MoisturePercent\": 63.0, \"MilkTypeEn\": \"Goat\", \"FatLevel\": \"lower fat\"}, {\"MoisturePercent\": 39.0, \"MilkTypeEn\": \"Cow\", \"FatLevel\": \"higher fat\"}]}}, {\"mode\": \"vega-lite\"});\n",
       "</script>"
      ],
      "text/plain": [
       "alt.Chart(...)"
      ]
     },
     "execution_count": 11,
     "metadata": {},
     "output_type": "execute_result"
    }
   ],
   "source": [
    "percent_hist = (\n",
    "    alt.Chart(cheese_train)\n",
    "    .mark_bar(color=\"#739bfa\")\n",
    "    .encode(\n",
    "        alt.X(\"MoisturePercent\", bin=alt.Bin(maxbins=40)), alt.Y(\"count()\", stack=None)\n",
    "    )\n",
    "    .properties(width=600, height=300, title=\"Moisture percent distribution\")\n",
    ")\n",
    "percent_hist"
   ]
  },
  {
   "cell_type": "markdown",
   "metadata": {
    "tags": []
   },
   "source": [
    "Figure 2: Frequency of moisture percentage values"
   ]
  },
  {
   "cell_type": "markdown",
   "metadata": {
    "tags": []
   },
   "source": [
    "### Target Value Distribution\n",
    "Lastly, I create a bar plot to visualize the distribution of the binary target value"
   ]
  },
  {
   "cell_type": "code",
   "execution_count": 12,
   "metadata": {
    "tags": []
   },
   "outputs": [
    {
     "data": {
      "text/html": [
       "\n",
       "<div id=\"altair-viz-9404b8a61790490d994c51a6030e78be\"></div>\n",
       "<script type=\"text/javascript\">\n",
       "  (function(spec, embedOpt){\n",
       "    let outputDiv = document.currentScript.previousElementSibling;\n",
       "    if (outputDiv.id !== \"altair-viz-9404b8a61790490d994c51a6030e78be\") {\n",
       "      outputDiv = document.getElementById(\"altair-viz-9404b8a61790490d994c51a6030e78be\");\n",
       "    }\n",
       "    const paths = {\n",
       "      \"vega\": \"https://cdn.jsdelivr.net/npm//vega@5?noext\",\n",
       "      \"vega-lib\": \"https://cdn.jsdelivr.net/npm//vega-lib?noext\",\n",
       "      \"vega-lite\": \"https://cdn.jsdelivr.net/npm//vega-lite@4.8.1?noext\",\n",
       "      \"vega-embed\": \"https://cdn.jsdelivr.net/npm//vega-embed@6?noext\",\n",
       "    };\n",
       "\n",
       "    function loadScript(lib) {\n",
       "      return new Promise(function(resolve, reject) {\n",
       "        var s = document.createElement('script');\n",
       "        s.src = paths[lib];\n",
       "        s.async = true;\n",
       "        s.onload = () => resolve(paths[lib]);\n",
       "        s.onerror = () => reject(`Error loading script: ${paths[lib]}`);\n",
       "        document.getElementsByTagName(\"head\")[0].appendChild(s);\n",
       "      });\n",
       "    }\n",
       "\n",
       "    function showError(err) {\n",
       "      outputDiv.innerHTML = `<div class=\"error\" style=\"color:red;\">${err}</div>`;\n",
       "      throw err;\n",
       "    }\n",
       "\n",
       "    function displayChart(vegaEmbed) {\n",
       "      vegaEmbed(outputDiv, spec, embedOpt)\n",
       "        .catch(err => showError(`Javascript Error: ${err.message}<br>This usually means there's a typo in your chart specification. See the javascript console for the full traceback.`));\n",
       "    }\n",
       "\n",
       "    if(typeof define === \"function\" && define.amd) {\n",
       "      requirejs.config({paths});\n",
       "      require([\"vega-embed\"], displayChart, err => showError(`Error loading script: ${err.message}`));\n",
       "    } else if (typeof vegaEmbed === \"function\") {\n",
       "      displayChart(vegaEmbed);\n",
       "    } else {\n",
       "      loadScript(\"vega\")\n",
       "        .then(() => loadScript(\"vega-lite\"))\n",
       "        .then(() => loadScript(\"vega-embed\"))\n",
       "        .catch(showError)\n",
       "        .then(() => displayChart(vegaEmbed));\n",
       "    }\n",
       "  })({\"config\": {\"view\": {\"continuousWidth\": 400, \"continuousHeight\": 300}}, \"data\": {\"name\": \"data-5d4a0117c7bfc001360a575265aab1a7\"}, \"mark\": {\"type\": \"bar\", \"color\": \"#4fa7bd\"}, \"encoding\": {\"x\": {\"type\": \"nominal\", \"axis\": {\"labelAngle\": 360}, \"field\": \"FatLevel\", \"sort\": \"-y\", \"title\": \"Fat Level\"}, \"y\": {\"type\": \"quantitative\", \"aggregate\": \"count\", \"title\": \"Quantity\"}}, \"height\": 300, \"title\": \"Cheese Count by Fat Level\", \"width\": 600, \"$schema\": \"https://vega.github.io/schema/vega-lite/v4.8.1.json\", \"datasets\": {\"data-5d4a0117c7bfc001360a575265aab1a7\": [{\"MoisturePercent\": 46.0, \"MilkTypeEn\": \"Cow\", \"FatLevel\": \"higher fat\"}, {\"MoisturePercent\": 43.0, \"MilkTypeEn\": \"Goat\", \"FatLevel\": \"higher fat\"}, {\"MoisturePercent\": 60.0, \"MilkTypeEn\": \"Goat\", \"FatLevel\": \"lower fat\"}, {\"MoisturePercent\": 43.0, \"MilkTypeEn\": \"Goat\", \"FatLevel\": \"lower fat\"}, {\"MoisturePercent\": 56.0, \"MilkTypeEn\": \"Cow\", \"FatLevel\": \"lower fat\"}, {\"MoisturePercent\": 42.0, \"MilkTypeEn\": \"Cow\", \"FatLevel\": \"lower fat\"}, {\"MoisturePercent\": 80.0, \"MilkTypeEn\": \"Cow\", \"FatLevel\": \"lower fat\"}, {\"MoisturePercent\": 50.0, \"MilkTypeEn\": \"Cow\", \"FatLevel\": \"lower fat\"}, {\"MoisturePercent\": 55.0, \"MilkTypeEn\": \"Ewe\", \"FatLevel\": \"lower fat\"}, {\"MoisturePercent\": 70.0, \"MilkTypeEn\": \"Goat\", \"FatLevel\": \"lower fat\"}, {\"MoisturePercent\": 31.0, \"MilkTypeEn\": \"Cow\", \"FatLevel\": \"higher fat\"}, {\"MoisturePercent\": 37.0, \"MilkTypeEn\": \"Cow\", \"FatLevel\": \"higher fat\"}, {\"MoisturePercent\": 55.0, \"MilkTypeEn\": \"Cow\", \"FatLevel\": \"lower fat\"}, {\"MoisturePercent\": 50.0, \"MilkTypeEn\": \"Cow\", \"FatLevel\": \"higher fat\"}, {\"MoisturePercent\": 45.0, \"MilkTypeEn\": \"Cow\", \"FatLevel\": \"higher fat\"}, {\"MoisturePercent\": 47.9, \"MilkTypeEn\": \"Cow\", \"FatLevel\": \"lower fat\"}, {\"MoisturePercent\": 30.0, \"MilkTypeEn\": \"Cow\", \"FatLevel\": \"higher fat\"}, {\"MoisturePercent\": 35.0, \"MilkTypeEn\": \"Cow\", \"FatLevel\": \"higher fat\"}, {\"MoisturePercent\": 40.0, \"MilkTypeEn\": \"Cow\", \"FatLevel\": \"lower fat\"}, {\"MoisturePercent\": 31.5, \"MilkTypeEn\": \"Cow\", \"FatLevel\": \"higher fat\"}, {\"MoisturePercent\": 62.0, \"MilkTypeEn\": \"Goat\", \"FatLevel\": \"lower fat\"}, {\"MoisturePercent\": 60.0, \"MilkTypeEn\": \"Goat\", \"FatLevel\": \"lower fat\"}, {\"MoisturePercent\": 46.0, \"MilkTypeEn\": \"Cow\", \"FatLevel\": \"lower fat\"}, {\"MoisturePercent\": 47.0, \"MilkTypeEn\": \"Ewe\", \"FatLevel\": \"lower fat\"}, {\"MoisturePercent\": 41.0, \"MilkTypeEn\": \"Cow\", \"FatLevel\": \"higher fat\"}, {\"MoisturePercent\": 46.0, \"MilkTypeEn\": \"Cow\", \"FatLevel\": \"lower fat\"}, {\"MoisturePercent\": 45.0, \"MilkTypeEn\": \"Cow\", \"FatLevel\": \"lower fat\"}, {\"MoisturePercent\": 39.0, \"MilkTypeEn\": \"Cow\", \"FatLevel\": \"higher fat\"}, {\"MoisturePercent\": 54.0, \"MilkTypeEn\": \"Cow\", \"FatLevel\": \"lower fat\"}, {\"MoisturePercent\": 39.0, \"MilkTypeEn\": \"Cow\", \"FatLevel\": \"higher fat\"}, {\"MoisturePercent\": 35.0, \"MilkTypeEn\": \"Cow\", \"FatLevel\": \"higher fat\"}, {\"MoisturePercent\": 39.0, \"MilkTypeEn\": \"Cow\", \"FatLevel\": \"higher fat\"}, {\"MoisturePercent\": 41.0, \"MilkTypeEn\": \"Cow\", \"FatLevel\": \"higher fat\"}, {\"MoisturePercent\": 42.0, \"MilkTypeEn\": \"Cow\", \"FatLevel\": \"lower fat\"}, {\"MoisturePercent\": 60.0, \"MilkTypeEn\": \"Goat\", \"FatLevel\": \"lower fat\"}, {\"MoisturePercent\": 46.0, \"MilkTypeEn\": \"Cow\", \"FatLevel\": \"lower fat\"}, {\"MoisturePercent\": 55.0, \"MilkTypeEn\": \"Cow\", \"FatLevel\": \"lower fat\"}, {\"MoisturePercent\": 39.0, \"MilkTypeEn\": \"Cow\", \"FatLevel\": \"higher fat\"}, {\"MoisturePercent\": 42.0, \"MilkTypeEn\": \"Cow\", \"FatLevel\": \"lower fat\"}, {\"MoisturePercent\": 41.0, \"MilkTypeEn\": \"Ewe\", \"FatLevel\": \"higher fat\"}, {\"MoisturePercent\": 63.0, \"MilkTypeEn\": \"Goat\", \"FatLevel\": \"lower fat\"}, {\"MoisturePercent\": 35.0, \"MilkTypeEn\": \"Goat\", \"FatLevel\": \"lower fat\"}, {\"MoisturePercent\": 50.0, \"MilkTypeEn\": \"Cow\", \"FatLevel\": \"lower fat\"}, {\"MoisturePercent\": 50.0, \"MilkTypeEn\": \"Goat\", \"FatLevel\": \"lower fat\"}, {\"MoisturePercent\": 55.0, \"MilkTypeEn\": \"Cow\", \"FatLevel\": \"lower fat\"}, {\"MoisturePercent\": 68.0, \"MilkTypeEn\": \"Ewe\", \"FatLevel\": \"higher fat\"}, {\"MoisturePercent\": 46.0, \"MilkTypeEn\": \"Cow\", \"FatLevel\": \"lower fat\"}, {\"MoisturePercent\": 39.0, \"MilkTypeEn\": \"Cow\", \"FatLevel\": \"higher fat\"}, {\"MoisturePercent\": 47.0, \"MilkTypeEn\": \"Ewe\", \"FatLevel\": \"lower fat\"}, {\"MoisturePercent\": 52.0, \"MilkTypeEn\": \"Cow\", \"FatLevel\": \"lower fat\"}, {\"MoisturePercent\": 47.0, \"MilkTypeEn\": \"Cow\", \"FatLevel\": \"lower fat\"}, {\"MoisturePercent\": 42.0, \"MilkTypeEn\": \"Ewe\", \"FatLevel\": \"higher fat\"}, {\"MoisturePercent\": 37.0, \"MilkTypeEn\": \"Cow\", \"FatLevel\": \"higher fat\"}, {\"MoisturePercent\": 55.0, \"MilkTypeEn\": \"Cow\", \"FatLevel\": \"lower fat\"}, {\"MoisturePercent\": 50.0, \"MilkTypeEn\": \"Cow\", \"FatLevel\": \"lower fat\"}, {\"MoisturePercent\": 50.0, \"MilkTypeEn\": \"Cow\", \"FatLevel\": \"lower fat\"}, {\"MoisturePercent\": 39.0, \"MilkTypeEn\": \"Cow\", \"FatLevel\": \"higher fat\"}, {\"MoisturePercent\": 39.0, \"MilkTypeEn\": \"Ewe\", \"FatLevel\": \"higher fat\"}, {\"MoisturePercent\": 55.0, \"MilkTypeEn\": \"Goat\", \"FatLevel\": \"lower fat\"}, {\"MoisturePercent\": 39.0, \"MilkTypeEn\": \"Cow\", \"FatLevel\": \"higher fat\"}, {\"MoisturePercent\": 69.0, \"MilkTypeEn\": \"Goat\", \"FatLevel\": \"lower fat\"}, {\"MoisturePercent\": 48.0, \"MilkTypeEn\": \"Goat\", \"FatLevel\": \"lower fat\"}, {\"MoisturePercent\": 40.0, \"MilkTypeEn\": \"Cow\", \"FatLevel\": \"lower fat\"}, {\"MoisturePercent\": 40.0, \"MilkTypeEn\": \"Cow\", \"FatLevel\": \"lower fat\"}, {\"MoisturePercent\": 48.0, \"MilkTypeEn\": \"Cow\", \"FatLevel\": \"higher fat\"}, {\"MoisturePercent\": 40.0, \"MilkTypeEn\": \"Cow\", \"FatLevel\": \"lower fat\"}, {\"MoisturePercent\": 57.0, \"MilkTypeEn\": \"Cow\", \"FatLevel\": \"lower fat\"}, {\"MoisturePercent\": 42.0, \"MilkTypeEn\": \"Cow\", \"FatLevel\": \"higher fat\"}, {\"MoisturePercent\": 50.0, \"MilkTypeEn\": \"Cow\", \"FatLevel\": \"lower fat\"}, {\"MoisturePercent\": 43.0, \"MilkTypeEn\": \"Cow\", \"FatLevel\": \"lower fat\"}, {\"MoisturePercent\": 54.0, \"MilkTypeEn\": \"Cow\", \"FatLevel\": \"lower fat\"}, {\"MoisturePercent\": 48.0, \"MilkTypeEn\": \"Ewe\", \"FatLevel\": \"lower fat\"}, {\"MoisturePercent\": 45.0, \"MilkTypeEn\": \"Cow\", \"FatLevel\": \"higher fat\"}, {\"MoisturePercent\": 39.0, \"MilkTypeEn\": \"Goat\", \"FatLevel\": \"higher fat\"}, {\"MoisturePercent\": 60.0, \"MilkTypeEn\": \"Cow\", \"FatLevel\": \"lower fat\"}, {\"MoisturePercent\": 45.0, \"MilkTypeEn\": \"Goat\", \"FatLevel\": \"lower fat\"}, {\"MoisturePercent\": 40.0, \"MilkTypeEn\": \"Cow\", \"FatLevel\": \"higher fat\"}, {\"MoisturePercent\": 54.0, \"MilkTypeEn\": \"Cow\", \"FatLevel\": \"lower fat\"}, {\"MoisturePercent\": 44.0, \"MilkTypeEn\": \"Cow\", \"FatLevel\": \"lower fat\"}, {\"MoisturePercent\": 50.0, \"MilkTypeEn\": \"Cow\", \"FatLevel\": \"lower fat\"}, {\"MoisturePercent\": 42.0, \"MilkTypeEn\": \"Cow\", \"FatLevel\": \"lower fat\"}, {\"MoisturePercent\": 40.0, \"MilkTypeEn\": \"Cow\", \"FatLevel\": \"higher fat\"}, {\"MoisturePercent\": 39.0, \"MilkTypeEn\": \"Cow\", \"FatLevel\": \"higher fat\"}, {\"MoisturePercent\": 43.0, \"MilkTypeEn\": \"Cow\", \"FatLevel\": \"lower fat\"}, {\"MoisturePercent\": 38.0, \"MilkTypeEn\": \"Cow\", \"FatLevel\": \"higher fat\"}, {\"MoisturePercent\": 50.0, \"MilkTypeEn\": \"Cow\", \"FatLevel\": \"lower fat\"}, {\"MoisturePercent\": 40.0, \"MilkTypeEn\": \"Cow\", \"FatLevel\": \"lower fat\"}, {\"MoisturePercent\": 58.0, \"MilkTypeEn\": \"Ewe\", \"FatLevel\": \"lower fat\"}, {\"MoisturePercent\": 50.0, \"MilkTypeEn\": \"Cow\", \"FatLevel\": \"lower fat\"}, {\"MoisturePercent\": 56.0, \"MilkTypeEn\": \"Goat\", \"FatLevel\": \"lower fat\"}, {\"MoisturePercent\": 52.0, \"MilkTypeEn\": \"Cow\", \"FatLevel\": \"higher fat\"}, {\"MoisturePercent\": 45.0, \"MilkTypeEn\": \"Cow\", \"FatLevel\": \"higher fat\"}, {\"MoisturePercent\": 48.0, \"MilkTypeEn\": \"Cow\", \"FatLevel\": \"lower fat\"}, {\"MoisturePercent\": 45.0, \"MilkTypeEn\": \"Goat\", \"FatLevel\": \"lower fat\"}, {\"MoisturePercent\": 27.0, \"MilkTypeEn\": \"Cow\", \"FatLevel\": \"higher fat\"}, {\"MoisturePercent\": 50.0, \"MilkTypeEn\": \"Cow\", \"FatLevel\": \"lower fat\"}, {\"MoisturePercent\": 45.0, \"MilkTypeEn\": \"Cow\", \"FatLevel\": \"lower fat\"}, {\"MoisturePercent\": 88.0, \"MilkTypeEn\": \"Cow\", \"FatLevel\": \"lower fat\"}, {\"MoisturePercent\": 55.0, \"MilkTypeEn\": \"Goat\", \"FatLevel\": \"lower fat\"}, {\"MoisturePercent\": 44.0, \"MilkTypeEn\": \"Cow\", \"FatLevel\": \"lower fat\"}, {\"MoisturePercent\": 50.0, \"MilkTypeEn\": \"Goat\", \"FatLevel\": \"lower fat\"}, {\"MoisturePercent\": 50.0, \"MilkTypeEn\": \"Cow\", \"FatLevel\": \"higher fat\"}, {\"MoisturePercent\": 80.0, \"MilkTypeEn\": \"Cow\", \"FatLevel\": \"lower fat\"}, {\"MoisturePercent\": 45.0, \"MilkTypeEn\": \"Goat\", \"FatLevel\": \"lower fat\"}, {\"MoisturePercent\": 40.0, \"MilkTypeEn\": \"Cow\", \"FatLevel\": \"lower fat\"}, {\"MoisturePercent\": 45.0, \"MilkTypeEn\": \"Cow\", \"FatLevel\": \"higher fat\"}, {\"MoisturePercent\": 44.0, \"MilkTypeEn\": \"Cow\", \"FatLevel\": \"lower fat\"}, {\"MoisturePercent\": 40.3, \"MilkTypeEn\": \"Cow\", \"FatLevel\": \"lower fat\"}, {\"MoisturePercent\": 37.0, \"MilkTypeEn\": \"Cow\", \"FatLevel\": \"higher fat\"}, {\"MoisturePercent\": 69.0, \"MilkTypeEn\": \"Goat\", \"FatLevel\": \"lower fat\"}, {\"MoisturePercent\": 48.0, \"MilkTypeEn\": \"Cow\", \"FatLevel\": \"lower fat\"}, {\"MoisturePercent\": null, \"MilkTypeEn\": \"Cow\", \"FatLevel\": \"lower fat\"}, {\"MoisturePercent\": 56.0, \"MilkTypeEn\": \"Goat\", \"FatLevel\": \"lower fat\"}, {\"MoisturePercent\": 46.0, \"MilkTypeEn\": \"Cow\", \"FatLevel\": \"lower fat\"}, {\"MoisturePercent\": 49.4, \"MilkTypeEn\": \"Cow\", \"FatLevel\": \"lower fat\"}, {\"MoisturePercent\": 70.0, \"MilkTypeEn\": \"Ewe\", \"FatLevel\": \"lower fat\"}, {\"MoisturePercent\": 48.0, \"MilkTypeEn\": \"Cow\", \"FatLevel\": \"lower fat\"}, {\"MoisturePercent\": 45.0, \"MilkTypeEn\": \"Cow\", \"FatLevel\": \"higher fat\"}, {\"MoisturePercent\": 48.0, \"MilkTypeEn\": \"Cow\", \"FatLevel\": \"higher fat\"}, {\"MoisturePercent\": 52.0, \"MilkTypeEn\": \"Cow\", \"FatLevel\": \"lower fat\"}, {\"MoisturePercent\": 45.0, \"MilkTypeEn\": \"Cow\", \"FatLevel\": \"lower fat\"}, {\"MoisturePercent\": null, \"MilkTypeEn\": \"Cow\", \"FatLevel\": \"lower fat\"}, {\"MoisturePercent\": 52.0, \"MilkTypeEn\": \"Cow\", \"FatLevel\": \"lower fat\"}, {\"MoisturePercent\": 44.0, \"MilkTypeEn\": \"Cow\", \"FatLevel\": \"lower fat\"}, {\"MoisturePercent\": 41.0, \"MilkTypeEn\": \"Cow\", \"FatLevel\": \"higher fat\"}, {\"MoisturePercent\": 40.0, \"MilkTypeEn\": \"Goat\", \"FatLevel\": \"lower fat\"}, {\"MoisturePercent\": 55.0, \"MilkTypeEn\": \"Cow\", \"FatLevel\": \"lower fat\"}, {\"MoisturePercent\": 40.0, \"MilkTypeEn\": \"Cow\", \"FatLevel\": \"lower fat\"}, {\"MoisturePercent\": 40.3, \"MilkTypeEn\": \"Cow\", \"FatLevel\": \"lower fat\"}, {\"MoisturePercent\": 47.0, \"MilkTypeEn\": \"Cow\", \"FatLevel\": \"higher fat\"}, {\"MoisturePercent\": 41.0, \"MilkTypeEn\": \"Cow\", \"FatLevel\": \"higher fat\"}, {\"MoisturePercent\": 51.7, \"MilkTypeEn\": \"Cow\", \"FatLevel\": \"lower fat\"}, {\"MoisturePercent\": 65.0, \"MilkTypeEn\": \"Cow\", \"FatLevel\": \"lower fat\"}, {\"MoisturePercent\": 52.0, \"MilkTypeEn\": \"Cow\", \"FatLevel\": \"lower fat\"}, {\"MoisturePercent\": 55.0, \"MilkTypeEn\": \"Goat\", \"FatLevel\": \"lower fat\"}, {\"MoisturePercent\": 45.0, \"MilkTypeEn\": \"Cow\", \"FatLevel\": \"higher fat\"}, {\"MoisturePercent\": 55.0, \"MilkTypeEn\": \"Cow\", \"FatLevel\": \"lower fat\"}, {\"MoisturePercent\": 40.0, \"MilkTypeEn\": \"Cow\", \"FatLevel\": \"lower fat\"}, {\"MoisturePercent\": 50.0, \"MilkTypeEn\": \"Cow\", \"FatLevel\": \"lower fat\"}, {\"MoisturePercent\": 45.0, \"MilkTypeEn\": \"Cow\", \"FatLevel\": \"higher fat\"}, {\"MoisturePercent\": 42.0, \"MilkTypeEn\": \"Cow\", \"FatLevel\": \"lower fat\"}, {\"MoisturePercent\": 43.0, \"MilkTypeEn\": \"Cow\", \"FatLevel\": \"higher fat\"}, {\"MoisturePercent\": 36.0, \"MilkTypeEn\": \"Ewe and Goat\", \"FatLevel\": \"higher fat\"}, {\"MoisturePercent\": 50.0, \"MilkTypeEn\": \"Goat\", \"FatLevel\": \"lower fat\"}, {\"MoisturePercent\": null, \"MilkTypeEn\": \"Cow\", \"FatLevel\": \"higher fat\"}, {\"MoisturePercent\": 45.0, \"MilkTypeEn\": \"Cow\", \"FatLevel\": \"lower fat\"}, {\"MoisturePercent\": 23.0, \"MilkTypeEn\": \"Ewe\", \"FatLevel\": \"higher fat\"}, {\"MoisturePercent\": 50.0, \"MilkTypeEn\": \"Goat\", \"FatLevel\": \"lower fat\"}, {\"MoisturePercent\": 60.0, \"MilkTypeEn\": \"Goat\", \"FatLevel\": \"lower fat\"}, {\"MoisturePercent\": 50.0, \"MilkTypeEn\": \"Cow\", \"FatLevel\": \"higher fat\"}, {\"MoisturePercent\": 41.0, \"MilkTypeEn\": \"Cow\", \"FatLevel\": \"higher fat\"}, {\"MoisturePercent\": 54.0, \"MilkTypeEn\": \"Goat\", \"FatLevel\": \"lower fat\"}, {\"MoisturePercent\": 45.0, \"MilkTypeEn\": \"Cow\", \"FatLevel\": \"higher fat\"}, {\"MoisturePercent\": 41.0, \"MilkTypeEn\": \"Cow\", \"FatLevel\": \"higher fat\"}, {\"MoisturePercent\": 46.0, \"MilkTypeEn\": \"Goat\", \"FatLevel\": \"higher fat\"}, {\"MoisturePercent\": 36.0, \"MilkTypeEn\": \"Cow\", \"FatLevel\": \"higher fat\"}, {\"MoisturePercent\": 60.0, \"MilkTypeEn\": \"Cow\", \"FatLevel\": \"lower fat\"}, {\"MoisturePercent\": 65.0, \"MilkTypeEn\": \"Goat\", \"FatLevel\": \"lower fat\"}, {\"MoisturePercent\": 52.0, \"MilkTypeEn\": \"Cow\", \"FatLevel\": \"lower fat\"}, {\"MoisturePercent\": 42.0, \"MilkTypeEn\": \"Cow\", \"FatLevel\": \"lower fat\"}, {\"MoisturePercent\": 52.0, \"MilkTypeEn\": \"Cow\", \"FatLevel\": \"lower fat\"}, {\"MoisturePercent\": 56.0, \"MilkTypeEn\": \"Goat\", \"FatLevel\": \"lower fat\"}, {\"MoisturePercent\": 40.0, \"MilkTypeEn\": \"Ewe\", \"FatLevel\": \"higher fat\"}, {\"MoisturePercent\": 42.0, \"MilkTypeEn\": null, \"FatLevel\": \"higher fat\"}, {\"MoisturePercent\": 43.0, \"MilkTypeEn\": \"Cow\", \"FatLevel\": \"higher fat\"}, {\"MoisturePercent\": 45.0, \"MilkTypeEn\": \"Ewe and Cow\", \"FatLevel\": \"lower fat\"}, {\"MoisturePercent\": 39.0, \"MilkTypeEn\": \"Cow\", \"FatLevel\": \"higher fat\"}, {\"MoisturePercent\": 51.0, \"MilkTypeEn\": \"Goat\", \"FatLevel\": \"lower fat\"}, {\"MoisturePercent\": 52.0, \"MilkTypeEn\": \"Goat\", \"FatLevel\": \"lower fat\"}, {\"MoisturePercent\": 47.0, \"MilkTypeEn\": \"Cow\", \"FatLevel\": \"lower fat\"}, {\"MoisturePercent\": 43.0, \"MilkTypeEn\": \"Cow\", \"FatLevel\": \"higher fat\"}, {\"MoisturePercent\": 50.0, \"MilkTypeEn\": \"Cow\", \"FatLevel\": \"lower fat\"}, {\"MoisturePercent\": 40.0, \"MilkTypeEn\": \"Ewe\", \"FatLevel\": \"lower fat\"}, {\"MoisturePercent\": 42.0, \"MilkTypeEn\": \"Cow\", \"FatLevel\": \"lower fat\"}, {\"MoisturePercent\": 50.0, \"MilkTypeEn\": \"Cow\", \"FatLevel\": \"lower fat\"}, {\"MoisturePercent\": 57.0, \"MilkTypeEn\": \"Cow\", \"FatLevel\": \"lower fat\"}, {\"MoisturePercent\": 39.0, \"MilkTypeEn\": \"Cow\", \"FatLevel\": \"higher fat\"}, {\"MoisturePercent\": 52.0, \"MilkTypeEn\": \"Cow\", \"FatLevel\": \"lower fat\"}, {\"MoisturePercent\": 33.0, \"MilkTypeEn\": \"Goat\", \"FatLevel\": \"higher fat\"}, {\"MoisturePercent\": 50.0, \"MilkTypeEn\": \"Cow\", \"FatLevel\": \"higher fat\"}, {\"MoisturePercent\": 42.0, \"MilkTypeEn\": \"Goat\", \"FatLevel\": \"lower fat\"}, {\"MoisturePercent\": 60.0, \"MilkTypeEn\": \"Goat\", \"FatLevel\": \"lower fat\"}, {\"MoisturePercent\": 44.0, \"MilkTypeEn\": \"Cow\", \"FatLevel\": \"higher fat\"}, {\"MoisturePercent\": 37.0, \"MilkTypeEn\": \"Cow\", \"FatLevel\": \"higher fat\"}, {\"MoisturePercent\": 39.0, \"MilkTypeEn\": \"Cow\", \"FatLevel\": \"higher fat\"}, {\"MoisturePercent\": 39.0, \"MilkTypeEn\": \"Cow\", \"FatLevel\": \"higher fat\"}, {\"MoisturePercent\": 54.0, \"MilkTypeEn\": \"Cow\", \"FatLevel\": \"lower fat\"}, {\"MoisturePercent\": 50.0, \"MilkTypeEn\": \"Goat\", \"FatLevel\": \"lower fat\"}, {\"MoisturePercent\": 42.0, \"MilkTypeEn\": \"Cow\", \"FatLevel\": \"higher fat\"}, {\"MoisturePercent\": 39.0, \"MilkTypeEn\": \"Cow\", \"FatLevel\": \"higher fat\"}, {\"MoisturePercent\": null, \"MilkTypeEn\": \"Ewe\", \"FatLevel\": \"lower fat\"}, {\"MoisturePercent\": 35.0, \"MilkTypeEn\": \"Ewe\", \"FatLevel\": \"higher fat\"}, {\"MoisturePercent\": 39.0, \"MilkTypeEn\": \"Goat\", \"FatLevel\": \"higher fat\"}, {\"MoisturePercent\": 39.0, \"MilkTypeEn\": \"Cow\", \"FatLevel\": \"lower fat\"}, {\"MoisturePercent\": 45.0, \"MilkTypeEn\": \"Cow\", \"FatLevel\": \"lower fat\"}, {\"MoisturePercent\": 39.0, \"MilkTypeEn\": \"Cow\", \"FatLevel\": \"higher fat\"}, {\"MoisturePercent\": 55.0, \"MilkTypeEn\": \"Cow\", \"FatLevel\": \"lower fat\"}, {\"MoisturePercent\": 20.0, \"MilkTypeEn\": \"Cow\", \"FatLevel\": \"lower fat\"}, {\"MoisturePercent\": 39.0, \"MilkTypeEn\": \"Cow\", \"FatLevel\": \"higher fat\"}, {\"MoisturePercent\": 50.0, \"MilkTypeEn\": \"Goat\", \"FatLevel\": \"lower fat\"}, {\"MoisturePercent\": 40.0, \"MilkTypeEn\": \"Cow\", \"FatLevel\": \"lower fat\"}, {\"MoisturePercent\": 34.0, \"MilkTypeEn\": \"Cow\", \"FatLevel\": \"higher fat\"}, {\"MoisturePercent\": 42.0, \"MilkTypeEn\": \"Cow\", \"FatLevel\": \"lower fat\"}, {\"MoisturePercent\": 45.0, \"MilkTypeEn\": \"Cow\", \"FatLevel\": \"lower fat\"}, {\"MoisturePercent\": 43.0, \"MilkTypeEn\": \"Cow\", \"FatLevel\": \"lower fat\"}, {\"MoisturePercent\": 68.0, \"MilkTypeEn\": \"Goat\", \"FatLevel\": \"lower fat\"}, {\"MoisturePercent\": 41.0, \"MilkTypeEn\": \"Cow\", \"FatLevel\": \"higher fat\"}, {\"MoisturePercent\": 56.0, \"MilkTypeEn\": \"Ewe\", \"FatLevel\": \"lower fat\"}, {\"MoisturePercent\": null, \"MilkTypeEn\": \"Cow\", \"FatLevel\": \"lower fat\"}, {\"MoisturePercent\": 39.0, \"MilkTypeEn\": \"Cow\", \"FatLevel\": \"higher fat\"}, {\"MoisturePercent\": 40.0, \"MilkTypeEn\": \"Cow\", \"FatLevel\": \"higher fat\"}, {\"MoisturePercent\": 52.0, \"MilkTypeEn\": \"Goat\", \"FatLevel\": \"lower fat\"}, {\"MoisturePercent\": 46.0, \"MilkTypeEn\": \"Cow\", \"FatLevel\": \"lower fat\"}, {\"MoisturePercent\": 48.0, \"MilkTypeEn\": \"Cow\", \"FatLevel\": \"lower fat\"}, {\"MoisturePercent\": 44.0, \"MilkTypeEn\": \"Cow\", \"FatLevel\": \"lower fat\"}, {\"MoisturePercent\": 48.0, \"MilkTypeEn\": \"Cow\", \"FatLevel\": \"lower fat\"}, {\"MoisturePercent\": 50.0, \"MilkTypeEn\": \"Cow\", \"FatLevel\": \"lower fat\"}, {\"MoisturePercent\": 45.0, \"MilkTypeEn\": \"Cow\", \"FatLevel\": \"lower fat\"}, {\"MoisturePercent\": 68.0, \"MilkTypeEn\": \"Cow\", \"FatLevel\": \"lower fat\"}, {\"MoisturePercent\": 68.0, \"MilkTypeEn\": \"Cow\", \"FatLevel\": \"lower fat\"}, {\"MoisturePercent\": 48.0, \"MilkTypeEn\": \"Ewe\", \"FatLevel\": \"lower fat\"}, {\"MoisturePercent\": 50.0, \"MilkTypeEn\": \"Cow\", \"FatLevel\": \"higher fat\"}, {\"MoisturePercent\": 58.0, \"MilkTypeEn\": \"Goat\", \"FatLevel\": \"lower fat\"}, {\"MoisturePercent\": 38.0, \"MilkTypeEn\": \"Cow\", \"FatLevel\": \"higher fat\"}, {\"MoisturePercent\": 41.0, \"MilkTypeEn\": \"Goat\", \"FatLevel\": \"lower fat\"}, {\"MoisturePercent\": 52.0, \"MilkTypeEn\": \"Cow\", \"FatLevel\": \"lower fat\"}, {\"MoisturePercent\": 31.0, \"MilkTypeEn\": \"Cow\", \"FatLevel\": \"higher fat\"}, {\"MoisturePercent\": 44.0, \"MilkTypeEn\": \"Cow\", \"FatLevel\": \"higher fat\"}, {\"MoisturePercent\": 43.0, \"MilkTypeEn\": \"Cow\", \"FatLevel\": \"lower fat\"}, {\"MoisturePercent\": 40.0, \"MilkTypeEn\": \"Goat\", \"FatLevel\": \"lower fat\"}, {\"MoisturePercent\": 52.0, \"MilkTypeEn\": \"Cow\", \"FatLevel\": \"lower fat\"}, {\"MoisturePercent\": 50.0, \"MilkTypeEn\": \"Goat\", \"FatLevel\": \"lower fat\"}, {\"MoisturePercent\": 52.0, \"MilkTypeEn\": \"Cow\", \"FatLevel\": \"lower fat\"}, {\"MoisturePercent\": 32.0, \"MilkTypeEn\": \"Cow\", \"FatLevel\": \"lower fat\"}, {\"MoisturePercent\": 46.0, \"MilkTypeEn\": \"Cow\", \"FatLevel\": \"lower fat\"}, {\"MoisturePercent\": 48.0, \"MilkTypeEn\": \"Cow\", \"FatLevel\": \"higher fat\"}, {\"MoisturePercent\": 39.0, \"MilkTypeEn\": \"Cow\", \"FatLevel\": \"higher fat\"}, {\"MoisturePercent\": 42.0, \"MilkTypeEn\": \"Cow\", \"FatLevel\": \"lower fat\"}, {\"MoisturePercent\": 65.0, \"MilkTypeEn\": \"Cow\", \"FatLevel\": \"lower fat\"}, {\"MoisturePercent\": 45.0, \"MilkTypeEn\": \"Goat\", \"FatLevel\": \"lower fat\"}, {\"MoisturePercent\": 39.0, \"MilkTypeEn\": \"Cow\", \"FatLevel\": \"higher fat\"}, {\"MoisturePercent\": 39.0, \"MilkTypeEn\": \"Cow\", \"FatLevel\": \"higher fat\"}, {\"MoisturePercent\": 39.0, \"MilkTypeEn\": \"Cow\", \"FatLevel\": \"higher fat\"}, {\"MoisturePercent\": 80.0, \"MilkTypeEn\": \"Buffalo Cow\", \"FatLevel\": \"lower fat\"}, {\"MoisturePercent\": 45.0, \"MilkTypeEn\": \"Cow\", \"FatLevel\": \"lower fat\"}, {\"MoisturePercent\": 74.0, \"MilkTypeEn\": \"Cow\", \"FatLevel\": \"lower fat\"}, {\"MoisturePercent\": 50.0, \"MilkTypeEn\": \"Goat\", \"FatLevel\": \"lower fat\"}, {\"MoisturePercent\": 63.0, \"MilkTypeEn\": \"Goat\", \"FatLevel\": \"lower fat\"}, {\"MoisturePercent\": 65.0, \"MilkTypeEn\": \"Goat\", \"FatLevel\": \"lower fat\"}, {\"MoisturePercent\": 60.0, \"MilkTypeEn\": \"Cow\", \"FatLevel\": \"lower fat\"}, {\"MoisturePercent\": 42.0, \"MilkTypeEn\": \"Cow\", \"FatLevel\": \"lower fat\"}, {\"MoisturePercent\": 56.0, \"MilkTypeEn\": \"Cow\", \"FatLevel\": \"lower fat\"}, {\"MoisturePercent\": 43.0, \"MilkTypeEn\": \"Cow\", \"FatLevel\": \"lower fat\"}, {\"MoisturePercent\": 50.0, \"MilkTypeEn\": \"Goat\", \"FatLevel\": \"lower fat\"}, {\"MoisturePercent\": 76.0, \"MilkTypeEn\": \"Cow\", \"FatLevel\": \"lower fat\"}, {\"MoisturePercent\": 72.0, \"MilkTypeEn\": \"Cow\", \"FatLevel\": \"lower fat\"}, {\"MoisturePercent\": 56.0, \"MilkTypeEn\": \"Cow\", \"FatLevel\": \"lower fat\"}, {\"MoisturePercent\": 55.0, \"MilkTypeEn\": \"Goat\", \"FatLevel\": \"lower fat\"}, {\"MoisturePercent\": 39.0, \"MilkTypeEn\": \"Cow\", \"FatLevel\": \"higher fat\"}, {\"MoisturePercent\": 56.0, \"MilkTypeEn\": \"Goat\", \"FatLevel\": \"lower fat\"}, {\"MoisturePercent\": null, \"MilkTypeEn\": \"Cow\", \"FatLevel\": \"lower fat\"}, {\"MoisturePercent\": 44.0, \"MilkTypeEn\": \"Cow\", \"FatLevel\": \"lower fat\"}, {\"MoisturePercent\": 38.0, \"MilkTypeEn\": \"Cow\", \"FatLevel\": \"lower fat\"}, {\"MoisturePercent\": 34.0, \"MilkTypeEn\": \"Cow\", \"FatLevel\": \"higher fat\"}, {\"MoisturePercent\": 39.0, \"MilkTypeEn\": \"Cow\", \"FatLevel\": \"higher fat\"}, {\"MoisturePercent\": 43.0, \"MilkTypeEn\": \"Cow\", \"FatLevel\": \"lower fat\"}, {\"MoisturePercent\": 52.0, \"MilkTypeEn\": \"Cow\", \"FatLevel\": \"lower fat\"}, {\"MoisturePercent\": 50.0, \"MilkTypeEn\": \"Cow\", \"FatLevel\": \"higher fat\"}, {\"MoisturePercent\": 60.0, \"MilkTypeEn\": \"Cow\", \"FatLevel\": \"lower fat\"}, {\"MoisturePercent\": 43.0, \"MilkTypeEn\": \"Cow\", \"FatLevel\": \"lower fat\"}, {\"MoisturePercent\": 48.0, \"MilkTypeEn\": \"Goat\", \"FatLevel\": \"lower fat\"}, {\"MoisturePercent\": 27.0, \"MilkTypeEn\": \"Cow\", \"FatLevel\": \"lower fat\"}, {\"MoisturePercent\": 47.0, \"MilkTypeEn\": \"Cow\", \"FatLevel\": \"lower fat\"}, {\"MoisturePercent\": 42.0, \"MilkTypeEn\": \"Goat\", \"FatLevel\": \"lower fat\"}, {\"MoisturePercent\": 42.0, \"MilkTypeEn\": \"Cow\", \"FatLevel\": \"lower fat\"}, {\"MoisturePercent\": 50.0, \"MilkTypeEn\": \"Cow\", \"FatLevel\": \"lower fat\"}, {\"MoisturePercent\": 43.0, \"MilkTypeEn\": \"Cow\", \"FatLevel\": \"lower fat\"}, {\"MoisturePercent\": 42.0, \"MilkTypeEn\": \"Cow\", \"FatLevel\": \"lower fat\"}, {\"MoisturePercent\": 42.0, \"MilkTypeEn\": \"Cow\", \"FatLevel\": \"lower fat\"}, {\"MoisturePercent\": null, \"MilkTypeEn\": \"Cow\", \"FatLevel\": \"lower fat\"}, {\"MoisturePercent\": 41.0, \"MilkTypeEn\": \"Cow\", \"FatLevel\": \"higher fat\"}, {\"MoisturePercent\": 50.0, \"MilkTypeEn\": \"Cow\", \"FatLevel\": \"higher fat\"}, {\"MoisturePercent\": 43.0, \"MilkTypeEn\": \"Ewe\", \"FatLevel\": \"higher fat\"}, {\"MoisturePercent\": 55.0, \"MilkTypeEn\": \"Goat\", \"FatLevel\": \"lower fat\"}, {\"MoisturePercent\": 54.0, \"MilkTypeEn\": \"Goat\", \"FatLevel\": \"lower fat\"}, {\"MoisturePercent\": 57.0, \"MilkTypeEn\": \"Goat\", \"FatLevel\": \"lower fat\"}, {\"MoisturePercent\": 39.0, \"MilkTypeEn\": \"Cow\", \"FatLevel\": \"higher fat\"}, {\"MoisturePercent\": 56.0, \"MilkTypeEn\": \"Cow\", \"FatLevel\": \"lower fat\"}, {\"MoisturePercent\": 33.0, \"MilkTypeEn\": \"Cow\", \"FatLevel\": \"higher fat\"}, {\"MoisturePercent\": 37.0, \"MilkTypeEn\": \"Goat\", \"FatLevel\": \"higher fat\"}, {\"MoisturePercent\": 50.0, \"MilkTypeEn\": \"Cow\", \"FatLevel\": \"lower fat\"}, {\"MoisturePercent\": 44.0, \"MilkTypeEn\": \"Cow\", \"FatLevel\": \"lower fat\"}, {\"MoisturePercent\": 50.0, \"MilkTypeEn\": \"Cow\", \"FatLevel\": \"lower fat\"}, {\"MoisturePercent\": 39.0, \"MilkTypeEn\": \"Cow\", \"FatLevel\": \"higher fat\"}, {\"MoisturePercent\": 40.0, \"MilkTypeEn\": \"Cow\", \"FatLevel\": \"lower fat\"}, {\"MoisturePercent\": 56.0, \"MilkTypeEn\": \"Cow\", \"FatLevel\": \"lower fat\"}, {\"MoisturePercent\": 50.0, \"MilkTypeEn\": \"Cow\", \"FatLevel\": \"higher fat\"}, {\"MoisturePercent\": 60.0, \"MilkTypeEn\": \"Cow\", \"FatLevel\": \"lower fat\"}, {\"MoisturePercent\": 48.0, \"MilkTypeEn\": \"Cow\", \"FatLevel\": \"lower fat\"}, {\"MoisturePercent\": 41.0, \"MilkTypeEn\": \"Cow\", \"FatLevel\": \"higher fat\"}, {\"MoisturePercent\": 43.0, \"MilkTypeEn\": \"Cow\", \"FatLevel\": \"higher fat\"}, {\"MoisturePercent\": 50.0, \"MilkTypeEn\": \"Goat\", \"FatLevel\": \"lower fat\"}, {\"MoisturePercent\": 35.0, \"MilkTypeEn\": \"Cow\", \"FatLevel\": \"higher fat\"}, {\"MoisturePercent\": 39.0, \"MilkTypeEn\": \"Cow\", \"FatLevel\": \"higher fat\"}, {\"MoisturePercent\": 38.0, \"MilkTypeEn\": \"Cow\", \"FatLevel\": \"higher fat\"}, {\"MoisturePercent\": 50.0, \"MilkTypeEn\": \"Cow\", \"FatLevel\": \"lower fat\"}, {\"MoisturePercent\": 55.0, \"MilkTypeEn\": \"Cow\", \"FatLevel\": \"lower fat\"}, {\"MoisturePercent\": 68.0, \"MilkTypeEn\": \"Cow\", \"FatLevel\": \"lower fat\"}, {\"MoisturePercent\": 49.0, \"MilkTypeEn\": \"Cow\", \"FatLevel\": \"lower fat\"}, {\"MoisturePercent\": 46.0, \"MilkTypeEn\": \"Cow\", \"FatLevel\": \"lower fat\"}, {\"MoisturePercent\": 55.0, \"MilkTypeEn\": \"Goat\", \"FatLevel\": \"lower fat\"}, {\"MoisturePercent\": 50.0, \"MilkTypeEn\": \"Cow\", \"FatLevel\": \"lower fat\"}, {\"MoisturePercent\": 12.0, \"MilkTypeEn\": \"Goat\", \"FatLevel\": \"higher fat\"}, {\"MoisturePercent\": 39.0, \"MilkTypeEn\": \"Cow\", \"FatLevel\": \"higher fat\"}, {\"MoisturePercent\": 37.0, \"MilkTypeEn\": \"Cow\", \"FatLevel\": \"higher fat\"}, {\"MoisturePercent\": 52.0, \"MilkTypeEn\": \"Cow\", \"FatLevel\": \"higher fat\"}, {\"MoisturePercent\": 34.0, \"MilkTypeEn\": \"Ewe\", \"FatLevel\": \"higher fat\"}, {\"MoisturePercent\": 45.0, \"MilkTypeEn\": \"Cow\", \"FatLevel\": \"higher fat\"}, {\"MoisturePercent\": 47.0, \"MilkTypeEn\": \"Cow\", \"FatLevel\": \"lower fat\"}, {\"MoisturePercent\": 58.0, \"MilkTypeEn\": \"Goat\", \"FatLevel\": \"lower fat\"}, {\"MoisturePercent\": 50.0, \"MilkTypeEn\": \"Cow\", \"FatLevel\": \"lower fat\"}, {\"MoisturePercent\": 39.0, \"MilkTypeEn\": \"Cow\", \"FatLevel\": \"higher fat\"}, {\"MoisturePercent\": 45.0, \"MilkTypeEn\": \"Cow\", \"FatLevel\": \"lower fat\"}, {\"MoisturePercent\": 41.0, \"MilkTypeEn\": \"Cow\", \"FatLevel\": \"higher fat\"}, {\"MoisturePercent\": 44.0, \"MilkTypeEn\": \"Cow\", \"FatLevel\": \"lower fat\"}, {\"MoisturePercent\": 45.0, \"MilkTypeEn\": \"Cow\", \"FatLevel\": \"lower fat\"}, {\"MoisturePercent\": 39.0, \"MilkTypeEn\": \"Cow\", \"FatLevel\": \"higher fat\"}, {\"MoisturePercent\": 55.0, \"MilkTypeEn\": \"Cow and Goat\", \"FatLevel\": \"lower fat\"}, {\"MoisturePercent\": 36.0, \"MilkTypeEn\": \"Cow\", \"FatLevel\": \"higher fat\"}, {\"MoisturePercent\": 35.0, \"MilkTypeEn\": \"Goat\", \"FatLevel\": \"lower fat\"}, {\"MoisturePercent\": 35.0, \"MilkTypeEn\": \"Cow\", \"FatLevel\": \"lower fat\"}, {\"MoisturePercent\": 50.0, \"MilkTypeEn\": \"Goat\", \"FatLevel\": \"lower fat\"}, {\"MoisturePercent\": 50.0, \"MilkTypeEn\": \"Cow\", \"FatLevel\": \"lower fat\"}, {\"MoisturePercent\": 26.0, \"MilkTypeEn\": \"Cow\", \"FatLevel\": \"higher fat\"}, {\"MoisturePercent\": 52.0, \"MilkTypeEn\": \"Cow\", \"FatLevel\": \"lower fat\"}, {\"MoisturePercent\": 40.0, \"MilkTypeEn\": \"Cow\", \"FatLevel\": \"higher fat\"}, {\"MoisturePercent\": 55.0, \"MilkTypeEn\": \"Cow\", \"FatLevel\": \"lower fat\"}, {\"MoisturePercent\": 50.0, \"MilkTypeEn\": \"Cow\", \"FatLevel\": \"lower fat\"}, {\"MoisturePercent\": 38.0, \"MilkTypeEn\": \"Goat\", \"FatLevel\": \"higher fat\"}, {\"MoisturePercent\": 45.0, \"MilkTypeEn\": \"Cow\", \"FatLevel\": \"higher fat\"}, {\"MoisturePercent\": 35.0, \"MilkTypeEn\": \"Cow\", \"FatLevel\": \"higher fat\"}, {\"MoisturePercent\": 60.0, \"MilkTypeEn\": \"Goat\", \"FatLevel\": \"lower fat\"}, {\"MoisturePercent\": 48.0, \"MilkTypeEn\": \"Cow\", \"FatLevel\": \"lower fat\"}, {\"MoisturePercent\": 43.0, \"MilkTypeEn\": \"Cow\", \"FatLevel\": \"higher fat\"}, {\"MoisturePercent\": 61.0, \"MilkTypeEn\": \"Ewe\", \"FatLevel\": \"lower fat\"}, {\"MoisturePercent\": 50.0, \"MilkTypeEn\": \"Cow\", \"FatLevel\": \"higher fat\"}, {\"MoisturePercent\": 40.0, \"MilkTypeEn\": \"Goat\", \"FatLevel\": \"lower fat\"}, {\"MoisturePercent\": 39.0, \"MilkTypeEn\": \"Cow\", \"FatLevel\": \"higher fat\"}, {\"MoisturePercent\": 58.0, \"MilkTypeEn\": \"Goat\", \"FatLevel\": \"lower fat\"}, {\"MoisturePercent\": 52.0, \"MilkTypeEn\": \"Cow\", \"FatLevel\": \"lower fat\"}, {\"MoisturePercent\": 42.0, \"MilkTypeEn\": \"Cow\", \"FatLevel\": \"lower fat\"}, {\"MoisturePercent\": 43.0, \"MilkTypeEn\": \"Goat\", \"FatLevel\": \"lower fat\"}, {\"MoisturePercent\": 40.0, \"MilkTypeEn\": \"Cow\", \"FatLevel\": \"lower fat\"}, {\"MoisturePercent\": 48.0, \"MilkTypeEn\": \"Cow\", \"FatLevel\": \"lower fat\"}, {\"MoisturePercent\": 55.0, \"MilkTypeEn\": \"Goat\", \"FatLevel\": \"lower fat\"}, {\"MoisturePercent\": 50.0, \"MilkTypeEn\": \"Cow\", \"FatLevel\": \"lower fat\"}, {\"MoisturePercent\": 46.0, \"MilkTypeEn\": \"Goat\", \"FatLevel\": \"lower fat\"}, {\"MoisturePercent\": 50.0, \"MilkTypeEn\": \"Goat\", \"FatLevel\": \"lower fat\"}, {\"MoisturePercent\": 42.0, \"MilkTypeEn\": \"Cow\", \"FatLevel\": \"lower fat\"}, {\"MoisturePercent\": 50.0, \"MilkTypeEn\": \"Goat\", \"FatLevel\": \"lower fat\"}, {\"MoisturePercent\": 48.0, \"MilkTypeEn\": \"Cow\", \"FatLevel\": \"lower fat\"}, {\"MoisturePercent\": 50.0, \"MilkTypeEn\": \"Cow\", \"FatLevel\": \"lower fat\"}, {\"MoisturePercent\": 47.0, \"MilkTypeEn\": \"Cow\", \"FatLevel\": \"lower fat\"}, {\"MoisturePercent\": 55.0, \"MilkTypeEn\": \"Goat\", \"FatLevel\": \"lower fat\"}, {\"MoisturePercent\": 60.0, \"MilkTypeEn\": \"Cow and Goat\", \"FatLevel\": \"lower fat\"}, {\"MoisturePercent\": 39.0, \"MilkTypeEn\": \"Cow\", \"FatLevel\": \"higher fat\"}, {\"MoisturePercent\": 43.0, \"MilkTypeEn\": \"Goat\", \"FatLevel\": \"lower fat\"}, {\"MoisturePercent\": 57.0, \"MilkTypeEn\": \"Cow\", \"FatLevel\": \"lower fat\"}, {\"MoisturePercent\": 44.0, \"MilkTypeEn\": \"Cow\", \"FatLevel\": \"lower fat\"}, {\"MoisturePercent\": 50.0, \"MilkTypeEn\": \"Goat\", \"FatLevel\": \"lower fat\"}, {\"MoisturePercent\": 60.0, \"MilkTypeEn\": \"Goat\", \"FatLevel\": \"lower fat\"}, {\"MoisturePercent\": 47.0, \"MilkTypeEn\": \"Cow\", \"FatLevel\": \"lower fat\"}, {\"MoisturePercent\": 43.0, \"MilkTypeEn\": \"Ewe\", \"FatLevel\": \"higher fat\"}, {\"MoisturePercent\": 54.0, \"MilkTypeEn\": \"Cow\", \"FatLevel\": \"lower fat\"}, {\"MoisturePercent\": 50.0, \"MilkTypeEn\": \"Cow\", \"FatLevel\": \"higher fat\"}, {\"MoisturePercent\": 45.0, \"MilkTypeEn\": \"Goat\", \"FatLevel\": \"lower fat\"}, {\"MoisturePercent\": 50.0, \"MilkTypeEn\": \"Cow\", \"FatLevel\": \"higher fat\"}, {\"MoisturePercent\": 50.0, \"MilkTypeEn\": \"Cow and Goat\", \"FatLevel\": \"lower fat\"}, {\"MoisturePercent\": 55.0, \"MilkTypeEn\": \"Ewe\", \"FatLevel\": \"lower fat\"}, {\"MoisturePercent\": 50.0, \"MilkTypeEn\": \"Cow\", \"FatLevel\": \"lower fat\"}, {\"MoisturePercent\": 50.0, \"MilkTypeEn\": \"Goat\", \"FatLevel\": \"lower fat\"}, {\"MoisturePercent\": 46.0, \"MilkTypeEn\": \"Cow\", \"FatLevel\": \"lower fat\"}, {\"MoisturePercent\": 48.0, \"MilkTypeEn\": \"Cow\", \"FatLevel\": \"lower fat\"}, {\"MoisturePercent\": 48.0, \"MilkTypeEn\": \"Cow\", \"FatLevel\": \"lower fat\"}, {\"MoisturePercent\": 51.0, \"MilkTypeEn\": \"Cow\", \"FatLevel\": \"lower fat\"}, {\"MoisturePercent\": 42.0, \"MilkTypeEn\": \"Cow\", \"FatLevel\": \"higher fat\"}, {\"MoisturePercent\": 36.0, \"MilkTypeEn\": \"Cow\", \"FatLevel\": \"higher fat\"}, {\"MoisturePercent\": 62.0, \"MilkTypeEn\": \"Cow\", \"FatLevel\": \"lower fat\"}, {\"MoisturePercent\": 80.0, \"MilkTypeEn\": \"Ewe\", \"FatLevel\": \"lower fat\"}, {\"MoisturePercent\": 52.0, \"MilkTypeEn\": \"Cow\", \"FatLevel\": \"lower fat\"}, {\"MoisturePercent\": 45.0, \"MilkTypeEn\": \"Cow\", \"FatLevel\": \"higher fat\"}, {\"MoisturePercent\": 59.0, \"MilkTypeEn\": \"Goat\", \"FatLevel\": \"lower fat\"}, {\"MoisturePercent\": 42.0, \"MilkTypeEn\": \"Goat\", \"FatLevel\": \"lower fat\"}, {\"MoisturePercent\": 50.0, \"MilkTypeEn\": \"Goat\", \"FatLevel\": \"lower fat\"}, {\"MoisturePercent\": 48.0, \"MilkTypeEn\": \"Cow\", \"FatLevel\": \"lower fat\"}, {\"MoisturePercent\": 41.0, \"MilkTypeEn\": \"Goat\", \"FatLevel\": \"lower fat\"}, {\"MoisturePercent\": 46.0, \"MilkTypeEn\": \"Cow\", \"FatLevel\": \"lower fat\"}, {\"MoisturePercent\": 50.0, \"MilkTypeEn\": \"Cow\", \"FatLevel\": \"higher fat\"}, {\"MoisturePercent\": 43.0, \"MilkTypeEn\": \"Goat\", \"FatLevel\": \"lower fat\"}, {\"MoisturePercent\": 45.0, \"MilkTypeEn\": \"Cow\", \"FatLevel\": \"lower fat\"}, {\"MoisturePercent\": 42.0, \"MilkTypeEn\": \"Cow\", \"FatLevel\": \"lower fat\"}, {\"MoisturePercent\": 45.0, \"MilkTypeEn\": \"Cow\", \"FatLevel\": \"lower fat\"}, {\"MoisturePercent\": 50.0, \"MilkTypeEn\": \"Cow\", \"FatLevel\": \"higher fat\"}, {\"MoisturePercent\": 64.0, \"MilkTypeEn\": \"Ewe\", \"FatLevel\": \"lower fat\"}, {\"MoisturePercent\": 40.0, \"MilkTypeEn\": \"Ewe\", \"FatLevel\": \"lower fat\"}, {\"MoisturePercent\": 38.0, \"MilkTypeEn\": \"Cow\", \"FatLevel\": \"higher fat\"}, {\"MoisturePercent\": 57.0, \"MilkTypeEn\": \"Goat\", \"FatLevel\": \"lower fat\"}, {\"MoisturePercent\": 45.0, \"MilkTypeEn\": \"Cow\", \"FatLevel\": \"higher fat\"}, {\"MoisturePercent\": 50.0, \"MilkTypeEn\": \"Cow\", \"FatLevel\": \"lower fat\"}, {\"MoisturePercent\": 35.0, \"MilkTypeEn\": \"Cow\", \"FatLevel\": \"higher fat\"}, {\"MoisturePercent\": 45.0, \"MilkTypeEn\": \"Cow\", \"FatLevel\": \"higher fat\"}, {\"MoisturePercent\": 42.8, \"MilkTypeEn\": \"Cow\", \"FatLevel\": \"lower fat\"}, {\"MoisturePercent\": 45.0, \"MilkTypeEn\": \"Cow\", \"FatLevel\": \"higher fat\"}, {\"MoisturePercent\": 40.0, \"MilkTypeEn\": \"Cow\", \"FatLevel\": \"lower fat\"}, {\"MoisturePercent\": 40.0, \"MilkTypeEn\": \"Goat\", \"FatLevel\": \"lower fat\"}, {\"MoisturePercent\": 55.0, \"MilkTypeEn\": \"Cow\", \"FatLevel\": \"lower fat\"}, {\"MoisturePercent\": 45.0, \"MilkTypeEn\": \"Cow\", \"FatLevel\": \"lower fat\"}, {\"MoisturePercent\": 41.0, \"MilkTypeEn\": \"Goat\", \"FatLevel\": \"higher fat\"}, {\"MoisturePercent\": 21.0, \"MilkTypeEn\": \"Ewe\", \"FatLevel\": \"higher fat\"}, {\"MoisturePercent\": 48.0, \"MilkTypeEn\": \"Cow\", \"FatLevel\": \"lower fat\"}, {\"MoisturePercent\": 50.0, \"MilkTypeEn\": \"Cow\", \"FatLevel\": \"lower fat\"}, {\"MoisturePercent\": 50.0, \"MilkTypeEn\": \"Cow\", \"FatLevel\": \"lower fat\"}, {\"MoisturePercent\": 50.0, \"MilkTypeEn\": \"Cow\", \"FatLevel\": \"lower fat\"}, {\"MoisturePercent\": 55.0, \"MilkTypeEn\": \"Cow\", \"FatLevel\": \"lower fat\"}, {\"MoisturePercent\": 58.0, \"MilkTypeEn\": \"Ewe\", \"FatLevel\": \"lower fat\"}, {\"MoisturePercent\": 39.0, \"MilkTypeEn\": \"Cow\", \"FatLevel\": \"higher fat\"}, {\"MoisturePercent\": 43.0, \"MilkTypeEn\": \"Goat\", \"FatLevel\": \"lower fat\"}, {\"MoisturePercent\": 50.0, \"MilkTypeEn\": \"Goat\", \"FatLevel\": \"lower fat\"}, {\"MoisturePercent\": 38.0, \"MilkTypeEn\": \"Cow\", \"FatLevel\": \"higher fat\"}, {\"MoisturePercent\": 57.0, \"MilkTypeEn\": \"Goat\", \"FatLevel\": \"higher fat\"}, {\"MoisturePercent\": 34.0, \"MilkTypeEn\": \"Cow\", \"FatLevel\": \"higher fat\"}, {\"MoisturePercent\": 41.0, \"MilkTypeEn\": \"Cow\", \"FatLevel\": \"higher fat\"}, {\"MoisturePercent\": 50.0, \"MilkTypeEn\": \"Goat\", \"FatLevel\": \"lower fat\"}, {\"MoisturePercent\": 39.0, \"MilkTypeEn\": \"Cow\", \"FatLevel\": \"higher fat\"}, {\"MoisturePercent\": 39.0, \"MilkTypeEn\": \"Cow\", \"FatLevel\": \"higher fat\"}, {\"MoisturePercent\": 54.0, \"MilkTypeEn\": \"Cow\", \"FatLevel\": \"lower fat\"}, {\"MoisturePercent\": 39.0, \"MilkTypeEn\": \"Cow\", \"FatLevel\": \"higher fat\"}, {\"MoisturePercent\": 46.0, \"MilkTypeEn\": \"Cow\", \"FatLevel\": \"lower fat\"}, {\"MoisturePercent\": 40.0, \"MilkTypeEn\": \"Cow\", \"FatLevel\": \"lower fat\"}, {\"MoisturePercent\": null, \"MilkTypeEn\": \"Ewe\", \"FatLevel\": \"lower fat\"}, {\"MoisturePercent\": 52.0, \"MilkTypeEn\": \"Goat\", \"FatLevel\": \"lower fat\"}, {\"MoisturePercent\": 52.0, \"MilkTypeEn\": \"Cow\", \"FatLevel\": \"lower fat\"}, {\"MoisturePercent\": 54.0, \"MilkTypeEn\": \"Cow\", \"FatLevel\": \"lower fat\"}, {\"MoisturePercent\": 46.0, \"MilkTypeEn\": \"Cow\", \"FatLevel\": \"lower fat\"}, {\"MoisturePercent\": 38.0, \"MilkTypeEn\": \"Cow\", \"FatLevel\": \"higher fat\"}, {\"MoisturePercent\": 92.0, \"MilkTypeEn\": \"Cow\", \"FatLevel\": \"lower fat\"}, {\"MoisturePercent\": 46.0, \"MilkTypeEn\": \"Cow\", \"FatLevel\": \"lower fat\"}, {\"MoisturePercent\": 52.0, \"MilkTypeEn\": \"Cow\", \"FatLevel\": \"lower fat\"}, {\"MoisturePercent\": 40.0, \"MilkTypeEn\": \"Goat\", \"FatLevel\": \"higher fat\"}, {\"MoisturePercent\": 43.0, \"MilkTypeEn\": \"Goat\", \"FatLevel\": \"lower fat\"}, {\"MoisturePercent\": 45.0, \"MilkTypeEn\": \"Cow\", \"FatLevel\": \"higher fat\"}, {\"MoisturePercent\": 39.0, \"MilkTypeEn\": \"Cow\", \"FatLevel\": \"higher fat\"}, {\"MoisturePercent\": 35.0, \"MilkTypeEn\": \"Goat\", \"FatLevel\": \"higher fat\"}, {\"MoisturePercent\": 50.0, \"MilkTypeEn\": \"Goat\", \"FatLevel\": \"lower fat\"}, {\"MoisturePercent\": 50.0, \"MilkTypeEn\": \"Cow\", \"FatLevel\": \"lower fat\"}, {\"MoisturePercent\": 56.0, \"MilkTypeEn\": \"Goat\", \"FatLevel\": \"lower fat\"}, {\"MoisturePercent\": 57.0, \"MilkTypeEn\": \"Cow\", \"FatLevel\": \"lower fat\"}, {\"MoisturePercent\": 56.0, \"MilkTypeEn\": \"Goat\", \"FatLevel\": \"lower fat\"}, {\"MoisturePercent\": 64.0, \"MilkTypeEn\": \"Buffalo Cow\", \"FatLevel\": \"lower fat\"}, {\"MoisturePercent\": 54.0, \"MilkTypeEn\": \"Cow\", \"FatLevel\": \"lower fat\"}, {\"MoisturePercent\": 40.0, \"MilkTypeEn\": \"Cow\", \"FatLevel\": \"lower fat\"}, {\"MoisturePercent\": 54.0, \"MilkTypeEn\": \"Ewe\", \"FatLevel\": \"lower fat\"}, {\"MoisturePercent\": 38.0, \"MilkTypeEn\": \"Cow\", \"FatLevel\": \"higher fat\"}, {\"MoisturePercent\": 60.0, \"MilkTypeEn\": \"Ewe and Goat\", \"FatLevel\": \"lower fat\"}, {\"MoisturePercent\": 50.0, \"MilkTypeEn\": \"Goat\", \"FatLevel\": \"lower fat\"}, {\"MoisturePercent\": 41.0, \"MilkTypeEn\": \"Cow\", \"FatLevel\": \"higher fat\"}, {\"MoisturePercent\": 20.0, \"MilkTypeEn\": \"Cow\", \"FatLevel\": \"higher fat\"}, {\"MoisturePercent\": 52.0, \"MilkTypeEn\": \"Goat\", \"FatLevel\": \"lower fat\"}, {\"MoisturePercent\": 39.0, \"MilkTypeEn\": \"Cow\", \"FatLevel\": \"higher fat\"}, {\"MoisturePercent\": 65.0, \"MilkTypeEn\": \"Goat\", \"FatLevel\": \"lower fat\"}, {\"MoisturePercent\": null, \"MilkTypeEn\": \"Cow\", \"FatLevel\": \"lower fat\"}, {\"MoisturePercent\": 42.0, \"MilkTypeEn\": \"Goat\", \"FatLevel\": \"lower fat\"}, {\"MoisturePercent\": 46.0, \"MilkTypeEn\": \"Cow\", \"FatLevel\": \"lower fat\"}, {\"MoisturePercent\": 41.0, \"MilkTypeEn\": \"Cow\", \"FatLevel\": \"higher fat\"}, {\"MoisturePercent\": 35.0, \"MilkTypeEn\": \"Cow\", \"FatLevel\": \"higher fat\"}, {\"MoisturePercent\": 50.0, \"MilkTypeEn\": \"Goat\", \"FatLevel\": \"lower fat\"}, {\"MoisturePercent\": 48.0, \"MilkTypeEn\": \"Goat\", \"FatLevel\": \"lower fat\"}, {\"MoisturePercent\": 48.0, \"MilkTypeEn\": \"Ewe\", \"FatLevel\": \"higher fat\"}, {\"MoisturePercent\": 36.0, \"MilkTypeEn\": \"Cow\", \"FatLevel\": \"higher fat\"}, {\"MoisturePercent\": 40.0, \"MilkTypeEn\": \"Cow\", \"FatLevel\": \"higher fat\"}, {\"MoisturePercent\": 63.0, \"MilkTypeEn\": \"Goat\", \"FatLevel\": \"lower fat\"}, {\"MoisturePercent\": 24.0, \"MilkTypeEn\": \"Cow\", \"FatLevel\": \"higher fat\"}, {\"MoisturePercent\": 55.0, \"MilkTypeEn\": \"Goat\", \"FatLevel\": \"higher fat\"}, {\"MoisturePercent\": 70.0, \"MilkTypeEn\": \"Goat\", \"FatLevel\": \"lower fat\"}, {\"MoisturePercent\": 65.0, \"MilkTypeEn\": \"Cow\", \"FatLevel\": \"lower fat\"}, {\"MoisturePercent\": 55.0, \"MilkTypeEn\": \"Cow\", \"FatLevel\": \"lower fat\"}, {\"MoisturePercent\": 50.0, \"MilkTypeEn\": \"Cow\", \"FatLevel\": \"higher fat\"}, {\"MoisturePercent\": 55.0, \"MilkTypeEn\": \"Goat\", \"FatLevel\": \"lower fat\"}, {\"MoisturePercent\": 42.6, \"MilkTypeEn\": \"Goat\", \"FatLevel\": \"lower fat\"}, {\"MoisturePercent\": 52.0, \"MilkTypeEn\": \"Cow\", \"FatLevel\": \"lower fat\"}, {\"MoisturePercent\": 50.0, \"MilkTypeEn\": \"Cow\", \"FatLevel\": \"lower fat\"}, {\"MoisturePercent\": 50.0, \"MilkTypeEn\": \"Cow\", \"FatLevel\": \"lower fat\"}, {\"MoisturePercent\": 29.0, \"MilkTypeEn\": \"Cow\", \"FatLevel\": \"higher fat\"}, {\"MoisturePercent\": 50.0, \"MilkTypeEn\": \"Cow\", \"FatLevel\": \"lower fat\"}, {\"MoisturePercent\": 50.0, \"MilkTypeEn\": \"Cow and Goat\", \"FatLevel\": \"lower fat\"}, {\"MoisturePercent\": 48.0, \"MilkTypeEn\": \"Cow\", \"FatLevel\": \"lower fat\"}, {\"MoisturePercent\": 50.0, \"MilkTypeEn\": \"Ewe\", \"FatLevel\": \"lower fat\"}, {\"MoisturePercent\": 80.0, \"MilkTypeEn\": \"Cow\", \"FatLevel\": \"lower fat\"}, {\"MoisturePercent\": 74.0, \"MilkTypeEn\": \"Goat\", \"FatLevel\": \"lower fat\"}, {\"MoisturePercent\": 45.0, \"MilkTypeEn\": \"Ewe\", \"FatLevel\": \"higher fat\"}, {\"MoisturePercent\": 52.0, \"MilkTypeEn\": \"Cow\", \"FatLevel\": \"lower fat\"}, {\"MoisturePercent\": 50.0, \"MilkTypeEn\": \"Cow\", \"FatLevel\": \"higher fat\"}, {\"MoisturePercent\": 50.0, \"MilkTypeEn\": \"Cow\", \"FatLevel\": \"lower fat\"}, {\"MoisturePercent\": 39.0, \"MilkTypeEn\": \"Cow\", \"FatLevel\": \"higher fat\"}, {\"MoisturePercent\": 44.0, \"MilkTypeEn\": \"Cow\", \"FatLevel\": \"lower fat\"}, {\"MoisturePercent\": 39.0, \"MilkTypeEn\": \"Cow\", \"FatLevel\": \"higher fat\"}, {\"MoisturePercent\": 43.0, \"MilkTypeEn\": \"Goat\", \"FatLevel\": \"lower fat\"}, {\"MoisturePercent\": 47.0, \"MilkTypeEn\": \"Cow\", \"FatLevel\": \"lower fat\"}, {\"MoisturePercent\": 49.0, \"MilkTypeEn\": \"Cow\", \"FatLevel\": \"lower fat\"}, {\"MoisturePercent\": 50.0, \"MilkTypeEn\": \"Cow\", \"FatLevel\": \"lower fat\"}, {\"MoisturePercent\": 42.0, \"MilkTypeEn\": \"Cow\", \"FatLevel\": \"lower fat\"}, {\"MoisturePercent\": 50.0, \"MilkTypeEn\": \"Cow\", \"FatLevel\": \"higher fat\"}, {\"MoisturePercent\": 41.0, \"MilkTypeEn\": \"Cow\", \"FatLevel\": \"higher fat\"}, {\"MoisturePercent\": 50.0, \"MilkTypeEn\": \"Cow\", \"FatLevel\": \"lower fat\"}, {\"MoisturePercent\": 39.0, \"MilkTypeEn\": \"Cow\", \"FatLevel\": \"higher fat\"}, {\"MoisturePercent\": 39.0, \"MilkTypeEn\": \"Cow\", \"FatLevel\": \"higher fat\"}, {\"MoisturePercent\": 50.0, \"MilkTypeEn\": \"Cow\", \"FatLevel\": \"higher fat\"}, {\"MoisturePercent\": 60.0, \"MilkTypeEn\": \"Goat\", \"FatLevel\": \"lower fat\"}, {\"MoisturePercent\": 50.0, \"MilkTypeEn\": \"Cow\", \"FatLevel\": \"higher fat\"}, {\"MoisturePercent\": 46.0, \"MilkTypeEn\": \"Cow\", \"FatLevel\": \"lower fat\"}, {\"MoisturePercent\": 32.0, \"MilkTypeEn\": \"Cow\", \"FatLevel\": \"lower fat\"}, {\"MoisturePercent\": 40.0, \"MilkTypeEn\": \"Goat\", \"FatLevel\": \"higher fat\"}, {\"MoisturePercent\": 55.0, \"MilkTypeEn\": \"Cow\", \"FatLevel\": \"lower fat\"}, {\"MoisturePercent\": 39.0, \"MilkTypeEn\": \"Ewe\", \"FatLevel\": \"lower fat\"}, {\"MoisturePercent\": 47.0, \"MilkTypeEn\": \"Cow\", \"FatLevel\": \"lower fat\"}, {\"MoisturePercent\": 48.0, \"MilkTypeEn\": \"Cow\", \"FatLevel\": \"lower fat\"}, {\"MoisturePercent\": 55.0, \"MilkTypeEn\": \"Goat\", \"FatLevel\": \"lower fat\"}, {\"MoisturePercent\": 42.0, \"MilkTypeEn\": \"Cow and Goat\", \"FatLevel\": \"higher fat\"}, {\"MoisturePercent\": 55.0, \"MilkTypeEn\": \"Cow\", \"FatLevel\": \"lower fat\"}, {\"MoisturePercent\": 48.0, \"MilkTypeEn\": \"Cow\", \"FatLevel\": \"lower fat\"}, {\"MoisturePercent\": 40.0, \"MilkTypeEn\": \"Cow\", \"FatLevel\": \"lower fat\"}, {\"MoisturePercent\": 55.0, \"MilkTypeEn\": \"Cow\", \"FatLevel\": \"lower fat\"}, {\"MoisturePercent\": 50.0, \"MilkTypeEn\": \"Cow\", \"FatLevel\": \"higher fat\"}, {\"MoisturePercent\": 50.0, \"MilkTypeEn\": \"Cow\", \"FatLevel\": \"lower fat\"}, {\"MoisturePercent\": 38.0, \"MilkTypeEn\": \"Cow\", \"FatLevel\": \"lower fat\"}, {\"MoisturePercent\": 50.0, \"MilkTypeEn\": \"Goat\", \"FatLevel\": \"lower fat\"}, {\"MoisturePercent\": 55.0, \"MilkTypeEn\": \"Cow\", \"FatLevel\": \"lower fat\"}, {\"MoisturePercent\": 42.0, \"MilkTypeEn\": \"Goat\", \"FatLevel\": \"lower fat\"}, {\"MoisturePercent\": 48.0, \"MilkTypeEn\": \"Cow\", \"FatLevel\": \"lower fat\"}, {\"MoisturePercent\": 48.0, \"MilkTypeEn\": \"Cow\", \"FatLevel\": \"higher fat\"}, {\"MoisturePercent\": 45.0, \"MilkTypeEn\": \"Cow\", \"FatLevel\": \"lower fat\"}, {\"MoisturePercent\": 45.0, \"MilkTypeEn\": \"Ewe and Cow\", \"FatLevel\": \"higher fat\"}, {\"MoisturePercent\": 40.0, \"MilkTypeEn\": \"Cow\", \"FatLevel\": \"lower fat\"}, {\"MoisturePercent\": 43.0, \"MilkTypeEn\": \"Cow\", \"FatLevel\": \"lower fat\"}, {\"MoisturePercent\": 42.0, \"MilkTypeEn\": \"Cow\", \"FatLevel\": \"higher fat\"}, {\"MoisturePercent\": 39.0, \"MilkTypeEn\": \"Cow\", \"FatLevel\": \"higher fat\"}, {\"MoisturePercent\": 56.0, \"MilkTypeEn\": \"Cow and Goat\", \"FatLevel\": \"lower fat\"}, {\"MoisturePercent\": 37.0, \"MilkTypeEn\": \"Goat\", \"FatLevel\": \"higher fat\"}, {\"MoisturePercent\": 40.0, \"MilkTypeEn\": \"Cow\", \"FatLevel\": \"higher fat\"}, {\"MoisturePercent\": 50.0, \"MilkTypeEn\": \"Cow\", \"FatLevel\": \"higher fat\"}, {\"MoisturePercent\": 40.0, \"MilkTypeEn\": \"Cow\", \"FatLevel\": \"lower fat\"}, {\"MoisturePercent\": 22.0, \"MilkTypeEn\": \"Cow\", \"FatLevel\": \"higher fat\"}, {\"MoisturePercent\": 53.0, \"MilkTypeEn\": \"Cow\", \"FatLevel\": \"lower fat\"}, {\"MoisturePercent\": 55.0, \"MilkTypeEn\": \"Cow\", \"FatLevel\": \"lower fat\"}, {\"MoisturePercent\": 37.0, \"MilkTypeEn\": \"Cow\", \"FatLevel\": \"higher fat\"}, {\"MoisturePercent\": 48.0, \"MilkTypeEn\": \"Goat\", \"FatLevel\": \"lower fat\"}, {\"MoisturePercent\": 35.0, \"MilkTypeEn\": \"Goat\", \"FatLevel\": \"lower fat\"}, {\"MoisturePercent\": 45.0, \"MilkTypeEn\": \"Cow\", \"FatLevel\": \"lower fat\"}, {\"MoisturePercent\": 34.0, \"MilkTypeEn\": \"Cow\", \"FatLevel\": \"lower fat\"}, {\"MoisturePercent\": 43.0, \"MilkTypeEn\": \"Ewe\", \"FatLevel\": \"lower fat\"}, {\"MoisturePercent\": 55.0, \"MilkTypeEn\": \"Ewe\", \"FatLevel\": \"lower fat\"}, {\"MoisturePercent\": 54.0, \"MilkTypeEn\": \"Cow\", \"FatLevel\": \"lower fat\"}, {\"MoisturePercent\": null, \"MilkTypeEn\": \"Ewe\", \"FatLevel\": \"lower fat\"}, {\"MoisturePercent\": 36.0, \"MilkTypeEn\": \"Cow\", \"FatLevel\": \"higher fat\"}, {\"MoisturePercent\": 50.0, \"MilkTypeEn\": \"Cow\", \"FatLevel\": \"lower fat\"}, {\"MoisturePercent\": 42.0, \"MilkTypeEn\": \"Goat\", \"FatLevel\": \"lower fat\"}, {\"MoisturePercent\": 54.0, \"MilkTypeEn\": \"Cow\", \"FatLevel\": \"lower fat\"}, {\"MoisturePercent\": 55.0, \"MilkTypeEn\": \"Goat\", \"FatLevel\": \"lower fat\"}, {\"MoisturePercent\": 56.0, \"MilkTypeEn\": \"Cow\", \"FatLevel\": \"lower fat\"}, {\"MoisturePercent\": 55.0, \"MilkTypeEn\": \"Goat\", \"FatLevel\": \"higher fat\"}, {\"MoisturePercent\": 41.0, \"MilkTypeEn\": \"Cow\", \"FatLevel\": \"higher fat\"}, {\"MoisturePercent\": 41.0, \"MilkTypeEn\": \"Goat\", \"FatLevel\": \"higher fat\"}, {\"MoisturePercent\": 47.0, \"MilkTypeEn\": \"Cow\", \"FatLevel\": \"lower fat\"}, {\"MoisturePercent\": 61.0, \"MilkTypeEn\": \"Cow\", \"FatLevel\": \"lower fat\"}, {\"MoisturePercent\": 35.0, \"MilkTypeEn\": \"Cow\", \"FatLevel\": \"higher fat\"}, {\"MoisturePercent\": 41.0, \"MilkTypeEn\": \"Cow\", \"FatLevel\": \"higher fat\"}, {\"MoisturePercent\": 37.0, \"MilkTypeEn\": \"Goat\", \"FatLevel\": \"higher fat\"}, {\"MoisturePercent\": 45.0, \"MilkTypeEn\": \"Cow\", \"FatLevel\": \"lower fat\"}, {\"MoisturePercent\": 54.0, \"MilkTypeEn\": \"Cow\", \"FatLevel\": \"lower fat\"}, {\"MoisturePercent\": 57.0, \"MilkTypeEn\": \"Cow\", \"FatLevel\": \"lower fat\"}, {\"MoisturePercent\": 72.0, \"MilkTypeEn\": \"Ewe\", \"FatLevel\": \"lower fat\"}, {\"MoisturePercent\": 39.0, \"MilkTypeEn\": \"Cow\", \"FatLevel\": \"higher fat\"}, {\"MoisturePercent\": 39.0, \"MilkTypeEn\": \"Cow\", \"FatLevel\": \"higher fat\"}, {\"MoisturePercent\": 42.0, \"MilkTypeEn\": \"Cow\", \"FatLevel\": \"higher fat\"}, {\"MoisturePercent\": 50.0, \"MilkTypeEn\": \"Cow\", \"FatLevel\": \"higher fat\"}, {\"MoisturePercent\": 55.0, \"MilkTypeEn\": \"Cow\", \"FatLevel\": \"lower fat\"}, {\"MoisturePercent\": 45.0, \"MilkTypeEn\": \"Cow\", \"FatLevel\": \"lower fat\"}, {\"MoisturePercent\": 45.0, \"MilkTypeEn\": \"Cow\", \"FatLevel\": \"higher fat\"}, {\"MoisturePercent\": 48.0, \"MilkTypeEn\": \"Cow\", \"FatLevel\": \"lower fat\"}, {\"MoisturePercent\": 42.0, \"MilkTypeEn\": \"Cow\", \"FatLevel\": \"lower fat\"}, {\"MoisturePercent\": 50.0, \"MilkTypeEn\": \"Cow\", \"FatLevel\": \"higher fat\"}, {\"MoisturePercent\": 37.0, \"MilkTypeEn\": \"Goat\", \"FatLevel\": \"higher fat\"}, {\"MoisturePercent\": 65.0, \"MilkTypeEn\": \"Cow\", \"FatLevel\": \"lower fat\"}, {\"MoisturePercent\": 54.0, \"MilkTypeEn\": \"Cow\", \"FatLevel\": \"higher fat\"}, {\"MoisturePercent\": 41.0, \"MilkTypeEn\": \"Cow\", \"FatLevel\": \"higher fat\"}, {\"MoisturePercent\": 40.0, \"MilkTypeEn\": \"Cow\", \"FatLevel\": \"lower fat\"}, {\"MoisturePercent\": 39.0, \"MilkTypeEn\": \"Cow\", \"FatLevel\": \"higher fat\"}, {\"MoisturePercent\": 42.0, \"MilkTypeEn\": \"Cow\", \"FatLevel\": \"lower fat\"}, {\"MoisturePercent\": 48.0, \"MilkTypeEn\": \"Cow\", \"FatLevel\": \"lower fat\"}, {\"MoisturePercent\": 39.0, \"MilkTypeEn\": \"Ewe\", \"FatLevel\": \"higher fat\"}, {\"MoisturePercent\": 52.0, \"MilkTypeEn\": \"Cow\", \"FatLevel\": \"lower fat\"}, {\"MoisturePercent\": 42.0, \"MilkTypeEn\": \"Cow\", \"FatLevel\": \"lower fat\"}, {\"MoisturePercent\": 40.0, \"MilkTypeEn\": \"Goat\", \"FatLevel\": \"higher fat\"}, {\"MoisturePercent\": 42.0, \"MilkTypeEn\": \"Cow\", \"FatLevel\": \"higher fat\"}, {\"MoisturePercent\": 42.0, \"MilkTypeEn\": \"Cow\", \"FatLevel\": \"lower fat\"}, {\"MoisturePercent\": 44.0, \"MilkTypeEn\": \"Cow\", \"FatLevel\": \"higher fat\"}, {\"MoisturePercent\": 62.0, \"MilkTypeEn\": \"Goat\", \"FatLevel\": \"lower fat\"}, {\"MoisturePercent\": 48.0, \"MilkTypeEn\": \"Cow\", \"FatLevel\": \"lower fat\"}, {\"MoisturePercent\": 33.0, \"MilkTypeEn\": \"Cow\", \"FatLevel\": \"higher fat\"}, {\"MoisturePercent\": 39.0, \"MilkTypeEn\": \"Cow\", \"FatLevel\": \"higher fat\"}, {\"MoisturePercent\": 39.0, \"MilkTypeEn\": \"Cow\", \"FatLevel\": \"higher fat\"}, {\"MoisturePercent\": 55.0, \"MilkTypeEn\": \"Cow\", \"FatLevel\": \"lower fat\"}, {\"MoisturePercent\": 45.0, \"MilkTypeEn\": \"Cow\", \"FatLevel\": \"higher fat\"}, {\"MoisturePercent\": null, \"MilkTypeEn\": \"Cow\", \"FatLevel\": \"lower fat\"}, {\"MoisturePercent\": 40.0, \"MilkTypeEn\": \"Cow\", \"FatLevel\": \"lower fat\"}, {\"MoisturePercent\": 48.0, \"MilkTypeEn\": \"Cow\", \"FatLevel\": \"higher fat\"}, {\"MoisturePercent\": 38.0, \"MilkTypeEn\": \"Cow\", \"FatLevel\": \"higher fat\"}, {\"MoisturePercent\": 32.0, \"MilkTypeEn\": \"Cow\", \"FatLevel\": \"lower fat\"}, {\"MoisturePercent\": 52.0, \"MilkTypeEn\": \"Cow\", \"FatLevel\": \"higher fat\"}, {\"MoisturePercent\": 45.0, \"MilkTypeEn\": \"Cow\", \"FatLevel\": \"higher fat\"}, {\"MoisturePercent\": 34.0, \"MilkTypeEn\": \"Goat\", \"FatLevel\": \"higher fat\"}, {\"MoisturePercent\": 48.0, \"MilkTypeEn\": \"Cow\", \"FatLevel\": \"higher fat\"}, {\"MoisturePercent\": 42.0, \"MilkTypeEn\": \"Cow\", \"FatLevel\": \"lower fat\"}, {\"MoisturePercent\": 60.0, \"MilkTypeEn\": \"Cow\", \"FatLevel\": \"lower fat\"}, {\"MoisturePercent\": 39.0, \"MilkTypeEn\": \"Cow\", \"FatLevel\": \"higher fat\"}, {\"MoisturePercent\": 41.0, \"MilkTypeEn\": \"Goat\", \"FatLevel\": \"lower fat\"}, {\"MoisturePercent\": 49.0, \"MilkTypeEn\": \"Cow\", \"FatLevel\": \"lower fat\"}, {\"MoisturePercent\": 58.0, \"MilkTypeEn\": \"Cow\", \"FatLevel\": \"lower fat\"}, {\"MoisturePercent\": 56.0, \"MilkTypeEn\": \"Cow\", \"FatLevel\": \"lower fat\"}, {\"MoisturePercent\": 46.0, \"MilkTypeEn\": \"Cow\", \"FatLevel\": \"lower fat\"}, {\"MoisturePercent\": 50.0, \"MilkTypeEn\": \"Ewe\", \"FatLevel\": \"lower fat\"}, {\"MoisturePercent\": 35.0, \"MilkTypeEn\": \"Cow\", \"FatLevel\": \"higher fat\"}, {\"MoisturePercent\": 43.0, \"MilkTypeEn\": \"Goat\", \"FatLevel\": \"lower fat\"}, {\"MoisturePercent\": 46.0, \"MilkTypeEn\": \"Cow\", \"FatLevel\": \"lower fat\"}, {\"MoisturePercent\": 45.0, \"MilkTypeEn\": \"Cow\", \"FatLevel\": \"higher fat\"}, {\"MoisturePercent\": 60.0, \"MilkTypeEn\": \"Goat\", \"FatLevel\": \"lower fat\"}, {\"MoisturePercent\": 50.0, \"MilkTypeEn\": \"Goat\", \"FatLevel\": \"lower fat\"}, {\"MoisturePercent\": 47.0, \"MilkTypeEn\": \"Cow\", \"FatLevel\": \"higher fat\"}, {\"MoisturePercent\": 52.0, \"MilkTypeEn\": \"Cow\", \"FatLevel\": \"higher fat\"}, {\"MoisturePercent\": 50.0, \"MilkTypeEn\": \"Goat\", \"FatLevel\": \"lower fat\"}, {\"MoisturePercent\": 65.0, \"MilkTypeEn\": \"Ewe\", \"FatLevel\": \"higher fat\"}, {\"MoisturePercent\": 50.0, \"MilkTypeEn\": \"Goat\", \"FatLevel\": \"lower fat\"}, {\"MoisturePercent\": 68.0, \"MilkTypeEn\": \"Goat\", \"FatLevel\": \"lower fat\"}, {\"MoisturePercent\": 50.0, \"MilkTypeEn\": \"Cow\", \"FatLevel\": \"lower fat\"}, {\"MoisturePercent\": 50.0, \"MilkTypeEn\": \"Cow\", \"FatLevel\": \"lower fat\"}, {\"MoisturePercent\": 39.0, \"MilkTypeEn\": \"Cow\", \"FatLevel\": \"higher fat\"}, {\"MoisturePercent\": 48.0, \"MilkTypeEn\": \"Cow\", \"FatLevel\": \"lower fat\"}, {\"MoisturePercent\": 47.0, \"MilkTypeEn\": \"Ewe\", \"FatLevel\": \"higher fat\"}, {\"MoisturePercent\": 43.0, \"MilkTypeEn\": \"Cow\", \"FatLevel\": \"higher fat\"}, {\"MoisturePercent\": 40.0, \"MilkTypeEn\": \"Cow\", \"FatLevel\": \"lower fat\"}, {\"MoisturePercent\": 56.0, \"MilkTypeEn\": \"Cow\", \"FatLevel\": \"lower fat\"}, {\"MoisturePercent\": 40.0, \"MilkTypeEn\": \"Cow\", \"FatLevel\": \"lower fat\"}, {\"MoisturePercent\": 70.0, \"MilkTypeEn\": \"Cow\", \"FatLevel\": \"lower fat\"}, {\"MoisturePercent\": 60.0, \"MilkTypeEn\": \"Cow\", \"FatLevel\": \"lower fat\"}, {\"MoisturePercent\": 40.0, \"MilkTypeEn\": \"Cow\", \"FatLevel\": \"lower fat\"}, {\"MoisturePercent\": 39.0, \"MilkTypeEn\": \"Cow\", \"FatLevel\": \"higher fat\"}, {\"MoisturePercent\": 52.0, \"MilkTypeEn\": \"Goat\", \"FatLevel\": \"lower fat\"}, {\"MoisturePercent\": 39.0, \"MilkTypeEn\": \"Cow\", \"FatLevel\": \"higher fat\"}, {\"MoisturePercent\": 34.0, \"MilkTypeEn\": \"Cow\", \"FatLevel\": \"higher fat\"}, {\"MoisturePercent\": 56.0, \"MilkTypeEn\": \"Goat\", \"FatLevel\": \"lower fat\"}, {\"MoisturePercent\": 42.0, \"MilkTypeEn\": \"Cow\", \"FatLevel\": \"lower fat\"}, {\"MoisturePercent\": 74.0, \"MilkTypeEn\": \"Cow\", \"FatLevel\": \"lower fat\"}, {\"MoisturePercent\": 50.0, \"MilkTypeEn\": \"Cow\", \"FatLevel\": \"higher fat\"}, {\"MoisturePercent\": 39.0, \"MilkTypeEn\": \"Cow\", \"FatLevel\": \"higher fat\"}, {\"MoisturePercent\": 45.0, \"MilkTypeEn\": \"Cow\", \"FatLevel\": \"higher fat\"}, {\"MoisturePercent\": 45.0, \"MilkTypeEn\": \"Cow\", \"FatLevel\": \"lower fat\"}, {\"MoisturePercent\": 35.0, \"MilkTypeEn\": \"Goat\", \"FatLevel\": \"higher fat\"}, {\"MoisturePercent\": 55.0, \"MilkTypeEn\": \"Goat\", \"FatLevel\": \"lower fat\"}, {\"MoisturePercent\": 50.0, \"MilkTypeEn\": \"Cow\", \"FatLevel\": \"lower fat\"}, {\"MoisturePercent\": 48.0, \"MilkTypeEn\": \"Goat\", \"FatLevel\": \"lower fat\"}, {\"MoisturePercent\": 45.0, \"MilkTypeEn\": \"Cow\", \"FatLevel\": \"lower fat\"}, {\"MoisturePercent\": 39.0, \"MilkTypeEn\": \"Cow\", \"FatLevel\": \"higher fat\"}, {\"MoisturePercent\": 40.3, \"MilkTypeEn\": \"Cow\", \"FatLevel\": \"lower fat\"}, {\"MoisturePercent\": 44.0, \"MilkTypeEn\": \"Cow\", \"FatLevel\": \"lower fat\"}, {\"MoisturePercent\": 35.0, \"MilkTypeEn\": \"Cow\", \"FatLevel\": \"higher fat\"}, {\"MoisturePercent\": 43.0, \"MilkTypeEn\": \"Ewe\", \"FatLevel\": \"higher fat\"}, {\"MoisturePercent\": 42.0, \"MilkTypeEn\": \"Goat\", \"FatLevel\": \"lower fat\"}, {\"MoisturePercent\": 50.0, \"MilkTypeEn\": \"Goat\", \"FatLevel\": \"lower fat\"}, {\"MoisturePercent\": 64.0, \"MilkTypeEn\": \"Cow\", \"FatLevel\": \"lower fat\"}, {\"MoisturePercent\": 39.0, \"MilkTypeEn\": \"Cow\", \"FatLevel\": \"higher fat\"}, {\"MoisturePercent\": 48.0, \"MilkTypeEn\": \"Cow\", \"FatLevel\": \"lower fat\"}, {\"MoisturePercent\": 33.0, \"MilkTypeEn\": \"Ewe\", \"FatLevel\": \"higher fat\"}, {\"MoisturePercent\": 42.0, \"MilkTypeEn\": \"Cow\", \"FatLevel\": \"higher fat\"}, {\"MoisturePercent\": 68.0, \"MilkTypeEn\": \"Goat\", \"FatLevel\": \"lower fat\"}, {\"MoisturePercent\": 40.0, \"MilkTypeEn\": \"Goat\", \"FatLevel\": \"higher fat\"}, {\"MoisturePercent\": 64.0, \"MilkTypeEn\": \"Goat\", \"FatLevel\": \"lower fat\"}, {\"MoisturePercent\": 43.0, \"MilkTypeEn\": \"Goat\", \"FatLevel\": \"lower fat\"}, {\"MoisturePercent\": 35.0, \"MilkTypeEn\": \"Cow\", \"FatLevel\": \"higher fat\"}, {\"MoisturePercent\": 26.0, \"MilkTypeEn\": \"Ewe and Cow\", \"FatLevel\": \"higher fat\"}, {\"MoisturePercent\": 37.0, \"MilkTypeEn\": \"Cow\", \"FatLevel\": \"higher fat\"}, {\"MoisturePercent\": 39.0, \"MilkTypeEn\": \"Cow\", \"FatLevel\": \"higher fat\"}, {\"MoisturePercent\": 50.0, \"MilkTypeEn\": \"Cow\", \"FatLevel\": \"lower fat\"}, {\"MoisturePercent\": 40.0, \"MilkTypeEn\": \"Cow\", \"FatLevel\": \"lower fat\"}, {\"MoisturePercent\": 52.0, \"MilkTypeEn\": \"Cow\", \"FatLevel\": \"higher fat\"}, {\"MoisturePercent\": 37.0, \"MilkTypeEn\": \"Cow\", \"FatLevel\": \"higher fat\"}, {\"MoisturePercent\": 60.0, \"MilkTypeEn\": \"Ewe\", \"FatLevel\": \"lower fat\"}, {\"MoisturePercent\": 43.0, \"MilkTypeEn\": \"Cow\", \"FatLevel\": \"lower fat\"}, {\"MoisturePercent\": 58.0, \"MilkTypeEn\": \"Cow\", \"FatLevel\": \"lower fat\"}, {\"MoisturePercent\": 50.0, \"MilkTypeEn\": \"Cow\", \"FatLevel\": \"lower fat\"}, {\"MoisturePercent\": 42.0, \"MilkTypeEn\": \"Cow\", \"FatLevel\": \"lower fat\"}, {\"MoisturePercent\": 37.0, \"MilkTypeEn\": \"Cow\", \"FatLevel\": \"higher fat\"}, {\"MoisturePercent\": 46.0, \"MilkTypeEn\": \"Goat\", \"FatLevel\": \"lower fat\"}, {\"MoisturePercent\": 34.0, \"MilkTypeEn\": \"Cow\", \"FatLevel\": \"higher fat\"}, {\"MoisturePercent\": 46.0, \"MilkTypeEn\": \"Cow\", \"FatLevel\": \"lower fat\"}, {\"MoisturePercent\": 40.0, \"MilkTypeEn\": \"Goat\", \"FatLevel\": \"higher fat\"}, {\"MoisturePercent\": 46.0, \"MilkTypeEn\": \"Cow\", \"FatLevel\": \"lower fat\"}, {\"MoisturePercent\": 50.0, \"MilkTypeEn\": \"Cow\", \"FatLevel\": \"lower fat\"}, {\"MoisturePercent\": 50.0, \"MilkTypeEn\": \"Cow\", \"FatLevel\": \"higher fat\"}, {\"MoisturePercent\": 50.0, \"MilkTypeEn\": \"Goat\", \"FatLevel\": \"lower fat\"}, {\"MoisturePercent\": 54.0, \"MilkTypeEn\": \"Cow\", \"FatLevel\": \"lower fat\"}, {\"MoisturePercent\": 48.0, \"MilkTypeEn\": \"Cow\", \"FatLevel\": \"lower fat\"}, {\"MoisturePercent\": 43.0, \"MilkTypeEn\": \"Cow\", \"FatLevel\": \"lower fat\"}, {\"MoisturePercent\": 42.0, \"MilkTypeEn\": \"Goat\", \"FatLevel\": \"lower fat\"}, {\"MoisturePercent\": 45.0, \"MilkTypeEn\": \"Goat\", \"FatLevel\": \"lower fat\"}, {\"MoisturePercent\": 42.0, \"MilkTypeEn\": \"Cow\", \"FatLevel\": \"lower fat\"}, {\"MoisturePercent\": 70.0, \"MilkTypeEn\": \"Goat\", \"FatLevel\": \"lower fat\"}, {\"MoisturePercent\": 57.0, \"MilkTypeEn\": \"Cow\", \"FatLevel\": \"lower fat\"}, {\"MoisturePercent\": 50.0, \"MilkTypeEn\": \"Cow\", \"FatLevel\": \"higher fat\"}, {\"MoisturePercent\": 52.0, \"MilkTypeEn\": \"Goat\", \"FatLevel\": \"lower fat\"}, {\"MoisturePercent\": 42.0, \"MilkTypeEn\": \"Cow\", \"FatLevel\": \"lower fat\"}, {\"MoisturePercent\": 44.0, \"MilkTypeEn\": \"Cow\", \"FatLevel\": \"higher fat\"}, {\"MoisturePercent\": 33.0, \"MilkTypeEn\": \"Goat\", \"FatLevel\": \"higher fat\"}, {\"MoisturePercent\": 50.0, \"MilkTypeEn\": \"Goat\", \"FatLevel\": \"lower fat\"}, {\"MoisturePercent\": 56.0, \"MilkTypeEn\": \"Cow\", \"FatLevel\": \"lower fat\"}, {\"MoisturePercent\": 50.0, \"MilkTypeEn\": \"Cow\", \"FatLevel\": \"lower fat\"}, {\"MoisturePercent\": 31.0, \"MilkTypeEn\": \"Cow\", \"FatLevel\": \"higher fat\"}, {\"MoisturePercent\": 40.0, \"MilkTypeEn\": \"Goat\", \"FatLevel\": \"lower fat\"}, {\"MoisturePercent\": 48.0, \"MilkTypeEn\": \"Cow\", \"FatLevel\": \"lower fat\"}, {\"MoisturePercent\": 54.0, \"MilkTypeEn\": \"Cow\", \"FatLevel\": \"lower fat\"}, {\"MoisturePercent\": 50.0, \"MilkTypeEn\": \"Cow\", \"FatLevel\": \"lower fat\"}, {\"MoisturePercent\": 36.0, \"MilkTypeEn\": \"Cow\", \"FatLevel\": \"higher fat\"}, {\"MoisturePercent\": 75.0, \"MilkTypeEn\": \"Cow\", \"FatLevel\": \"lower fat\"}, {\"MoisturePercent\": 50.0, \"MilkTypeEn\": \"Cow\", \"FatLevel\": \"lower fat\"}, {\"MoisturePercent\": 46.0, \"MilkTypeEn\": \"Ewe and Cow\", \"FatLevel\": \"higher fat\"}, {\"MoisturePercent\": 40.0, \"MilkTypeEn\": \"Cow\", \"FatLevel\": \"higher fat\"}, {\"MoisturePercent\": 17.0, \"MilkTypeEn\": \"Cow\", \"FatLevel\": \"higher fat\"}, {\"MoisturePercent\": 65.0, \"MilkTypeEn\": \"Goat\", \"FatLevel\": \"lower fat\"}, {\"MoisturePercent\": 55.0, \"MilkTypeEn\": \"Ewe\", \"FatLevel\": \"lower fat\"}, {\"MoisturePercent\": 39.0, \"MilkTypeEn\": \"Cow\", \"FatLevel\": \"higher fat\"}, {\"MoisturePercent\": 43.0, \"MilkTypeEn\": \"Cow\", \"FatLevel\": \"lower fat\"}, {\"MoisturePercent\": 40.0, \"MilkTypeEn\": \"Cow\", \"FatLevel\": \"lower fat\"}, {\"MoisturePercent\": 50.0, \"MilkTypeEn\": \"Cow\", \"FatLevel\": \"lower fat\"}, {\"MoisturePercent\": 42.0, \"MilkTypeEn\": \"Goat\", \"FatLevel\": \"lower fat\"}, {\"MoisturePercent\": 58.0, \"MilkTypeEn\": \"Goat\", \"FatLevel\": \"lower fat\"}, {\"MoisturePercent\": 52.0, \"MilkTypeEn\": \"Cow\", \"FatLevel\": \"lower fat\"}, {\"MoisturePercent\": 55.0, \"MilkTypeEn\": \"Cow\", \"FatLevel\": \"lower fat\"}, {\"MoisturePercent\": 44.0, \"MilkTypeEn\": \"Cow\", \"FatLevel\": \"lower fat\"}, {\"MoisturePercent\": 37.0, \"MilkTypeEn\": \"Cow\", \"FatLevel\": \"higher fat\"}, {\"MoisturePercent\": 86.0, \"MilkTypeEn\": \"Cow\", \"FatLevel\": \"lower fat\"}, {\"MoisturePercent\": 50.0, \"MilkTypeEn\": \"Cow and Goat\", \"FatLevel\": \"lower fat\"}, {\"MoisturePercent\": 50.0, \"MilkTypeEn\": \"Cow\", \"FatLevel\": \"higher fat\"}, {\"MoisturePercent\": 30.0, \"MilkTypeEn\": \"Cow\", \"FatLevel\": \"lower fat\"}, {\"MoisturePercent\": 70.0, \"MilkTypeEn\": \"Goat\", \"FatLevel\": \"lower fat\"}, {\"MoisturePercent\": 40.0, \"MilkTypeEn\": \"Goat\", \"FatLevel\": \"higher fat\"}, {\"MoisturePercent\": 48.0, \"MilkTypeEn\": \"Cow\", \"FatLevel\": \"lower fat\"}, {\"MoisturePercent\": 42.0, \"MilkTypeEn\": \"Cow\", \"FatLevel\": \"lower fat\"}, {\"MoisturePercent\": 48.0, \"MilkTypeEn\": \"Cow\", \"FatLevel\": \"higher fat\"}, {\"MoisturePercent\": 52.0, \"MilkTypeEn\": \"Goat\", \"FatLevel\": \"lower fat\"}, {\"MoisturePercent\": 37.0, \"MilkTypeEn\": \"Cow\", \"FatLevel\": \"higher fat\"}, {\"MoisturePercent\": 39.0, \"MilkTypeEn\": \"Cow\", \"FatLevel\": \"higher fat\"}, {\"MoisturePercent\": 48.0, \"MilkTypeEn\": \"Goat\", \"FatLevel\": \"lower fat\"}, {\"MoisturePercent\": 42.0, \"MilkTypeEn\": \"Cow\", \"FatLevel\": \"lower fat\"}, {\"MoisturePercent\": 40.0, \"MilkTypeEn\": \"Cow\", \"FatLevel\": \"lower fat\"}, {\"MoisturePercent\": 50.0, \"MilkTypeEn\": \"Goat\", \"FatLevel\": \"lower fat\"}, {\"MoisturePercent\": 50.0, \"MilkTypeEn\": \"Cow\", \"FatLevel\": \"lower fat\"}, {\"MoisturePercent\": 46.0, \"MilkTypeEn\": \"Cow\", \"FatLevel\": \"lower fat\"}, {\"MoisturePercent\": 55.0, \"MilkTypeEn\": \"Cow\", \"FatLevel\": \"lower fat\"}, {\"MoisturePercent\": 41.0, \"MilkTypeEn\": \"Cow\", \"FatLevel\": \"higher fat\"}, {\"MoisturePercent\": 41.0, \"MilkTypeEn\": \"Cow\", \"FatLevel\": \"lower fat\"}, {\"MoisturePercent\": 34.0, \"MilkTypeEn\": \"Cow\", \"FatLevel\": \"higher fat\"}, {\"MoisturePercent\": 38.0, \"MilkTypeEn\": \"Cow\", \"FatLevel\": \"higher fat\"}, {\"MoisturePercent\": 50.0, \"MilkTypeEn\": \"Cow\", \"FatLevel\": \"lower fat\"}, {\"MoisturePercent\": 44.0, \"MilkTypeEn\": \"Cow\", \"FatLevel\": \"lower fat\"}, {\"MoisturePercent\": 50.0, \"MilkTypeEn\": \"Cow\", \"FatLevel\": \"lower fat\"}, {\"MoisturePercent\": 50.0, \"MilkTypeEn\": \"Cow\", \"FatLevel\": \"lower fat\"}, {\"MoisturePercent\": 39.0, \"MilkTypeEn\": \"Cow\", \"FatLevel\": \"lower fat\"}, {\"MoisturePercent\": 50.0, \"MilkTypeEn\": \"Cow\", \"FatLevel\": \"lower fat\"}, {\"MoisturePercent\": 40.0, \"MilkTypeEn\": \"Cow\", \"FatLevel\": \"lower fat\"}, {\"MoisturePercent\": 41.0, \"MilkTypeEn\": \"Cow\", \"FatLevel\": \"higher fat\"}, {\"MoisturePercent\": 50.0, \"MilkTypeEn\": \"Goat\", \"FatLevel\": \"lower fat\"}, {\"MoisturePercent\": 39.0, \"MilkTypeEn\": \"Cow\", \"FatLevel\": \"higher fat\"}, {\"MoisturePercent\": 42.0, \"MilkTypeEn\": \"Cow\", \"FatLevel\": \"higher fat\"}, {\"MoisturePercent\": 34.0, \"MilkTypeEn\": \"Cow\", \"FatLevel\": \"lower fat\"}, {\"MoisturePercent\": 48.0, \"MilkTypeEn\": \"Goat\", \"FatLevel\": \"lower fat\"}, {\"MoisturePercent\": 29.0, \"MilkTypeEn\": \"Cow\", \"FatLevel\": \"higher fat\"}, {\"MoisturePercent\": 50.0, \"MilkTypeEn\": \"Cow\", \"FatLevel\": \"lower fat\"}, {\"MoisturePercent\": 52.0, \"MilkTypeEn\": \"Cow\", \"FatLevel\": \"lower fat\"}, {\"MoisturePercent\": 43.0, \"MilkTypeEn\": \"Cow\", \"FatLevel\": \"lower fat\"}, {\"MoisturePercent\": 55.0, \"MilkTypeEn\": \"Cow\", \"FatLevel\": \"lower fat\"}, {\"MoisturePercent\": 50.0, \"MilkTypeEn\": \"Cow\", \"FatLevel\": \"lower fat\"}, {\"MoisturePercent\": 41.0, \"MilkTypeEn\": \"Ewe\", \"FatLevel\": \"lower fat\"}, {\"MoisturePercent\": 42.0, \"MilkTypeEn\": \"Cow\", \"FatLevel\": \"lower fat\"}, {\"MoisturePercent\": 54.0, \"MilkTypeEn\": \"Cow\", \"FatLevel\": \"lower fat\"}, {\"MoisturePercent\": 34.0, \"MilkTypeEn\": \"Cow\", \"FatLevel\": \"higher fat\"}, {\"MoisturePercent\": 48.0, \"MilkTypeEn\": \"Cow and Goat\", \"FatLevel\": \"higher fat\"}, {\"MoisturePercent\": 50.0, \"MilkTypeEn\": \"Cow\", \"FatLevel\": \"lower fat\"}, {\"MoisturePercent\": 50.0, \"MilkTypeEn\": \"Cow\", \"FatLevel\": \"lower fat\"}, {\"MoisturePercent\": 40.0, \"MilkTypeEn\": \"Cow\", \"FatLevel\": \"lower fat\"}, {\"MoisturePercent\": 49.0, \"MilkTypeEn\": \"Goat\", \"FatLevel\": \"lower fat\"}, {\"MoisturePercent\": 65.0, \"MilkTypeEn\": \"Ewe\", \"FatLevel\": \"lower fat\"}, {\"MoisturePercent\": 57.0, \"MilkTypeEn\": \"Goat\", \"FatLevel\": \"lower fat\"}, {\"MoisturePercent\": 41.0, \"MilkTypeEn\": \"Ewe\", \"FatLevel\": \"higher fat\"}, {\"MoisturePercent\": 40.0, \"MilkTypeEn\": \"Cow\", \"FatLevel\": \"higher fat\"}, {\"MoisturePercent\": 40.0, \"MilkTypeEn\": \"Goat\", \"FatLevel\": \"lower fat\"}, {\"MoisturePercent\": 44.0, \"MilkTypeEn\": \"Cow\", \"FatLevel\": \"lower fat\"}, {\"MoisturePercent\": 56.0, \"MilkTypeEn\": \"Cow\", \"FatLevel\": \"lower fat\"}, {\"MoisturePercent\": 55.0, \"MilkTypeEn\": \"Goat\", \"FatLevel\": \"lower fat\"}, {\"MoisturePercent\": 43.0, \"MilkTypeEn\": \"Goat\", \"FatLevel\": \"lower fat\"}, {\"MoisturePercent\": 41.0, \"MilkTypeEn\": \"Cow\", \"FatLevel\": \"higher fat\"}, {\"MoisturePercent\": 50.0, \"MilkTypeEn\": \"Cow\", \"FatLevel\": \"lower fat\"}, {\"MoisturePercent\": 33.0, \"MilkTypeEn\": \"Cow\", \"FatLevel\": \"higher fat\"}, {\"MoisturePercent\": 50.0, \"MilkTypeEn\": \"Cow\", \"FatLevel\": \"lower fat\"}, {\"MoisturePercent\": 35.0, \"MilkTypeEn\": \"Cow\", \"FatLevel\": \"higher fat\"}, {\"MoisturePercent\": 39.0, \"MilkTypeEn\": \"Cow\", \"FatLevel\": \"higher fat\"}, {\"MoisturePercent\": null, \"MilkTypeEn\": \"Cow\", \"FatLevel\": \"lower fat\"}, {\"MoisturePercent\": 26.0, \"MilkTypeEn\": \"Cow\", \"FatLevel\": \"higher fat\"}, {\"MoisturePercent\": 72.0, \"MilkTypeEn\": \"Goat\", \"FatLevel\": \"lower fat\"}, {\"MoisturePercent\": 50.0, \"MilkTypeEn\": \"Cow\", \"FatLevel\": \"lower fat\"}, {\"MoisturePercent\": 41.0, \"MilkTypeEn\": \"Cow\", \"FatLevel\": \"higher fat\"}, {\"MoisturePercent\": 37.0, \"MilkTypeEn\": \"Cow\", \"FatLevel\": \"higher fat\"}, {\"MoisturePercent\": 67.0, \"MilkTypeEn\": \"Cow\", \"FatLevel\": \"lower fat\"}, {\"MoisturePercent\": 78.0, \"MilkTypeEn\": \"Goat\", \"FatLevel\": \"lower fat\"}, {\"MoisturePercent\": 45.0, \"MilkTypeEn\": \"Cow\", \"FatLevel\": \"lower fat\"}, {\"MoisturePercent\": 39.0, \"MilkTypeEn\": \"Cow\", \"FatLevel\": \"higher fat\"}, {\"MoisturePercent\": 43.0, \"MilkTypeEn\": \"Cow\", \"FatLevel\": \"higher fat\"}, {\"MoisturePercent\": 41.0, \"MilkTypeEn\": \"Cow\", \"FatLevel\": \"lower fat\"}, {\"MoisturePercent\": 50.0, \"MilkTypeEn\": \"Cow\", \"FatLevel\": \"lower fat\"}, {\"MoisturePercent\": 50.0, \"MilkTypeEn\": \"Cow\", \"FatLevel\": \"lower fat\"}, {\"MoisturePercent\": 76.0, \"MilkTypeEn\": \"Cow\", \"FatLevel\": \"lower fat\"}, {\"MoisturePercent\": 45.0, \"MilkTypeEn\": \"Cow\", \"FatLevel\": \"lower fat\"}, {\"MoisturePercent\": 42.0, \"MilkTypeEn\": \"Goat\", \"FatLevel\": \"lower fat\"}, {\"MoisturePercent\": 63.0, \"MilkTypeEn\": \"Goat\", \"FatLevel\": \"lower fat\"}, {\"MoisturePercent\": 39.0, \"MilkTypeEn\": \"Cow\", \"FatLevel\": \"higher fat\"}]}}, {\"mode\": \"vega-lite\"});\n",
       "</script>"
      ],
      "text/plain": [
       "alt.Chart(...)"
      ]
     },
     "execution_count": 12,
     "metadata": {},
     "output_type": "execute_result"
    }
   ],
   "source": [
    "target_dist = (\n",
    "    alt.Chart(cheese_train)\n",
    "    .mark_bar(color=\"#4fa7bd\")\n",
    "    .encode(\n",
    "        x=alt.X(\n",
    "            \"FatLevel:N\", title=\"Fat Level\", sort=\"-y\", axis=alt.Axis(labelAngle=360)\n",
    "        ),\n",
    "        y=alt.Y(\"count():Q\", title=\"Quantity\"),\n",
    "    )\n",
    "    .properties(width=600, height=300, title=\"Cheese Count by Fat Level\")\n",
    ")\n",
    "target_dist"
   ]
  },
  {
   "cell_type": "markdown",
   "metadata": {
    "tags": []
   },
   "source": [
    "Figure 3: Counts of cheese by fat level"
   ]
  },
  {
   "cell_type": "markdown",
   "metadata": {},
   "source": [
    "## Dataset Description\n",
    "The dataset is mostly complete but contains some inconsistencies and missing data points.\n",
    "\n",
    "### Missing Data\n",
    "- Our data set has some missing data points in all features. There are 13 rows out of the total 833 with a missing data point in at least one feature. **MoisturePercent** has 12 NaN value and **MilkTypeEn** has 1 NaN value. \n",
    "\n",
    "### Data Distribution \n",
    "- The **MoisturePercent** column is approximately normally distributed, although it would benefit from scaling in preprocessing.\n",
    "\n",
    "### Class Imbalance \n",
    "- The target variable, **FatLevel**, does exhibit class imbalance, but it is not too severe. I will opt to deal with the class imbalance by using sklearn's `class_weights`"
   ]
  },
  {
   "cell_type": "markdown",
   "metadata": {},
   "source": [
    "## Evaluation Metrics"
   ]
  },
  {
   "cell_type": "markdown",
   "metadata": {},
   "source": [
    "To evaluate the success of the model, I will use a classification matrix, and F1-score.\n",
    "\n",
    "As noted above, we have some class imbalance in the target variable. As such, we should not use accuracy as a measure of our model's success as changing the weight of our classes maydecrease our measure of accuracy, and the resulting measurement may be misleading. I opt to use the F1-score as it combines both precision and recall into a single metric (harmonic mean of the two); however, as this dataset cannot be considered balanced, the sample-weighted F1-score will be used."
   ]
  },
  {
   "cell_type": "markdown",
   "metadata": {},
   "source": [
    "# Preprocessing"
   ]
  },
  {
   "cell_type": "markdown",
   "metadata": {
    "tags": []
   },
   "source": [
    "## Cleaning the Data\n",
    "Before separating the features from the target, I have to resolve missing data points addressed in the dataset description above. \\\n",
    "I begin by removing all rows in the training and test datasets that contain at least one NaN value. I opt to do this rather than using imputation as there is a very low proportion of rows in the data with missing values."
   ]
  },
  {
   "cell_type": "code",
   "execution_count": 13,
   "metadata": {
    "tags": []
   },
   "outputs": [
    {
     "data": {
      "text/html": [
       "<div>\n",
       "<style scoped>\n",
       "    .dataframe tbody tr th:only-of-type {\n",
       "        vertical-align: middle;\n",
       "    }\n",
       "\n",
       "    .dataframe tbody tr th {\n",
       "        vertical-align: top;\n",
       "    }\n",
       "\n",
       "    .dataframe thead th {\n",
       "        text-align: right;\n",
       "    }\n",
       "</style>\n",
       "<table border=\"1\" class=\"dataframe\">\n",
       "  <thead>\n",
       "    <tr style=\"text-align: right;\">\n",
       "      <th></th>\n",
       "      <th>MoisturePercent</th>\n",
       "      <th>MilkTypeEn</th>\n",
       "      <th>FatLevel</th>\n",
       "    </tr>\n",
       "  </thead>\n",
       "  <tbody>\n",
       "    <tr>\n",
       "      <th>81</th>\n",
       "      <td>46.0</td>\n",
       "      <td>Cow</td>\n",
       "      <td>higher fat</td>\n",
       "    </tr>\n",
       "    <tr>\n",
       "      <th>16</th>\n",
       "      <td>43.0</td>\n",
       "      <td>Goat</td>\n",
       "      <td>higher fat</td>\n",
       "    </tr>\n",
       "    <tr>\n",
       "      <th>779</th>\n",
       "      <td>60.0</td>\n",
       "      <td>Goat</td>\n",
       "      <td>lower fat</td>\n",
       "    </tr>\n",
       "    <tr>\n",
       "      <th>667</th>\n",
       "      <td>43.0</td>\n",
       "      <td>Goat</td>\n",
       "      <td>lower fat</td>\n",
       "    </tr>\n",
       "    <tr>\n",
       "      <th>437</th>\n",
       "      <td>56.0</td>\n",
       "      <td>Cow</td>\n",
       "      <td>lower fat</td>\n",
       "    </tr>\n",
       "    <tr>\n",
       "      <th>...</th>\n",
       "      <td>...</td>\n",
       "      <td>...</td>\n",
       "      <td>...</td>\n",
       "    </tr>\n",
       "    <tr>\n",
       "      <th>305</th>\n",
       "      <td>76.0</td>\n",
       "      <td>Cow</td>\n",
       "      <td>lower fat</td>\n",
       "    </tr>\n",
       "    <tr>\n",
       "      <th>862</th>\n",
       "      <td>45.0</td>\n",
       "      <td>Cow</td>\n",
       "      <td>lower fat</td>\n",
       "    </tr>\n",
       "    <tr>\n",
       "      <th>375</th>\n",
       "      <td>42.0</td>\n",
       "      <td>Goat</td>\n",
       "      <td>lower fat</td>\n",
       "    </tr>\n",
       "    <tr>\n",
       "      <th>565</th>\n",
       "      <td>63.0</td>\n",
       "      <td>Goat</td>\n",
       "      <td>lower fat</td>\n",
       "    </tr>\n",
       "    <tr>\n",
       "      <th>515</th>\n",
       "      <td>39.0</td>\n",
       "      <td>Cow</td>\n",
       "      <td>higher fat</td>\n",
       "    </tr>\n",
       "  </tbody>\n",
       "</table>\n",
       "<p>820 rows × 3 columns</p>\n",
       "</div>"
      ],
      "text/plain": [
       "     MoisturePercent MilkTypeEn    FatLevel\n",
       "81              46.0        Cow  higher fat\n",
       "16              43.0       Goat  higher fat\n",
       "779             60.0       Goat   lower fat\n",
       "667             43.0       Goat   lower fat\n",
       "437             56.0        Cow   lower fat\n",
       "..               ...        ...         ...\n",
       "305             76.0        Cow   lower fat\n",
       "862             45.0        Cow   lower fat\n",
       "375             42.0       Goat   lower fat\n",
       "565             63.0       Goat   lower fat\n",
       "515             39.0        Cow  higher fat\n",
       "\n",
       "[820 rows x 3 columns]"
      ]
     },
     "execution_count": 13,
     "metadata": {},
     "output_type": "execute_result"
    }
   ],
   "source": [
    "# Remove NaN rows\n",
    "cheese_train = cheese_train.dropna()\n",
    "cheese_test = cheese_test.dropna()\n",
    "cheese_train"
   ]
  },
  {
   "cell_type": "markdown",
   "metadata": {
    "tags": []
   },
   "source": [
    "Table 5: Cleaned dataset, having removed rows with NaN values"
   ]
  },
  {
   "cell_type": "markdown",
   "metadata": {
    "tags": []
   },
   "source": [
    "Next, I separate the features from the targets"
   ]
  },
  {
   "cell_type": "code",
   "execution_count": 14,
   "metadata": {
    "tags": []
   },
   "outputs": [],
   "source": [
    "X_train = cheese_train.drop(columns=\"FatLevel\")\n",
    "y_train = cheese_train[\"FatLevel\"]\n",
    "X_test = cheese_test.drop(columns=\"FatLevel\")\n",
    "y_test = cheese_test[\"FatLevel\"]"
   ]
  },
  {
   "cell_type": "markdown",
   "metadata": {
    "tags": []
   },
   "source": [
    "Then I create lists for the categorical and numerical variables"
   ]
  },
  {
   "cell_type": "code",
   "execution_count": 15,
   "metadata": {
    "tags": []
   },
   "outputs": [
    {
     "name": "stdout",
     "output_type": "stream",
     "text": [
      "['MilkTypeEn'] ['MoisturePercent']\n"
     ]
    }
   ],
   "source": [
    "cat_feat = [\"MilkTypeEn\"]\n",
    "num_feat = [\"MoisturePercent\"]\n",
    "print(cat_feat, num_feat)"
   ]
  },
  {
   "cell_type": "markdown",
   "metadata": {
    "tags": []
   },
   "source": [
    "## Defining a Column Transformer\n",
    "I make pipelines for the numerical and categorical columns, then define a column transformer for prepreocessing the data. The `StandardScaler` is used for the numerical column pipeline to normalize the data. The `OneHotEncoder` is used for the categorical column pipeline as no ordinal categorical columns are present in the data (as opposed to using `OrdinalEncoder`). "
   ]
  },
  {
   "cell_type": "code",
   "execution_count": 16,
   "metadata": {
    "tags": []
   },
   "outputs": [],
   "source": [
    "# make numerical column pipeline\n",
    "num_transform = make_pipeline(StandardScaler())\n",
    "\n",
    "# make categorical column pipeline\n",
    "cat_transform = make_pipeline(\n",
    "    SimpleImputer(strategy=\"most_frequent\"),\n",
    "    OneHotEncoder(dtype=int, handle_unknown=\"ignore\"),\n",
    ")\n",
    "\n",
    "# define column transformer\n",
    "preprocess = make_column_transformer(\n",
    "    (num_transform, num_feat), (cat_transform, cat_feat)\n",
    ")"
   ]
  },
  {
   "cell_type": "markdown",
   "metadata": {},
   "source": [
    "# Methods & Results\n",
    "## Code"
   ]
  },
  {
   "cell_type": "markdown",
   "metadata": {},
   "source": [
    "### Training a Baseline Model\n",
    "First, I create a baseline model for reference using `DummyClassifier` and perform 5-fold cross validation on it. Then, I print out the mean of the scores returned from cross validation."
   ]
  },
  {
   "cell_type": "code",
   "execution_count": 17,
   "metadata": {},
   "outputs": [
    {
     "name": "stdout",
     "output_type": "stream",
     "text": [
      "fit_time       0.001786\n",
      "score_time     0.000970\n",
      "test_score     0.542683\n",
      "train_score    0.547256\n",
      "dtype: float64\n"
     ]
    }
   ],
   "source": [
    "dummy = DummyClassifier(strategy=\"stratified\")\n",
    "dummy.fit(X_train, y_train)\n",
    "dummy_score = pd.DataFrame(\n",
    "    cross_validate(dummy, X_train, y_train, return_train_score=True)\n",
    ")\n",
    "dummy_score\n",
    "print(dummy_score.mean())"
   ]
  },
  {
   "cell_type": "markdown",
   "metadata": {},
   "source": [
    "### Training a Linear Model\n",
    "Next, I create a linear logistic regression model using `LogisticRegression` and perform 5-fold cross validation on it. Lasty, I print out the mean of the cross validation scores."
   ]
  },
  {
   "cell_type": "code",
   "execution_count": 18,
   "metadata": {},
   "outputs": [
    {
     "name": "stdout",
     "output_type": "stream",
     "text": [
      "fit_time       0.032941\n",
      "score_time     0.009806\n",
      "test_score     0.779268\n",
      "train_score    0.786890\n",
      "dtype: float64\n"
     ]
    }
   ],
   "source": [
    "lr_pipe = make_pipeline(preprocess, LogisticRegression())\n",
    "lr_score = pd.DataFrame(\n",
    "    cross_validate(lr_pipe, X_train, y_train, return_train_score=True)\n",
    ")\n",
    "print(lr_score.mean())"
   ]
  },
  {
   "cell_type": "markdown",
   "metadata": {},
   "source": [
    "### Additional Models "
   ]
  },
  {
   "cell_type": "markdown",
   "metadata": {},
   "source": [
    "#### Random Forest Classifier\n",
    "To begin exploration of alternative models, I choose to use sklearn's `RandomForestClassifier`. I first create a pipeline that transforms columns using the **preprocess** transformer. Then, I perform 5-fold cross validation on the training data and I print out the mean of the scores returned."
   ]
  },
  {
   "cell_type": "code",
   "execution_count": 19,
   "metadata": {},
   "outputs": [
    {
     "name": "stdout",
     "output_type": "stream",
     "text": [
      "fit_time       0.282271\n",
      "score_time     0.026162\n",
      "test_score     0.812195\n",
      "train_score    0.853049\n",
      "dtype: float64\n"
     ]
    }
   ],
   "source": [
    "rfc_pipe = make_pipeline(preprocess, RandomForestClassifier())\n",
    "rfc_score = pd.DataFrame(\n",
    "    cross_validate(rfc_pipe, X_train, y_train, cv=5, return_train_score=True)\n",
    ")\n",
    "print(rfc_score.mean())"
   ]
  },
  {
   "cell_type": "markdown",
   "metadata": {},
   "source": [
    "#### Support Vector Classifier\n",
    "Next, I try the support vector machine classifier using sklearn's `SVC`. I make a pipeline to transform the columns using **preprocess**. Then, I perform 5-fold cross validation on the training data and I print out the mean scores."
   ]
  },
  {
   "cell_type": "code",
   "execution_count": 20,
   "metadata": {
    "tags": []
   },
   "outputs": [
    {
     "name": "stdout",
     "output_type": "stream",
     "text": [
      "fit_time       0.035069\n",
      "score_time     0.011547\n",
      "test_score     0.804878\n",
      "train_score    0.810061\n",
      "dtype: float64\n"
     ]
    }
   ],
   "source": [
    "svc_pipe = make_pipeline(preprocess, SVC())\n",
    "svc_score = pd.DataFrame(\n",
    "    cross_validate(svc_pipe, X_train, y_train, return_train_score=True)\n",
    ")\n",
    "print(svc_score.mean())"
   ]
  },
  {
   "cell_type": "markdown",
   "metadata": {
    "tags": []
   },
   "source": [
    "#### KNN Classifier\n",
    "As a final model, I try the K nearest neighbors classifier using sklearn's `KNeighborsClassifier`, perform 5-fold cross validation and return the mean scores."
   ]
  },
  {
   "cell_type": "code",
   "execution_count": 21,
   "metadata": {
    "tags": []
   },
   "outputs": [
    {
     "name": "stdout",
     "output_type": "stream",
     "text": [
      "fit_time       0.019295\n",
      "score_time     0.022564\n",
      "test_score     0.815854\n",
      "train_score    0.840549\n",
      "dtype: float64\n"
     ]
    }
   ],
   "source": [
    "knn_pipe = make_pipeline(preprocess, KNeighborsClassifier())\n",
    "knn_score = pd.DataFrame(\n",
    "    cross_validate(knn_pipe, X_train, y_train, return_train_score=True)\n",
    ")\n",
    "print(knn_score.mean())"
   ]
  },
  {
   "cell_type": "markdown",
   "metadata": {
    "tags": []
   },
   "source": [
    "#### The training scores for the 5 models explored are as follows:"
   ]
  },
  {
   "cell_type": "code",
   "execution_count": 22,
   "metadata": {
    "tags": []
   },
   "outputs": [
    {
     "name": "stdout",
     "output_type": "stream",
     "text": [
      "Model training scores: \n",
      "Dummy Classifier:  0.5472560975609756\n",
      "Logistic Regression:  0.786890243902439\n",
      "Random Forest Classifier:  0.853048780487805\n",
      "Support Vector Classifier:  0.8100609756097562\n",
      "KNN Classifier:  0.8405487804878048\n"
     ]
    }
   ],
   "source": [
    "print_dict = {\"Dummy Classifier: \": dummy_score['train_score'],\n",
    "              \"Logistic Regression: \": lr_score['train_score'],\n",
    "              \"Random Forest Classifier: \": rfc_score['train_score'],\n",
    "              \"Support Vector Classifier: \": svc_score['train_score'],\n",
    "              \"KNN Classifier: \": knn_score['train_score']}\n",
    "\n",
    "print(\"Model training scores: \")\n",
    "for k, v in print_dict.items():\n",
    "    print(k, v.mean())"
   ]
  },
  {
   "cell_type": "markdown",
   "metadata": {
    "tags": []
   },
   "source": [
    "Based on mean training scores, the most suitable models appear to be random forest classifier and k nearest neighbors classifier. Therefore, the next step is to perform hyperparameter tuning on these two models."
   ]
  },
  {
   "cell_type": "markdown",
   "metadata": {
    "tags": []
   },
   "source": [
    "### Hyperparameter Optimization\n",
    "#### Random Forest Classifier\n",
    "Using `RandomizedSearchCV` on the random forest classifier pipeline, I aim to determine the optimal value for **n_estimators**. "
   ]
  },
  {
   "cell_type": "code",
   "execution_count": 23,
   "metadata": {
    "tags": []
   },
   "outputs": [
    {
     "name": "stdout",
     "output_type": "stream",
     "text": [
      "Fitting 5 folds for each of 5 candidates, totalling 25 fits\n",
      "[CV] END ...............randomforestclassifier__max_depth=51; total time=   0.3s\n",
      "[CV] END ...............randomforestclassifier__max_depth=51; total time=   0.3s\n",
      "[CV] END ...............randomforestclassifier__max_depth=51; total time=   0.3s\n",
      "[CV] END ...............randomforestclassifier__max_depth=51; total time=   0.3s\n",
      "[CV] END ...............randomforestclassifier__max_depth=51; total time=   0.3s\n",
      "[CV] END ...............randomforestclassifier__max_depth=11; total time=   0.3s\n",
      "[CV] END ...............randomforestclassifier__max_depth=11; total time=   0.3s\n",
      "[CV] END ...............randomforestclassifier__max_depth=11; total time=   0.3s\n",
      "[CV] END ...............randomforestclassifier__max_depth=11; total time=   0.3s\n",
      "[CV] END ...............randomforestclassifier__max_depth=11; total time=   0.3s\n",
      "[CV] END ..............randomforestclassifier__max_depth=111; total time=   0.3s\n",
      "[CV] END ..............randomforestclassifier__max_depth=111; total time=   0.3s\n",
      "[CV] END ..............randomforestclassifier__max_depth=111; total time=   0.3s\n",
      "[CV] END ..............randomforestclassifier__max_depth=111; total time=   0.3s\n",
      "[CV] END ..............randomforestclassifier__max_depth=111; total time=   0.3s\n",
      "[CV] END ...............randomforestclassifier__max_depth=81; total time=   0.3s\n",
      "[CV] END ...............randomforestclassifier__max_depth=81; total time=   0.3s\n",
      "[CV] END ...............randomforestclassifier__max_depth=81; total time=   0.3s\n",
      "[CV] END ...............randomforestclassifier__max_depth=81; total time=   0.3s\n",
      "[CV] END ...............randomforestclassifier__max_depth=81; total time=   0.3s\n",
      "[CV] END ..............randomforestclassifier__max_depth=101; total time=   0.3s\n",
      "[CV] END ..............randomforestclassifier__max_depth=101; total time=   0.3s\n",
      "[CV] END ..............randomforestclassifier__max_depth=101; total time=   0.3s\n",
      "[CV] END ..............randomforestclassifier__max_depth=101; total time=   0.3s\n",
      "[CV] END ..............randomforestclassifier__max_depth=101; total time=   0.3s\n"
     ]
    },
    {
     "data": {
      "text/plain": [
       "RandomizedSearchCV(cv=5,\n",
       "                   estimator=Pipeline(steps=[('columntransformer',\n",
       "                                              ColumnTransformer(transformers=[('pipeline-1',\n",
       "                                                                               Pipeline(steps=[('standardscaler',\n",
       "                                                                                                StandardScaler())]),\n",
       "                                                                               ['MoisturePercent']),\n",
       "                                                                              ('pipeline-2',\n",
       "                                                                               Pipeline(steps=[('simpleimputer',\n",
       "                                                                                                SimpleImputer(strategy='most_frequent')),\n",
       "                                                                                               ('onehotencoder',\n",
       "                                                                                                OneHotEncoder(dtype=<class 'int'>,\n",
       "                                                                                                              handle_unknown='ignore'))]),\n",
       "                                                                               ['MilkTypeEn'])])),\n",
       "                                             ('randomforestclassifier',\n",
       "                                              RandomForestClassifier())]),\n",
       "                   n_iter=5,\n",
       "                   param_distributions={'randomforestclassifier__max_depth': range(1, 151, 10)},\n",
       "                   return_train_score=True, verbose=2)"
      ]
     },
     "execution_count": 23,
     "metadata": {},
     "output_type": "execute_result"
    }
   ],
   "source": [
    "params = {\"randomforestclassifier__max_depth\": range(1, 151, 10)}\n",
    "\n",
    "depth_search = RandomizedSearchCV(\n",
    "    rfc_pipe, params, cv=5, n_iter=5, return_train_score=True, verbose=2\n",
    ")\n",
    "depth_search.fit(X_train, y_train)"
   ]
  },
  {
   "cell_type": "markdown",
   "metadata": {
    "nbgrader": {
     "cell_type": "code",
     "checksum": "eb9f2bdc7614d97f23f8eae7ca2eaa39",
     "grade": false,
     "grade_id": "cell-c73fc243949e9f49",
     "locked": false,
     "schema_version": 3,
     "solution": true,
     "task": false
    }
   },
   "source": [
    "\\\n",
    "Now, from the cross validation results, I can return the optimal value of the hyperparameter **n_estimators** and the training score given by the model using the optimized hyperparameter. "
   ]
  },
  {
   "cell_type": "code",
   "execution_count": 24,
   "metadata": {
    "nbgrader": {
     "cell_type": "code",
     "checksum": "eb9f2bdc7614d97f23f8eae7ca2eaa39",
     "grade": false,
     "grade_id": "cell-c73fc243949e9f49",
     "locked": false,
     "schema_version": 3,
     "solution": true,
     "task": false
    }
   },
   "outputs": [
    {
     "name": "stdout",
     "output_type": "stream",
     "text": [
      "Optimal n_estimators:  11\n"
     ]
    }
   ],
   "source": [
    "cv_df = pd.DataFrame(depth_search.cv_results_)\n",
    "grid_results = cv_df.loc[\n",
    "    :,\n",
    "    [\n",
    "        \"mean_test_score\",\n",
    "        \"param_randomforestclassifier__max_depth\",\n",
    "        \"mean_fit_time\",\n",
    "        \"rank_test_score\",\n",
    "    ],\n",
    "].sort_values(\"rank_test_score\")\n",
    "best_depth = depth_search.best_params_[\"randomforestclassifier__max_depth\"]\n",
    "print(\"Optimal n_estimators: \", best_depth)"
   ]
  },
  {
   "cell_type": "markdown",
   "metadata": {
    "nbgrader": {
     "cell_type": "code",
     "checksum": "eb9f2bdc7614d97f23f8eae7ca2eaa39",
     "grade": false,
     "grade_id": "cell-c73fc243949e9f49",
     "locked": false,
     "schema_version": 3,
     "solution": true,
     "task": false
    }
   },
   "source": [
    "#### K Neighbors Classifier\n",
    "By iterating through numbers 2 to 20, increasing by an increment of 2, I create a results dictionary storing the hyperparameter value, mean cross validation score, and mean training score for each number. The goal is to determine the optimal value for **n_neighbors**. "
   ]
  },
  {
   "cell_type": "code",
   "execution_count": 25,
   "metadata": {
    "nbgrader": {
     "cell_type": "code",
     "checksum": "0c67ba6c19407a501a9355e278674738",
     "grade": false,
     "grade_id": "cell-f699aee3e2255189",
     "locked": false,
     "schema_version": 3,
     "solution": true,
     "task": false
    }
   },
   "outputs": [],
   "source": [
    "results_dict = {\"n_neighbors\": [], \"mean_train_score\": [], \"mean_cv_score\": []}\n",
    "results_dict\n",
    "\n",
    "for k in range(2, 20, 2):\n",
    "    model = knn_pipe\n",
    "    score = cross_validate(model, X_train, y_train, cv=5, return_train_score=True)\n",
    "    results_dict[\"n_neighbors\"].append(k)\n",
    "    results_dict[\"mean_cv_score\"].append(score[\"test_score\"].mean())\n",
    "    results_dict[\"mean_train_score\"].append(score[\"train_score\"].mean())"
   ]
  },
  {
   "cell_type": "markdown",
   "metadata": {
    "nbgrader": {
     "cell_type": "code",
     "checksum": "0c67ba6c19407a501a9355e278674738",
     "grade": false,
     "grade_id": "cell-f699aee3e2255189",
     "locked": false,
     "schema_version": 3,
     "solution": true,
     "task": false
    }
   },
   "source": [
    "From the results dictionary, I can return the optimal value of the hyperparameter **n_neighbors** and the training score given by the model using the optimized hyperparameter. "
   ]
  },
  {
   "cell_type": "code",
   "execution_count": 26,
   "metadata": {
    "nbgrader": {
     "cell_type": "code",
     "checksum": "c5da73c134b7670b444bd3e8bc216afc",
     "grade": false,
     "grade_id": "cell-f85064f54b3f81c1",
     "locked": false,
     "schema_version": 3,
     "solution": true,
     "task": false
    }
   },
   "outputs": [
    {
     "name": "stdout",
     "output_type": "stream",
     "text": [
      "Optimal n_neighbors:  2\n"
     ]
    }
   ],
   "source": [
    "results_df = pd.DataFrame(results_dict)\n",
    "best_k = int(results_df.loc[results_df[\"mean_cv_score\"].idxmax()][\"n_neighbors\"])\n",
    "print(\"Optimal n_neighbors: \", best_k)"
   ]
  },
  {
   "cell_type": "markdown",
   "metadata": {
    "nbgrader": {
     "cell_type": "code",
     "checksum": "e2b91989fc627390cf16cd81f041f105",
     "grade": false,
     "grade_id": "cell-d1aa91f1f2a9e12e",
     "locked": false,
     "schema_version": 3,
     "solution": true,
     "task": false
    },
    "tags": []
   },
   "source": [
    "### Comparing Models\n",
    "Now that I have found the optimal values for hyperparameters of both random forest classifier and k neighbors classifier, I will create new pipelines using the same **preprocess** transformer, but this time passing the optimized hyperparameters to the classifiers. I then fit the pipeline on the training set and score it on the training set to select a final model. "
   ]
  },
  {
   "cell_type": "markdown",
   "metadata": {
    "nbgrader": {
     "cell_type": "code",
     "checksum": "e2b91989fc627390cf16cd81f041f105",
     "grade": false,
     "grade_id": "cell-d1aa91f1f2a9e12e",
     "locked": false,
     "schema_version": 3,
     "solution": true,
     "task": false
    },
    "tags": []
   },
   "source": [
    "#### Random Forest Classifier"
   ]
  },
  {
   "cell_type": "code",
   "execution_count": 27,
   "metadata": {
    "nbgrader": {
     "cell_type": "code",
     "checksum": "ec649ddf6a8978ab8b276a9cde93b8cf",
     "grade": false,
     "grade_id": "cell-345637fc0c5bb9ab",
     "locked": false,
     "schema_version": 3,
     "solution": true,
     "task": false
    },
    "tags": []
   },
   "outputs": [
    {
     "name": "stdout",
     "output_type": "stream",
     "text": [
      "Random forest classifier training score:  0.8463414634146341\n"
     ]
    }
   ],
   "source": [
    "best_rfc = make_pipeline(preprocess, RandomForestClassifier(best_depth))\n",
    "rfc_train = best_rfc.fit(X_train, y_train).score(X_train, y_train)\n",
    "print(\"Random forest classifier training score: \", rfc_train)"
   ]
  },
  {
   "cell_type": "markdown",
   "metadata": {
    "nbgrader": {
     "cell_type": "code",
     "checksum": "e2b91989fc627390cf16cd81f041f105",
     "grade": false,
     "grade_id": "cell-d1aa91f1f2a9e12e",
     "locked": false,
     "schema_version": 3,
     "solution": true,
     "task": false
    },
    "tags": []
   },
   "source": [
    "#### KNN Classifier"
   ]
  },
  {
   "cell_type": "code",
   "execution_count": 28,
   "metadata": {
    "nbgrader": {
     "cell_type": "code",
     "checksum": "ec649ddf6a8978ab8b276a9cde93b8cf",
     "grade": false,
     "grade_id": "cell-345637fc0c5bb9ab",
     "locked": false,
     "schema_version": 3,
     "solution": true,
     "task": false
    }
   },
   "outputs": [
    {
     "name": "stdout",
     "output_type": "stream",
     "text": [
      "KNN classifier training score:  0.7134146341463414\n"
     ]
    }
   ],
   "source": [
    "best_knn = make_pipeline(preprocess, KNeighborsClassifier(best_k)).fit(X_train, y_train)\n",
    "knn_train = best_knn.score(X_train, y_train)\n",
    "print(\"KNN classifier training score: \", knn_train)"
   ]
  },
  {
   "cell_type": "markdown",
   "metadata": {
    "nbgrader": {
     "cell_type": "code",
     "checksum": "ec649ddf6a8978ab8b276a9cde93b8cf",
     "grade": false,
     "grade_id": "cell-345637fc0c5bb9ab",
     "locked": false,
     "schema_version": 3,
     "solution": true,
     "task": false
    }
   },
   "source": [
    "#### The training scores for the random forest classifier and k neighbors classifier models are as follows:"
   ]
  },
  {
   "cell_type": "code",
   "execution_count": 29,
   "metadata": {
    "nbgrader": {
     "cell_type": "code",
     "checksum": "ec649ddf6a8978ab8b276a9cde93b8cf",
     "grade": false,
     "grade_id": "cell-345637fc0c5bb9ab",
     "locked": false,
     "schema_version": 3,
     "solution": true,
     "task": false
    }
   },
   "outputs": [
    {
     "name": "stdout",
     "output_type": "stream",
     "text": [
      "Optimized model training scores: \n",
      "Random Forest Classifier:  0.8463414634146341\n",
      "KNN Classifier:  0.7134146341463414\n"
     ]
    }
   ],
   "source": [
    "print_dict_2 = {\"Random Forest Classifier: \": rfc_train,\n",
    "                \"KNN Classifier: \": knn_train}\n",
    "\n",
    "print(\"Optimized model training scores: \")\n",
    "for k, v in print_dict_2.items():\n",
    "    print(k, v)"
   ]
  },
  {
   "cell_type": "markdown",
   "metadata": {
    "nbgrader": {
     "cell_type": "code",
     "checksum": "ec649ddf6a8978ab8b276a9cde93b8cf",
     "grade": false,
     "grade_id": "cell-345637fc0c5bb9ab",
     "locked": false,
     "schema_version": 3,
     "solution": true,
     "task": false
    }
   },
   "source": [
    "### Scoring on the Test Set"
   ]
  },
  {
   "cell_type": "markdown",
   "metadata": {
    "nbgrader": {
     "cell_type": "code",
     "checksum": "ec649ddf6a8978ab8b276a9cde93b8cf",
     "grade": false,
     "grade_id": "cell-345637fc0c5bb9ab",
     "locked": false,
     "schema_version": 3,
     "solution": true,
     "task": false
    }
   },
   "source": [
    "Before scoring the random forest classifier model on the test set, I compare the unbalanced model to a balanced one."
   ]
  },
  {
   "cell_type": "code",
   "execution_count": 30,
   "metadata": {
    "nbgrader": {
     "cell_type": "code",
     "checksum": "ec649ddf6a8978ab8b276a9cde93b8cf",
     "grade": false,
     "grade_id": "cell-345637fc0c5bb9ab",
     "locked": false,
     "schema_version": 3,
     "solution": true,
     "task": false
    }
   },
   "outputs": [
    {
     "name": "stdout",
     "output_type": "stream",
     "text": [
      "Unbalanced training score: 0.8463414634146341 \n",
      "Balanced training score: 0.8451219512195122\n"
     ]
    }
   ],
   "source": [
    "rfc_balanced = make_pipeline(\n",
    "    preprocess, RandomForestClassifier(n_estimators=101, class_weight=\"balanced\")\n",
    ")\n",
    "balanced_score = rfc_balanced.fit(X_train, y_train).score(X_train, y_train)\n",
    "print(\"Unbalanced training score:\", rfc_train, \"\\nBalanced training score:\", balanced_score)"
   ]
  },
  {
   "cell_type": "markdown",
   "metadata": {
    "nbgrader": {
     "cell_type": "code",
     "checksum": "ec649ddf6a8978ab8b276a9cde93b8cf",
     "grade": false,
     "grade_id": "cell-345637fc0c5bb9ab",
     "locked": false,
     "schema_version": 3,
     "solution": true,
     "task": false
    }
   },
   "source": [
    "As the training score for the unbalanced model is higher, I will use the unbalanced random forest classifier model as the final model.\\\n",
    "I plot a confusion matrix of the optimized random forest classifier model below. "
   ]
  },
  {
   "cell_type": "code",
   "execution_count": 31,
   "metadata": {
    "nbgrader": {
     "cell_type": "code",
     "checksum": "ec649ddf6a8978ab8b276a9cde93b8cf",
     "grade": false,
     "grade_id": "cell-345637fc0c5bb9ab",
     "locked": false,
     "schema_version": 3,
     "solution": true,
     "task": false
    }
   },
   "outputs": [
    {
     "data": {
      "image/png": "[encoded data removed]",
      "text/plain": [
       "<Figure size 432x288 with 2 Axes>"
      ]
     },
     "metadata": {
      "needs_background": "light"
     },
     "output_type": "display_data"
    }
   ],
   "source": [
    "cmatrix = plot_confusion_matrix(best_rfc, X_test, y_test, normalize=\"true\")"
   ]
  },
  {
   "cell_type": "markdown",
   "metadata": {
    "nbgrader": {
     "cell_type": "code",
     "checksum": "ec649ddf6a8978ab8b276a9cde93b8cf",
     "grade": false,
     "grade_id": "cell-345637fc0c5bb9ab",
     "locked": false,
     "schema_version": 3,
     "solution": true,
     "task": false
    }
   },
   "source": [
    "Figure 4: Confusion matrix depicting the proportion of true positives, true negatives, false positives, and false negatives"
   ]
  },
  {
   "cell_type": "markdown",
   "metadata": {
    "nbgrader": {
     "cell_type": "code",
     "checksum": "ec649ddf6a8978ab8b276a9cde93b8cf",
     "grade": false,
     "grade_id": "cell-345637fc0c5bb9ab",
     "locked": false,
     "schema_version": 3,
     "solution": true,
     "task": false
    }
   },
   "source": [
    "The proportions of true positives, true negatives, false positives, and false negatives are as follows:\n",
    "- True positives: 0.94\n",
    "- True negatives: 0.62\n",
    "- False positives: 0.38\n",
    "- False negatives: 0.059\n",
    "\n",
    "\n",
    "\\\n",
    "Then, I use sklearn's `classification_report` to return the F1-score of the model on the test set"
   ]
  },
  {
   "cell_type": "code",
   "execution_count": 32,
   "metadata": {
    "nbgrader": {
     "cell_type": "code",
     "checksum": "ec649ddf6a8978ab8b276a9cde93b8cf",
     "grade": false,
     "grade_id": "cell-345637fc0c5bb9ab",
     "locked": false,
     "schema_version": 3,
     "solution": true,
     "task": false
    }
   },
   "outputs": [
    {
     "name": "stdout",
     "output_type": "stream",
     "text": [
      "              precision    recall  f1-score   support\n",
      "\n",
      "    negative       0.85      0.62      0.72        72\n",
      "    positive       0.82      0.94      0.88       135\n",
      "\n",
      "    accuracy                           0.83       207\n",
      "   macro avg       0.84      0.78      0.80       207\n",
      "weighted avg       0.83      0.83      0.82       207\n",
      "\n"
     ]
    }
   ],
   "source": [
    "print(\n",
    "    classification_report(\n",
    "        y_test, best_rfc.predict(X_test), target_names=[\"negative\", \"positive\"]\n",
    "    )\n",
    ")"
   ]
  },
  {
   "cell_type": "markdown",
   "metadata": {
    "nbgrader": {
     "cell_type": "code",
     "checksum": "ec649ddf6a8978ab8b276a9cde93b8cf",
     "grade": false,
     "grade_id": "cell-345637fc0c5bb9ab",
     "locked": false,
     "schema_version": 3,
     "solution": true,
     "task": false
    }
   },
   "source": [
    "The sample-weighted F1-score of the final model is **0.82**"
   ]
  },
  {
   "cell_type": "markdown",
   "metadata": {},
   "source": [
    "## Writing\n",
    "For initially exploring models, I chose to try a random forest classification model, a k neighbors classification model, and a support vector classification model. These models were selected for their suitability for binary classification and the size of the data set. At a glance, the data exhibited some class imbalance, which suggested the random forest classifier may have been the best choice due to its robustness to imbalance; however the unbalanced model appeared to perform better than its balanced counterpart. As the data set is relatively small and free of large outliers, the k neighbors clasifier was well suited; whereas with a larger dataset it may well have been too resource-intensive, and with large outliers may have been too sensitive.\n",
    "\n",
    "From initial evaluation and comparison of training scores, the random forest classifier appeared the best fit with a score of ~0.853, followed by the k neighbors clasifier scoring ~0.841, and lastly the support vector classifier with ~0.810. The reasons for the random forest classifier's better performance could be attributed to it's class imbalance-robustness mentioned, or to the nature of the model, in the sense that it is an ensemble learning rather than individual. "
   ]
  },
  {
   "cell_type": "markdown",
   "metadata": {},
   "source": [
    "# Discussion\n",
    "The goal of this project was to build a supervised machine learning model with the ability to classifiy a given cheese as lower-fat or higher-fat, knowing the milk type and moisture content. The expected outcome was that the model would accurately classify cheeses as either lower-fat or higher-fat. The outcome was as initially expected, as given the resulting F1-score (0.82), it appears the model can in fact discriminate between the two classes of cheese. This suggests that this model could be helpful to those in the cheese industry with respect to efficiently and correctly categorizing and/or labeling cheeses, which would prove a valuable business tool to streamline distribution, improve marketing strategies and better catering to consumers.\n",
    "\n",
    "The model used may be limited by the small number of features used. There are a number more available, which could be incorporated to potentially yield a better model with a better ability to discriminate. For example, if features such as rind type, manufacturing type, or category/type are included, the model may be able to even better discriminate between cheese categories. \n",
    "\n",
    "There are a number of potential sources of bias that may affect the results of this project. For one, sampling bias may be at play if the dataset does not represent the entire population of cheeses and cheese makers in Canada. For example, if there are many artisan or small cheese producers that produce unique types of cheese and are not included, the model may not perform as expected if tested on this subset of the population. Alternatively, there may be selection bias if, for example, the dataset contains a disproportionately low amount of cheeses made from goat milk, then the model will be biased towards cheeses made from other types of milk. "
   ]
  },
  {
   "cell_type": "markdown",
   "metadata": {},
   "source": [
    "## References\n",
    "- Data Source ( *canadianCheeseDirectory.csv* )\n",
    "    - The dataset was originally obtained from The Government of Canada's Open Government Portal; however was provided by the course instructors as it is no longer available at that location\n",
    "- [Pandas](https://pandas.pydata.org/docs/)\n",
    "    - A python library for data structures and data analysis tools\n",
    "- [Altair](https://altair-viz.github.io/)\n",
    "    - A python library for data visualization\n",
    "- [scikit-learn](https://scikit-learn.org/stable/)\n",
    "    - A python library for predictive data analysis\n",
    "\n"
   ]
  }
 ],
 "metadata": {
  "kernelspec": {
   "display_name": "Python 3",
   "language": "python",
   "name": "python3"
  },
  "language_info": {
   "codemirror_mode": {
    "name": "ipython",
    "version": 3
   },
   "file_extension": ".py",
   "mimetype": "text/x-python",
   "name": "python",
   "nbconvert_exporter": "python",
   "pygments_lexer": "ipython3",
   "version": "3.8.5"
  }
 },
 "nbformat": 4,
 "nbformat_minor": 4
}
